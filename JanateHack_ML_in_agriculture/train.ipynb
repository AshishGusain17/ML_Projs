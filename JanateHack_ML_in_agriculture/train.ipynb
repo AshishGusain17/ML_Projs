{
  "nbformat": 4,
  "nbformat_minor": 0,
  "metadata": {
    "kernelspec": {
      "name": "python3",
      "display_name": "Python 3"
    },
    "language_info": {
      "codemirror_mode": {
        "name": "ipython",
        "version": 3
      },
      "file_extension": ".py",
      "mimetype": "text/x-python",
      "name": "python",
      "nbconvert_exporter": "python",
      "pygments_lexer": "ipython3",
      "version": "3.7.3"
    },
    "colab": {
      "name": "mainfile2.ipynb",
      "provenance": [],
      "collapsed_sections": [],
      "machine_shape": "hm",
      "include_colab_link": true
    },
    "accelerator": "GPU"
  },
  "cells": [
    {
      "cell_type": "markdown",
      "metadata": {
        "id": "view-in-github",
        "colab_type": "text"
      },
      "source": [
        "<a href=\"https://colab.research.google.com/github/AshishGusain17/ML_Projs/blob/master/JanateHack_ML_in_agriculture/train.ipynb\" target=\"_parent\"><img src=\"https://colab.research.google.com/assets/colab-badge.svg\" alt=\"Open In Colab\"/></a>"
      ]
    },
    {
      "cell_type": "code",
      "metadata": {
        "id": "T_zx4hOGaqBE",
        "colab_type": "code",
        "colab": {}
      },
      "source": [
        "import pandas as pd\n",
        "import numpy as np\n",
        "from sklearn import ensemble\n",
        "from sklearn import metrics\n",
        "from sklearn.model_selection import KFold\n",
        "from sklearn.model_selection import GridSearchCV,RandomizedSearchCV\n",
        "from xgboost import XGBClassifier\n",
        "from scipy.sparse import lil_matrix\n",
        "from sklearn.feature_extraction.text import TfidfTransformer\n",
        "from sklearn.preprocessing import MinMaxScaler, StandardScaler\n",
        "import copy\n",
        "from sklearn.naive_bayes import MultinomialNB\n",
        "from sklearn import svm\n",
        "\n",
        "# 88858 rows × 10 columns"
      ],
      "execution_count": 2,
      "outputs": []
    },
    {
      "cell_type": "code",
      "metadata": {
        "id": "-Fho_pZBEno2",
        "colab_type": "code",
        "colab": {
          "base_uri": "https://localhost:8080/",
          "height": 294
        },
        "outputId": "dd579f82-420f-4e52-9bca-e0b0ac5776da"
      },
      "source": [
        "dataframe = pd.read_csv(\"/content/train.csv\" ) \n",
        "array = dataframe.values \n",
        "\n",
        "X = dataframe.Estimated_Insects_Count.values.reshape((-1,1))\n",
        "X = np.array([1,2,3,4,5,6,7,8]).reshape((-1,1))\n",
        "\n",
        "print(X[:10])\n",
        "scaler = MinMaxScaler(feature_range=(0, 1)) \n",
        "rescaledX = scaler.fit_transform(X[:10]) \n",
        "\n",
        "\n",
        "np.set_printoptions(precision=3) \n",
        "print(rescaledX[:10]) \n"
      ],
      "execution_count": null,
      "outputs": [
        {
          "output_type": "stream",
          "text": [
            "[[1]\n",
            " [2]\n",
            " [3]\n",
            " [4]\n",
            " [5]\n",
            " [6]\n",
            " [7]\n",
            " [8]]\n",
            "[[0.   ]\n",
            " [0.143]\n",
            " [0.286]\n",
            " [0.429]\n",
            " [0.571]\n",
            " [0.714]\n",
            " [0.857]\n",
            " [1.   ]]\n"
          ],
          "name": "stdout"
        }
      ]
    },
    {
      "cell_type": "code",
      "metadata": {
        "id": "y2MUHyZFKVmi",
        "colab_type": "code",
        "colab": {
          "base_uri": "https://localhost:8080/",
          "height": 34
        },
        "outputId": "96ac9a9d-9a83-4981-cd5b-afba1311f678"
      },
      "source": [
        "df = pd.read_csv(\"/content/train.csv\")\n",
        "df.dropna(subset=[\"Number_Weeks_Used\"], axis=0, inplace=True)\n",
        "df.dropna(subset=[\"Number_Weeks_Quit\"], axis=0, inplace=True)\n",
        "df.dropna(subset=[\"Season\"], axis=0, inplace=True)\n",
        "\n",
        "arr = ['Estimated_Insects_Count', 'Crop_Type', 'Soil_Type',\n",
        "       'Pesticide_Use_Category', 'Number_Doses_Week', 'Number_Weeks_Used',\n",
        "       'Number_Weeks_Quit']\n",
        "X = df.loc[:, arr].values\n",
        "Y = df.loc[: , \"Crop_Damage\"].values\n",
        "X.shape , Y.shape"
      ],
      "execution_count": null,
      "outputs": [
        {
          "output_type": "execute_result",
          "data": {
            "text/plain": [
              "((79858, 7), (79858,))"
            ]
          },
          "metadata": {
            "tags": []
          },
          "execution_count": 52
        }
      ]
    },
    {
      "cell_type": "code",
      "metadata": {
        "id": "R5fqwkgw6GVA",
        "colab_type": "code",
        "colab": {
          "base_uri": "https://localhost:8080/",
          "height": 69
        },
        "outputId": "80297737-148a-4b91-c630-8975480fa7b8"
      },
      "source": [
        "df.columns.values"
      ],
      "execution_count": null,
      "outputs": [
        {
          "output_type": "execute_result",
          "data": {
            "text/plain": [
              "array(['ID', 'Estimated_Insects_Count', 'Crop_Type', 'Soil_Type',\n",
              "       'Pesticide_Use_Category', 'Number_Doses_Week', 'Number_Weeks_Used',\n",
              "       'Number_Weeks_Quit', 'Season', 'Crop_Damage'], dtype=object)"
            ]
          },
          "metadata": {
            "tags": []
          },
          "execution_count": 13
        }
      ]
    },
    {
      "cell_type": "code",
      "metadata": {
        "id": "voIJeqIH5nn5",
        "colab_type": "code",
        "colab": {
          "base_uri": "https://localhost:8080/",
          "height": 173
        },
        "outputId": "6410a95b-1c2d-4136-a493-23e5e4b0d979"
      },
      "source": [
        "import scipy\n",
        "arr = df.columns.values\n",
        "arr = arr.tolist()\n",
        "arr.remove('ID')\n",
        "\n",
        "for i in arr:\n",
        "    a,b = scipy.stats.pearsonr(df[\"Crop_Damage\"],df[i])\n",
        "    print(i,a,b)\n",
        "\n",
        "# corelation-coefficient        p-value       \n",
        "# corelation coefficient close to 1 or -1 and p-value < 0.001 is considered strong corelation\n"
      ],
      "execution_count": null,
      "outputs": [
        {
          "output_type": "stream",
          "text": [
            "Estimated_Insects_Count 0.20379572434428975 0.0\n",
            "Crop_Type -0.01709710916643973 1.353200772452846e-06\n",
            "Soil_Type -0.024569104068500176 3.812549517857125e-12\n",
            "Pesticide_Use_Category 0.1765520668378686 0.0\n",
            "Number_Doses_Week -0.03096670779075563 2.0795220014947948e-18\n",
            "Number_Weeks_Used 0.2321920383032649 0.0\n",
            "Number_Weeks_Quit -0.13311604791752846 1.99275288465e-312\n",
            "Season 0.0006338132894572154 0.8578532835741154\n",
            "Crop_Damage 1.0 0.0\n"
          ],
          "name": "stdout"
        }
      ]
    },
    {
      "cell_type": "code",
      "metadata": {
        "id": "fUj_fGfu5HgI",
        "colab_type": "code",
        "colab": {
          "base_uri": "https://localhost:8080/",
          "height": 401
        },
        "outputId": "c17e65e0-f927-4c19-880f-c937c31a60af"
      },
      "source": [
        "import seaborn as sns\n",
        "print(df.shape)\n",
        "corr = df.corr()\n",
        "ax = sns.heatmap(\n",
        "    corr, \n",
        "    vmin=-1, vmax=1, center=0,\n",
        "    cmap=sns.diverging_palette(20, 220, n=200),\n",
        "    square=True\n",
        ")"
      ],
      "execution_count": null,
      "outputs": [
        {
          "output_type": "stream",
          "text": [
            "(79858, 10)\n"
          ],
          "name": "stdout"
        },
        {
          "output_type": "display_data",
          "data": {
            "image/png": "[encoded data removed]",
            "text/plain": [
              "<Figure size 432x288 with 2 Axes>"
            ]
          },
          "metadata": {
            "tags": [],
            "needs_background": "light"
          }
        }
      ]
    },
    {
      "cell_type": "code",
      "metadata": {
        "id": "E1xFwk1ALbS9",
        "colab_type": "code",
        "colab": {}
      },
      "source": [
        "from sklearn.model_selection import KFold\n",
        "scores = []\n",
        "model = ensemble.RandomForestClassifier( criterion= 'entropy' , max_depth=11 , n_estimators= 300)\n",
        "cv = KFold(n_splits=5, random_state=42, shuffle=True)\n",
        "\n",
        "\n",
        "for train_index, test_index in cv.split(X):\n",
        "\n",
        "    trainX , trainY = X[train_index] , Y[train_index]\n",
        "    testX , testY   = X[test_index]  , Y[test_index]\n",
        "\n",
        "    model.fit(trainX , trainY)\n",
        "    scr = model.score(testX , testY)\n",
        "    scores.append(scr)\n",
        "scores\n",
        "\n",
        "\n",
        "\n",
        "\n",
        "submit = pd.read_csv(\"/content/test.csv\")\n",
        "\n",
        "submit['Number_Weeks_Used'] = submit['Number_Weeks_Used'].replace(np.nan, 0)\n",
        "submit['Number_Weeks_Quit'] = submit['Number_Weeks_Quit'].replace(np.nan, 0)\n",
        "\n",
        "arr = ['Estimated_Insects_Count', 'Crop_Type', 'Soil_Type',\n",
        "       'Pesticide_Use_Category', 'Number_Doses_Week', 'Number_Weeks_Used',\n",
        "       'Number_Weeks_Quit']\n",
        "features = submit.loc[:, arr].values\n",
        "col1 = submit.loc[: , \"ID\"].values\n",
        "\n",
        "\n",
        "\n",
        "# for ind in range(len(ids)):\n",
        "#     col1.append(ids[ind])\n",
        "#     ans = model.predict(X[ind].reshape(1,8))[0]\n",
        "#     col2.append(ans)\n",
        "\n",
        "col2 = model.predict(features)\n",
        "\n",
        "dict = {'ID': col1, 'Crop_Damage': col2} \n",
        "df_fin = pd.DataFrame(dict) \n",
        "df_fin.to_csv('rtg.csv', index=False) \n"
      ],
      "execution_count": null,
      "outputs": []
    },
    {
      "cell_type": "code",
      "metadata": {
        "id": "0pVGBygafXp_",
        "colab_type": "code",
        "colab": {}
      },
      "source": [
        ""
      ],
      "execution_count": null,
      "outputs": []
    },
    {
      "cell_type": "code",
      "metadata": {
        "id": "JNP_3G8efZJW",
        "colab_type": "code",
        "colab": {}
      },
      "source": [
        ""
      ],
      "execution_count": null,
      "outputs": []
    },
    {
      "cell_type": "code",
      "metadata": {
        "id": "58-Lizzp3ceD",
        "colab_type": "code",
        "colab": {}
      },
      "source": [
        ""
      ],
      "execution_count": null,
      "outputs": []
    },
    {
      "cell_type": "code",
      "metadata": {
        "id": "ZbSlFMnN3cmn",
        "colab_type": "code",
        "colab": {}
      },
      "source": [
        ""
      ],
      "execution_count": null,
      "outputs": []
    },
    {
      "cell_type": "code",
      "metadata": {
        "id": "x5imCmHD3cks",
        "colab_type": "code",
        "colab": {}
      },
      "source": [
        ""
      ],
      "execution_count": null,
      "outputs": []
    },
    {
      "cell_type": "code",
      "metadata": {
        "id": "N6VjnY1B3cib",
        "colab_type": "code",
        "colab": {}
      },
      "source": [
        ""
      ],
      "execution_count": null,
      "outputs": []
    },
    {
      "cell_type": "code",
      "metadata": {
        "id": "FyMnVuZM3cbp",
        "colab_type": "code",
        "colab": {}
      },
      "source": [
        ""
      ],
      "execution_count": null,
      "outputs": []
    },
    {
      "cell_type": "code",
      "metadata": {
        "id": "P713D8Tx3cZO",
        "colab_type": "code",
        "colab": {}
      },
      "source": [
        ""
      ],
      "execution_count": null,
      "outputs": []
    },
    {
      "cell_type": "code",
      "metadata": {
        "id": "Bfhf_oWk3cV_",
        "colab_type": "code",
        "colab": {}
      },
      "source": [
        ""
      ],
      "execution_count": null,
      "outputs": []
    },
    {
      "cell_type": "code",
      "metadata": {
        "id": "s7qrkOt5TSkE",
        "colab_type": "code",
        "colab": {
          "base_uri": "https://localhost:8080/",
          "height": 52
        },
        "outputId": "89823a36-24a3-4e1a-f99d-50047f9258eb"
      },
      "source": [
        "df = pd.read_csv(\"/content/train.csv\")\n",
        "print(df['Number_Weeks_Used'].isnull().values.any())\n",
        "df['Number_Weeks_Used'] = df['Number_Weeks_Used'].replace(np.nan, 0)\n",
        "print(df['Number_Weeks_Used'].isnull().values.any())\n"
      ],
      "execution_count": null,
      "outputs": [
        {
          "output_type": "stream",
          "text": [
            "True\n",
            "False\n"
          ],
          "name": "stdout"
        }
      ]
    },
    {
      "cell_type": "code",
      "metadata": {
        "id": "_0CexO6aTSog",
        "colab_type": "code",
        "colab": {}
      },
      "source": [
        "def prepare_random_forest_random_search():\n",
        "    df = pd.read_csv(\"/content/train.csv\")\n",
        "    # df.dropna(subset=[\"Number_Weeks_Used\"], axis=0, inplace=True)\n",
        "    # df.dropna(subset=[\"Number_Weeks_Quit\"], axis=0, inplace=True)\n",
        "    # df.dropna(subset=[\"Season\"], axis=0, inplace=True)\n",
        "\n",
        "    df['Number_Weeks_Used'] = df['Number_Weeks_Used'].replace(np.nan, 0)\n",
        "    df['Number_Weeks_Quit'] = df['Number_Weeks_Quit'].replace(np.nan, 0)\n",
        "\n",
        "\n",
        "\n",
        "    Y = df.loc[: , \"Crop_Damage\"].values\n",
        "\n",
        "    arr = ['Estimated_Insects_Count' , 'Number_Doses_Week' , 'Number_Weeks_Used' , 'Number_Weeks_Quit']\n",
        "    X = df.loc[:, arr]\n",
        "    print(X.shape , Y.shape)\n",
        "\n",
        "    num_labels = df[\"Crop_Type\"].nunique()\n",
        "    print(\"unique = \",num_labels)\n",
        "    newdf = pd.get_dummies(df[\"Crop_Type\"])\n",
        "    X[\"Crop_Type1\"] = newdf[0]\n",
        "    X[\"Crop_Type2\"] = newdf[1]\n",
        "    print(X.shape , Y.shape)\n",
        "\n",
        "\n",
        "    num_labels = df[\"Soil_Type\"].nunique()\n",
        "    print(\"unique = \",num_labels)\n",
        "    newdf = pd.get_dummies(df[\"Soil_Type\"])\n",
        "    X[\"Soil_Type1\"] = newdf[0]\n",
        "    X[\"Soil_Type2\"] = newdf[1]\n",
        "    print(X.shape , Y.shape)\n",
        "\n",
        "\n",
        "    num_labels = df[\"Pesticide_Use_Category\"].nunique()\n",
        "    print(\"unique = \",num_labels)\n",
        "    newdf = pd.get_dummies(df[\"Pesticide_Use_Category\"])\n",
        "    X[\"Pesticide_Use_Category1\"] = newdf[1]\n",
        "    X[\"Pesticide_Use_Category2\"] = newdf[2]\n",
        "    X[\"Pesticide_Use_Category3\"] = newdf[3]\n",
        "    print(X.shape , Y.shape)\n",
        "    return X , Y\n",
        "\n",
        "def random_forest_random_search(X , Y):\n",
        "    classifier = ensemble.RandomForestClassifier(n_jobs = -1)\n",
        "    param_grid = {\n",
        "        \"n_estimators\" : np.arange(100,2000,100),\n",
        "        \"max_depth\" : np.arange(1,25),\n",
        "        \"criterion\" : [\"gini\" , \"entropy\"]\n",
        "    }\n",
        "\n",
        "    model = RandomizedSearchCV(estimator = classifier,\n",
        "                        param_distributions = param_grid,\n",
        "                        cv = 5,\n",
        "                        n_iter = 10,\n",
        "                        verbose = 10)\n",
        "    model.fit(X,Y)\n",
        "\n",
        "    return model\n",
        "\n",
        "\n",
        "def pred_random_forest_random_search(model):\n",
        "    submit = pd.read_csv(\"/content/test.csv\")\n",
        "    submit['Number_Weeks_Used'] = submit['Number_Weeks_Used'].replace(np.nan, 0)\n",
        "    submit['Number_Weeks_Quit'] = submit['Number_Weeks_Quit'].replace(np.nan, 0)\n",
        "\n",
        "\n",
        "    col1 = submit.loc[: , \"ID\"].values\n",
        "\n",
        "    arr = ['Estimated_Insects_Count' , 'Number_Doses_Week' , 'Number_Weeks_Used' , 'Number_Weeks_Quit']\n",
        "    X = submit.loc[:, arr]\n",
        "\n",
        "\n",
        "    num_labels = submit[\"Crop_Type\"].nunique()\n",
        "    print(\"unique = \",num_labels)\n",
        "    newdf = pd.get_dummies(submit[\"Crop_Type\"])\n",
        "    X[\"Crop_Type1\"] = newdf[0]\n",
        "    X[\"Crop_Type2\"] = newdf[1]\n",
        "    print(X.shape , col1.shape)\n",
        "\n",
        "    num_labels = submit[\"Soil_Type\"].nunique()\n",
        "    print(\"unique = \",num_labels)\n",
        "    newdf = pd.get_dummies(submit[\"Soil_Type\"])\n",
        "    X[\"Soil_Type1\"] = newdf[0]\n",
        "    X[\"Soil_Type2\"] = newdf[1]\n",
        "    print(X.shape , col1.shape)\n",
        "\n",
        "    num_labels = submit[\"Pesticide_Use_Category\"].nunique()\n",
        "    print(\"unique = \",num_labels)\n",
        "    newdf = pd.get_dummies(submit[\"Pesticide_Use_Category\"])\n",
        "    X[\"Pesticide_Use_Category1\"] = newdf[1]\n",
        "    X[\"Pesticide_Use_Category2\"] = newdf[2]\n",
        "    X[\"Pesticide_Use_Category3\"] = newdf[3]\n",
        "    print(X.shape , col1.shape)\n",
        "\n",
        "    col2 = model.predict(X)\n",
        "\n",
        "    dict = {'ID': col1, 'Crop_Damage': col2} \n",
        "    df_fin = pd.DataFrame(dict) \n",
        "    df_fin.to_csv('pred_random_forest_random_search.csv', index=False) \n"
      ],
      "execution_count": null,
      "outputs": []
    },
    {
      "cell_type": "code",
      "metadata": {
        "id": "hVoUh_XUTSiK",
        "colab_type": "code",
        "colab": {
          "base_uri": "https://localhost:8080/",
          "height": 522
        },
        "outputId": "dd1af364-abfb-48be-bdc9-618b07151a6f"
      },
      "source": [
        "X , Y = prepare_random_forest_random_search()\n",
        "model = random_forest_random_search(X , Y)"
      ],
      "execution_count": null,
      "outputs": [
        {
          "output_type": "stream",
          "text": [
            "(79858, 4) (79858,)\n",
            "unique =  2\n",
            "(79858, 6) (79858,)\n",
            "unique =  2\n",
            "(79858, 8) (79858,)\n",
            "unique =  3\n",
            "(79858, 11) (79858,)\n",
            "Fitting 5 folds for each of 1 candidates, totalling 5 fits\n",
            "[CV] n_estimators=1900, max_depth=14, criterion=gini .................\n"
          ],
          "name": "stdout"
        },
        {
          "output_type": "stream",
          "text": [
            "[Parallel(n_jobs=1)]: Using backend SequentialBackend with 1 concurrent workers.\n"
          ],
          "name": "stderr"
        },
        {
          "output_type": "stream",
          "text": [
            "[CV]  n_estimators=1900, max_depth=14, criterion=gini, score=0.846, total=  35.7s\n",
            "[CV] n_estimators=1900, max_depth=14, criterion=gini .................\n"
          ],
          "name": "stdout"
        },
        {
          "output_type": "stream",
          "text": [
            "[Parallel(n_jobs=1)]: Done   1 out of   1 | elapsed:   35.7s remaining:    0.0s\n"
          ],
          "name": "stderr"
        },
        {
          "output_type": "stream",
          "text": [
            "[CV]  n_estimators=1900, max_depth=14, criterion=gini, score=0.844, total=  33.7s\n",
            "[CV] n_estimators=1900, max_depth=14, criterion=gini .................\n"
          ],
          "name": "stdout"
        },
        {
          "output_type": "stream",
          "text": [
            "[Parallel(n_jobs=1)]: Done   2 out of   2 | elapsed:  1.2min remaining:    0.0s\n"
          ],
          "name": "stderr"
        },
        {
          "output_type": "stream",
          "text": [
            "[CV]  n_estimators=1900, max_depth=14, criterion=gini, score=0.845, total=  37.9s\n",
            "[CV] n_estimators=1900, max_depth=14, criterion=gini .................\n"
          ],
          "name": "stdout"
        },
        {
          "output_type": "stream",
          "text": [
            "[Parallel(n_jobs=1)]: Done   3 out of   3 | elapsed:  1.8min remaining:    0.0s\n"
          ],
          "name": "stderr"
        },
        {
          "output_type": "stream",
          "text": [
            "[CV]  n_estimators=1900, max_depth=14, criterion=gini, score=0.841, total=  33.2s\n",
            "[CV] n_estimators=1900, max_depth=14, criterion=gini .................\n"
          ],
          "name": "stdout"
        },
        {
          "output_type": "stream",
          "text": [
            "[Parallel(n_jobs=1)]: Done   4 out of   4 | elapsed:  2.3min remaining:    0.0s\n"
          ],
          "name": "stderr"
        },
        {
          "output_type": "stream",
          "text": [
            "[CV]  n_estimators=1900, max_depth=14, criterion=gini, score=0.843, total=  33.3s\n"
          ],
          "name": "stdout"
        },
        {
          "output_type": "stream",
          "text": [
            "[Parallel(n_jobs=1)]: Done   5 out of   5 | elapsed:  2.9min remaining:    0.0s\n",
            "[Parallel(n_jobs=1)]: Done   5 out of   5 | elapsed:  2.9min finished\n"
          ],
          "name": "stderr"
        },
        {
          "output_type": "stream",
          "text": [
            "0.8435973389534622\n",
            "{'bootstrap': True, 'ccp_alpha': 0.0, 'class_weight': None, 'criterion': 'gini', 'max_depth': 14, 'max_features': 'auto', 'max_leaf_nodes': None, 'max_samples': None, 'min_impurity_decrease': 0.0, 'min_impurity_split': None, 'min_samples_leaf': 1, 'min_samples_split': 2, 'min_weight_fraction_leaf': 0.0, 'n_estimators': 1900, 'n_jobs': -1, 'oob_score': False, 'random_state': None, 'verbose': 0, 'warm_start': False}\n",
            "0.8662125272358436\n"
          ],
          "name": "stdout"
        }
      ]
    },
    {
      "cell_type": "code",
      "metadata": {
        "id": "PpmoFIQ2TScv",
        "colab_type": "code",
        "colab": {
          "base_uri": "https://localhost:8080/",
          "height": 193
        },
        "outputId": "f49f70c9-d9fb-4976-edfe-be748fb2582f"
      },
      "source": [
        "print(model.best_score_)\n",
        "print(model.best_estimator_.get_params())\n",
        "print(model.score(X,Y))\n",
        "pred_random_forest_random_search(model)"
      ],
      "execution_count": null,
      "outputs": [
        {
          "output_type": "stream",
          "text": [
            "0.8435973389534622\n",
            "{'bootstrap': True, 'ccp_alpha': 0.0, 'class_weight': None, 'criterion': 'gini', 'max_depth': 14, 'max_features': 'auto', 'max_leaf_nodes': None, 'max_samples': None, 'min_impurity_decrease': 0.0, 'min_impurity_split': None, 'min_samples_leaf': 1, 'min_samples_split': 2, 'min_weight_fraction_leaf': 0.0, 'n_estimators': 1900, 'n_jobs': -1, 'oob_score': False, 'random_state': None, 'verbose': 0, 'warm_start': False}\n",
            "0.8662125272358436\n",
            "unique =  2\n",
            "(59310, 6) (59310,)\n",
            "unique =  2\n",
            "(59310, 8) (59310,)\n",
            "unique =  3\n",
            "(59310, 11) (59310,)\n"
          ],
          "name": "stdout"
        }
      ]
    },
    {
      "cell_type": "code",
      "metadata": {
        "id": "Gm6v7lffZpgH",
        "colab_type": "code",
        "colab": {}
      },
      "source": [
        ""
      ],
      "execution_count": null,
      "outputs": []
    },
    {
      "cell_type": "code",
      "metadata": {
        "id": "9DYyGQvHZpdY",
        "colab_type": "code",
        "colab": {}
      },
      "source": [
        ""
      ],
      "execution_count": null,
      "outputs": []
    },
    {
      "cell_type": "code",
      "metadata": {
        "id": "V-z8OCyza1M3",
        "colab_type": "code",
        "colab": {}
      },
      "source": [
        ""
      ],
      "execution_count": null,
      "outputs": []
    },
    {
      "cell_type": "code",
      "metadata": {
        "id": "3r5DpV3ka1ST",
        "colab_type": "code",
        "colab": {}
      },
      "source": [
        ""
      ],
      "execution_count": null,
      "outputs": []
    },
    {
      "cell_type": "code",
      "metadata": {
        "id": "a9kyRH7n3hPT",
        "colab_type": "code",
        "colab": {
          "base_uri": "https://localhost:8080/",
          "height": 300
        },
        "outputId": "5872ad5d-337b-4c39-a751-ca297d7bafe0"
      },
      "source": [
        "import seaborn as sns\n",
        "sns.boxplot(y=\"Number_Weeks_Used\",x=\"Crop_Damage\",data=df)"
      ],
      "execution_count": 13,
      "outputs": [
        {
          "output_type": "execute_result",
          "data": {
            "text/plain": [
              "<matplotlib.axes._subplots.AxesSubplot at 0x7ff6542edb70>"
            ]
          },
          "metadata": {
            "tags": []
          },
          "execution_count": 13
        },
        {
          "output_type": "display_data",
          "data": {
            "image/png": "[encoded data removed]",
            "text/plain": [
              "<Figure size 432x288 with 1 Axes>"
            ]
          },
          "metadata": {
            "tags": [],
            "needs_background": "light"
          }
        }
      ]
    },
    {
      "cell_type": "code",
      "metadata": {
        "id": "nEV6K8553hSu",
        "colab_type": "code",
        "colab": {
          "base_uri": "https://localhost:8080/",
          "height": 297
        },
        "outputId": "969ddafc-f3de-4b25-eb54-1deeccf6aec9"
      },
      "source": [
        "sns.boxplot(y=\"Number_Weeks_Quit\",x=\"Crop_Damage\",data=df)"
      ],
      "execution_count": 14,
      "outputs": [
        {
          "output_type": "execute_result",
          "data": {
            "text/plain": [
              "<matplotlib.axes._subplots.AxesSubplot at 0x7ff6541f6780>"
            ]
          },
          "metadata": {
            "tags": []
          },
          "execution_count": 14
        },
        {
          "output_type": "display_data",
          "data": {
            "image/png": "[encoded data removed]",
            "text/plain": [
              "<Figure size 432x288 with 1 Axes>"
            ]
          },
          "metadata": {
            "tags": [],
            "needs_background": "light"
          }
        }
      ]
    },
    {
      "cell_type": "code",
      "metadata": {
        "id": "aoz75s-w7NZB",
        "colab_type": "code",
        "colab": {
          "base_uri": "https://localhost:8080/",
          "height": 297
        },
        "outputId": "a75a48b6-383f-4e59-98c0-7b240d1bb4cf"
      },
      "source": [
        "sns.boxplot(y=\"Estimated_Insects_Count\",x=\"Crop_Damage\",data=df)"
      ],
      "execution_count": 16,
      "outputs": [
        {
          "output_type": "execute_result",
          "data": {
            "text/plain": [
              "<matplotlib.axes._subplots.AxesSubplot at 0x7ff654178b70>"
            ]
          },
          "metadata": {
            "tags": []
          },
          "execution_count": 16
        },
        {
          "output_type": "display_data",
          "data": {
            "image/png": "[encoded data removed]",
            "text/plain": [
              "<Figure size 432x288 with 1 Axes>"
            ]
          },
          "metadata": {
            "tags": [],
            "needs_background": "light"
          }
        }
      ]
    },
    {
      "cell_type": "code",
      "metadata": {
        "id": "-2e7lEH1a1Qf",
        "colab_type": "code",
        "colab": {}
      },
      "source": [
        "def prepare_xgboost_random_search():\n",
        "    df = pd.read_csv(\"/content/train.csv\")\n",
        "    df = df.sample(frac=1)\n",
        "    # df.dropna(subset=[\"Number_Weeks_Used\"], axis=0, inplace=True)\n",
        "    # df.dropna(subset=[\"Number_Weeks_Quit\"], axis=0, inplace=True)\n",
        "    # df.dropna(subset=[\"Season\"], axis=0, inplace=True)\n",
        "\n",
        "\n",
        "    df['Number_Weeks_Used'] = df['Number_Weeks_Used'].replace(np.nan, df['Number_Weeks_Used'].median())\n",
        "    df['Number_Weeks_Quit'] = df['Number_Weeks_Quit'].replace(np.nan, df['Number_Weeks_Quit'].median())\n",
        "\n",
        "\n",
        "    # all0 = df[df[\"Crop_Damage\"]==0]\n",
        "    # all1 = df[df[\"Crop_Damage\"]==1]\n",
        "    # all2 = df[df[\"Crop_Damage\"]==2]\n",
        "    # all0  = all0.sample(frac=1)\n",
        "    # all1  = all1.sample(frac=1)\n",
        "    # all2  = all2.sample(frac=1)\n",
        "    # df = pd.concat([all0,all1,all2])\n",
        "    # df = df.sample(frac=1)\n",
        "\n",
        "\n",
        "\n",
        "\n",
        "    Y = df.loc[: , \"Crop_Damage\"].values\n",
        "\n",
        "    arr = ['Estimated_Insects_Count' , 'Number_Doses_Week' , 'Number_Weeks_Used' , 'Number_Weeks_Quit']\n",
        "\n",
        "\n",
        "    X = df.loc[:, arr]\n",
        "    print(X.shape , Y.shape)\n",
        "\n",
        "    num_labels = df[\"Crop_Type\"].nunique()\n",
        "    print(\"unique = \",num_labels)\n",
        "    newdf = pd.get_dummies(df[\"Crop_Type\"])\n",
        "    X[\"Crop_Type1\"] = newdf[0]\n",
        "    X[\"Crop_Type2\"] = newdf[1]\n",
        "    print(X.shape , Y.shape)\n",
        "\n",
        "    num_labels = df[\"Soil_Type\"].nunique()\n",
        "    print(\"unique = \",num_labels)\n",
        "    newdf = pd.get_dummies(df[\"Soil_Type\"])\n",
        "    X[\"Soil_Type1\"] = newdf[0]\n",
        "    X[\"Soil_Type2\"] = newdf[1]\n",
        "    print(X.shape , Y.shape)\n",
        "\n",
        "    num_labels = df[\"Pesticide_Use_Category\"].nunique()\n",
        "    print(\"unique = \",num_labels)\n",
        "    newdf = pd.get_dummies(df[\"Pesticide_Use_Category\"])\n",
        "    X[\"Pesticide_Use_Category1\"] = newdf[1]\n",
        "    X[\"Pesticide_Use_Category2\"] = newdf[2]\n",
        "    X[\"Pesticide_Use_Category3\"] = newdf[3]\n",
        "\n",
        "    print(X.shape , Y.shape)\n",
        "\n",
        "\n",
        "\n",
        "\n",
        "    # arr_to_stan = np.array(X[\"Estimated_Insects_Count\"]).reshape((-1,1))\n",
        "    # scaler = MinMaxScaler(feature_range=(0, 1)) \n",
        "    # X[\"Estimated_Insects_Count\"] = scaler.fit_transform(arr_to_stan) \n",
        "\n",
        "    # arr_to_stan = np.array(X[\"Number_Doses_Week\"]).reshape((-1,1))\n",
        "    # scaler = MinMaxScaler(feature_range=(0, 1)) \n",
        "    # X[\"Number_Doses_Week\"] = scaler.fit_transform(arr_to_stan) \n",
        "\n",
        "    # arr_to_stan = np.array(X[\"Number_Weeks_Used\"]).reshape((-1,1))\n",
        "    # scaler = MinMaxScaler(feature_range=(0, 1)) \n",
        "    # X[\"Number_Weeks_Used\"] = scaler.fit_transform(arr_to_stan) \n",
        "\n",
        "    # arr_to_stan = np.array(X[\"Number_Weeks_Quit\"]).reshape((-1,1))\n",
        "    # scaler = MinMaxScaler(feature_range=(0, 1)) \n",
        "    # X[\"Number_Weeks_Quit\"] = scaler.fit_transform(arr_to_stan)\n",
        "\n",
        "    np.set_printoptions(precision=3)\n",
        "\n",
        "    return X , Y\n",
        "\n",
        "def xgboost_random_search(X , Y):\n",
        "    classifier = XGBClassifier(n_jobs = -1)\n",
        "    param_grid = {\n",
        "        \"n_estimators\" : np.arange(100,1200,100),\n",
        "        \"max_depth\" : np.arange(1,10)\n",
        "    }\n",
        "\n",
        "    model = RandomizedSearchCV(estimator = classifier,\n",
        "                        param_distributions = param_grid,\n",
        "                        cv = 5,\n",
        "                        n_iter = 10,\n",
        "                        verbose=1000\n",
        "                        )\n",
        "    model.fit(X,Y)\n",
        "\n",
        "\n",
        "    # model = XGBClassifier(n_jobs = -1, n_estimators = 300, max_depth = 10, verbosity=3)\n",
        "    # model.fit(X,Y)\n",
        "    # print(model.score(X,Y))\n",
        "\n",
        "    return model\n",
        "\n",
        "\n",
        "\n",
        "def pred_xgboost_random_search(model):\n",
        "    submit = pd.read_csv(\"/content/test.csv\")\n",
        "    submit['Number_Weeks_Used'] = submit['Number_Weeks_Used'].replace(np.nan, 28)\n",
        "    submit['Number_Weeks_Quit'] = submit['Number_Weeks_Quit'].replace(np.nan, 7)\n",
        "\n",
        "    col1 = submit.loc[: , \"ID\"].values\n",
        "    arr = ['Estimated_Insects_Count' , 'Number_Doses_Week' , 'Number_Weeks_Used' , 'Number_Weeks_Quit']\n",
        "\n",
        "\n",
        "\n",
        "    X = submit.loc[:, arr]\n",
        "\n",
        "\n",
        "    num_labels = submit[\"Crop_Type\"].nunique()\n",
        "    print(\"unique = \",num_labels)\n",
        "    newdf = pd.get_dummies(submit[\"Crop_Type\"])\n",
        "    X[\"Crop_Type1\"] = newdf[0]\n",
        "    X[\"Crop_Type2\"] = newdf[1]\n",
        "    print(X.shape , col1.shape)\n",
        "\n",
        "    num_labels = submit[\"Soil_Type\"].nunique()\n",
        "    print(\"unique = \",num_labels)\n",
        "    newdf = pd.get_dummies(submit[\"Soil_Type\"])\n",
        "    X[\"Soil_Type1\"] = newdf[0]\n",
        "    X[\"Soil_Type2\"] = newdf[1]\n",
        "    print(X.shape , col1.shape)\n",
        "\n",
        "    num_labels = submit[\"Pesticide_Use_Category\"].nunique()\n",
        "    print(\"unique = \",num_labels)\n",
        "    newdf = pd.get_dummies(submit[\"Pesticide_Use_Category\"])\n",
        "    X[\"Pesticide_Use_Category1\"] = newdf[1]\n",
        "    X[\"Pesticide_Use_Category2\"] = newdf[2]\n",
        "    X[\"Pesticide_Use_Category3\"] = newdf[3]\n",
        "    print(X.shape , col1.shape)\n",
        "\n",
        "\n",
        "\n",
        "\n",
        "\n",
        "    # arr_to_stan = np.array(submit[\"Estimated_Insects_Count\"]).reshape((-1,1))\n",
        "    # scaler = MinMaxScaler(feature_range=(0, 1)) \n",
        "    # X[\"Estimated_Insects_Count\"] = scaler.fit_transform(arr_to_stan) \n",
        "\n",
        "    # arr_to_stan = np.array(submit[\"Number_Doses_Week\"]).reshape((-1,1))\n",
        "    # scaler = MinMaxScaler(feature_range=(0, 1)) \n",
        "    # X[\"Number_Doses_Week\"] = scaler.fit_transform(arr_to_stan) \n",
        "\n",
        "    # arr_to_stan = np.array(submit[\"Number_Weeks_Used\"]).reshape((-1,1))\n",
        "    # scaler = MinMaxScaler(feature_range=(0, 1)) \n",
        "    # X[\"Number_Weeks_Used\"] = scaler.fit_transform(arr_to_stan) \n",
        "\n",
        "    # arr_to_stan = np.array(submit[\"Number_Weeks_Quit\"]).reshape((-1,1))\n",
        "    # scaler = MinMaxScaler(feature_range=(0, 1)) \n",
        "    # X[\"Number_Weeks_Quit\"] = scaler.fit_transform(arr_to_stan) \n",
        "\n",
        "    np.set_printoptions(precision=3)\n",
        "\n",
        "    col2 = model.predict(X)\n",
        "\n",
        "    dict = {'ID': col1, 'Crop_Damage': col2} \n",
        "    df_fin = pd.DataFrame(dict) \n",
        "    df_fin.to_csv('pred_xg_replace.csv', index=False) \n"
      ],
      "execution_count": 1,
      "outputs": []
    },
    {
      "cell_type": "code",
      "metadata": {
        "id": "ay3Gi4rta1KZ",
        "colab_type": "code",
        "colab": {}
      },
      "source": [
        "X , Y = prepare_xgboost_random_search()\n",
        "model = xgboost_random_search(X , Y)\n",
        "X[:]"
      ],
      "execution_count": null,
      "outputs": []
    },
    {
      "cell_type": "code",
      "metadata": {
        "id": "JygMONuEZpa_",
        "colab_type": "code",
        "colab": {
          "base_uri": "https://localhost:8080/",
          "height": 106
        },
        "outputId": "069ede28-e765-4c3d-e1c5-3f2d931ddc63"
      },
      "source": [
        "print(model.best_score_)\n",
        "print(model.best_estimator_.get_params())\n",
        "print(model.score(X,Y))\n",
        "pred_xgboost_random_search(model)"
      ],
      "execution_count": 76,
      "outputs": [
        {
          "output_type": "stream",
          "text": [
            "0.8354678249441816\n",
            "{'base_score': 0.5, 'booster': 'gbtree', 'colsample_bylevel': 1, 'colsample_bynode': 1, 'colsample_bytree': 1, 'gamma': 0, 'learning_rate': 0.1, 'max_delta_step': 0, 'max_depth': 4, 'min_child_weight': 1, 'missing': None, 'n_estimators': 1100, 'n_jobs': -1, 'nthread': None, 'objective': 'multi:softprob', 'random_state': 0, 'reg_alpha': 0, 'reg_lambda': 1, 'scale_pos_weight': 1, 'seed': None, 'silent': None, 'subsample': 1, 'verbosity': 1}\n",
            "0.8354678250692116\n",
            "(59310, 1) (59310,)\n"
          ],
          "name": "stdout"
        }
      ]
    },
    {
      "cell_type": "code",
      "metadata": {
        "id": "T4bC3uz-iZ-u",
        "colab_type": "code",
        "colab": {}
      },
      "source": [
        ""
      ],
      "execution_count": null,
      "outputs": []
    },
    {
      "cell_type": "code",
      "metadata": {
        "id": "1_A4jJxAiaEA",
        "colab_type": "code",
        "colab": {}
      },
      "source": [
        ""
      ],
      "execution_count": null,
      "outputs": []
    },
    {
      "cell_type": "code",
      "metadata": {
        "id": "UB8f8hdYiZ8e",
        "colab_type": "code",
        "colab": {}
      },
      "source": [
        ""
      ],
      "execution_count": null,
      "outputs": []
    },
    {
      "cell_type": "code",
      "metadata": {
        "id": "bkMa00kqiZ5v",
        "colab_type": "code",
        "colab": {}
      },
      "source": [
        ""
      ],
      "execution_count": null,
      "outputs": []
    },
    {
      "cell_type": "code",
      "metadata": {
        "id": "ihOxxK22iZ3A",
        "colab_type": "code",
        "colab": {}
      },
      "source": [
        ""
      ],
      "execution_count": null,
      "outputs": []
    },
    {
      "cell_type": "code",
      "metadata": {
        "id": "FiM-JzumiZ0t",
        "colab_type": "code",
        "colab": {}
      },
      "source": [
        ""
      ],
      "execution_count": null,
      "outputs": []
    },
    {
      "cell_type": "code",
      "metadata": {
        "id": "lCJBrQ9yiZyh",
        "colab_type": "code",
        "colab": {}
      },
      "source": [
        ""
      ],
      "execution_count": null,
      "outputs": []
    },
    {
      "cell_type": "code",
      "metadata": {
        "id": "UhKqzfDRiZv4",
        "colab_type": "code",
        "colab": {}
      },
      "source": [
        ""
      ],
      "execution_count": null,
      "outputs": []
    },
    {
      "cell_type": "code",
      "metadata": {
        "id": "e8g0uj4DiZtd",
        "colab_type": "code",
        "colab": {}
      },
      "source": [
        ""
      ],
      "execution_count": null,
      "outputs": []
    },
    {
      "cell_type": "code",
      "metadata": {
        "id": "VyIsqNaciZrM",
        "colab_type": "code",
        "colab": {}
      },
      "source": [
        ""
      ],
      "execution_count": null,
      "outputs": []
    },
    {
      "cell_type": "code",
      "metadata": {
        "id": "bLAxPMqciZoO",
        "colab_type": "code",
        "colab": {}
      },
      "source": [
        ""
      ],
      "execution_count": null,
      "outputs": []
    },
    {
      "cell_type": "code",
      "metadata": {
        "id": "6M9V0GlXiZln",
        "colab_type": "code",
        "colab": {}
      },
      "source": [
        "def prepare_naive_random_search():\n",
        "    df = pd.read_csv(\"/content/train.csv\")\n",
        "    df.dropna(subset=[\"Number_Weeks_Used\"], axis=0, inplace=True)\n",
        "    df.dropna(subset=[\"Number_Weeks_Quit\"], axis=0, inplace=True)\n",
        "    # df.dropna(subset=[\"Season\"], axis=0, inplace=True)\n",
        "\n",
        "    # all0 = df[df[\"Crop_Damage\"]==0]\n",
        "    # all1 = df[df[\"Crop_Damage\"]==1]\n",
        "    # all2 = df[df[\"Crop_Damage\"]==2]\n",
        "    # all0  = all0.sample(frac=1)[:20000]\n",
        "    # all1  = all1.sample(frac=1)\n",
        "    # all2  = all2.sample(frac=1)\n",
        "    # df = pd.concat([all0,all1,all2])\n",
        "    # df = df.sample(frac=1)\n",
        "\n",
        "\n",
        "\n",
        "\n",
        "    Y = df.loc[: , \"Crop_Damage\"].values\n",
        "\n",
        "    arr = ['Estimated_Insects_Count'  , 'Number_Weeks_Used' , 'Number_Weeks_Quit' ]\n",
        "    X = df.loc[:, arr]\n",
        "    print(X.shape , Y.shape)\n",
        "\n",
        "    # num_labels = df[\"Crop_Type\"].nunique()\n",
        "    # print(\"unique = \",num_labels)\n",
        "    # newdf = pd.get_dummies(df[\"Crop_Type\"])\n",
        "    # X[\"Crop_Type1\"] = newdf[0]\n",
        "    # X[\"Crop_Type2\"] = newdf[1]\n",
        "    # print(X.shape , Y.shape)\n",
        "\n",
        "    # num_labels = df[\"Soil_Type\"].nunique()\n",
        "    # print(\"unique = \",num_labels)\n",
        "    # newdf = pd.get_dummies(df[\"Soil_Type\"])\n",
        "    # X[\"Soil_Type1\"] = newdf[0]\n",
        "    # X[\"Soil_Type2\"] = newdf[1]\n",
        "    # print(X.shape , Y.shape)\n",
        "\n",
        "    num_labels = df[\"Pesticide_Use_Category\"].nunique()\n",
        "    print(\"unique = \",num_labels)\n",
        "    newdf = pd.get_dummies(df[\"Pesticide_Use_Category\"])\n",
        "    X[\"Pesticide_Use_Category1\"] = newdf[1]\n",
        "    X[\"Pesticide_Use_Category2\"] = newdf[2]\n",
        "    X[\"Pesticide_Use_Category3\"] = newdf[3]\n",
        "    print(X.shape , Y.shape)\n",
        "\n",
        "    # num_labels = df[\"Season\"].nunique()\n",
        "    # print(\"unique = \",num_labels)\n",
        "    # newdf = pd.get_dummies(df[\"Season\"])\n",
        "    # X[\"Season1\"] = newdf[1]\n",
        "    # X[\"Season2\"] = newdf[2]\n",
        "    # X[\"Season3\"] = newdf[3]\n",
        "    # print(X.shape , Y.shape)\n",
        "\n",
        "\n",
        "    arr_to_stan = np.array(X[\"Estimated_Insects_Count\"]).reshape((-1,1))\n",
        "    scaler = MinMaxScaler(feature_range=(0, 1)) \n",
        "    X[\"Estimated_Insects_Count\"] = scaler.fit_transform(arr_to_stan) \n",
        "\n",
        "    arr_to_stan = np.array(X[\"Number_Doses_Week\"]).reshape((-1,1))\n",
        "    scaler = MinMaxScaler(feature_range=(0, 1)) \n",
        "    X[\"Number_Doses_Week\"] = scaler.fit_transform(arr_to_stan) \n",
        "\n",
        "    arr_to_stan = np.array(X[\"Number_Weeks_Used\"]).reshape((-1,1))\n",
        "    scaler = MinMaxScaler(feature_range=(0, 1)) \n",
        "    X[\"Number_Weeks_Used\"] = scaler.fit_transform(arr_to_stan) \n",
        "\n",
        "    arr_to_stan = np.array(X[\"Number_Weeks_Quit\"]).reshape((-1,1))\n",
        "    scaler = MinMaxScaler(feature_range=(0, 1)) \n",
        "    X[\"Number_Weeks_Quit\"] = scaler.fit_transform(arr_to_stan)\n",
        "\n",
        "\n",
        "    np.set_printoptions(precision=3)\n",
        "\n",
        "    return X , Y\n",
        "\n",
        "def naive_random_search(X , Y):\n",
        "    classifier = MultinomialNB()\n",
        "    classifier.partial_fit(X, Y, classes=[0, 1, 2])\n",
        "    param_grid = {\n",
        "        \"alpha\" : [0.1 , 0.2 , 0.3 , 0.4 ,  0.5 , 0.6 , 0.7 , 0.8 , 0.9 , 1],\n",
        "        \"fit_prior\" : [True, False]\n",
        "    }\n",
        "\n",
        "    model = RandomizedSearchCV(estimator = classifier,\n",
        "                        param_distributions = param_grid,\n",
        "                        cv = 5,\n",
        "                        n_iter = 200,\n",
        "                        verbose=10\n",
        "                        )\n",
        "    model.fit(X,Y)\n",
        "    return model\n",
        "\n",
        "\n",
        "\n",
        "def pred_naive_random_search(model):\n",
        "    submit = pd.read_csv(\"/content/test.csv\")\n",
        "    submit['Number_Weeks_Used'] = submit['Number_Weeks_Used'].replace(np.nan, 0)\n",
        "    submit['Number_Weeks_Quit'] = submit['Number_Weeks_Quit'].replace(np.nan, 0)\n",
        "    # submit['Season'] = submit['Season'].replace(np.nan, 0)\n",
        "\n",
        "    col1 = submit.loc[: , \"ID\"].values\n",
        "    arr = ['Estimated_Insects_Count'  , 'Number_Weeks_Used' , 'Number_Weeks_Quit' ]\n",
        "    X = submit.loc[:, arr]\n",
        "\n",
        "\n",
        "    # num_labels = submit[\"Crop_Type\"].nunique()\n",
        "    # print(\"unique = \",num_labels)\n",
        "    # newdf = pd.get_dummies(submit[\"Crop_Type\"])\n",
        "    # X[\"Crop_Type1\"] = newdf[0]\n",
        "    # X[\"Crop_Type2\"] = newdf[1]\n",
        "    # print(X.shape , col1.shape)\n",
        "\n",
        "    # num_labels = submit[\"Soil_Type\"].nunique()\n",
        "    # print(\"unique = \",num_labels)\n",
        "    # newdf = pd.get_dummies(submit[\"Soil_Type\"])\n",
        "    # X[\"Soil_Type1\"] = newdf[0]\n",
        "    # X[\"Soil_Type2\"] = newdf[1]\n",
        "    # print(X.shape , col1.shape)\n",
        "\n",
        "    num_labels = submit[\"Pesticide_Use_Category\"].nunique()\n",
        "    print(\"unique = \",num_labels)\n",
        "    newdf = pd.get_dummies(submit[\"Pesticide_Use_Category\"])\n",
        "    X[\"Pesticide_Use_Category1\"] = newdf[1]\n",
        "    X[\"Pesticide_Use_Category2\"] = newdf[2]\n",
        "    X[\"Pesticide_Use_Category3\"] = newdf[3]\n",
        "    print(X.shape , col1.shape)\n",
        "\n",
        "    # num_labels = df[\"Season\"].nunique()\n",
        "    # print(\"unique = \",num_labels)\n",
        "    # newdf = pd.get_dummies(df[\"Season\"])\n",
        "    # X[\"Season1\"] = newdf[1]\n",
        "    # X[\"Season2\"] = newdf[2]\n",
        "    # X[\"Season3\"] = newdf[3]\n",
        "    # X['Season1'] = X['Season1'].replace(np.nan, 0)\n",
        "    # X['Season2'] = X['Season2'].replace(np.nan, 0)\n",
        "    # X['Season3'] = X['Season3'].replace(np.nan, 0)\n",
        "    # print(X.shape , Y.shape)\n",
        "\n",
        "\n",
        "\n",
        "    arr_to_stan = np.array(submit[\"Estimated_Insects_Count\"]).reshape((-1,1))\n",
        "    scaler = MinMaxScaler(feature_range=(0, 1)) \n",
        "    X[\"Estimated_Insects_Count\"] = scaler.fit_transform(arr_to_stan) \n",
        "\n",
        "    # arr_to_stan = np.array(submit[\"Number_Doses_Week\"]).reshape((-1,1))\n",
        "    # scaler = MinMaxScaler(feature_range=(0, 1)) \n",
        "    # X[\"Number_Doses_Week\"] = scaler.fit_transform(arr_to_stan) \n",
        "\n",
        "    arr_to_stan = np.array(submit[\"Number_Weeks_Used\"]).reshape((-1,1))\n",
        "    scaler = MinMaxScaler(feature_range=(0, 1)) \n",
        "    X[\"Number_Weeks_Used\"] = scaler.fit_transform(arr_to_stan) \n",
        "\n",
        "    arr_to_stan = np.array(submit[\"Number_Weeks_Quit\"]).reshape((-1,1))\n",
        "    scaler = MinMaxScaler(feature_range=(0, 1)) \n",
        "    X[\"Number_Weeks_Quit\"] = scaler.fit_transform(arr_to_stan) \n",
        "\n",
        "    np.set_printoptions(precision=3)\n",
        "\n",
        "    col2 = model.predict(X)\n",
        "\n",
        "    dict = {'ID': col1, 'Crop_Damage': col2} \n",
        "    df_fin = pd.DataFrame(dict) \n",
        "    df_fin.to_csv('pred_naive_feat.csv', index=False) \n"
      ],
      "execution_count": null,
      "outputs": []
    },
    {
      "cell_type": "code",
      "metadata": {
        "id": "K6wfdCVridmm",
        "colab_type": "code",
        "colab": {}
      },
      "source": [
        "X , Y = prepare_naive_random_search()\n",
        "# model = naive_random_search(X , Y)\n",
        "X[:]"
      ],
      "execution_count": null,
      "outputs": []
    },
    {
      "cell_type": "code",
      "metadata": {
        "id": "-D5n_aHQifn7",
        "colab_type": "code",
        "colab": {}
      },
      "source": [
        "print(model.best_score_)\n",
        "print(model.best_estimator_.get_params())\n",
        "print(model.score(X,Y))\n",
        "pred_naive_random_search(model)\n",
        "\n"
      ],
      "execution_count": null,
      "outputs": []
    },
    {
      "cell_type": "code",
      "metadata": {
        "id": "_GF28afIiZhF",
        "colab_type": "code",
        "colab": {}
      },
      "source": [
        ""
      ],
      "execution_count": null,
      "outputs": []
    },
    {
      "cell_type": "code",
      "metadata": {
        "id": "SylJIt6cislK",
        "colab_type": "code",
        "colab": {}
      },
      "source": [
        ""
      ],
      "execution_count": null,
      "outputs": []
    },
    {
      "cell_type": "code",
      "metadata": {
        "id": "-sPu7wWbis_1",
        "colab_type": "code",
        "colab": {}
      },
      "source": [
        ""
      ],
      "execution_count": null,
      "outputs": []
    },
    {
      "cell_type": "code",
      "metadata": {
        "id": "oRFHDVzJis9a",
        "colab_type": "code",
        "colab": {}
      },
      "source": [
        ""
      ],
      "execution_count": null,
      "outputs": []
    },
    {
      "cell_type": "code",
      "metadata": {
        "id": "b2VLAvhCis7O",
        "colab_type": "code",
        "colab": {}
      },
      "source": [
        ""
      ],
      "execution_count": null,
      "outputs": []
    },
    {
      "cell_type": "code",
      "metadata": {
        "id": "RqQJZgOYis5D",
        "colab_type": "code",
        "colab": {}
      },
      "source": [
        ""
      ],
      "execution_count": null,
      "outputs": []
    },
    {
      "cell_type": "code",
      "metadata": {
        "id": "JWdCiShjis27",
        "colab_type": "code",
        "colab": {}
      },
      "source": [
        ""
      ],
      "execution_count": null,
      "outputs": []
    },
    {
      "cell_type": "code",
      "metadata": {
        "id": "NwPdZI-jis0e",
        "colab_type": "code",
        "colab": {}
      },
      "source": [
        ""
      ],
      "execution_count": null,
      "outputs": []
    },
    {
      "cell_type": "code",
      "metadata": {
        "id": "p_uqyGFwisyC",
        "colab_type": "code",
        "colab": {}
      },
      "source": [
        ""
      ],
      "execution_count": null,
      "outputs": []
    },
    {
      "cell_type": "code",
      "metadata": {
        "id": "DGOjUFa4isuS",
        "colab_type": "code",
        "colab": {}
      },
      "source": [
        ""
      ],
      "execution_count": null,
      "outputs": []
    },
    {
      "cell_type": "code",
      "metadata": {
        "id": "bmGtyLcCisqx",
        "colab_type": "code",
        "colab": {}
      },
      "source": [
        "def prepare_svm_random_search():\n",
        "    df = pd.read_csv(\"/content/train.csv\")\n",
        "    df.dropna(subset=[\"Number_Weeks_Used\"], axis=0, inplace=True)\n",
        "    df.dropna(subset=[\"Number_Weeks_Quit\"], axis=0, inplace=True)\n",
        "    # df.dropna(subset=[\"Season\"], axis=0, inplace=True)\n",
        "\n",
        "    # all0 = df[df[\"Crop_Damage\"]==0]\n",
        "    # all1 = df[df[\"Crop_Damage\"]==1]\n",
        "    # all2 = df[df[\"Crop_Damage\"]==2]\n",
        "    # all0  = all0.sample(frac=1)[:20000]\n",
        "    # all1  = all1.sample(frac=1)\n",
        "    # all2  = all2.sample(frac=1)\n",
        "    # df = pd.concat([all0,all1,all2])\n",
        "    # df = df.sample(frac=1)\n",
        "\n",
        "\n",
        "\n",
        "\n",
        "    Y = df.loc[: , \"Crop_Damage\"].values\n",
        "\n",
        "    arr = ['Estimated_Insects_Count' , 'Number_Doses_Week' , 'Number_Weeks_Used' , 'Number_Weeks_Quit']\n",
        "    X = df.loc[:, arr]\n",
        "    print(X.shape , Y.shape)\n",
        "\n",
        "    num_labels = df[\"Crop_Type\"].nunique()\n",
        "    print(\"unique = \",num_labels)\n",
        "    newdf = pd.get_dummies(df[\"Crop_Type\"])\n",
        "    X[\"Crop_Type1\"] = newdf[0]\n",
        "    X[\"Crop_Type2\"] = newdf[1]\n",
        "    print(X.shape , Y.shape)\n",
        "\n",
        "    num_labels = df[\"Soil_Type\"].nunique()\n",
        "    print(\"unique = \",num_labels)\n",
        "    newdf = pd.get_dummies(df[\"Soil_Type\"])\n",
        "    X[\"Soil_Type1\"] = newdf[0]\n",
        "    X[\"Soil_Type2\"] = newdf[1]\n",
        "    print(X.shape , Y.shape)\n",
        "\n",
        "    num_labels = df[\"Pesticide_Use_Category\"].nunique()\n",
        "    print(\"unique = \",num_labels)\n",
        "    newdf = pd.get_dummies(df[\"Pesticide_Use_Category\"])\n",
        "    X[\"Pesticide_Use_Category1\"] = newdf[1]\n",
        "    X[\"Pesticide_Use_Category2\"] = newdf[2]\n",
        "    X[\"Pesticide_Use_Category3\"] = newdf[3]\n",
        "    print(X.shape , Y.shape)\n",
        "\n",
        "\n",
        "\n",
        "    arr_to_stan = np.array(X[\"Estimated_Insects_Count\"]).reshape((-1,1))\n",
        "    scaler = StandardScaler().fit(arr_to_stan) \n",
        "    X[\"Estimated_Insects_Count\"] = scaler.transform(arr_to_stan) \n",
        "\n",
        "    arr_to_stan = np.array(X[\"Number_Doses_Week\"]).reshape((-1,1))\n",
        "    scaler = StandardScaler().fit(arr_to_stan) \n",
        "    X[\"Number_Doses_Week\"] = scaler.transform(arr_to_stan) \n",
        "\n",
        "    arr_to_stan = np.array(X[\"Number_Weeks_Used\"]).reshape((-1,1))\n",
        "    scaler = StandardScaler().fit(arr_to_stan) \n",
        "    X[\"Number_Weeks_Used\"] = scaler.transform(arr_to_stan) \n",
        "\n",
        "    arr_to_stan = np.array(X[\"Number_Weeks_Quit\"]).reshape((-1,1))\n",
        "    scaler = StandardScaler().fit(arr_to_stan) \n",
        "    X[\"Number_Weeks_Quit\"] = scaler.transform(arr_to_stan) \n",
        "\n",
        "    np.set_printoptions(precision=3)\n",
        "\n",
        "    return X , Y\n",
        "\n",
        "def svm_random_search(X , Y):\n",
        "    classifier = svm.SVC()\n",
        "\n",
        "    param_grid = {\n",
        "        \"C\" :  [0.1 , 0.2 , 0.3 , 0.4 ,  0.5 , 0.6 , 0.7 , 0.8 , 0.9 , 1],\n",
        "        \"kernel\" : [\"linear\", \"poly\", \"rbf\", \"sigmoid\", \"precomputed\"],\n",
        "        \"degree\" : [3 ,4, 2]\n",
        "    }\n",
        "\n",
        "    model = RandomizedSearchCV(estimator = classifier,\n",
        "                        param_distributions = param_grid,\n",
        "                        cv = 5,\n",
        "                        n_iter = 10,\n",
        "                        verbose=10\n",
        "                        )\n",
        "    model.fit(X,Y)\n",
        "\n",
        "\n",
        "    # model = XGBClassifier(n_jobs = -1, n_estimators = 300, max_depth = 10, verbosity=3)\n",
        "    # model.fit(X,Y)\n",
        "    # print(model.score(X,Y))\n",
        "\n",
        "    return model\n",
        "\n",
        "\n",
        "\n",
        "def pred_svm_random_search(model):\n",
        "    submit = pd.read_csv(\"/content/test.csv\")\n",
        "    submit['Number_Weeks_Used'] = submit['Number_Weeks_Used'].replace(np.nan, 0)\n",
        "    submit['Number_Weeks_Quit'] = submit['Number_Weeks_Quit'].replace(np.nan, 0)\n",
        "\n",
        "    col1 = submit.loc[: , \"ID\"].values\n",
        "    arr = ['Estimated_Insects_Count' , 'Number_Doses_Week' , 'Number_Weeks_Used' , 'Number_Weeks_Quit']\n",
        "    X = submit.loc[:, arr]\n",
        "\n",
        "\n",
        "    num_labels = submit[\"Crop_Type\"].nunique()\n",
        "    print(\"unique = \",num_labels)\n",
        "    newdf = pd.get_dummies(submit[\"Crop_Type\"])\n",
        "    X[\"Crop_Type1\"] = newdf[0]\n",
        "    X[\"Crop_Type2\"] = newdf[1]\n",
        "    print(X.shape , col1.shape)\n",
        "\n",
        "    num_labels = submit[\"Soil_Type\"].nunique()\n",
        "    print(\"unique = \",num_labels)\n",
        "    newdf = pd.get_dummies(submit[\"Soil_Type\"])\n",
        "    X[\"Soil_Type1\"] = newdf[0]\n",
        "    X[\"Soil_Type2\"] = newdf[1]\n",
        "    print(X.shape , col1.shape)\n",
        "\n",
        "    num_labels = submit[\"Pesticide_Use_Category\"].nunique()\n",
        "    print(\"unique = \",num_labels)\n",
        "    newdf = pd.get_dummies(submit[\"Pesticide_Use_Category\"])\n",
        "    X[\"Pesticide_Use_Category1\"] = newdf[1]\n",
        "    X[\"Pesticide_Use_Category2\"] = newdf[2]\n",
        "    X[\"Pesticide_Use_Category3\"] = newdf[3]\n",
        "    print(X.shape , col1.shape)\n",
        "\n",
        "\n",
        "\n",
        "\n",
        "    arr_to_stan = np.array(submit[\"Estimated_Insects_Count\"]).reshape((-1,1))\n",
        "    scaler = StandardScaler().fit(arr_to_stan) \n",
        "    X[\"Estimated_Insects_Count\"] = scaler.transform(arr_to_stan) \n",
        "\n",
        "    arr_to_stan = np.array(submit[\"Number_Doses_Week\"]).reshape((-1,1))\n",
        "    scaler = StandardScaler().fit(arr_to_stan) \n",
        "    X[\"Number_Doses_Week\"] = scaler.transform(arr_to_stan) \n",
        "\n",
        "    arr_to_stan = np.array(submit[\"Number_Weeks_Used\"]).reshape((-1,1))\n",
        "    scaler = StandardScaler().fit(arr_to_stan) \n",
        "    X[\"Number_Weeks_Used\"] = scaler.transform(arr_to_stan) \n",
        "\n",
        "    arr_to_stan = np.array(submit[\"Number_Weeks_Quit\"]).reshape((-1,1))\n",
        "    scaler = StandardScaler().fit(arr_to_stan) \n",
        "    X[\"Number_Weeks_Quit\"] = scaler.transform(arr_to_stan)\n",
        "\n",
        "    np.set_printoptions(precision=3)\n",
        "\n",
        "    col2 = model.predict(X)\n",
        "\n",
        "    dict = {'ID': col1, 'Crop_Damage': col2} \n",
        "    df_fin = pd.DataFrame(dict) \n",
        "    df_fin.to_csv('pred_svm_.csv', index=False) \n"
      ],
      "execution_count": null,
      "outputs": []
    },
    {
      "cell_type": "code",
      "metadata": {
        "id": "39DKJB5pivuv",
        "colab_type": "code",
        "colab": {}
      },
      "source": [
        "\n",
        "X , Y = prepare_svm_random_search()\n",
        "model = svm_random_search(X , Y)\n",
        "# X[:]"
      ],
      "execution_count": null,
      "outputs": []
    },
    {
      "cell_type": "code",
      "metadata": {
        "id": "U8rAvLH3iySH",
        "colab_type": "code",
        "colab": {}
      },
      "source": [
        "print(model.best_score_)\n",
        "print(model.best_estimator_.get_params())\n",
        "print(model.score(X,Y))\n",
        "pred_svm_random_search(model)"
      ],
      "execution_count": null,
      "outputs": []
    },
    {
      "cell_type": "code",
      "metadata": {
        "id": "N9yJWHT8isoz",
        "colab_type": "code",
        "colab": {}
      },
      "source": [
        ""
      ],
      "execution_count": null,
      "outputs": []
    },
    {
      "cell_type": "code",
      "metadata": {
        "id": "psLXc6EAi7Tt",
        "colab_type": "code",
        "colab": {}
      },
      "source": [
        ""
      ],
      "execution_count": null,
      "outputs": []
    },
    {
      "cell_type": "code",
      "metadata": {
        "id": "9Rk8UPTEi7RB",
        "colab_type": "code",
        "colab": {}
      },
      "source": [
        ""
      ],
      "execution_count": null,
      "outputs": []
    },
    {
      "cell_type": "code",
      "metadata": {
        "id": "uyR6eXJji7NG",
        "colab_type": "code",
        "colab": {}
      },
      "source": [
        ""
      ],
      "execution_count": null,
      "outputs": []
    },
    {
      "cell_type": "code",
      "metadata": {
        "id": "ukex5U8Ri7LA",
        "colab_type": "code",
        "colab": {}
      },
      "source": [
        ""
      ],
      "execution_count": null,
      "outputs": []
    },
    {
      "cell_type": "code",
      "metadata": {
        "id": "yQx_WVc4i7If",
        "colab_type": "code",
        "colab": {}
      },
      "source": [
        ""
      ],
      "execution_count": null,
      "outputs": []
    },
    {
      "cell_type": "code",
      "metadata": {
        "id": "AI8fzHoji7F2",
        "colab_type": "code",
        "colab": {}
      },
      "source": [
        ""
      ],
      "execution_count": null,
      "outputs": []
    },
    {
      "cell_type": "code",
      "metadata": {
        "id": "y5kVUmVyisin",
        "colab_type": "code",
        "colab": {}
      },
      "source": [
        ""
      ],
      "execution_count": null,
      "outputs": []
    },
    {
      "cell_type": "code",
      "metadata": {
        "id": "ZwCEySyIxVLL",
        "colab_type": "code",
        "colab": {
          "base_uri": "https://localhost:8080/",
          "height": 138
        },
        "outputId": "233f918a-8944-401f-9b09-b38febb15708"
      },
      "source": [
        "def get_without_na(model):\n",
        "    submit = pd.read_csv(\"/content/test.csv\")\n",
        "    submit.dropna(subset=[\"Number_Weeks_Used\"], axis=0, inplace=True)\n",
        "    submit.dropna(subset=[\"Number_Weeks_Quit\"], axis=0, inplace=True)\n",
        "\n",
        "\n",
        "    # submit['Number_Weeks_Used'] = submit['Number_Weeks_Used'].replace(np.nan, 28)\n",
        "    # submit['Number_Weeks_Quit'] = submit['Number_Weeks_Quit'].replace(np.nan, 7)\n",
        "\n",
        "\n",
        "    col1 = submit.loc[: , \"ID\"].values\n",
        "    arr = ['Estimated_Insects_Count' , 'Number_Doses_Week' , 'Number_Weeks_Used' , 'Number_Weeks_Quit']\n",
        "    X = submit.loc[:, arr]\n",
        "\n",
        "\n",
        "    num_labels = submit[\"Crop_Type\"].nunique()\n",
        "    print(\"unique = \",num_labels)\n",
        "    newdf = pd.get_dummies(submit[\"Crop_Type\"])\n",
        "    X[\"Crop_Type1\"] = newdf[0]\n",
        "    X[\"Crop_Type2\"] = newdf[1]\n",
        "    print(X.shape , col1.shape)\n",
        "\n",
        "    num_labels = submit[\"Soil_Type\"].nunique()\n",
        "    print(\"unique = \",num_labels)\n",
        "    newdf = pd.get_dummies(submit[\"Soil_Type\"])\n",
        "    X[\"Soil_Type1\"] = newdf[0]\n",
        "    X[\"Soil_Type2\"] = newdf[1]\n",
        "    print(X.shape , col1.shape)\n",
        "\n",
        "    # num_labels = submit[\"Pesticide_Use_Category\"].nunique()\n",
        "    # print(\"unique = \",num_labels)\n",
        "    # newdf = pd.get_dummies(submit[\"Pesticide_Use_Category\"])\n",
        "    # X[\"Pesticide_Use_Category1\"] = newdf[1]\n",
        "    # X[\"Pesticide_Use_Category2\"] = newdf[2]\n",
        "    # X[\"Pesticide_Use_Category3\"] = newdf[3]\n",
        "    X[\"Pesticide_Use_Category\"] = submit[\"Pesticide_Use_Category\"]\n",
        "    print(X.shape , col1.shape)\n",
        "\n",
        "\n",
        "    np.set_printoptions(precision=3)\n",
        "\n",
        "    col2 = model.predict(X)\n",
        "    print(col1.shape,col2.shape)\n",
        "    return col1, col2\n",
        "\n",
        "\n",
        "col1 , col2 = get_without_na(model)\n",
        "print(col1.shape,col2.shape)\n",
        "dict = {'ID': col1, 'Crop_Damage': col2} \n",
        "df_fin = pd.DataFrame(dict) \n",
        "df_fin.to_csv('222222.csv', index=False)"
      ],
      "execution_count": 54,
      "outputs": [
        {
          "output_type": "stream",
          "text": [
            "unique =  2\n",
            "(53417, 6) (53417,)\n",
            "unique =  2\n",
            "(53417, 8) (53417,)\n",
            "(53417, 9) (53417,)\n",
            "(53417,) (53417,)\n",
            "(53417,) (53417,)\n"
          ],
          "name": "stdout"
        }
      ]
    },
    {
      "cell_type": "code",
      "metadata": {
        "id": "715o9-KsZpYA",
        "colab_type": "code",
        "colab": {
          "base_uri": "https://localhost:8080/",
          "height": 1000
        },
        "outputId": "d078324a-3615-41ee-89d8-87e602bd4c10"
      },
      "source": [
        "def small_model():\n",
        "    df = pd.read_csv(\"/content/train.csv\")\n",
        "    df = df.sample(frac = 1)\n",
        "    df = df.loc[ df['Number_Weeks_Used'].isnull().values ]\n",
        "\n",
        "    Y = df.loc[: , \"Crop_Damage\"].values\n",
        "\n",
        "    arr = ['Estimated_Insects_Count' , 'Number_Doses_Week']\n",
        "    X = df.loc[:, arr]\n",
        "    print(X.shape , Y.shape)\n",
        "\n",
        "    num_labels = df[\"Crop_Type\"].nunique()\n",
        "    print(\"unique = \",num_labels)\n",
        "    newdf = pd.get_dummies(df[\"Crop_Type\"])\n",
        "    X[\"Crop_Type1\"] = newdf[0]\n",
        "    X[\"Crop_Type2\"] = newdf[1]\n",
        "    print(X.shape , Y.shape)\n",
        "\n",
        "    num_labels = df[\"Soil_Type\"].nunique()\n",
        "    print(\"unique = \",num_labels)\n",
        "    newdf = pd.get_dummies(df[\"Soil_Type\"])\n",
        "    X[\"Soil_Type1\"] = newdf[0]\n",
        "    X[\"Soil_Type2\"] = newdf[1]\n",
        "    print(X.shape , Y.shape)\n",
        "\n",
        "    num_labels = df[\"Pesticide_Use_Category\"].nunique()\n",
        "    print(\"unique = \",num_labels)\n",
        "    newdf = pd.get_dummies(df[\"Pesticide_Use_Category\"])\n",
        "    X[\"Pesticide_Use_Category1\"] = newdf[1]\n",
        "    X[\"Pesticide_Use_Category2\"] = newdf[2]\n",
        "    X[\"Pesticide_Use_Category3\"] = newdf[3]\n",
        "    print(X.shape , Y.shape)\n",
        "\n",
        "    np.set_printoptions(precision=3)\n",
        "    return X , Y\n",
        "\n",
        "def small_model_run(XX , XY):\n",
        "    # classifier = MultinomialNB()\n",
        "    # classifier.partial_fit(X, Y, classes=[0, 1, 2])\n",
        "    # param_grid = {\n",
        "    #     \"alpha\" : [0.1 , 0.2 , 0.3 , 0.4 ,  0.5 , 0.6 , 0.7 , 0.8 , 0.9 , 1],\n",
        "    #     \"fit_prior\" : [True, False]\n",
        "    # }\n",
        "    classifier = XGBClassifier(n_jobs = -1)\n",
        "    param_grid = {\n",
        "        \"n_estimators\" : np.arange(100,1200,100),\n",
        "        \"max_depth\" : np.arange(1,10)\n",
        "    }\n",
        "\n",
        "\n",
        "    m1 = RandomizedSearchCV(estimator = classifier,\n",
        "                        param_distributions = param_grid,\n",
        "                        cv = 5,\n",
        "                        n_iter = 10,\n",
        "                        verbose=10\n",
        "                        )\n",
        "    m1.fit(XX,YY)\n",
        "    return m1\n",
        "\n",
        "\n",
        "XX , YY = small_model()\n",
        "m1 = small_model_run(XX , YY)\n",
        "# XX[:]"
      ],
      "execution_count": 51,
      "outputs": [
        {
          "output_type": "stream",
          "text": [
            "(9000, 2) (9000,)\n",
            "unique =  2\n",
            "(9000, 4) (9000,)\n",
            "unique =  2\n",
            "(9000, 6) (9000,)\n",
            "unique =  3\n",
            "(9000, 9) (9000,)\n",
            "Fitting 5 folds for each of 10 candidates, totalling 50 fits\n",
            "[CV] n_estimators=500, max_depth=2 ...................................\n"
          ],
          "name": "stdout"
        },
        {
          "output_type": "stream",
          "text": [
            "[Parallel(n_jobs=1)]: Using backend SequentialBackend with 1 concurrent workers.\n"
          ],
          "name": "stderr"
        },
        {
          "output_type": "stream",
          "text": [
            "[CV] ....... n_estimators=500, max_depth=2, score=0.836, total=   1.2s\n",
            "[CV] n_estimators=500, max_depth=2 ...................................\n"
          ],
          "name": "stdout"
        },
        {
          "output_type": "stream",
          "text": [
            "[Parallel(n_jobs=1)]: Done   1 out of   1 | elapsed:    1.2s remaining:    0.0s\n"
          ],
          "name": "stderr"
        },
        {
          "output_type": "stream",
          "text": [
            "[CV] ....... n_estimators=500, max_depth=2, score=0.834, total=   1.2s\n",
            "[CV] n_estimators=500, max_depth=2 ...................................\n"
          ],
          "name": "stdout"
        },
        {
          "output_type": "stream",
          "text": [
            "[Parallel(n_jobs=1)]: Done   2 out of   2 | elapsed:    2.5s remaining:    0.0s\n"
          ],
          "name": "stderr"
        },
        {
          "output_type": "stream",
          "text": [
            "[CV] ....... n_estimators=500, max_depth=2, score=0.840, total=   1.2s\n",
            "[CV] n_estimators=500, max_depth=2 ...................................\n"
          ],
          "name": "stdout"
        },
        {
          "output_type": "stream",
          "text": [
            "[Parallel(n_jobs=1)]: Done   3 out of   3 | elapsed:    3.7s remaining:    0.0s\n"
          ],
          "name": "stderr"
        },
        {
          "output_type": "stream",
          "text": [
            "[CV] ....... n_estimators=500, max_depth=2, score=0.841, total=   1.3s\n",
            "[CV] n_estimators=500, max_depth=2 ...................................\n"
          ],
          "name": "stdout"
        },
        {
          "output_type": "stream",
          "text": [
            "[Parallel(n_jobs=1)]: Done   4 out of   4 | elapsed:    5.0s remaining:    0.0s\n"
          ],
          "name": "stderr"
        },
        {
          "output_type": "stream",
          "text": [
            "[CV] ....... n_estimators=500, max_depth=2, score=0.838, total=   1.3s\n",
            "[CV] n_estimators=500, max_depth=4 ...................................\n"
          ],
          "name": "stdout"
        },
        {
          "output_type": "stream",
          "text": [
            "[Parallel(n_jobs=1)]: Done   5 out of   5 | elapsed:    6.3s remaining:    0.0s\n"
          ],
          "name": "stderr"
        },
        {
          "output_type": "stream",
          "text": [
            "[CV] ....... n_estimators=500, max_depth=4, score=0.830, total=   2.2s\n",
            "[CV] n_estimators=500, max_depth=4 ...................................\n"
          ],
          "name": "stdout"
        },
        {
          "output_type": "stream",
          "text": [
            "[Parallel(n_jobs=1)]: Done   6 out of   6 | elapsed:    8.5s remaining:    0.0s\n"
          ],
          "name": "stderr"
        },
        {
          "output_type": "stream",
          "text": [
            "[CV] ....... n_estimators=500, max_depth=4, score=0.830, total=   2.2s\n",
            "[CV] n_estimators=500, max_depth=4 ...................................\n"
          ],
          "name": "stdout"
        },
        {
          "output_type": "stream",
          "text": [
            "[Parallel(n_jobs=1)]: Done   7 out of   7 | elapsed:   10.8s remaining:    0.0s\n"
          ],
          "name": "stderr"
        },
        {
          "output_type": "stream",
          "text": [
            "[CV] ....... n_estimators=500, max_depth=4, score=0.838, total=   2.2s\n",
            "[CV] n_estimators=500, max_depth=4 ...................................\n"
          ],
          "name": "stdout"
        },
        {
          "output_type": "stream",
          "text": [
            "[Parallel(n_jobs=1)]: Done   8 out of   8 | elapsed:   13.0s remaining:    0.0s\n"
          ],
          "name": "stderr"
        },
        {
          "output_type": "stream",
          "text": [
            "[CV] ....... n_estimators=500, max_depth=4, score=0.836, total=   2.2s\n",
            "[CV] n_estimators=500, max_depth=4 ...................................\n"
          ],
          "name": "stdout"
        },
        {
          "output_type": "stream",
          "text": [
            "[Parallel(n_jobs=1)]: Done   9 out of   9 | elapsed:   15.2s remaining:    0.0s\n"
          ],
          "name": "stderr"
        },
        {
          "output_type": "stream",
          "text": [
            "[CV] ....... n_estimators=500, max_depth=4, score=0.831, total=   2.3s\n",
            "[CV] n_estimators=1000, max_depth=5 ..................................\n",
            "[CV] ...... n_estimators=1000, max_depth=5, score=0.828, total=   5.6s\n",
            "[CV] n_estimators=1000, max_depth=5 ..................................\n",
            "[CV] ...... n_estimators=1000, max_depth=5, score=0.822, total=   5.4s\n",
            "[CV] n_estimators=1000, max_depth=5 ..................................\n",
            "[CV] ...... n_estimators=1000, max_depth=5, score=0.832, total=   5.6s\n",
            "[CV] n_estimators=1000, max_depth=5 ..................................\n",
            "[CV] ...... n_estimators=1000, max_depth=5, score=0.826, total=   5.5s\n",
            "[CV] n_estimators=1000, max_depth=5 ..................................\n",
            "[CV] ...... n_estimators=1000, max_depth=5, score=0.825, total=   5.6s\n",
            "[CV] n_estimators=600, max_depth=3 ...................................\n",
            "[CV] ....... n_estimators=600, max_depth=3, score=0.836, total=   2.1s\n",
            "[CV] n_estimators=600, max_depth=3 ...................................\n",
            "[CV] ....... n_estimators=600, max_depth=3, score=0.830, total=   2.1s\n",
            "[CV] n_estimators=600, max_depth=3 ...................................\n",
            "[CV] ....... n_estimators=600, max_depth=3, score=0.840, total=   2.1s\n",
            "[CV] n_estimators=600, max_depth=3 ...................................\n",
            "[CV] ....... n_estimators=600, max_depth=3, score=0.837, total=   2.1s\n",
            "[CV] n_estimators=600, max_depth=3 ...................................\n",
            "[CV] ....... n_estimators=600, max_depth=3, score=0.834, total=   2.1s\n",
            "[CV] n_estimators=300, max_depth=7 ...................................\n",
            "[CV] ....... n_estimators=300, max_depth=7, score=0.828, total=   2.3s\n",
            "[CV] n_estimators=300, max_depth=7 ...................................\n",
            "[CV] ....... n_estimators=300, max_depth=7, score=0.822, total=   2.3s\n",
            "[CV] n_estimators=300, max_depth=7 ...................................\n",
            "[CV] ....... n_estimators=300, max_depth=7, score=0.831, total=   2.3s\n",
            "[CV] n_estimators=300, max_depth=7 ...................................\n",
            "[CV] ....... n_estimators=300, max_depth=7, score=0.825, total=   2.4s\n",
            "[CV] n_estimators=300, max_depth=7 ...................................\n",
            "[CV] ....... n_estimators=300, max_depth=7, score=0.827, total=   2.4s\n",
            "[CV] n_estimators=600, max_depth=7 ...................................\n",
            "[CV] ....... n_estimators=600, max_depth=7, score=0.818, total=   4.6s\n",
            "[CV] n_estimators=600, max_depth=7 ...................................\n",
            "[CV] ....... n_estimators=600, max_depth=7, score=0.819, total=   4.6s\n",
            "[CV] n_estimators=600, max_depth=7 ...................................\n",
            "[CV] ....... n_estimators=600, max_depth=7, score=0.829, total=   4.6s\n",
            "[CV] n_estimators=600, max_depth=7 ...................................\n",
            "[CV] ....... n_estimators=600, max_depth=7, score=0.819, total=   4.7s\n",
            "[CV] n_estimators=600, max_depth=7 ...................................\n",
            "[CV] ....... n_estimators=600, max_depth=7, score=0.826, total=   4.6s\n",
            "[CV] n_estimators=1000, max_depth=7 ..................................\n",
            "[CV] ...... n_estimators=1000, max_depth=7, score=0.810, total=   7.8s\n",
            "[CV] n_estimators=1000, max_depth=7 ..................................\n",
            "[CV] ...... n_estimators=1000, max_depth=7, score=0.813, total=   7.6s\n",
            "[CV] n_estimators=1000, max_depth=7 ..................................\n",
            "[CV] ...... n_estimators=1000, max_depth=7, score=0.826, total=   7.9s\n",
            "[CV] n_estimators=1000, max_depth=7 ..................................\n",
            "[CV] ...... n_estimators=1000, max_depth=7, score=0.813, total=   8.0s\n",
            "[CV] n_estimators=1000, max_depth=7 ..................................\n",
            "[CV] ...... n_estimators=1000, max_depth=7, score=0.816, total=   7.7s\n",
            "[CV] n_estimators=600, max_depth=6 ...................................\n",
            "[CV] ....... n_estimators=600, max_depth=6, score=0.828, total=   4.0s\n",
            "[CV] n_estimators=600, max_depth=6 ...................................\n",
            "[CV] ....... n_estimators=600, max_depth=6, score=0.823, total=   3.9s\n",
            "[CV] n_estimators=600, max_depth=6 ...................................\n",
            "[CV] ....... n_estimators=600, max_depth=6, score=0.832, total=   4.0s\n",
            "[CV] n_estimators=600, max_depth=6 ...................................\n",
            "[CV] ....... n_estimators=600, max_depth=6, score=0.827, total=   4.0s\n",
            "[CV] n_estimators=600, max_depth=6 ...................................\n",
            "[CV] ....... n_estimators=600, max_depth=6, score=0.824, total=   3.9s\n",
            "[CV] n_estimators=300, max_depth=2 ...................................\n",
            "[CV] ....... n_estimators=300, max_depth=2, score=0.835, total=   0.8s\n",
            "[CV] n_estimators=300, max_depth=2 ...................................\n",
            "[CV] ....... n_estimators=300, max_depth=2, score=0.835, total=   0.8s\n",
            "[CV] n_estimators=300, max_depth=2 ...................................\n",
            "[CV] ....... n_estimators=300, max_depth=2, score=0.840, total=   0.7s\n",
            "[CV] n_estimators=300, max_depth=2 ...................................\n",
            "[CV] ....... n_estimators=300, max_depth=2, score=0.841, total=   0.8s\n",
            "[CV] n_estimators=300, max_depth=2 ...................................\n",
            "[CV] ....... n_estimators=300, max_depth=2, score=0.841, total=   0.8s\n",
            "[CV] n_estimators=1000, max_depth=2 ..................................\n",
            "[CV] ...... n_estimators=1000, max_depth=2, score=0.834, total=   2.5s\n",
            "[CV] n_estimators=1000, max_depth=2 ..................................\n",
            "[CV] ...... n_estimators=1000, max_depth=2, score=0.833, total=   2.5s\n",
            "[CV] n_estimators=1000, max_depth=2 ..................................\n",
            "[CV] ...... n_estimators=1000, max_depth=2, score=0.838, total=   2.4s\n",
            "[CV] n_estimators=1000, max_depth=2 ..................................\n",
            "[CV] ...... n_estimators=1000, max_depth=2, score=0.840, total=   2.5s\n",
            "[CV] n_estimators=1000, max_depth=2 ..................................\n",
            "[CV] ...... n_estimators=1000, max_depth=2, score=0.837, total=   2.5s\n"
          ],
          "name": "stdout"
        },
        {
          "output_type": "stream",
          "text": [
            "[Parallel(n_jobs=1)]: Done  50 out of  50 | elapsed:  2.8min finished\n"
          ],
          "name": "stderr"
        }
      ]
    },
    {
      "cell_type": "code",
      "metadata": {
        "id": "dFmfPI8rbJT1",
        "colab_type": "code",
        "colab": {
          "base_uri": "https://localhost:8080/",
          "height": 121
        },
        "outputId": "d64d227a-7790-4789-f000-1a7c3fca2021"
      },
      "source": [
        "def get_with_na(m1):\n",
        "    submit = pd.read_csv(\"/content/test.csv\")\n",
        "    submit = submit.loc[ submit['Number_Weeks_Used'].isnull().values ]\n",
        "    print(submit.shape)\n",
        "\n",
        "    arr = ['Estimated_Insects_Count' , 'Number_Doses_Week']\n",
        "    XX = submit.loc[:, arr]\n",
        "    print(XX.shape)\n",
        "\n",
        "    newdf = pd.get_dummies(submit[\"Crop_Type\"])\n",
        "    XX[\"Crop_Type1\"] = newdf[0]\n",
        "    XX[\"Crop_Type2\"] = newdf[1]\n",
        "    print(XX.shape)\n",
        "\n",
        "    newdf = pd.get_dummies(submit[\"Soil_Type\"])\n",
        "    XX[\"Soil_Type1\"] = newdf[0]\n",
        "    XX[\"Soil_Type2\"] = newdf[1]\n",
        "    print(XX.shape)\n",
        "\n",
        "    newdf = pd.get_dummies(submit[\"Pesticide_Use_Category\"])\n",
        "    XX[\"Pesticide_Use_Category1\"] = newdf[1]\n",
        "    XX[\"Pesticide_Use_Category2\"] = newdf[2]\n",
        "    XX[\"Pesticide_Use_Category3\"] = newdf[3]\n",
        "    print(XX.shape)\n",
        "\n",
        "    col3 = submit.loc[: , \"ID\"].values\n",
        "    col4 = m1.predict(XX)\n",
        "    print(col3.shape , col4.shape)\n",
        "    return col3 , col4\n",
        "\n",
        "\n",
        "col3 , col4 = get_with_na(m1)"
      ],
      "execution_count": 55,
      "outputs": [
        {
          "output_type": "stream",
          "text": [
            "(5893, 9)\n",
            "(5893, 2)\n",
            "(5893, 4)\n",
            "(5893, 6)\n",
            "(5893, 9)\n",
            "(5893,) (5893,)\n"
          ],
          "name": "stdout"
        }
      ]
    },
    {
      "cell_type": "code",
      "metadata": {
        "id": "EeesmEBWmKip",
        "colab_type": "code",
        "colab": {
          "base_uri": "https://localhost:8080/",
          "height": 104
        },
        "outputId": "7729eba6-d9b3-4c74-aaab-1eeaac5946ed"
      },
      "source": [
        "print(col1.shape)\n",
        "print(col2.shape)\n",
        "print(col3.shape)\n",
        "print(col4.shape)\n",
        "\n",
        "id = np.append(col1 , col3)\n",
        "damage = np.append(col2 , col4)\n",
        "\n",
        "print(id.shape , damage.shape)\n",
        "\n",
        "dict = {'ID': id, 'Crop_Damage': damage} \n",
        "df_fin = pd.DataFrame(dict) \n",
        "df_fin.to_csv('222222.csv', index=False) "
      ],
      "execution_count": 56,
      "outputs": [
        {
          "output_type": "stream",
          "text": [
            "(53417,)\n",
            "(53417,)\n",
            "(5893,)\n",
            "(5893,)\n",
            "(59310,) (59310,)\n"
          ],
          "name": "stdout"
        }
      ]
    },
    {
      "cell_type": "code",
      "metadata": {
        "id": "J6HnXzghbJWt",
        "colab_type": "code",
        "colab": {}
      },
      "source": [
        ""
      ],
      "execution_count": null,
      "outputs": []
    },
    {
      "cell_type": "code",
      "metadata": {
        "id": "QJiQld9WbJem",
        "colab_type": "code",
        "colab": {}
      },
      "source": [
        ""
      ],
      "execution_count": null,
      "outputs": []
    },
    {
      "cell_type": "code",
      "metadata": {
        "id": "1mfzSVLIbJbh",
        "colab_type": "code",
        "colab": {}
      },
      "source": [
        ""
      ],
      "execution_count": null,
      "outputs": []
    },
    {
      "cell_type": "code",
      "metadata": {
        "id": "uoKUZ8XsbJaP",
        "colab_type": "code",
        "colab": {}
      },
      "source": [
        ""
      ],
      "execution_count": null,
      "outputs": []
    },
    {
      "cell_type": "code",
      "metadata": {
        "id": "31tEzS-aRsBN",
        "colab_type": "code",
        "colab": {}
      },
      "source": [
        ""
      ],
      "execution_count": null,
      "outputs": []
    },
    {
      "cell_type": "code",
      "metadata": {
        "id": "bHmqUP3mz0Rw",
        "colab_type": "code",
        "colab": {}
      },
      "source": [
        ""
      ],
      "execution_count": null,
      "outputs": []
    },
    {
      "cell_type": "code",
      "metadata": {
        "id": "ebizue1dz0Y1",
        "colab_type": "code",
        "colab": {}
      },
      "source": [
        ""
      ],
      "execution_count": null,
      "outputs": []
    },
    {
      "cell_type": "code",
      "metadata": {
        "id": "gYlUJHGRz0Wi",
        "colab_type": "code",
        "colab": {}
      },
      "source": [
        ""
      ],
      "execution_count": null,
      "outputs": []
    },
    {
      "cell_type": "code",
      "metadata": {
        "id": "6kDpGyRPCXuf",
        "colab_type": "code",
        "colab": {}
      },
      "source": [
        ""
      ],
      "execution_count": null,
      "outputs": []
    },
    {
      "cell_type": "code",
      "metadata": {
        "id": "CnzzWUmXCXrk",
        "colab_type": "code",
        "colab": {}
      },
      "source": [
        "# season removed random forest(iter=10)\n",
        "0.8445490537624989\n",
        "{'bootstrap': True, 'ccp_alpha': 0.0, 'class_weight': None, 'criterion': 'entropy', 'max_depth': 11, 'max_features': 'auto', 'max_leaf_nodes': None, 'max_samples': None, 'min_impurity_decrease': 0.0, 'min_impurity_split': None, 'min_samples_leaf': 1, 'min_samples_split': 2, 'min_weight_fraction_leaf': 0.0, 'n_estimators': 300, 'n_jobs': -1, 'oob_score': False, 'random_state': None, 'verbose': 0, 'warm_start': False}\n",
        "0.849457787572942\n",
        "\n",
        "\n",
        "# one hot vector random forest, season removed(iter=10)\n",
        "0.8448746211574344\n",
        "{'bootstrap': True, 'ccp_alpha': 0.0, 'class_weight': None, 'criterion': 'gini', 'max_depth': 12, 'max_features': 'auto', 'max_leaf_nodes': None, 'max_samples': None, 'min_impurity_decrease': 0.0, 'min_impurity_split': None, 'min_samples_leaf': 1, 'min_samples_split': 2, 'min_weight_fraction_leaf': 0.0, 'n_estimators': 1200, 'n_jobs': -1, 'oob_score': False, 'random_state': None, 'verbose': 0, 'warm_start': False}\n",
        "0.8545919006236069\n",
        "\n",
        "# one hot vector random forest, season removed(iter=20)\n",
        "0.8443612219261108\n",
        "{'bootstrap': True, 'ccp_alpha': 0.0, 'class_weight': None, 'criterion': 'gini', 'max_depth': 11, 'max_features': 'auto', 'max_leaf_nodes': None, 'max_samples': None, 'min_impurity_decrease': 0.0, 'min_impurity_split': None, 'min_samples_leaf': 1, 'min_samples_split': 2, 'min_weight_fraction_leaf': 0.0, 'n_estimators': 800, 'n_jobs': -1, 'oob_score': False, 'random_state': None, 'verbose': 0, 'warm_start': False}\n",
        "0.8510856770768114\n",
        "\n",
        "\n",
        "\n",
        "train == without na train     11 features  xgboost              (79858, 11) (79858,)\n",
        "train == with na train(all)   9 features  naive bayes           (88858, 9) (88858,)\n",
        "82%\n",
        "\n",
        "\n",
        "train == without na train     11 features  xgboost              (79858, 11) (79858,)\n",
        "train == with na train(all)    9 features  xgboost              (88858, 9) (88858,)\n",
        ".84856\n",
        "\n",
        "train == without na train     11 features  xgboost              (79858, 11) (79858,)\n",
        "train == only na train(all)    9 features  xgboost              (9000, 9) (9000,)\n",
        ".84822\n",
        "\n",
        "\n",
        "\n",
        "\n",
        "\n",
        "train == all na to median    11 features   xgboost               (88858, 11) (88858,)\n",
        "test  also,  convert to median\n",
        ".8477\n",
        "\n",
        "train == all na to median    11 features   xgboost               (88858, 11) (88858,)\n",
        "train == with na                 9 features  naive               (88858, 9) (88858,)\n",
        ".8279\n",
        "\n",
        "train == all na to median    11 features   xgboost               (88858, 11) (88858,)\n",
        "train == with na              9 features   xgboost               (88858, 9) (88858,)\n",
        ".8477\n",
        "\n",
        "train == all na to median    11 features   xgboost               (88858, 11) (88858,)\n",
        "train == only with na         9 features    naive                (9000, 9) (9000,)\n",
        ".8275\n",
        "\n",
        "train == all na to median    11 features   xgboost               (88858, 11) (88858,)\n",
        "train == onlt with na         9 features   xgboost               (9000, 9) (9000,)\n",
        ".8476\n",
        "\n",
        "\n",
        "train == all na to median    11 features   random forest               (88858, 11) (88858,)\n",
        "test  also,  convert to median\n",
        ".8429\n",
        "\n",
        "\n",
        "\n",
        "train == all na to median    9(2nom, 1 ord) features   xgboost      88858 rows × 9 columns\n",
        "test  also,  convert to median\n",
        ".8481"
      ],
      "execution_count": null,
      "outputs": []
    },
    {
      "cell_type": "code",
      "metadata": {
        "id": "kXw_W0oXCXpB",
        "colab_type": "code",
        "colab": {}
      },
      "source": [
        "arr = [\"Estimated_Insects_Count\" , \"Pesticide_Use_Category\" , \"Number_Weeks_Used\" , \"Number_Weeks_Quit\"]\n",
        "train 4 features with median\n",
        ".8397\n",
        "\n",
        "arr = [\"Estimated_Insects_Count\" , \"Pesticide_Use_Category\" , \"Number_Weeks_Used\"]\n",
        "train 3 features with median\n",
        ".8387\n",
        "\n",
        "arr = [\"Estimated_Insects_Count\" , \"Pesticide_Use_Category\"]\n",
        "2 feature median, \n",
        ".8398\n",
        "\n",
        "arr = [\"Estimated_Insects_Count\" , \"Pesticide_Use_Category\"]\n",
        "4 feature median, 1ohe(3), 1 complete\n",
        ".8393\n",
        "\n",
        "arr = [\"Estimated_Insects_Count\"]\n",
        "1 feature\n",
        ".8344"
      ],
      "execution_count": null,
      "outputs": []
    },
    {
      "cell_type": "code",
      "metadata": {
        "id": "sR6TBAHOCXmA",
        "colab_type": "code",
        "colab": {}
      },
      "source": [
        ""
      ],
      "execution_count": null,
      "outputs": []
    },
    {
      "cell_type": "code",
      "metadata": {
        "id": "JoSTdp-Fz0O2",
        "colab_type": "code",
        "colab": {}
      },
      "source": [
        ""
      ],
      "execution_count": null,
      "outputs": []
    },
    {
      "cell_type": "code",
      "metadata": {
        "id": "j-3ZokXRz0Lc",
        "colab_type": "code",
        "colab": {}
      },
      "source": [
        ""
      ],
      "execution_count": null,
      "outputs": []
    },
    {
      "cell_type": "code",
      "metadata": {
        "id": "zXKxRsU2RwPO",
        "colab_type": "code",
        "colab": {}
      },
      "source": [
        "Estimated_Insects_Count 0.20379572434428975 0.0\n",
        "Crop_Type              -0.01709710916643973 1.353200772452846e-06\n",
        "Soil_Type               -0.024569104068500176 3.812549517857125e-12\n",
        "Pesticide_Use_Category  0.1765520668378686 0.0\n",
        "Number_Doses_Week      -0.03096670779075563 2.0795220014947948e-18\n",
        "Number_Weeks_Used       0.2321920383032649 0.0\n",
        "Number_Weeks_Quit      -0.13311604791752846 1.99275288465e-312\n",
        "Season                  0.0006338132894572154 0.8578532835741154\n",
        "Crop_Damage           1.0 0.0"
      ],
      "execution_count": null,
      "outputs": []
    },
    {
      "cell_type": "code",
      "metadata": {
        "id": "FeAm6iL0RwJN",
        "colab_type": "code",
        "colab": {}
      },
      "source": [
        ""
      ],
      "execution_count": null,
      "outputs": []
    },
    {
      "cell_type": "code",
      "metadata": {
        "id": "gwW1kbuERr7g",
        "colab_type": "code",
        "colab": {}
      },
      "source": [
        ""
      ],
      "execution_count": null,
      "outputs": []
    }
  ]
}