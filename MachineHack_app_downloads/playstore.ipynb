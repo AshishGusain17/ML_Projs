{
  "nbformat": 4,
  "nbformat_minor": 0,
  "metadata": {
    "kernelspec": {
      "name": "python3",
      "display_name": "Python 3"
    },
    "language_info": {
      "codemirror_mode": {
        "name": "ipython",
        "version": 3
      },
      "file_extension": ".py",
      "mimetype": "text/x-python",
      "name": "python",
      "nbconvert_exporter": "python",
      "pygments_lexer": "ipython3",
      "version": "3.7.3"
    },
    "colab": {
      "name": "playstore.ipynb",
      "provenance": [],
      "collapsed_sections": [],
      "machine_shape": "hm"
    }
  },
  "cells": [
    {
      "cell_type": "code",
      "metadata": {
        "id": "T_zx4hOGaqBE",
        "colab_type": "code",
        "colab": {
          "base_uri": "https://localhost:8080/",
          "height": 453
        },
        "outputId": "f7ed4772-2dc4-488e-906d-a0f28f38a1cf"
      },
      "source": [
        "import pandas as pd\n",
        "import numpy as np\n",
        "from sklearn import ensemble\n",
        "from sklearn import metrics\n",
        "from sklearn.model_selection import KFold\n",
        "from sklearn.model_selection import GridSearchCV,RandomizedSearchCV\n",
        "from xgboost import XGBClassifier\n",
        "!pip install catboost\n",
        "from catboost import CatBoostClassifier\n",
        "from sklearn.ensemble import RandomForestClassifier\n",
        "from scipy.sparse import lil_matrix\n",
        "from sklearn.feature_extraction.text import TfidfTransformer\n",
        "from sklearn.preprocessing import MinMaxScaler, StandardScaler\n",
        "import copy\n",
        "from sklearn.naive_bayes import MultinomialNB\n",
        "from sklearn import svm\n",
        "import matplotlib.pyplot as plt\n",
        "from lightgbm import LGBMClassifier\n",
        "from imblearn.over_sampling import SMOTE \n",
        "from sklearn.preprocessing import LabelEncoder\n",
        "from sklearn.preprocessing import LabelBinarizer\n",
        "from sklearn.neighbors import KNeighborsClassifier\n",
        "import seaborn as sns\n"
      ],
      "execution_count": 1,
      "outputs": [
        {
          "output_type": "stream",
          "text": [
            "Collecting catboost\n",
            "\u001b[?25l  Downloading https://files.pythonhosted.org/packages/96/6c/6608210b29649267de52001b09e369777ee2a5cfe1c71fa75eba82a4f2dc/catboost-0.24-cp36-none-manylinux1_x86_64.whl (65.9MB)\n",
            "\u001b[K     |████████████████████████████████| 65.9MB 59kB/s \n",
            "\u001b[?25hRequirement already satisfied: pandas>=0.24.0 in /usr/local/lib/python3.6/dist-packages (from catboost) (1.0.5)\n",
            "Requirement already satisfied: six in /usr/local/lib/python3.6/dist-packages (from catboost) (1.15.0)\n",
            "Requirement already satisfied: graphviz in /usr/local/lib/python3.6/dist-packages (from catboost) (0.10.1)\n",
            "Requirement already satisfied: matplotlib in /usr/local/lib/python3.6/dist-packages (from catboost) (3.2.2)\n",
            "Requirement already satisfied: plotly in /usr/local/lib/python3.6/dist-packages (from catboost) (4.4.1)\n",
            "Requirement already satisfied: scipy in /usr/local/lib/python3.6/dist-packages (from catboost) (1.4.1)\n",
            "Requirement already satisfied: numpy>=1.16.0 in /usr/local/lib/python3.6/dist-packages (from catboost) (1.18.5)\n",
            "Requirement already satisfied: python-dateutil>=2.6.1 in /usr/local/lib/python3.6/dist-packages (from pandas>=0.24.0->catboost) (2.8.1)\n",
            "Requirement already satisfied: pytz>=2017.2 in /usr/local/lib/python3.6/dist-packages (from pandas>=0.24.0->catboost) (2018.9)\n",
            "Requirement already satisfied: pyparsing!=2.0.4,!=2.1.2,!=2.1.6,>=2.0.1 in /usr/local/lib/python3.6/dist-packages (from matplotlib->catboost) (2.4.7)\n",
            "Requirement already satisfied: kiwisolver>=1.0.1 in /usr/local/lib/python3.6/dist-packages (from matplotlib->catboost) (1.2.0)\n",
            "Requirement already satisfied: cycler>=0.10 in /usr/local/lib/python3.6/dist-packages (from matplotlib->catboost) (0.10.0)\n",
            "Requirement already satisfied: retrying>=1.3.3 in /usr/local/lib/python3.6/dist-packages (from plotly->catboost) (1.3.3)\n",
            "Installing collected packages: catboost\n",
            "Successfully installed catboost-0.24\n"
          ],
          "name": "stdout"
        },
        {
          "output_type": "stream",
          "text": [
            "/usr/local/lib/python3.6/dist-packages/sklearn/externals/six.py:31: FutureWarning: The module is deprecated in version 0.21 and will be removed in version 0.23 since we've dropped support for Python 2.7. Please rely on the official version of six (https://pypi.org/project/six/).\n",
            "  \"(https://pypi.org/project/six/).\", FutureWarning)\n",
            "/usr/local/lib/python3.6/dist-packages/sklearn/utils/deprecation.py:144: FutureWarning: The sklearn.neighbors.base module is  deprecated in version 0.22 and will be removed in version 0.24. The corresponding classes / functions should instead be imported from sklearn.neighbors. Anything that cannot be imported from sklearn.neighbors is now part of the private API.\n",
            "  warnings.warn(message, FutureWarning)\n",
            "/usr/local/lib/python3.6/dist-packages/statsmodels/tools/_testing.py:19: FutureWarning: pandas.util.testing is deprecated. Use the functions in the public API at pandas.testing instead.\n",
            "  import pandas.util.testing as tm\n"
          ],
          "name": "stderr"
        }
      ]
    },
    {
      "cell_type": "code",
      "metadata": {
        "id": "FTkjSFFsNVa2",
        "colab_type": "code",
        "colab": {}
      },
      "source": [
        "train = pd.read_csv('/content/train.csv')\n",
        "test  = pd.read_csv(\"/content/test.csv\")\n"
      ],
      "execution_count": 2,
      "outputs": []
    },
    {
      "cell_type": "code",
      "metadata": {
        "id": "RHye7JCGNf-Z",
        "colab_type": "code",
        "colab": {
          "base_uri": "https://localhost:8080/",
          "height": 202
        },
        "outputId": "ae880f7c-ed9c-4fb8-b161-08f9ee07071f"
      },
      "source": [
        "train.head()"
      ],
      "execution_count": 3,
      "outputs": [
        {
          "output_type": "execute_result",
          "data": {
            "text/html": [
              "<div>\n",
              "<style scoped>\n",
              "    .dataframe tbody tr th:only-of-type {\n",
              "        vertical-align: middle;\n",
              "    }\n",
              "\n",
              "    .dataframe tbody tr th {\n",
              "        vertical-align: top;\n",
              "    }\n",
              "\n",
              "    .dataframe thead th {\n",
              "        text-align: right;\n",
              "    }\n",
              "</style>\n",
              "<table border=\"1\" class=\"dataframe\">\n",
              "  <thead>\n",
              "    <tr style=\"text-align: right;\">\n",
              "      <th></th>\n",
              "      <th>Offered_By</th>\n",
              "      <th>Category</th>\n",
              "      <th>Rating</th>\n",
              "      <th>Reviews</th>\n",
              "      <th>Size</th>\n",
              "      <th>Price</th>\n",
              "      <th>Content_Rating</th>\n",
              "      <th>Last_Updated_On</th>\n",
              "      <th>Release_Version</th>\n",
              "      <th>OS_Version_Required</th>\n",
              "      <th>Downloads</th>\n",
              "    </tr>\n",
              "  </thead>\n",
              "  <tbody>\n",
              "    <tr>\n",
              "      <th>0</th>\n",
              "      <td>ps_id-24654</td>\n",
              "      <td>Finance</td>\n",
              "      <td>4.18</td>\n",
              "      <td>1481</td>\n",
              "      <td>Varies with device</td>\n",
              "      <td>Free</td>\n",
              "      <td>Everyone</td>\n",
              "      <td>May 05 2020</td>\n",
              "      <td>Varies with device</td>\n",
              "      <td>Varies with device</td>\n",
              "      <td>100,000+</td>\n",
              "    </tr>\n",
              "    <tr>\n",
              "      <th>1</th>\n",
              "      <td>ps_id-35329</td>\n",
              "      <td>Music And Audio</td>\n",
              "      <td>4.81</td>\n",
              "      <td>302</td>\n",
              "      <td>10M</td>\n",
              "      <td>Free</td>\n",
              "      <td>Everyone</td>\n",
              "      <td>Mar 26 2020</td>\n",
              "      <td>3.9.18</td>\n",
              "      <td>4.1 and up</td>\n",
              "      <td>5,000+</td>\n",
              "    </tr>\n",
              "    <tr>\n",
              "      <th>2</th>\n",
              "      <td>ps_id-11044</td>\n",
              "      <td>Game Casual</td>\n",
              "      <td>4.27</td>\n",
              "      <td>374</td>\n",
              "      <td>27M</td>\n",
              "      <td>Free</td>\n",
              "      <td>Everyone</td>\n",
              "      <td>May 01 2020</td>\n",
              "      <td>1.10.1</td>\n",
              "      <td>4.1 and up</td>\n",
              "      <td>10,000+</td>\n",
              "    </tr>\n",
              "    <tr>\n",
              "      <th>3</th>\n",
              "      <td>ps_id-36068</td>\n",
              "      <td>Business</td>\n",
              "      <td>4.03</td>\n",
              "      <td>122058</td>\n",
              "      <td>Varies with device</td>\n",
              "      <td>Free</td>\n",
              "      <td>Teen</td>\n",
              "      <td>May 02 2020</td>\n",
              "      <td>Varies with device</td>\n",
              "      <td>Varies with device</td>\n",
              "      <td>10,000,000+</td>\n",
              "    </tr>\n",
              "    <tr>\n",
              "      <th>4</th>\n",
              "      <td>ps_id-35831</td>\n",
              "      <td>Medical</td>\n",
              "      <td>4.60</td>\n",
              "      <td>358</td>\n",
              "      <td>Varies with device</td>\n",
              "      <td>297.5742</td>\n",
              "      <td>Everyone</td>\n",
              "      <td>Nov 29 2018</td>\n",
              "      <td>Varies with device</td>\n",
              "      <td>Varies with device</td>\n",
              "      <td>5,000+</td>\n",
              "    </tr>\n",
              "  </tbody>\n",
              "</table>\n",
              "</div>"
            ],
            "text/plain": [
              "    Offered_By         Category  ...  OS_Version_Required    Downloads\n",
              "0  ps_id-24654          Finance  ...   Varies with device     100,000+\n",
              "1  ps_id-35329  Music And Audio  ...           4.1 and up       5,000+\n",
              "2  ps_id-11044      Game Casual  ...           4.1 and up      10,000+\n",
              "3  ps_id-36068         Business  ...   Varies with device  10,000,000+\n",
              "4  ps_id-35831          Medical  ...   Varies with device       5,000+\n",
              "\n",
              "[5 rows x 11 columns]"
            ]
          },
          "metadata": {
            "tags": []
          },
          "execution_count": 3
        }
      ]
    },
    {
      "cell_type": "code",
      "metadata": {
        "id": "rmsFqjqFNoEX",
        "colab_type": "code",
        "colab": {
          "base_uri": "https://localhost:8080/",
          "height": 329
        },
        "outputId": "2f6703f5-2be2-4a90-e46c-30bc73b56e67"
      },
      "source": [
        "train.info()"
      ],
      "execution_count": 4,
      "outputs": [
        {
          "output_type": "stream",
          "text": [
            "<class 'pandas.core.frame.DataFrame'>\n",
            "RangeIndex: 16516 entries, 0 to 16515\n",
            "Data columns (total 11 columns):\n",
            " #   Column               Non-Null Count  Dtype  \n",
            "---  ------               --------------  -----  \n",
            " 0   Offered_By           16516 non-null  object \n",
            " 1   Category             16516 non-null  object \n",
            " 2   Rating               16516 non-null  float64\n",
            " 3   Reviews              16516 non-null  int64  \n",
            " 4   Size                 16516 non-null  object \n",
            " 5   Price                16516 non-null  object \n",
            " 6   Content_Rating       16516 non-null  object \n",
            " 7   Last_Updated_On      16516 non-null  object \n",
            " 8   Release_Version      16516 non-null  object \n",
            " 9   OS_Version_Required  16516 non-null  object \n",
            " 10  Downloads            16516 non-null  object \n",
            "dtypes: float64(1), int64(1), object(9)\n",
            "memory usage: 1.4+ MB\n"
          ],
          "name": "stdout"
        }
      ]
    },
    {
      "cell_type": "code",
      "metadata": {
        "id": "vWbZAr8UYXLg",
        "colab_type": "code",
        "colab": {
          "base_uri": "https://localhost:8080/",
          "height": 225
        },
        "outputId": "ba14ab1e-38ee-487c-917d-60d750853d37"
      },
      "source": [
        "train.Offered_By.value_counts()"
      ],
      "execution_count": 5,
      "outputs": [
        {
          "output_type": "execute_result",
          "data": {
            "text/plain": [
              "ps_id-863      20\n",
              "ps_id-1157     14\n",
              "ps_id-30634     9\n",
              "ps_id-35979     8\n",
              "ps_id-216       7\n",
              "               ..\n",
              "ps_id-36120     1\n",
              "ps_id-28026     1\n",
              "ps_id-1027      1\n",
              "ps_id-24373     1\n",
              "ps_id-25160     1\n",
              "Name: Offered_By, Length: 15520, dtype: int64"
            ]
          },
          "metadata": {
            "tags": []
          },
          "execution_count": 5
        }
      ]
    },
    {
      "cell_type": "code",
      "metadata": {
        "id": "4xQTOELaPbtt",
        "colab_type": "code",
        "colab": {
          "base_uri": "https://localhost:8080/",
          "height": 918
        },
        "outputId": "b5149f2c-8779-464d-e315-1db06d37bf51"
      },
      "source": [
        "# train.Category.value_counts().plot.bar()\n",
        "train.Category.value_counts()"
      ],
      "execution_count": 6,
      "outputs": [
        {
          "output_type": "execute_result",
          "data": {
            "text/plain": [
              "Education              1440\n",
              "Tools                  1231\n",
              "Entertainment           927\n",
              "Books And Reference     741\n",
              "Family                  686\n",
              "Finance                 667\n",
              "Lifestyle               659\n",
              "Productivity            570\n",
              "Music And Audio         526\n",
              "Business                521\n",
              "Health And Fitness      441\n",
              "Personalization         440\n",
              "Game                    426\n",
              "News And Magazines      413\n",
              "Photography             408\n",
              "Game Puzzle             398\n",
              "Sports                  397\n",
              "Shopping                378\n",
              "Travel And Local        369\n",
              "Communication           365\n",
              "Medical                 326\n",
              "Game Casual             287\n",
              "Game Arcade             280\n",
              "Social                  271\n",
              "Game Action             235\n",
              "Video Players           222\n",
              "Food And Drink          222\n",
              "Game Card               192\n",
              "Game Simulation         192\n",
              "Maps And Navigation     179\n",
              "Game Educational        179\n",
              "Game Role Playing       169\n",
              "Game Strategy           166\n",
              "Game Adventure          130\n",
              "Auto And Vehicles       126\n",
              "Game Sports             121\n",
              "Game Word               121\n",
              "Game Racing             120\n",
              "Dating                  119\n",
              "Weather                 111\n",
              "Game Board              109\n",
              "Art And Design           89\n",
              "House And Home           84\n",
              "Game Casino              71\n",
              "Game Trivia              71\n",
              "Parenting                64\n",
              "Events                   57\n",
              "Beauty                   55\n",
              "Libraries And Demo       53\n",
              "Comics                   48\n",
              "Game Music               44\n",
              "Name: Category, dtype: int64"
            ]
          },
          "metadata": {
            "tags": []
          },
          "execution_count": 6
        }
      ]
    },
    {
      "cell_type": "code",
      "metadata": {
        "id": "YTVU_N4iQClV",
        "colab_type": "code",
        "colab": {
          "base_uri": "https://localhost:8080/",
          "height": 296
        },
        "outputId": "49bd45bf-f1e0-48d8-cfff-4814743ea4af"
      },
      "source": [
        "sns.distplot(train.Rating)\n",
        "train['Rating'].plot"
      ],
      "execution_count": 7,
      "outputs": [
        {
          "output_type": "execute_result",
          "data": {
            "text/plain": [
              "<pandas.plotting._core.PlotAccessor object at 0x7f1647dbceb8>"
            ]
          },
          "metadata": {
            "tags": []
          },
          "execution_count": 7
        },
        {
          "output_type": "display_data",
          "data": {
            "image/png": "[encoded data removed]",
            "text/plain": [
              "<Figure size 432x288 with 1 Axes>"
            ]
          },
          "metadata": {
            "tags": [],
            "needs_background": "light"
          }
        }
      ]
    },
    {
      "cell_type": "code",
      "metadata": {
        "id": "Hyaa9NyJbMGu",
        "colab_type": "code",
        "colab": {
          "base_uri": "https://localhost:8080/",
          "height": 225
        },
        "outputId": "90243b25-1b2a-4b83-b5e6-2a0b59b45b04"
      },
      "source": [
        "train.Reviews.value_counts()"
      ],
      "execution_count": 8,
      "outputs": [
        {
          "output_type": "execute_result",
          "data": {
            "text/plain": [
              "1         175\n",
              "2         163\n",
              "3         158\n",
              "6         128\n",
              "4         127\n",
              "         ... \n",
              "540930      1\n",
              "4360        1\n",
              "2315        1\n",
              "28948       1\n",
              "633665      1\n",
              "Name: Reviews, Length: 9124, dtype: int64"
            ]
          },
          "metadata": {
            "tags": []
          },
          "execution_count": 8
        }
      ]
    },
    {
      "cell_type": "code",
      "metadata": {
        "id": "IQ-yxhRUQcwF",
        "colab_type": "code",
        "colab": {
          "base_uri": "https://localhost:8080/",
          "height": 225
        },
        "outputId": "87f8abec-5311-470c-a3ff-c1402072a7e7"
      },
      "source": [
        "train.Size.value_counts()"
      ],
      "execution_count": 9,
      "outputs": [
        {
          "output_type": "execute_result",
          "data": {
            "text/plain": [
              "Varies with device    1918\n",
              "11M                    397\n",
              "12M                    344\n",
              "15M                    325\n",
              "14M                    325\n",
              "                      ... \n",
              "246k                     1\n",
              "92k                      1\n",
              "140k                     1\n",
              "42k                      1\n",
              "81k                      1\n",
              "Name: Size, Length: 439, dtype: int64"
            ]
          },
          "metadata": {
            "tags": []
          },
          "execution_count": 9
        }
      ]
    },
    {
      "cell_type": "code",
      "metadata": {
        "id": "BYM2O_-YSpeT",
        "colab_type": "code",
        "colab": {
          "base_uri": "https://localhost:8080/",
          "height": 225
        },
        "outputId": "46cfbf7e-981a-44a1-c487-25bdc34a71ba"
      },
      "source": [
        "train.Price.value_counts()"
      ],
      "execution_count": 10,
      "outputs": [
        {
          "output_type": "execute_result",
          "data": {
            "text/plain": [
              "Free                  15450\n",
              "222.9942                184\n",
              "73.8342                 163\n",
              "148.4142                153\n",
              "372.1542                120\n",
              "                      ...  \n",
              "78.309                    1\n",
              "469.1082                  1\n",
              "730.1381999999999         1\n",
              "186.45                    1\n",
              "164.07600000000002        1\n",
              "Name: Price, Length: 83, dtype: int64"
            ]
          },
          "metadata": {
            "tags": []
          },
          "execution_count": 10
        }
      ]
    },
    {
      "cell_type": "code",
      "metadata": {
        "id": "VFFKc23JSwTN",
        "colab_type": "code",
        "colab": {
          "base_uri": "https://localhost:8080/",
          "height": 138
        },
        "outputId": "a96b71b1-b773-4b24-8f08-13c302ec2c10"
      },
      "source": [
        "train.Content_Rating.value_counts()"
      ],
      "execution_count": 11,
      "outputs": [
        {
          "output_type": "execute_result",
          "data": {
            "text/plain": [
              "Everyone           13895\n",
              "Teen                1590\n",
              "Everyone 10+         596\n",
              "Mature 17+           429\n",
              "Adults only 18+        4\n",
              "Unrated                2\n",
              "Name: Content_Rating, dtype: int64"
            ]
          },
          "metadata": {
            "tags": []
          },
          "execution_count": 11
        }
      ]
    },
    {
      "cell_type": "code",
      "metadata": {
        "id": "lu4lbUk8S-gZ",
        "colab_type": "code",
        "colab": {
          "base_uri": "https://localhost:8080/",
          "height": 225
        },
        "outputId": "e83b8087-01b7-47f9-c397-0b832dae38f6"
      },
      "source": [
        "train.Last_Updated_On.value_counts()"
      ],
      "execution_count": 12,
      "outputs": [
        {
          "output_type": "execute_result",
          "data": {
            "text/plain": [
              "May 06 2020    454\n",
              "May 05 2020    353\n",
              "May 01 2020    264\n",
              "May 02 2020    251\n",
              "Apr 30 2020    227\n",
              "              ... \n",
              "Apr 13 2015      1\n",
              "May 03 2016      1\n",
              "Feb 21 2017      1\n",
              "Oct 30 2016      1\n",
              "Jun 06 2016      1\n",
              "Name: Last_Updated_On, Length: 1583, dtype: int64"
            ]
          },
          "metadata": {
            "tags": []
          },
          "execution_count": 12
        }
      ]
    },
    {
      "cell_type": "code",
      "metadata": {
        "id": "3aSD5aFQTOZl",
        "colab_type": "code",
        "colab": {
          "base_uri": "https://localhost:8080/",
          "height": 225
        },
        "outputId": "8b42a8e4-9bd7-4b4e-d49e-9b617593101e"
      },
      "source": [
        "train.Release_Version.value_counts()"
      ],
      "execution_count": 13,
      "outputs": [
        {
          "output_type": "execute_result",
          "data": {
            "text/plain": [
              "Varies with device    1538\n",
              "1                      769\n",
              "1.1                    347\n",
              "1.2                    276\n",
              "1.3                    229\n",
              "                      ... \n",
              "2.378.290058             1\n",
              "1.25.30                  1\n",
              "1.1.07.6                 1\n",
              "1.0.443                  1\n",
              "4.813                    1\n",
              "Name: Release_Version, Length: 4190, dtype: int64"
            ]
          },
          "metadata": {
            "tags": []
          },
          "execution_count": 13
        }
      ]
    },
    {
      "cell_type": "code",
      "metadata": {
        "id": "zg-n0qmdTbri",
        "colab_type": "code",
        "colab": {
          "base_uri": "https://localhost:8080/",
          "height": 502
        },
        "outputId": "f3360e43-4e73-4ad1-a5ca-8c0e39486526"
      },
      "source": [
        "train.OS_Version_Required.value_counts()"
      ],
      "execution_count": 14,
      "outputs": [
        {
          "output_type": "execute_result",
          "data": {
            "text/plain": [
              "4.1 and up            4363\n",
              "4.0.3 and up          2549\n",
              "4.0 and up            1894\n",
              "4.4 and up            1831\n",
              "Varies with device    1451\n",
              "5.0 and up            1283\n",
              "2.3 and up             753\n",
              "4.2 and up             689\n",
              "4.3 and up             348\n",
              "2.3.3 and up           288\n",
              "2.2 and up             252\n",
              "3.0 and up             235\n",
              "6.0 and up             140\n",
              "2.1 and up             116\n",
              "5.1 and up              65\n",
              "1.6 and up              62\n",
              "7.0 and up              48\n",
              "1.5 and up              36\n",
              "2.0 and up              29\n",
              "3.2 and up              29\n",
              "4.4w and up             15\n",
              "3.1 and up              12\n",
              "8.0 and up              12\n",
              "2.0.1 and up             9\n",
              "7.1 and up               5\n",
              "1.1 and up               1\n",
              "1.0 and up               1\n",
              "Name: OS_Version_Required, dtype: int64"
            ]
          },
          "metadata": {
            "tags": []
          },
          "execution_count": 14
        }
      ]
    },
    {
      "cell_type": "code",
      "metadata": {
        "id": "omlbYU9STfk9",
        "colab_type": "code",
        "colab": {
          "base_uri": "https://localhost:8080/",
          "height": 346
        },
        "outputId": "abc41cb0-4849-4fea-e50f-22a576fe72ec"
      },
      "source": [
        "train.Downloads.value_counts()"
      ],
      "execution_count": 15,
      "outputs": [
        {
          "output_type": "execute_result",
          "data": {
            "text/plain": [
              "100,000+          3158\n",
              "1,000,000+        2707\n",
              "10,000+           2239\n",
              "500,000+          1360\n",
              "10,000,000+       1277\n",
              "50,000+           1243\n",
              "1,000+            1221\n",
              "5,000,000+         912\n",
              "5,000+             763\n",
              "100+               508\n",
              "500+               364\n",
              "100,000,000+       266\n",
              "50,000,000+        247\n",
              "10+                 91\n",
              "50+                 84\n",
              "500,000,000+        42\n",
              "1,000,000,000+      33\n",
              "5,000,000,000+       1\n",
              "Name: Downloads, dtype: int64"
            ]
          },
          "metadata": {
            "tags": []
          },
          "execution_count": 15
        }
      ]
    },
    {
      "cell_type": "code",
      "metadata": {
        "id": "oISzA34WNhyU",
        "colab_type": "code",
        "colab": {
          "base_uri": "https://localhost:8080/",
          "height": 309
        },
        "outputId": "8ba59a41-6dca-41ec-d713-a65da9973254"
      },
      "source": [
        "test.head()"
      ],
      "execution_count": null,
      "outputs": [
        {
          "output_type": "execute_result",
          "data": {
            "text/html": [
              "<div>\n",
              "<style scoped>\n",
              "    .dataframe tbody tr th:only-of-type {\n",
              "        vertical-align: middle;\n",
              "    }\n",
              "\n",
              "    .dataframe tbody tr th {\n",
              "        vertical-align: top;\n",
              "    }\n",
              "\n",
              "    .dataframe thead th {\n",
              "        text-align: right;\n",
              "    }\n",
              "</style>\n",
              "<table border=\"1\" class=\"dataframe\">\n",
              "  <thead>\n",
              "    <tr style=\"text-align: right;\">\n",
              "      <th></th>\n",
              "      <th>Offered_By</th>\n",
              "      <th>Category</th>\n",
              "      <th>Rating</th>\n",
              "      <th>Reviews</th>\n",
              "      <th>Size</th>\n",
              "      <th>Price</th>\n",
              "      <th>Content_Rating</th>\n",
              "      <th>Last_Updated_On</th>\n",
              "      <th>Release_Version</th>\n",
              "      <th>OS_Version_Required</th>\n",
              "    </tr>\n",
              "  </thead>\n",
              "  <tbody>\n",
              "    <tr>\n",
              "      <th>0</th>\n",
              "      <td>ps_id-18231</td>\n",
              "      <td>Game Puzzle</td>\n",
              "      <td>4.52</td>\n",
              "      <td>1362</td>\n",
              "      <td>36M</td>\n",
              "      <td>Free</td>\n",
              "      <td>Everyone</td>\n",
              "      <td>May 05 2020</td>\n",
              "      <td>1.4.1</td>\n",
              "      <td>4.0.3 and up</td>\n",
              "    </tr>\n",
              "    <tr>\n",
              "      <th>1</th>\n",
              "      <td>ps_id-1874</td>\n",
              "      <td>Shopping</td>\n",
              "      <td>4.29</td>\n",
              "      <td>3353</td>\n",
              "      <td>Varies with device</td>\n",
              "      <td>Free</td>\n",
              "      <td>Teen</td>\n",
              "      <td>May 05 2020</td>\n",
              "      <td>Varies with device</td>\n",
              "      <td>Varies with device</td>\n",
              "    </tr>\n",
              "    <tr>\n",
              "      <th>2</th>\n",
              "      <td>ps_id-3182</td>\n",
              "      <td>Photography</td>\n",
              "      <td>4.55</td>\n",
              "      <td>161855</td>\n",
              "      <td>Varies with device</td>\n",
              "      <td>Free</td>\n",
              "      <td>Everyone</td>\n",
              "      <td>May 05 2020</td>\n",
              "      <td>Varies with device</td>\n",
              "      <td>Varies with device</td>\n",
              "    </tr>\n",
              "    <tr>\n",
              "      <th>3</th>\n",
              "      <td>ps_id-31452</td>\n",
              "      <td>Game Action</td>\n",
              "      <td>3.97</td>\n",
              "      <td>545</td>\n",
              "      <td>16M</td>\n",
              "      <td>Free</td>\n",
              "      <td>Everyone</td>\n",
              "      <td>Dec 07 2016</td>\n",
              "      <td>2</td>\n",
              "      <td>4.1 and up</td>\n",
              "    </tr>\n",
              "    <tr>\n",
              "      <th>4</th>\n",
              "      <td>ps_id-25641</td>\n",
              "      <td>Photography</td>\n",
              "      <td>4.65</td>\n",
              "      <td>1672</td>\n",
              "      <td>33M</td>\n",
              "      <td>Free</td>\n",
              "      <td>Everyone</td>\n",
              "      <td>Jan 25 2020</td>\n",
              "      <td>1</td>\n",
              "      <td>4.4 and up</td>\n",
              "    </tr>\n",
              "  </tbody>\n",
              "</table>\n",
              "</div>"
            ],
            "text/plain": [
              "    Offered_By     Category  ...     Release_Version  OS_Version_Required\n",
              "0  ps_id-18231  Game Puzzle  ...               1.4.1         4.0.3 and up\n",
              "1   ps_id-1874     Shopping  ...  Varies with device   Varies with device\n",
              "2   ps_id-3182  Photography  ...  Varies with device   Varies with device\n",
              "3  ps_id-31452  Game Action  ...                   2           4.1 and up\n",
              "4  ps_id-25641  Photography  ...                   1           4.4 and up\n",
              "\n",
              "[5 rows x 10 columns]"
            ]
          },
          "metadata": {
            "tags": []
          },
          "execution_count": 12
        }
      ]
    },
    {
      "cell_type": "code",
      "metadata": {
        "id": "DuWjB7LjTe0Z",
        "colab_type": "code",
        "colab": {}
      },
      "source": [
        ""
      ],
      "execution_count": null,
      "outputs": []
    },
    {
      "cell_type": "code",
      "metadata": {
        "id": "gaqELnONrg-N",
        "colab_type": "code",
        "colab": {
          "base_uri": "https://localhost:8080/",
          "height": 468
        },
        "outputId": "2281ab52-8165-463f-bee4-2eea4211ace1"
      },
      "source": [
        "df_train = pd.read_csv('/content/train.csv')\n",
        "df_train['train_flag'] = 1\n",
        "print(df_train.shape)\n",
        "\n",
        "df_test = pd.read_csv('/content/test.csv')\n",
        "df_test['train_flag'] = 0\n",
        "df_test['Downloads'] = \"100,000+\"\n",
        "print(df_test.shape)\n",
        "\n",
        "df_data = pd.concat([df_train,df_test])\n",
        "print(df_data.shape)\n",
        "df_data = df_data.reset_index(drop=True)\n",
        "df_data"
      ],
      "execution_count": 84,
      "outputs": [
        {
          "output_type": "stream",
          "text": [
            "(16516, 12)\n",
            "(24776, 12)\n",
            "(41292, 12)\n"
          ],
          "name": "stdout"
        },
        {
          "output_type": "execute_result",
          "data": {
            "text/html": [
              "<div>\n",
              "<style scoped>\n",
              "    .dataframe tbody tr th:only-of-type {\n",
              "        vertical-align: middle;\n",
              "    }\n",
              "\n",
              "    .dataframe tbody tr th {\n",
              "        vertical-align: top;\n",
              "    }\n",
              "\n",
              "    .dataframe thead th {\n",
              "        text-align: right;\n",
              "    }\n",
              "</style>\n",
              "<table border=\"1\" class=\"dataframe\">\n",
              "  <thead>\n",
              "    <tr style=\"text-align: right;\">\n",
              "      <th></th>\n",
              "      <th>Offered_By</th>\n",
              "      <th>Category</th>\n",
              "      <th>Rating</th>\n",
              "      <th>Reviews</th>\n",
              "      <th>Size</th>\n",
              "      <th>Price</th>\n",
              "      <th>Content_Rating</th>\n",
              "      <th>Last_Updated_On</th>\n",
              "      <th>Release_Version</th>\n",
              "      <th>OS_Version_Required</th>\n",
              "      <th>Downloads</th>\n",
              "      <th>train_flag</th>\n",
              "    </tr>\n",
              "  </thead>\n",
              "  <tbody>\n",
              "    <tr>\n",
              "      <th>0</th>\n",
              "      <td>ps_id-24654</td>\n",
              "      <td>Finance</td>\n",
              "      <td>4.18</td>\n",
              "      <td>1481</td>\n",
              "      <td>Varies with device</td>\n",
              "      <td>Free</td>\n",
              "      <td>Everyone</td>\n",
              "      <td>May 05 2020</td>\n",
              "      <td>Varies with device</td>\n",
              "      <td>Varies with device</td>\n",
              "      <td>100,000+</td>\n",
              "      <td>1</td>\n",
              "    </tr>\n",
              "    <tr>\n",
              "      <th>1</th>\n",
              "      <td>ps_id-35329</td>\n",
              "      <td>Music And Audio</td>\n",
              "      <td>4.81</td>\n",
              "      <td>302</td>\n",
              "      <td>10M</td>\n",
              "      <td>Free</td>\n",
              "      <td>Everyone</td>\n",
              "      <td>Mar 26 2020</td>\n",
              "      <td>3.9.18</td>\n",
              "      <td>4.1 and up</td>\n",
              "      <td>5,000+</td>\n",
              "      <td>1</td>\n",
              "    </tr>\n",
              "    <tr>\n",
              "      <th>2</th>\n",
              "      <td>ps_id-11044</td>\n",
              "      <td>Game Casual</td>\n",
              "      <td>4.27</td>\n",
              "      <td>374</td>\n",
              "      <td>27M</td>\n",
              "      <td>Free</td>\n",
              "      <td>Everyone</td>\n",
              "      <td>May 01 2020</td>\n",
              "      <td>1.10.1</td>\n",
              "      <td>4.1 and up</td>\n",
              "      <td>10,000+</td>\n",
              "      <td>1</td>\n",
              "    </tr>\n",
              "    <tr>\n",
              "      <th>3</th>\n",
              "      <td>ps_id-36068</td>\n",
              "      <td>Business</td>\n",
              "      <td>4.03</td>\n",
              "      <td>122058</td>\n",
              "      <td>Varies with device</td>\n",
              "      <td>Free</td>\n",
              "      <td>Teen</td>\n",
              "      <td>May 02 2020</td>\n",
              "      <td>Varies with device</td>\n",
              "      <td>Varies with device</td>\n",
              "      <td>10,000,000+</td>\n",
              "      <td>1</td>\n",
              "    </tr>\n",
              "    <tr>\n",
              "      <th>4</th>\n",
              "      <td>ps_id-35831</td>\n",
              "      <td>Medical</td>\n",
              "      <td>4.60</td>\n",
              "      <td>358</td>\n",
              "      <td>Varies with device</td>\n",
              "      <td>297.5742</td>\n",
              "      <td>Everyone</td>\n",
              "      <td>Nov 29 2018</td>\n",
              "      <td>Varies with device</td>\n",
              "      <td>Varies with device</td>\n",
              "      <td>5,000+</td>\n",
              "      <td>1</td>\n",
              "    </tr>\n",
              "    <tr>\n",
              "      <th>...</th>\n",
              "      <td>...</td>\n",
              "      <td>...</td>\n",
              "      <td>...</td>\n",
              "      <td>...</td>\n",
              "      <td>...</td>\n",
              "      <td>...</td>\n",
              "      <td>...</td>\n",
              "      <td>...</td>\n",
              "      <td>...</td>\n",
              "      <td>...</td>\n",
              "      <td>...</td>\n",
              "      <td>...</td>\n",
              "    </tr>\n",
              "    <tr>\n",
              "      <th>41287</th>\n",
              "      <td>ps_id-30176</td>\n",
              "      <td>Shopping</td>\n",
              "      <td>3.74</td>\n",
              "      <td>38</td>\n",
              "      <td>21M</td>\n",
              "      <td>Free</td>\n",
              "      <td>Everyone</td>\n",
              "      <td>Feb 16 2020</td>\n",
              "      <td>2.4.20</td>\n",
              "      <td>4.1 and up</td>\n",
              "      <td>100,000+</td>\n",
              "      <td>0</td>\n",
              "    </tr>\n",
              "    <tr>\n",
              "      <th>41288</th>\n",
              "      <td>ps_id-5357</td>\n",
              "      <td>Auto And Vehicles</td>\n",
              "      <td>4.80</td>\n",
              "      <td>4</td>\n",
              "      <td>4.5M</td>\n",
              "      <td>Free</td>\n",
              "      <td>Everyone</td>\n",
              "      <td>Jan 02 2019</td>\n",
              "      <td>1.3</td>\n",
              "      <td>5.0 and up</td>\n",
              "      <td>100,000+</td>\n",
              "      <td>0</td>\n",
              "    </tr>\n",
              "    <tr>\n",
              "      <th>41289</th>\n",
              "      <td>ps_id-1920</td>\n",
              "      <td>Education</td>\n",
              "      <td>4.78</td>\n",
              "      <td>499</td>\n",
              "      <td>1.1M</td>\n",
              "      <td>Free</td>\n",
              "      <td>Everyone</td>\n",
              "      <td>Feb 16 2018</td>\n",
              "      <td>1.1</td>\n",
              "      <td>4.0.3 and up</td>\n",
              "      <td>100,000+</td>\n",
              "      <td>0</td>\n",
              "    </tr>\n",
              "    <tr>\n",
              "      <th>41290</th>\n",
              "      <td>ps_id-6655</td>\n",
              "      <td>Game Puzzle</td>\n",
              "      <td>4.61</td>\n",
              "      <td>328050</td>\n",
              "      <td>72M</td>\n",
              "      <td>Free</td>\n",
              "      <td>Everyone</td>\n",
              "      <td>May 02 2020</td>\n",
              "      <td>2.5.3</td>\n",
              "      <td>4.1 and up</td>\n",
              "      <td>100,000+</td>\n",
              "      <td>0</td>\n",
              "    </tr>\n",
              "    <tr>\n",
              "      <th>41291</th>\n",
              "      <td>ps_id-3916</td>\n",
              "      <td>Finance</td>\n",
              "      <td>3.98</td>\n",
              "      <td>1467</td>\n",
              "      <td>18M</td>\n",
              "      <td>Free</td>\n",
              "      <td>Everyone</td>\n",
              "      <td>Apr 30 2020</td>\n",
              "      <td>2.25.2</td>\n",
              "      <td>4.4 and up</td>\n",
              "      <td>100,000+</td>\n",
              "      <td>0</td>\n",
              "    </tr>\n",
              "  </tbody>\n",
              "</table>\n",
              "<p>41292 rows × 12 columns</p>\n",
              "</div>"
            ],
            "text/plain": [
              "        Offered_By           Category  ...    Downloads  train_flag\n",
              "0      ps_id-24654            Finance  ...     100,000+           1\n",
              "1      ps_id-35329    Music And Audio  ...       5,000+           1\n",
              "2      ps_id-11044        Game Casual  ...      10,000+           1\n",
              "3      ps_id-36068           Business  ...  10,000,000+           1\n",
              "4      ps_id-35831            Medical  ...       5,000+           1\n",
              "...            ...                ...  ...          ...         ...\n",
              "41287  ps_id-30176           Shopping  ...     100,000+           0\n",
              "41288   ps_id-5357  Auto And Vehicles  ...     100,000+           0\n",
              "41289   ps_id-1920          Education  ...     100,000+           0\n",
              "41290   ps_id-6655        Game Puzzle  ...     100,000+           0\n",
              "41291   ps_id-3916            Finance  ...     100,000+           0\n",
              "\n",
              "[41292 rows x 12 columns]"
            ]
          },
          "metadata": {
            "tags": []
          },
          "execution_count": 84
        }
      ]
    },
    {
      "cell_type": "code",
      "metadata": {
        "id": "7LqfFkRxZgMd",
        "colab_type": "code",
        "colab": {
          "base_uri": "https://localhost:8080/",
          "height": 346
        },
        "outputId": "ad05cea0-2bde-4eb8-81fc-6825899fd28a"
      },
      "source": [
        "df_data.info()"
      ],
      "execution_count": 85,
      "outputs": [
        {
          "output_type": "stream",
          "text": [
            "<class 'pandas.core.frame.DataFrame'>\n",
            "RangeIndex: 41292 entries, 0 to 41291\n",
            "Data columns (total 12 columns):\n",
            " #   Column               Non-Null Count  Dtype  \n",
            "---  ------               --------------  -----  \n",
            " 0   Offered_By           41292 non-null  object \n",
            " 1   Category             41292 non-null  object \n",
            " 2   Rating               41292 non-null  float64\n",
            " 3   Reviews              41292 non-null  int64  \n",
            " 4   Size                 41292 non-null  object \n",
            " 5   Price                41292 non-null  object \n",
            " 6   Content_Rating       41292 non-null  object \n",
            " 7   Last_Updated_On      41292 non-null  object \n",
            " 8   Release_Version      41292 non-null  object \n",
            " 9   OS_Version_Required  41292 non-null  object \n",
            " 10  Downloads            41292 non-null  object \n",
            " 11  train_flag           41292 non-null  int64  \n",
            "dtypes: float64(1), int64(2), object(9)\n",
            "memory usage: 3.8+ MB\n"
          ],
          "name": "stdout"
        }
      ]
    },
    {
      "cell_type": "code",
      "metadata": {
        "id": "Dyqe6DLWaTkk",
        "colab_type": "code",
        "colab": {
          "base_uri": "https://localhost:8080/",
          "height": 202
        },
        "outputId": "88d499de-8475-40b1-d713-0e84e6a9d2ad"
      },
      "source": [
        "df_data[\"Price\"] = df_data[\"Price\"].replace( \"Free\", 0)\n",
        "df_data[\"Price\"] = df_data[\"Price\"].astype(\"float\")\n",
        "\n",
        "df_data[\"Reviews\"] = df_data[\"Reviews\"].astype(\"int\")\n",
        "\n",
        "df_data[\"Rating\"] = df_data[\"Rating\"].astype(\"float\")\n",
        "\n",
        "df_data.head()"
      ],
      "execution_count": 86,
      "outputs": [
        {
          "output_type": "execute_result",
          "data": {
            "text/html": [
              "<div>\n",
              "<style scoped>\n",
              "    .dataframe tbody tr th:only-of-type {\n",
              "        vertical-align: middle;\n",
              "    }\n",
              "\n",
              "    .dataframe tbody tr th {\n",
              "        vertical-align: top;\n",
              "    }\n",
              "\n",
              "    .dataframe thead th {\n",
              "        text-align: right;\n",
              "    }\n",
              "</style>\n",
              "<table border=\"1\" class=\"dataframe\">\n",
              "  <thead>\n",
              "    <tr style=\"text-align: right;\">\n",
              "      <th></th>\n",
              "      <th>Offered_By</th>\n",
              "      <th>Category</th>\n",
              "      <th>Rating</th>\n",
              "      <th>Reviews</th>\n",
              "      <th>Size</th>\n",
              "      <th>Price</th>\n",
              "      <th>Content_Rating</th>\n",
              "      <th>Last_Updated_On</th>\n",
              "      <th>Release_Version</th>\n",
              "      <th>OS_Version_Required</th>\n",
              "      <th>Downloads</th>\n",
              "      <th>train_flag</th>\n",
              "    </tr>\n",
              "  </thead>\n",
              "  <tbody>\n",
              "    <tr>\n",
              "      <th>0</th>\n",
              "      <td>ps_id-24654</td>\n",
              "      <td>Finance</td>\n",
              "      <td>4.18</td>\n",
              "      <td>1481</td>\n",
              "      <td>Varies with device</td>\n",
              "      <td>0.0000</td>\n",
              "      <td>Everyone</td>\n",
              "      <td>May 05 2020</td>\n",
              "      <td>Varies with device</td>\n",
              "      <td>Varies with device</td>\n",
              "      <td>100,000+</td>\n",
              "      <td>1</td>\n",
              "    </tr>\n",
              "    <tr>\n",
              "      <th>1</th>\n",
              "      <td>ps_id-35329</td>\n",
              "      <td>Music And Audio</td>\n",
              "      <td>4.81</td>\n",
              "      <td>302</td>\n",
              "      <td>10M</td>\n",
              "      <td>0.0000</td>\n",
              "      <td>Everyone</td>\n",
              "      <td>Mar 26 2020</td>\n",
              "      <td>3.9.18</td>\n",
              "      <td>4.1 and up</td>\n",
              "      <td>5,000+</td>\n",
              "      <td>1</td>\n",
              "    </tr>\n",
              "    <tr>\n",
              "      <th>2</th>\n",
              "      <td>ps_id-11044</td>\n",
              "      <td>Game Casual</td>\n",
              "      <td>4.27</td>\n",
              "      <td>374</td>\n",
              "      <td>27M</td>\n",
              "      <td>0.0000</td>\n",
              "      <td>Everyone</td>\n",
              "      <td>May 01 2020</td>\n",
              "      <td>1.10.1</td>\n",
              "      <td>4.1 and up</td>\n",
              "      <td>10,000+</td>\n",
              "      <td>1</td>\n",
              "    </tr>\n",
              "    <tr>\n",
              "      <th>3</th>\n",
              "      <td>ps_id-36068</td>\n",
              "      <td>Business</td>\n",
              "      <td>4.03</td>\n",
              "      <td>122058</td>\n",
              "      <td>Varies with device</td>\n",
              "      <td>0.0000</td>\n",
              "      <td>Teen</td>\n",
              "      <td>May 02 2020</td>\n",
              "      <td>Varies with device</td>\n",
              "      <td>Varies with device</td>\n",
              "      <td>10,000,000+</td>\n",
              "      <td>1</td>\n",
              "    </tr>\n",
              "    <tr>\n",
              "      <th>4</th>\n",
              "      <td>ps_id-35831</td>\n",
              "      <td>Medical</td>\n",
              "      <td>4.60</td>\n",
              "      <td>358</td>\n",
              "      <td>Varies with device</td>\n",
              "      <td>297.5742</td>\n",
              "      <td>Everyone</td>\n",
              "      <td>Nov 29 2018</td>\n",
              "      <td>Varies with device</td>\n",
              "      <td>Varies with device</td>\n",
              "      <td>5,000+</td>\n",
              "      <td>1</td>\n",
              "    </tr>\n",
              "  </tbody>\n",
              "</table>\n",
              "</div>"
            ],
            "text/plain": [
              "    Offered_By         Category  ...    Downloads  train_flag\n",
              "0  ps_id-24654          Finance  ...     100,000+           1\n",
              "1  ps_id-35329  Music And Audio  ...       5,000+           1\n",
              "2  ps_id-11044      Game Casual  ...      10,000+           1\n",
              "3  ps_id-36068         Business  ...  10,000,000+           1\n",
              "4  ps_id-35831          Medical  ...       5,000+           1\n",
              "\n",
              "[5 rows x 12 columns]"
            ]
          },
          "metadata": {
            "tags": []
          },
          "execution_count": 86
        }
      ]
    },
    {
      "cell_type": "code",
      "metadata": {
        "id": "nCZWBpQeOjWg",
        "colab_type": "code",
        "colab": {
          "base_uri": "https://localhost:8080/",
          "height": 220
        },
        "outputId": "da39888d-ad74-482c-f449-8edc0b116c12"
      },
      "source": [
        "le = LabelEncoder()\n",
        "df_data[\"Category\"] = le.fit_transform(df_data[\"Category\"])\n",
        "\n",
        "df_data[\"Content_Rating\"] = le.fit_transform(df_data[\"Content_Rating\"])\n",
        "\n",
        "df_data[\"Size\"] = le.fit_transform(df_data[\"Size\"])\n",
        "\n",
        "df_data[\"Release_Version\"] = le.fit_transform(df_data[\"Release_Version\"])\n",
        "\n",
        "df_data[\"OS_Version_Required\"] = le.fit_transform(df_data[\"OS_Version_Required\"])\n",
        "\n",
        "\n",
        "print(df_data.shape)\n",
        "df_data.head()"
      ],
      "execution_count": 87,
      "outputs": [
        {
          "output_type": "stream",
          "text": [
            "(41292, 12)\n"
          ],
          "name": "stdout"
        },
        {
          "output_type": "execute_result",
          "data": {
            "text/html": [
              "<div>\n",
              "<style scoped>\n",
              "    .dataframe tbody tr th:only-of-type {\n",
              "        vertical-align: middle;\n",
              "    }\n",
              "\n",
              "    .dataframe tbody tr th {\n",
              "        vertical-align: top;\n",
              "    }\n",
              "\n",
              "    .dataframe thead th {\n",
              "        text-align: right;\n",
              "    }\n",
              "</style>\n",
              "<table border=\"1\" class=\"dataframe\">\n",
              "  <thead>\n",
              "    <tr style=\"text-align: right;\">\n",
              "      <th></th>\n",
              "      <th>Offered_By</th>\n",
              "      <th>Category</th>\n",
              "      <th>Rating</th>\n",
              "      <th>Reviews</th>\n",
              "      <th>Size</th>\n",
              "      <th>Price</th>\n",
              "      <th>Content_Rating</th>\n",
              "      <th>Last_Updated_On</th>\n",
              "      <th>Release_Version</th>\n",
              "      <th>OS_Version_Required</th>\n",
              "      <th>Downloads</th>\n",
              "      <th>train_flag</th>\n",
              "    </tr>\n",
              "  </thead>\n",
              "  <tbody>\n",
              "    <tr>\n",
              "      <th>0</th>\n",
              "      <td>ps_id-24654</td>\n",
              "      <td>12</td>\n",
              "      <td>4.18</td>\n",
              "      <td>1481</td>\n",
              "      <td>702</td>\n",
              "      <td>0.0000</td>\n",
              "      <td>1</td>\n",
              "      <td>May 05 2020</td>\n",
              "      <td>8031</td>\n",
              "      <td>36</td>\n",
              "      <td>100,000+</td>\n",
              "      <td>1</td>\n",
              "    </tr>\n",
              "    <tr>\n",
              "      <th>1</th>\n",
              "      <td>ps_id-35329</td>\n",
              "      <td>38</td>\n",
              "      <td>4.81</td>\n",
              "      <td>302</td>\n",
              "      <td>37</td>\n",
              "      <td>0.0000</td>\n",
              "      <td>1</td>\n",
              "      <td>Mar 26 2020</td>\n",
              "      <td>5406</td>\n",
              "      <td>21</td>\n",
              "      <td>5,000+</td>\n",
              "      <td>1</td>\n",
              "    </tr>\n",
              "    <tr>\n",
              "      <th>2</th>\n",
              "      <td>ps_id-11044</td>\n",
              "      <td>21</td>\n",
              "      <td>4.27</td>\n",
              "      <td>374</td>\n",
              "      <td>175</td>\n",
              "      <td>0.0000</td>\n",
              "      <td>1</td>\n",
              "      <td>May 01 2020</td>\n",
              "      <td>979</td>\n",
              "      <td>21</td>\n",
              "      <td>10,000+</td>\n",
              "      <td>1</td>\n",
              "    </tr>\n",
              "    <tr>\n",
              "      <th>3</th>\n",
              "      <td>ps_id-36068</td>\n",
              "      <td>4</td>\n",
              "      <td>4.03</td>\n",
              "      <td>122058</td>\n",
              "      <td>702</td>\n",
              "      <td>0.0000</td>\n",
              "      <td>4</td>\n",
              "      <td>May 02 2020</td>\n",
              "      <td>8031</td>\n",
              "      <td>36</td>\n",
              "      <td>10,000,000+</td>\n",
              "      <td>1</td>\n",
              "    </tr>\n",
              "    <tr>\n",
              "      <th>4</th>\n",
              "      <td>ps_id-35831</td>\n",
              "      <td>37</td>\n",
              "      <td>4.60</td>\n",
              "      <td>358</td>\n",
              "      <td>702</td>\n",
              "      <td>297.5742</td>\n",
              "      <td>1</td>\n",
              "      <td>Nov 29 2018</td>\n",
              "      <td>8031</td>\n",
              "      <td>36</td>\n",
              "      <td>5,000+</td>\n",
              "      <td>1</td>\n",
              "    </tr>\n",
              "  </tbody>\n",
              "</table>\n",
              "</div>"
            ],
            "text/plain": [
              "    Offered_By  Category  Rating  ...  OS_Version_Required    Downloads  train_flag\n",
              "0  ps_id-24654        12    4.18  ...                   36     100,000+           1\n",
              "1  ps_id-35329        38    4.81  ...                   21       5,000+           1\n",
              "2  ps_id-11044        21    4.27  ...                   21      10,000+           1\n",
              "3  ps_id-36068         4    4.03  ...                   36  10,000,000+           1\n",
              "4  ps_id-35831        37    4.60  ...                   36       5,000+           1\n",
              "\n",
              "[5 rows x 12 columns]"
            ]
          },
          "metadata": {
            "tags": []
          },
          "execution_count": 87
        }
      ]
    },
    {
      "cell_type": "code",
      "metadata": {
        "id": "qv8e1_TmQVdf",
        "colab_type": "code",
        "colab": {
          "base_uri": "https://localhost:8080/",
          "height": 240
        },
        "outputId": "ec3ce2af-ca97-4735-c986-40b00770aa22"
      },
      "source": [
        "df_data[\"Downloads\"] = le.fit_transform(df_data[\"Downloads\"])\n",
        "mapping_dict = dict(zip(le.classes_ , le.transform(le.classes_)))\n",
        "\n",
        "print(mapping_dict)\n",
        "df_data.head()"
      ],
      "execution_count": 88,
      "outputs": [
        {
          "output_type": "stream",
          "text": [
            "{'1,000+': 0, '1,000,000+': 1, '1,000,000,000+': 2, '10+': 3, '10,000+': 4, '10,000,000+': 5, '100+': 6, '100,000+': 7, '100,000,000+': 8, '5,000+': 9, '5,000,000+': 10, '5,000,000,000+': 11, '50+': 12, '50,000+': 13, '50,000,000+': 14, '500+': 15, '500,000+': 16, '500,000,000+': 17}\n"
          ],
          "name": "stdout"
        },
        {
          "output_type": "execute_result",
          "data": {
            "text/html": [
              "<div>\n",
              "<style scoped>\n",
              "    .dataframe tbody tr th:only-of-type {\n",
              "        vertical-align: middle;\n",
              "    }\n",
              "\n",
              "    .dataframe tbody tr th {\n",
              "        vertical-align: top;\n",
              "    }\n",
              "\n",
              "    .dataframe thead th {\n",
              "        text-align: right;\n",
              "    }\n",
              "</style>\n",
              "<table border=\"1\" class=\"dataframe\">\n",
              "  <thead>\n",
              "    <tr style=\"text-align: right;\">\n",
              "      <th></th>\n",
              "      <th>Offered_By</th>\n",
              "      <th>Category</th>\n",
              "      <th>Rating</th>\n",
              "      <th>Reviews</th>\n",
              "      <th>Size</th>\n",
              "      <th>Price</th>\n",
              "      <th>Content_Rating</th>\n",
              "      <th>Last_Updated_On</th>\n",
              "      <th>Release_Version</th>\n",
              "      <th>OS_Version_Required</th>\n",
              "      <th>Downloads</th>\n",
              "      <th>train_flag</th>\n",
              "    </tr>\n",
              "  </thead>\n",
              "  <tbody>\n",
              "    <tr>\n",
              "      <th>0</th>\n",
              "      <td>ps_id-24654</td>\n",
              "      <td>12</td>\n",
              "      <td>4.18</td>\n",
              "      <td>1481</td>\n",
              "      <td>702</td>\n",
              "      <td>0.0000</td>\n",
              "      <td>1</td>\n",
              "      <td>May 05 2020</td>\n",
              "      <td>8031</td>\n",
              "      <td>36</td>\n",
              "      <td>7</td>\n",
              "      <td>1</td>\n",
              "    </tr>\n",
              "    <tr>\n",
              "      <th>1</th>\n",
              "      <td>ps_id-35329</td>\n",
              "      <td>38</td>\n",
              "      <td>4.81</td>\n",
              "      <td>302</td>\n",
              "      <td>37</td>\n",
              "      <td>0.0000</td>\n",
              "      <td>1</td>\n",
              "      <td>Mar 26 2020</td>\n",
              "      <td>5406</td>\n",
              "      <td>21</td>\n",
              "      <td>9</td>\n",
              "      <td>1</td>\n",
              "    </tr>\n",
              "    <tr>\n",
              "      <th>2</th>\n",
              "      <td>ps_id-11044</td>\n",
              "      <td>21</td>\n",
              "      <td>4.27</td>\n",
              "      <td>374</td>\n",
              "      <td>175</td>\n",
              "      <td>0.0000</td>\n",
              "      <td>1</td>\n",
              "      <td>May 01 2020</td>\n",
              "      <td>979</td>\n",
              "      <td>21</td>\n",
              "      <td>4</td>\n",
              "      <td>1</td>\n",
              "    </tr>\n",
              "    <tr>\n",
              "      <th>3</th>\n",
              "      <td>ps_id-36068</td>\n",
              "      <td>4</td>\n",
              "      <td>4.03</td>\n",
              "      <td>122058</td>\n",
              "      <td>702</td>\n",
              "      <td>0.0000</td>\n",
              "      <td>4</td>\n",
              "      <td>May 02 2020</td>\n",
              "      <td>8031</td>\n",
              "      <td>36</td>\n",
              "      <td>5</td>\n",
              "      <td>1</td>\n",
              "    </tr>\n",
              "    <tr>\n",
              "      <th>4</th>\n",
              "      <td>ps_id-35831</td>\n",
              "      <td>37</td>\n",
              "      <td>4.60</td>\n",
              "      <td>358</td>\n",
              "      <td>702</td>\n",
              "      <td>297.5742</td>\n",
              "      <td>1</td>\n",
              "      <td>Nov 29 2018</td>\n",
              "      <td>8031</td>\n",
              "      <td>36</td>\n",
              "      <td>9</td>\n",
              "      <td>1</td>\n",
              "    </tr>\n",
              "  </tbody>\n",
              "</table>\n",
              "</div>"
            ],
            "text/plain": [
              "    Offered_By  Category  Rating  ...  OS_Version_Required  Downloads  train_flag\n",
              "0  ps_id-24654        12    4.18  ...                   36          7           1\n",
              "1  ps_id-35329        38    4.81  ...                   21          9           1\n",
              "2  ps_id-11044        21    4.27  ...                   21          4           1\n",
              "3  ps_id-36068         4    4.03  ...                   36          5           1\n",
              "4  ps_id-35831        37    4.60  ...                   36          9           1\n",
              "\n",
              "[5 rows x 12 columns]"
            ]
          },
          "metadata": {
            "tags": []
          },
          "execution_count": 88
        }
      ]
    },
    {
      "cell_type": "code",
      "metadata": {
        "id": "9a6D3tK0fM9G",
        "colab_type": "code",
        "colab": {
          "base_uri": "https://localhost:8080/",
          "height": 346
        },
        "outputId": "fc63158e-d8e1-4acc-9382-6b617ababe6a"
      },
      "source": [
        "df_data.info()"
      ],
      "execution_count": 89,
      "outputs": [
        {
          "output_type": "stream",
          "text": [
            "<class 'pandas.core.frame.DataFrame'>\n",
            "RangeIndex: 41292 entries, 0 to 41291\n",
            "Data columns (total 12 columns):\n",
            " #   Column               Non-Null Count  Dtype  \n",
            "---  ------               --------------  -----  \n",
            " 0   Offered_By           41292 non-null  object \n",
            " 1   Category             41292 non-null  int64  \n",
            " 2   Rating               41292 non-null  float64\n",
            " 3   Reviews              41292 non-null  int64  \n",
            " 4   Size                 41292 non-null  int64  \n",
            " 5   Price                41292 non-null  float64\n",
            " 6   Content_Rating       41292 non-null  int64  \n",
            " 7   Last_Updated_On      41292 non-null  object \n",
            " 8   Release_Version      41292 non-null  int64  \n",
            " 9   OS_Version_Required  41292 non-null  int64  \n",
            " 10  Downloads            41292 non-null  int64  \n",
            " 11  train_flag           41292 non-null  int64  \n",
            "dtypes: float64(2), int64(8), object(2)\n",
            "memory usage: 3.8+ MB\n"
          ],
          "name": "stdout"
        }
      ]
    },
    {
      "cell_type": "code",
      "metadata": {
        "id": "iDaAj7l22YCJ",
        "colab_type": "code",
        "colab": {
          "base_uri": "https://localhost:8080/",
          "height": 433
        },
        "outputId": "85060921-f49b-4d85-f456-85859a88cac6"
      },
      "source": [
        "train = df_data[df_data[\"train_flag\"] == 1]\n",
        "test  = df_data[df_data[\"train_flag\"] == 0]\n",
        "train = train.reset_index(drop=True)\n",
        "test = test.reset_index(drop=True)\n",
        "print(train.shape , test.shape)\n",
        "train"
      ],
      "execution_count": 90,
      "outputs": [
        {
          "output_type": "stream",
          "text": [
            "(16516, 12) (24776, 12)\n"
          ],
          "name": "stdout"
        },
        {
          "output_type": "execute_result",
          "data": {
            "text/html": [
              "<div>\n",
              "<style scoped>\n",
              "    .dataframe tbody tr th:only-of-type {\n",
              "        vertical-align: middle;\n",
              "    }\n",
              "\n",
              "    .dataframe tbody tr th {\n",
              "        vertical-align: top;\n",
              "    }\n",
              "\n",
              "    .dataframe thead th {\n",
              "        text-align: right;\n",
              "    }\n",
              "</style>\n",
              "<table border=\"1\" class=\"dataframe\">\n",
              "  <thead>\n",
              "    <tr style=\"text-align: right;\">\n",
              "      <th></th>\n",
              "      <th>Offered_By</th>\n",
              "      <th>Category</th>\n",
              "      <th>Rating</th>\n",
              "      <th>Reviews</th>\n",
              "      <th>Size</th>\n",
              "      <th>Price</th>\n",
              "      <th>Content_Rating</th>\n",
              "      <th>Last_Updated_On</th>\n",
              "      <th>Release_Version</th>\n",
              "      <th>OS_Version_Required</th>\n",
              "      <th>Downloads</th>\n",
              "      <th>train_flag</th>\n",
              "    </tr>\n",
              "  </thead>\n",
              "  <tbody>\n",
              "    <tr>\n",
              "      <th>0</th>\n",
              "      <td>ps_id-24654</td>\n",
              "      <td>12</td>\n",
              "      <td>4.18</td>\n",
              "      <td>1481</td>\n",
              "      <td>702</td>\n",
              "      <td>0.0000</td>\n",
              "      <td>1</td>\n",
              "      <td>May 05 2020</td>\n",
              "      <td>8031</td>\n",
              "      <td>36</td>\n",
              "      <td>7</td>\n",
              "      <td>1</td>\n",
              "    </tr>\n",
              "    <tr>\n",
              "      <th>1</th>\n",
              "      <td>ps_id-35329</td>\n",
              "      <td>38</td>\n",
              "      <td>4.81</td>\n",
              "      <td>302</td>\n",
              "      <td>37</td>\n",
              "      <td>0.0000</td>\n",
              "      <td>1</td>\n",
              "      <td>Mar 26 2020</td>\n",
              "      <td>5406</td>\n",
              "      <td>21</td>\n",
              "      <td>9</td>\n",
              "      <td>1</td>\n",
              "    </tr>\n",
              "    <tr>\n",
              "      <th>2</th>\n",
              "      <td>ps_id-11044</td>\n",
              "      <td>21</td>\n",
              "      <td>4.27</td>\n",
              "      <td>374</td>\n",
              "      <td>175</td>\n",
              "      <td>0.0000</td>\n",
              "      <td>1</td>\n",
              "      <td>May 01 2020</td>\n",
              "      <td>979</td>\n",
              "      <td>21</td>\n",
              "      <td>4</td>\n",
              "      <td>1</td>\n",
              "    </tr>\n",
              "    <tr>\n",
              "      <th>3</th>\n",
              "      <td>ps_id-36068</td>\n",
              "      <td>4</td>\n",
              "      <td>4.03</td>\n",
              "      <td>122058</td>\n",
              "      <td>702</td>\n",
              "      <td>0.0000</td>\n",
              "      <td>4</td>\n",
              "      <td>May 02 2020</td>\n",
              "      <td>8031</td>\n",
              "      <td>36</td>\n",
              "      <td>5</td>\n",
              "      <td>1</td>\n",
              "    </tr>\n",
              "    <tr>\n",
              "      <th>4</th>\n",
              "      <td>ps_id-35831</td>\n",
              "      <td>37</td>\n",
              "      <td>4.60</td>\n",
              "      <td>358</td>\n",
              "      <td>702</td>\n",
              "      <td>297.5742</td>\n",
              "      <td>1</td>\n",
              "      <td>Nov 29 2018</td>\n",
              "      <td>8031</td>\n",
              "      <td>36</td>\n",
              "      <td>9</td>\n",
              "      <td>1</td>\n",
              "    </tr>\n",
              "    <tr>\n",
              "      <th>...</th>\n",
              "      <td>...</td>\n",
              "      <td>...</td>\n",
              "      <td>...</td>\n",
              "      <td>...</td>\n",
              "      <td>...</td>\n",
              "      <td>...</td>\n",
              "      <td>...</td>\n",
              "      <td>...</td>\n",
              "      <td>...</td>\n",
              "      <td>...</td>\n",
              "      <td>...</td>\n",
              "      <td>...</td>\n",
              "    </tr>\n",
              "    <tr>\n",
              "      <th>16511</th>\n",
              "      <td>ps_id-5583</td>\n",
              "      <td>32</td>\n",
              "      <td>4.30</td>\n",
              "      <td>13724</td>\n",
              "      <td>702</td>\n",
              "      <td>0.0000</td>\n",
              "      <td>1</td>\n",
              "      <td>Sep 21 2018</td>\n",
              "      <td>8031</td>\n",
              "      <td>36</td>\n",
              "      <td>1</td>\n",
              "      <td>1</td>\n",
              "    </tr>\n",
              "    <tr>\n",
              "      <th>16512</th>\n",
              "      <td>ps_id-15485</td>\n",
              "      <td>2</td>\n",
              "      <td>4.73</td>\n",
              "      <td>70</td>\n",
              "      <td>491</td>\n",
              "      <td>0.0000</td>\n",
              "      <td>1</td>\n",
              "      <td>May 07 2020</td>\n",
              "      <td>117</td>\n",
              "      <td>21</td>\n",
              "      <td>4</td>\n",
              "      <td>1</td>\n",
              "    </tr>\n",
              "    <tr>\n",
              "      <th>16513</th>\n",
              "      <td>ps_id-36065</td>\n",
              "      <td>32</td>\n",
              "      <td>4.60</td>\n",
              "      <td>5420</td>\n",
              "      <td>130</td>\n",
              "      <td>0.0000</td>\n",
              "      <td>1</td>\n",
              "      <td>Jul 10 2019</td>\n",
              "      <td>4020</td>\n",
              "      <td>21</td>\n",
              "      <td>16</td>\n",
              "      <td>1</td>\n",
              "    </tr>\n",
              "    <tr>\n",
              "      <th>16514</th>\n",
              "      <td>ps_id-12625</td>\n",
              "      <td>43</td>\n",
              "      <td>4.60</td>\n",
              "      <td>1488289</td>\n",
              "      <td>702</td>\n",
              "      <td>0.0000</td>\n",
              "      <td>1</td>\n",
              "      <td>Sep 07 2019</td>\n",
              "      <td>8031</td>\n",
              "      <td>36</td>\n",
              "      <td>8</td>\n",
              "      <td>1</td>\n",
              "    </tr>\n",
              "    <tr>\n",
              "      <th>16515</th>\n",
              "      <td>ps_id-4549</td>\n",
              "      <td>26</td>\n",
              "      <td>4.45</td>\n",
              "      <td>21201</td>\n",
              "      <td>79</td>\n",
              "      <td>745.0542</td>\n",
              "      <td>4</td>\n",
              "      <td>Sep 20 2019</td>\n",
              "      <td>4051</td>\n",
              "      <td>12</td>\n",
              "      <td>7</td>\n",
              "      <td>1</td>\n",
              "    </tr>\n",
              "  </tbody>\n",
              "</table>\n",
              "<p>16516 rows × 12 columns</p>\n",
              "</div>"
            ],
            "text/plain": [
              "        Offered_By  Category  ...  Downloads  train_flag\n",
              "0      ps_id-24654        12  ...          7           1\n",
              "1      ps_id-35329        38  ...          9           1\n",
              "2      ps_id-11044        21  ...          4           1\n",
              "3      ps_id-36068         4  ...          5           1\n",
              "4      ps_id-35831        37  ...          9           1\n",
              "...            ...       ...  ...        ...         ...\n",
              "16511   ps_id-5583        32  ...          1           1\n",
              "16512  ps_id-15485         2  ...          4           1\n",
              "16513  ps_id-36065        32  ...         16           1\n",
              "16514  ps_id-12625        43  ...          8           1\n",
              "16515   ps_id-4549        26  ...          7           1\n",
              "\n",
              "[16516 rows x 12 columns]"
            ]
          },
          "metadata": {
            "tags": []
          },
          "execution_count": 90
        }
      ]
    },
    {
      "cell_type": "code",
      "metadata": {
        "id": "GRZgyPkQ2qKT",
        "colab_type": "code",
        "colab": {
          "base_uri": "https://localhost:8080/",
          "height": 416
        },
        "outputId": "11544192-faf3-4160-9ae5-cef5bc8024dd"
      },
      "source": [
        "test"
      ],
      "execution_count": 91,
      "outputs": [
        {
          "output_type": "execute_result",
          "data": {
            "text/html": [
              "<div>\n",
              "<style scoped>\n",
              "    .dataframe tbody tr th:only-of-type {\n",
              "        vertical-align: middle;\n",
              "    }\n",
              "\n",
              "    .dataframe tbody tr th {\n",
              "        vertical-align: top;\n",
              "    }\n",
              "\n",
              "    .dataframe thead th {\n",
              "        text-align: right;\n",
              "    }\n",
              "</style>\n",
              "<table border=\"1\" class=\"dataframe\">\n",
              "  <thead>\n",
              "    <tr style=\"text-align: right;\">\n",
              "      <th></th>\n",
              "      <th>Offered_By</th>\n",
              "      <th>Category</th>\n",
              "      <th>Rating</th>\n",
              "      <th>Reviews</th>\n",
              "      <th>Size</th>\n",
              "      <th>Price</th>\n",
              "      <th>Content_Rating</th>\n",
              "      <th>Last_Updated_On</th>\n",
              "      <th>Release_Version</th>\n",
              "      <th>OS_Version_Required</th>\n",
              "      <th>Downloads</th>\n",
              "      <th>train_flag</th>\n",
              "    </tr>\n",
              "  </thead>\n",
              "  <tbody>\n",
              "    <tr>\n",
              "      <th>0</th>\n",
              "      <td>ps_id-18231</td>\n",
              "      <td>24</td>\n",
              "      <td>4.52</td>\n",
              "      <td>1362</td>\n",
              "      <td>242</td>\n",
              "      <td>0.0</td>\n",
              "      <td>1</td>\n",
              "      <td>May 05 2020</td>\n",
              "      <td>1801</td>\n",
              "      <td>18</td>\n",
              "      <td>7</td>\n",
              "      <td>0</td>\n",
              "    </tr>\n",
              "    <tr>\n",
              "      <th>1</th>\n",
              "      <td>ps_id-1874</td>\n",
              "      <td>44</td>\n",
              "      <td>4.29</td>\n",
              "      <td>3353</td>\n",
              "      <td>702</td>\n",
              "      <td>0.0</td>\n",
              "      <td>4</td>\n",
              "      <td>May 05 2020</td>\n",
              "      <td>8031</td>\n",
              "      <td>36</td>\n",
              "      <td>7</td>\n",
              "      <td>0</td>\n",
              "    </tr>\n",
              "    <tr>\n",
              "      <th>2</th>\n",
              "      <td>ps_id-3182</td>\n",
              "      <td>42</td>\n",
              "      <td>4.55</td>\n",
              "      <td>161855</td>\n",
              "      <td>702</td>\n",
              "      <td>0.0</td>\n",
              "      <td>1</td>\n",
              "      <td>May 05 2020</td>\n",
              "      <td>8031</td>\n",
              "      <td>36</td>\n",
              "      <td>7</td>\n",
              "      <td>0</td>\n",
              "    </tr>\n",
              "    <tr>\n",
              "      <th>3</th>\n",
              "      <td>ps_id-31452</td>\n",
              "      <td>15</td>\n",
              "      <td>3.97</td>\n",
              "      <td>545</td>\n",
              "      <td>79</td>\n",
              "      <td>0.0</td>\n",
              "      <td>1</td>\n",
              "      <td>Dec 07 2016</td>\n",
              "      <td>3112</td>\n",
              "      <td>21</td>\n",
              "      <td>7</td>\n",
              "      <td>0</td>\n",
              "    </tr>\n",
              "    <tr>\n",
              "      <th>4</th>\n",
              "      <td>ps_id-25641</td>\n",
              "      <td>42</td>\n",
              "      <td>4.65</td>\n",
              "      <td>1672</td>\n",
              "      <td>227</td>\n",
              "      <td>0.0</td>\n",
              "      <td>1</td>\n",
              "      <td>Jan 25 2020</td>\n",
              "      <td>350</td>\n",
              "      <td>25</td>\n",
              "      <td>7</td>\n",
              "      <td>0</td>\n",
              "    </tr>\n",
              "    <tr>\n",
              "      <th>...</th>\n",
              "      <td>...</td>\n",
              "      <td>...</td>\n",
              "      <td>...</td>\n",
              "      <td>...</td>\n",
              "      <td>...</td>\n",
              "      <td>...</td>\n",
              "      <td>...</td>\n",
              "      <td>...</td>\n",
              "      <td>...</td>\n",
              "      <td>...</td>\n",
              "      <td>...</td>\n",
              "      <td>...</td>\n",
              "    </tr>\n",
              "    <tr>\n",
              "      <th>24771</th>\n",
              "      <td>ps_id-30176</td>\n",
              "      <td>44</td>\n",
              "      <td>3.74</td>\n",
              "      <td>38</td>\n",
              "      <td>130</td>\n",
              "      <td>0.0</td>\n",
              "      <td>1</td>\n",
              "      <td>Feb 16 2020</td>\n",
              "      <td>3950</td>\n",
              "      <td>21</td>\n",
              "      <td>7</td>\n",
              "      <td>0</td>\n",
              "    </tr>\n",
              "    <tr>\n",
              "      <th>24772</th>\n",
              "      <td>ps_id-5357</td>\n",
              "      <td>1</td>\n",
              "      <td>4.80</td>\n",
              "      <td>4</td>\n",
              "      <td>266</td>\n",
              "      <td>0.0</td>\n",
              "      <td>1</td>\n",
              "      <td>Jan 02 2019</td>\n",
              "      <td>1558</td>\n",
              "      <td>29</td>\n",
              "      <td>7</td>\n",
              "      <td>0</td>\n",
              "    </tr>\n",
              "    <tr>\n",
              "      <th>24773</th>\n",
              "      <td>ps_id-1920</td>\n",
              "      <td>8</td>\n",
              "      <td>4.78</td>\n",
              "      <td>499</td>\n",
              "      <td>11</td>\n",
              "      <td>0.0</td>\n",
              "      <td>1</td>\n",
              "      <td>Feb 16 2018</td>\n",
              "      <td>796</td>\n",
              "      <td>18</td>\n",
              "      <td>7</td>\n",
              "      <td>0</td>\n",
              "    </tr>\n",
              "    <tr>\n",
              "      <th>24774</th>\n",
              "      <td>ps_id-6655</td>\n",
              "      <td>24</td>\n",
              "      <td>4.61</td>\n",
              "      <td>328050</td>\n",
              "      <td>510</td>\n",
              "      <td>0.0</td>\n",
              "      <td>1</td>\n",
              "      <td>May 02 2020</td>\n",
              "      <td>4067</td>\n",
              "      <td>21</td>\n",
              "      <td>7</td>\n",
              "      <td>0</td>\n",
              "    </tr>\n",
              "    <tr>\n",
              "      <th>24775</th>\n",
              "      <td>ps_id-3916</td>\n",
              "      <td>12</td>\n",
              "      <td>3.98</td>\n",
              "      <td>1467</td>\n",
              "      <td>92</td>\n",
              "      <td>0.0</td>\n",
              "      <td>1</td>\n",
              "      <td>Apr 30 2020</td>\n",
              "      <td>3760</td>\n",
              "      <td>25</td>\n",
              "      <td>7</td>\n",
              "      <td>0</td>\n",
              "    </tr>\n",
              "  </tbody>\n",
              "</table>\n",
              "<p>24776 rows × 12 columns</p>\n",
              "</div>"
            ],
            "text/plain": [
              "        Offered_By  Category  ...  Downloads  train_flag\n",
              "0      ps_id-18231        24  ...          7           0\n",
              "1       ps_id-1874        44  ...          7           0\n",
              "2       ps_id-3182        42  ...          7           0\n",
              "3      ps_id-31452        15  ...          7           0\n",
              "4      ps_id-25641        42  ...          7           0\n",
              "...            ...       ...  ...        ...         ...\n",
              "24771  ps_id-30176        44  ...          7           0\n",
              "24772   ps_id-5357         1  ...          7           0\n",
              "24773   ps_id-1920         8  ...          7           0\n",
              "24774   ps_id-6655        24  ...          7           0\n",
              "24775   ps_id-3916        12  ...          7           0\n",
              "\n",
              "[24776 rows x 12 columns]"
            ]
          },
          "metadata": {
            "tags": []
          },
          "execution_count": 91
        }
      ]
    },
    {
      "cell_type": "code",
      "metadata": {
        "id": "8bvVVlBhpTz4",
        "colab_type": "code",
        "colab": {}
      },
      "source": [
        "def train_model(X , Y):\n",
        "    # classifier = LGBMClassifier()\n",
        "    # param_grid = {\"max_depth\":[4,6,8,10,-1],\n",
        "    #       \"num_leaves\":[7,15,31,63,127],\n",
        "    #       \"min_data_in_leaf\":[1,3,5,7,10,25],\n",
        "    #       \"n_estimators\":list(range(50,1001,100))}\n",
        "\n",
        "    # model = RandomizedSearchCV(estimator = classifier,\n",
        "    #                     param_distributions = param_grid,\n",
        "    #                     cv = 5,\n",
        "    #                     n_iter = 10,\n",
        "    #                     verbose=1000\n",
        "    #                     )\n",
        "\n",
        "    # classifier = XGBClassifier(n_jobs = -1)\n",
        "    # param_grid = {\n",
        "    #     \"n_estimators\" : np.arange(100,1200,100),\n",
        "    #     \"max_depth\" : np.arange(3,10)\n",
        "    # }\n",
        "\n",
        "    # model = RandomizedSearchCV(estimator = classifier,\n",
        "    #                     param_distributions = param_grid,\n",
        "    #                     cv = 5,\n",
        "    #                     n_iter = 10,\n",
        "    #                     verbose=1000\n",
        "    #                     )\n",
        "\n",
        "    # classifier = CatBoostClassifier(verbose=0)\n",
        "    # param_grid = {\n",
        "    #     \"n_estimators\" : np.arange(100,1200,100),\n",
        "    #     \"depth\" : np.arange(3,10)\n",
        "    # }\n",
        "\n",
        "    # model = RandomizedSearchCV(estimator = classifier,\n",
        "    #                     param_distributions = param_grid,\n",
        "    #                     cv = 5,\n",
        "    #                     n_iter = 10,\n",
        "    #                     verbose=1000\n",
        "    #                     )\n",
        "\n",
        "    model = CatBoostClassifier(n_estimators=1000, depth=4, verbose=0)\n",
        "    # model = RandomForestClassifier()\n",
        "    # model = XGBClassifier(n_estimators=1100 , max_depth=3 , verbose=10)\n",
        "    # model = LGBMClassifier(max_depth=30 , n_estimators=500 , num_leaves=31)\n",
        "    model.fit(X , Y)\n",
        "    return model\n",
        "\n",
        "\n",
        "\n",
        "def prediction(model):\n",
        "    drop = copy.deepcopy(col_to_drop)\n",
        "    X = test.drop(drop , axis=1)\n",
        "    print(X.shape)\n",
        "\n",
        "    col = model.predict_proba(X)\n",
        "    # col = model.predict_log_proba(X)\n",
        "\n",
        "    return col\n",
        "\n",
        "\n",
        "\n"
      ],
      "execution_count": 197,
      "outputs": []
    },
    {
      "cell_type": "code",
      "metadata": {
        "id": "nj8DIwNoU3bc",
        "colab_type": "code",
        "colab": {
          "base_uri": "https://localhost:8080/",
          "height": 34
        },
        "outputId": "45e79417-2f4f-4357-cf46-ef0843a651a9"
      },
      "source": [
        "# Offered_By\tCategory\tRating\tReviews\tSize\tPrice\tContent_Rating\tLast_Updated_On\tRelease_Version\tOS_Version_Required\tDownloads\ttrain_flag\n",
        "col_to_drop = [\"Offered_By\", \"Last_Updated_On\", \"train_flag\", \"Downloads\"]\n",
        "\n",
        "\n",
        "\n",
        "X = train.drop(col_to_drop , axis=1)\n",
        "Y = train[\"Downloads\"]\n",
        "print(X.shape, Y.shape)\n",
        "m1 = train_model(X , Y)"
      ],
      "execution_count": 198,
      "outputs": [
        {
          "output_type": "stream",
          "text": [
            "(16516, 8) (16516,)\n"
          ],
          "name": "stdout"
        }
      ]
    },
    {
      "cell_type": "code",
      "metadata": {
        "id": "4aHQiNk0phRQ",
        "colab_type": "code",
        "colab": {
          "base_uri": "https://localhost:8080/",
          "height": 69
        },
        "outputId": "0f6a33e9-063f-45c7-9d01-388790be4000"
      },
      "source": [
        "print(m1.score(X,Y))\n",
        "col = prediction(m1)\n",
        "print(col.shape)\n",
        "\n",
        "\n",
        "\n",
        "\n",
        "# newcol = []\n",
        "# if col.shape == (len(df_test),1):\n",
        "#     for i in range(len(df_test)):\n",
        "#         newcol.append(col[i][0])\n",
        "#     col = copy.deepcopy(newcol)\n",
        "# print(np.array(col).shape)\n"
      ],
      "execution_count": 199,
      "outputs": [
        {
          "output_type": "stream",
          "text": [
            "0.7833010414143861\n",
            "(24776, 8)\n",
            "(24776, 18)\n"
          ],
          "name": "stdout"
        }
      ]
    },
    {
      "cell_type": "code",
      "metadata": {
        "id": "vt8Tk_mw0sYJ",
        "colab_type": "code",
        "colab": {
          "base_uri": "https://localhost:8080/",
          "height": 344
        },
        "outputId": "0643c758-4815-4353-ff6f-6ed90586b3a0"
      },
      "source": [
        "col_names = []\n",
        "for i,j  in mapping_dict.items():\n",
        "    col_names.append(i)\n",
        "print(mapping_dict)\n",
        "print(col_names)\n",
        "\n",
        "df_fin1 = pd.DataFrame(col, columns = col_names) \n",
        "df_fin1.head()"
      ],
      "execution_count": 200,
      "outputs": [
        {
          "output_type": "stream",
          "text": [
            "{'1,000+': 0, '1,000,000+': 1, '1,000,000,000+': 2, '10+': 3, '10,000+': 4, '10,000,000+': 5, '100+': 6, '100,000+': 7, '100,000,000+': 8, '5,000+': 9, '5,000,000+': 10, '5,000,000,000+': 11, '50+': 12, '50,000+': 13, '50,000,000+': 14, '500+': 15, '500,000+': 16, '500,000,000+': 17}\n",
            "['1,000+', '1,000,000+', '1,000,000,000+', '10+', '10,000+', '10,000,000+', '100+', '100,000+', '100,000,000+', '5,000+', '5,000,000+', '5,000,000,000+', '50+', '50,000+', '50,000,000+', '500+', '500,000+', '500,000,000+']\n"
          ],
          "name": "stdout"
        },
        {
          "output_type": "execute_result",
          "data": {
            "text/html": [
              "<div>\n",
              "<style scoped>\n",
              "    .dataframe tbody tr th:only-of-type {\n",
              "        vertical-align: middle;\n",
              "    }\n",
              "\n",
              "    .dataframe tbody tr th {\n",
              "        vertical-align: top;\n",
              "    }\n",
              "\n",
              "    .dataframe thead th {\n",
              "        text-align: right;\n",
              "    }\n",
              "</style>\n",
              "<table border=\"1\" class=\"dataframe\">\n",
              "  <thead>\n",
              "    <tr style=\"text-align: right;\">\n",
              "      <th></th>\n",
              "      <th>1,000+</th>\n",
              "      <th>1,000,000+</th>\n",
              "      <th>1,000,000,000+</th>\n",
              "      <th>10+</th>\n",
              "      <th>10,000+</th>\n",
              "      <th>10,000,000+</th>\n",
              "      <th>100+</th>\n",
              "      <th>100,000+</th>\n",
              "      <th>100,000,000+</th>\n",
              "      <th>5,000+</th>\n",
              "      <th>5,000,000+</th>\n",
              "      <th>5,000,000,000+</th>\n",
              "      <th>50+</th>\n",
              "      <th>50,000+</th>\n",
              "      <th>50,000,000+</th>\n",
              "      <th>500+</th>\n",
              "      <th>500,000+</th>\n",
              "      <th>500,000,000+</th>\n",
              "    </tr>\n",
              "  </thead>\n",
              "  <tbody>\n",
              "    <tr>\n",
              "      <th>0</th>\n",
              "      <td>0.000002</td>\n",
              "      <td>0.021017</td>\n",
              "      <td>5.780320e-08</td>\n",
              "      <td>1.512767e-05</td>\n",
              "      <td>0.067395</td>\n",
              "      <td>9.233530e-07</td>\n",
              "      <td>4.888732e-06</td>\n",
              "      <td>0.719998</td>\n",
              "      <td>6.429635e-08</td>\n",
              "      <td>0.000010</td>\n",
              "      <td>0.000027</td>\n",
              "      <td>0.000006</td>\n",
              "      <td>1.876438e-06</td>\n",
              "      <td>0.128472</td>\n",
              "      <td>1.030395e-05</td>\n",
              "      <td>0.000011</td>\n",
              "      <td>0.063029</td>\n",
              "      <td>5.093289e-08</td>\n",
              "    </tr>\n",
              "    <tr>\n",
              "      <th>1</th>\n",
              "      <td>0.000001</td>\n",
              "      <td>0.061144</td>\n",
              "      <td>2.897931e-05</td>\n",
              "      <td>6.549662e-07</td>\n",
              "      <td>0.000640</td>\n",
              "      <td>9.360527e-05</td>\n",
              "      <td>7.411526e-07</td>\n",
              "      <td>0.497455</td>\n",
              "      <td>2.550415e-05</td>\n",
              "      <td>0.000008</td>\n",
              "      <td>0.000203</td>\n",
              "      <td>0.000033</td>\n",
              "      <td>8.982005e-08</td>\n",
              "      <td>0.064339</td>\n",
              "      <td>5.349922e-07</td>\n",
              "      <td>0.000010</td>\n",
              "      <td>0.376014</td>\n",
              "      <td>2.749879e-06</td>\n",
              "    </tr>\n",
              "    <tr>\n",
              "      <th>2</th>\n",
              "      <td>0.000003</td>\n",
              "      <td>0.022943</td>\n",
              "      <td>2.645061e-06</td>\n",
              "      <td>5.729966e-07</td>\n",
              "      <td>0.000011</td>\n",
              "      <td>8.157568e-01</td>\n",
              "      <td>3.008269e-06</td>\n",
              "      <td>0.000010</td>\n",
              "      <td>6.899950e-03</td>\n",
              "      <td>0.000001</td>\n",
              "      <td>0.153690</td>\n",
              "      <td>0.000014</td>\n",
              "      <td>1.096787e-07</td>\n",
              "      <td>0.000029</td>\n",
              "      <td>5.973234e-04</td>\n",
              "      <td>0.000005</td>\n",
              "      <td>0.000031</td>\n",
              "      <td>2.684901e-06</td>\n",
              "    </tr>\n",
              "    <tr>\n",
              "      <th>3</th>\n",
              "      <td>0.000034</td>\n",
              "      <td>0.000390</td>\n",
              "      <td>9.836674e-07</td>\n",
              "      <td>4.154597e-05</td>\n",
              "      <td>0.319092</td>\n",
              "      <td>2.336172e-05</td>\n",
              "      <td>1.160766e-06</td>\n",
              "      <td>0.364029</td>\n",
              "      <td>7.884319e-07</td>\n",
              "      <td>0.000561</td>\n",
              "      <td>0.000018</td>\n",
              "      <td>0.000007</td>\n",
              "      <td>7.180229e-06</td>\n",
              "      <td>0.215657</td>\n",
              "      <td>3.724686e-07</td>\n",
              "      <td>0.000007</td>\n",
              "      <td>0.100130</td>\n",
              "      <td>2.908607e-08</td>\n",
              "    </tr>\n",
              "    <tr>\n",
              "      <th>4</th>\n",
              "      <td>0.000008</td>\n",
              "      <td>0.005855</td>\n",
              "      <td>2.154400e-06</td>\n",
              "      <td>6.192367e-06</td>\n",
              "      <td>0.072422</td>\n",
              "      <td>1.458521e-06</td>\n",
              "      <td>2.925607e-05</td>\n",
              "      <td>0.657145</td>\n",
              "      <td>2.016818e-07</td>\n",
              "      <td>0.000095</td>\n",
              "      <td>0.000109</td>\n",
              "      <td>0.000008</td>\n",
              "      <td>3.038156e-06</td>\n",
              "      <td>0.149676</td>\n",
              "      <td>2.786248e-05</td>\n",
              "      <td>0.000081</td>\n",
              "      <td>0.114532</td>\n",
              "      <td>4.081840e-07</td>\n",
              "    </tr>\n",
              "  </tbody>\n",
              "</table>\n",
              "</div>"
            ],
            "text/plain": [
              "     1,000+  1,000,000+  1,000,000,000+  ...      500+  500,000+  500,000,000+\n",
              "0  0.000002    0.021017    5.780320e-08  ...  0.000011  0.063029  5.093289e-08\n",
              "1  0.000001    0.061144    2.897931e-05  ...  0.000010  0.376014  2.749879e-06\n",
              "2  0.000003    0.022943    2.645061e-06  ...  0.000005  0.000031  2.684901e-06\n",
              "3  0.000034    0.000390    9.836674e-07  ...  0.000007  0.100130  2.908607e-08\n",
              "4  0.000008    0.005855    2.154400e-06  ...  0.000081  0.114532  4.081840e-07\n",
              "\n",
              "[5 rows x 18 columns]"
            ]
          },
          "metadata": {
            "tags": []
          },
          "execution_count": 200
        }
      ]
    },
    {
      "cell_type": "code",
      "metadata": {
        "id": "nESHR8s1Z6DY",
        "colab_type": "code",
        "colab": {}
      },
      "source": [
        "# df_fin2 = df_fin1[['10+', '50+', '100+', '500+', '1,000+', '5,000+', '10,000+', '50,000+', '100,000+', \n",
        "#                    '500,000+', '1,000,000+', '5,000,000+', '10,000,000+', '50,000,000+', '100,000,000+', \n",
        "#                     '500,000,000+', '1,000,000,000+',  '5,000,000,000+']]\n",
        "# df_fin2.head()"
      ],
      "execution_count": 201,
      "outputs": []
    },
    {
      "cell_type": "code",
      "metadata": {
        "id": "mj1WsQSKZfna",
        "colab_type": "code",
        "colab": {
          "base_uri": "https://localhost:8080/",
          "height": 309
        },
        "outputId": "4134639a-d20e-4735-cc59-1fcb6c2752ef"
      },
      "source": [
        "df_fin1 = df_fin1.rename(columns = mapping_dict)\n",
        "\n",
        "filename = \"sub.csv\"\n",
        "df_fin1.to_csv(filename , index=False)\n",
        "from google.colab import files\n",
        "files.download(filename)\n",
        "df_fin1.head()"
      ],
      "execution_count": 202,
      "outputs": [
        {
          "output_type": "display_data",
          "data": {
            "application/javascript": [
              "\n",
              "    async function download(id, filename, size) {\n",
              "      if (!google.colab.kernel.accessAllowed) {\n",
              "        return;\n",
              "      }\n",
              "      const div = document.createElement('div');\n",
              "      const label = document.createElement('label');\n",
              "      label.textContent = `Downloading \"${filename}\": `;\n",
              "      div.appendChild(label);\n",
              "      const progress = document.createElement('progress');\n",
              "      progress.max = size;\n",
              "      div.appendChild(progress);\n",
              "      document.body.appendChild(div);\n",
              "\n",
              "      const buffers = [];\n",
              "      let downloaded = 0;\n",
              "\n",
              "      const channel = await google.colab.kernel.comms.open(id);\n",
              "      // Send a message to notify the kernel that we're ready.\n",
              "      channel.send({})\n",
              "\n",
              "      for await (const message of channel.messages) {\n",
              "        // Send a message to notify the kernel that we're ready.\n",
              "        channel.send({})\n",
              "        if (message.buffers) {\n",
              "          for (const buffer of message.buffers) {\n",
              "            buffers.push(buffer);\n",
              "            downloaded += buffer.byteLength;\n",
              "            progress.value = downloaded;\n",
              "          }\n",
              "        }\n",
              "      }\n",
              "      const blob = new Blob(buffers, {type: 'application/binary'});\n",
              "      const a = document.createElement('a');\n",
              "      a.href = window.URL.createObjectURL(blob);\n",
              "      a.download = filename;\n",
              "      div.appendChild(a);\n",
              "      a.click();\n",
              "      div.remove();\n",
              "    }\n",
              "  "
            ],
            "text/plain": [
              "<IPython.core.display.Javascript object>"
            ]
          },
          "metadata": {
            "tags": []
          }
        },
        {
          "output_type": "display_data",
          "data": {
            "application/javascript": [
              "download(\"download_2a315851-87db-4ee4-85d3-9642cfb71eba\", \"10008.csv\", 5802990)"
            ],
            "text/plain": [
              "<IPython.core.display.Javascript object>"
            ]
          },
          "metadata": {
            "tags": []
          }
        },
        {
          "output_type": "execute_result",
          "data": {
            "text/html": [
              "<div>\n",
              "<style scoped>\n",
              "    .dataframe tbody tr th:only-of-type {\n",
              "        vertical-align: middle;\n",
              "    }\n",
              "\n",
              "    .dataframe tbody tr th {\n",
              "        vertical-align: top;\n",
              "    }\n",
              "\n",
              "    .dataframe thead th {\n",
              "        text-align: right;\n",
              "    }\n",
              "</style>\n",
              "<table border=\"1\" class=\"dataframe\">\n",
              "  <thead>\n",
              "    <tr style=\"text-align: right;\">\n",
              "      <th></th>\n",
              "      <th>0</th>\n",
              "      <th>1</th>\n",
              "      <th>2</th>\n",
              "      <th>3</th>\n",
              "      <th>4</th>\n",
              "      <th>5</th>\n",
              "      <th>6</th>\n",
              "      <th>7</th>\n",
              "      <th>8</th>\n",
              "      <th>9</th>\n",
              "      <th>10</th>\n",
              "      <th>11</th>\n",
              "      <th>12</th>\n",
              "      <th>13</th>\n",
              "      <th>14</th>\n",
              "      <th>15</th>\n",
              "      <th>16</th>\n",
              "      <th>17</th>\n",
              "    </tr>\n",
              "  </thead>\n",
              "  <tbody>\n",
              "    <tr>\n",
              "      <th>0</th>\n",
              "      <td>0.000002</td>\n",
              "      <td>0.021017</td>\n",
              "      <td>5.780320e-08</td>\n",
              "      <td>1.512767e-05</td>\n",
              "      <td>0.067395</td>\n",
              "      <td>9.233530e-07</td>\n",
              "      <td>4.888732e-06</td>\n",
              "      <td>0.719998</td>\n",
              "      <td>6.429635e-08</td>\n",
              "      <td>0.000010</td>\n",
              "      <td>0.000027</td>\n",
              "      <td>0.000006</td>\n",
              "      <td>1.876438e-06</td>\n",
              "      <td>0.128472</td>\n",
              "      <td>1.030395e-05</td>\n",
              "      <td>0.000011</td>\n",
              "      <td>0.063029</td>\n",
              "      <td>5.093289e-08</td>\n",
              "    </tr>\n",
              "    <tr>\n",
              "      <th>1</th>\n",
              "      <td>0.000001</td>\n",
              "      <td>0.061144</td>\n",
              "      <td>2.897931e-05</td>\n",
              "      <td>6.549662e-07</td>\n",
              "      <td>0.000640</td>\n",
              "      <td>9.360527e-05</td>\n",
              "      <td>7.411526e-07</td>\n",
              "      <td>0.497455</td>\n",
              "      <td>2.550415e-05</td>\n",
              "      <td>0.000008</td>\n",
              "      <td>0.000203</td>\n",
              "      <td>0.000033</td>\n",
              "      <td>8.982005e-08</td>\n",
              "      <td>0.064339</td>\n",
              "      <td>5.349922e-07</td>\n",
              "      <td>0.000010</td>\n",
              "      <td>0.376014</td>\n",
              "      <td>2.749879e-06</td>\n",
              "    </tr>\n",
              "    <tr>\n",
              "      <th>2</th>\n",
              "      <td>0.000003</td>\n",
              "      <td>0.022943</td>\n",
              "      <td>2.645061e-06</td>\n",
              "      <td>5.729966e-07</td>\n",
              "      <td>0.000011</td>\n",
              "      <td>8.157568e-01</td>\n",
              "      <td>3.008269e-06</td>\n",
              "      <td>0.000010</td>\n",
              "      <td>6.899950e-03</td>\n",
              "      <td>0.000001</td>\n",
              "      <td>0.153690</td>\n",
              "      <td>0.000014</td>\n",
              "      <td>1.096787e-07</td>\n",
              "      <td>0.000029</td>\n",
              "      <td>5.973234e-04</td>\n",
              "      <td>0.000005</td>\n",
              "      <td>0.000031</td>\n",
              "      <td>2.684901e-06</td>\n",
              "    </tr>\n",
              "    <tr>\n",
              "      <th>3</th>\n",
              "      <td>0.000034</td>\n",
              "      <td>0.000390</td>\n",
              "      <td>9.836674e-07</td>\n",
              "      <td>4.154597e-05</td>\n",
              "      <td>0.319092</td>\n",
              "      <td>2.336172e-05</td>\n",
              "      <td>1.160766e-06</td>\n",
              "      <td>0.364029</td>\n",
              "      <td>7.884319e-07</td>\n",
              "      <td>0.000561</td>\n",
              "      <td>0.000018</td>\n",
              "      <td>0.000007</td>\n",
              "      <td>7.180229e-06</td>\n",
              "      <td>0.215657</td>\n",
              "      <td>3.724686e-07</td>\n",
              "      <td>0.000007</td>\n",
              "      <td>0.100130</td>\n",
              "      <td>2.908607e-08</td>\n",
              "    </tr>\n",
              "    <tr>\n",
              "      <th>4</th>\n",
              "      <td>0.000008</td>\n",
              "      <td>0.005855</td>\n",
              "      <td>2.154400e-06</td>\n",
              "      <td>6.192367e-06</td>\n",
              "      <td>0.072422</td>\n",
              "      <td>1.458521e-06</td>\n",
              "      <td>2.925607e-05</td>\n",
              "      <td>0.657145</td>\n",
              "      <td>2.016818e-07</td>\n",
              "      <td>0.000095</td>\n",
              "      <td>0.000109</td>\n",
              "      <td>0.000008</td>\n",
              "      <td>3.038156e-06</td>\n",
              "      <td>0.149676</td>\n",
              "      <td>2.786248e-05</td>\n",
              "      <td>0.000081</td>\n",
              "      <td>0.114532</td>\n",
              "      <td>4.081840e-07</td>\n",
              "    </tr>\n",
              "  </tbody>\n",
              "</table>\n",
              "</div>"
            ],
            "text/plain": [
              "         0         1             2   ...        15        16            17\n",
              "0  0.000002  0.021017  5.780320e-08  ...  0.000011  0.063029  5.093289e-08\n",
              "1  0.000001  0.061144  2.897931e-05  ...  0.000010  0.376014  2.749879e-06\n",
              "2  0.000003  0.022943  2.645061e-06  ...  0.000005  0.000031  2.684901e-06\n",
              "3  0.000034  0.000390  9.836674e-07  ...  0.000007  0.100130  2.908607e-08\n",
              "4  0.000008  0.005855  2.154400e-06  ...  0.000081  0.114532  4.081840e-07\n",
              "\n",
              "[5 rows x 18 columns]"
            ]
          },
          "metadata": {
            "tags": []
          },
          "execution_count": 202
        }
      ]
    },
    {
      "cell_type": "code",
      "metadata": {
        "id": "DwLZlg9vaZ8u",
        "colab_type": "code",
        "colab": {}
      },
      "source": [
        "# col_names = df_fin2.columns\n",
        "# for ind,j in enumerate(col_names):\n",
        "#     df_fin2 = df_fin2.rename(columns = {j:ind})\n",
        "\n",
        "# filename = \"ans2.csv\"\n",
        "# df_fin2.to_csv(filename , index=False)\n",
        "# from google.colab import files\n",
        "# files.download(filename)\n",
        "# df_fin2.head()"
      ],
      "execution_count": 203,
      "outputs": []
    },
    {
      "cell_type": "code",
      "metadata": {
        "id": "ipYc0m0Yw9nO",
        "colab_type": "code",
        "colab": {}
      },
      "source": [
        ""
      ],
      "execution_count": 113,
      "outputs": []
    },
    {
      "cell_type": "code",
      "metadata": {
        "id": "3HwTYMF0puxa",
        "colab_type": "code",
        "colab": {}
      },
      "source": [
        ""
      ],
      "execution_count": null,
      "outputs": []
    },
    {
      "cell_type": "code",
      "metadata": {
        "id": "R9B0-xlzrLz2",
        "colab_type": "code",
        "colab": {}
      },
      "source": [
        ""
      ],
      "execution_count": null,
      "outputs": []
    },
    {
      "cell_type": "code",
      "metadata": {
        "id": "IggAHmZVrL4_",
        "colab_type": "code",
        "colab": {}
      },
      "source": [
        ""
      ],
      "execution_count": null,
      "outputs": []
    },
    {
      "cell_type": "code",
      "metadata": {
        "id": "gDoRGdKdrL-0",
        "colab_type": "code",
        "colab": {}
      },
      "source": [
        ""
      ],
      "execution_count": null,
      "outputs": []
    },
    {
      "cell_type": "code",
      "metadata": {
        "id": "F8JaKcF6rMC6",
        "colab_type": "code",
        "colab": {}
      },
      "source": [
        ""
      ],
      "execution_count": null,
      "outputs": []
    },
    {
      "cell_type": "code",
      "metadata": {
        "id": "Vz3rVmo2rMFx",
        "colab_type": "code",
        "colab": {}
      },
      "source": [
        ""
      ],
      "execution_count": null,
      "outputs": []
    },
    {
      "cell_type": "code",
      "metadata": {
        "id": "uPhNen0nrMJ1",
        "colab_type": "code",
        "colab": {}
      },
      "source": [
        ""
      ],
      "execution_count": null,
      "outputs": []
    },
    {
      "cell_type": "code",
      "metadata": {
        "id": "k8HC8CK-rL88",
        "colab_type": "code",
        "colab": {}
      },
      "source": [
        ""
      ],
      "execution_count": null,
      "outputs": []
    },
    {
      "cell_type": "code",
      "metadata": {
        "id": "XLgrR29ErL3Z",
        "colab_type": "code",
        "colab": {}
      },
      "source": [
        ""
      ],
      "execution_count": null,
      "outputs": []
    },
    {
      "cell_type": "code",
      "metadata": {
        "id": "nkMTUGveWHSo",
        "colab_type": "code",
        "colab": {}
      },
      "source": [
        ""
      ],
      "execution_count": null,
      "outputs": []
    },
    {
      "cell_type": "code",
      "metadata": {
        "id": "Q2MP8w_HGDpm",
        "colab_type": "code",
        "colab": {}
      },
      "source": [
        ""
      ],
      "execution_count": null,
      "outputs": []
    },
    {
      "cell_type": "code",
      "metadata": {
        "id": "4CjqjyGGFcHP",
        "colab_type": "code",
        "colab": {}
      },
      "source": [
        ""
      ],
      "execution_count": null,
      "outputs": []
    },
    {
      "cell_type": "markdown",
      "metadata": {
        "id": "9CKVw6SwTY_Q",
        "colab_type": "text"
      },
      "source": [
        ""
      ]
    }
  ]
}