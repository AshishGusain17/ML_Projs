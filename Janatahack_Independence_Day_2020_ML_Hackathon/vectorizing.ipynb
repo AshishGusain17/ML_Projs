{
  "nbformat": 4,
  "nbformat_minor": 0,
  "metadata": {
    "kernelspec": {
      "name": "python3",
      "display_name": "Python 3"
    },
    "language_info": {
      "codemirror_mode": {
        "name": "ipython",
        "version": 3
      },
      "file_extension": ".py",
      "mimetype": "text/x-python",
      "name": "python",
      "nbconvert_exporter": "python",
      "pygments_lexer": "ipython3",
      "version": "3.7.3"
    },
    "colab": {
      "name": "vectorizing.ipynb",
      "provenance": [],
      "collapsed_sections": [],
      "machine_shape": "hm"
    },
    "accelerator": "GPU"
  },
  "cells": [
    {
      "cell_type": "code",
      "metadata": {
        "id": "T_zx4hOGaqBE",
        "colab_type": "code",
        "colab": {
          "base_uri": "https://localhost:8080/",
          "height": 384
        },
        "outputId": "fc18e28b-8668-4148-9870-e680d341b368"
      },
      "source": [
        "import pandas as pd\n",
        "import numpy as np\n",
        "from sklearn import ensemble\n",
        "from sklearn import metrics\n",
        "from sklearn.model_selection import KFold\n",
        "from sklearn.model_selection import GridSearchCV,RandomizedSearchCV\n",
        "from xgboost import XGBClassifier\n",
        "!pip install catboost\n",
        "from catboost import CatBoostClassifier\n",
        "from sklearn.ensemble import RandomForestClassifier\n",
        "from scipy.sparse import lil_matrix\n",
        "from sklearn.feature_extraction.text import TfidfTransformer\n",
        "from sklearn.preprocessing import MinMaxScaler, StandardScaler\n",
        "import copy\n",
        "from sklearn.naive_bayes import MultinomialNB\n",
        "from sklearn.svm import SVC\n",
        "from sklearn.svm import LinearSVC\n",
        "import matplotlib.pyplot as plt\n",
        "from lightgbm import LGBMClassifier\n",
        "from imblearn.over_sampling import SMOTE \n",
        "from sklearn.preprocessing import LabelEncoder\n",
        "from sklearn.preprocessing import LabelBinarizer\n",
        "from sklearn.neighbors import KNeighborsClassifier\n",
        "import seaborn as sns\n",
        "from sklearn.linear_model import LogisticRegression\n",
        "import sys"
      ],
      "execution_count": null,
      "outputs": [
        {
          "output_type": "stream",
          "text": [
            "Requirement already satisfied: catboost in /usr/local/lib/python3.6/dist-packages (0.24)\n",
            "Requirement already satisfied: matplotlib in /usr/local/lib/python3.6/dist-packages (from catboost) (3.2.2)\n",
            "Requirement already satisfied: numpy>=1.16.0 in /usr/local/lib/python3.6/dist-packages (from catboost) (1.18.5)\n",
            "Requirement already satisfied: graphviz in /usr/local/lib/python3.6/dist-packages (from catboost) (0.10.1)\n",
            "Requirement already satisfied: pandas>=0.24.0 in /usr/local/lib/python3.6/dist-packages (from catboost) (1.0.5)\n",
            "Requirement already satisfied: plotly in /usr/local/lib/python3.6/dist-packages (from catboost) (4.4.1)\n",
            "Requirement already satisfied: scipy in /usr/local/lib/python3.6/dist-packages (from catboost) (1.4.1)\n",
            "Requirement already satisfied: six in /usr/local/lib/python3.6/dist-packages (from catboost) (1.15.0)\n",
            "Requirement already satisfied: pyparsing!=2.0.4,!=2.1.2,!=2.1.6,>=2.0.1 in /usr/local/lib/python3.6/dist-packages (from matplotlib->catboost) (2.4.7)\n",
            "Requirement already satisfied: cycler>=0.10 in /usr/local/lib/python3.6/dist-packages (from matplotlib->catboost) (0.10.0)\n",
            "Requirement already satisfied: python-dateutil>=2.1 in /usr/local/lib/python3.6/dist-packages (from matplotlib->catboost) (2.8.1)\n",
            "Requirement already satisfied: kiwisolver>=1.0.1 in /usr/local/lib/python3.6/dist-packages (from matplotlib->catboost) (1.2.0)\n",
            "Requirement already satisfied: pytz>=2017.2 in /usr/local/lib/python3.6/dist-packages (from pandas>=0.24.0->catboost) (2018.9)\n",
            "Requirement already satisfied: retrying>=1.3.3 in /usr/local/lib/python3.6/dist-packages (from plotly->catboost) (1.3.3)\n"
          ],
          "name": "stdout"
        },
        {
          "output_type": "stream",
          "text": [
            "/usr/local/lib/python3.6/dist-packages/sklearn/externals/six.py:31: FutureWarning: The module is deprecated in version 0.21 and will be removed in version 0.23 since we've dropped support for Python 2.7. Please rely on the official version of six (https://pypi.org/project/six/).\n",
            "  \"(https://pypi.org/project/six/).\", FutureWarning)\n",
            "/usr/local/lib/python3.6/dist-packages/sklearn/utils/deprecation.py:144: FutureWarning: The sklearn.neighbors.base module is  deprecated in version 0.22 and will be removed in version 0.24. The corresponding classes / functions should instead be imported from sklearn.neighbors. Anything that cannot be imported from sklearn.neighbors is now part of the private API.\n",
            "  warnings.warn(message, FutureWarning)\n",
            "/usr/local/lib/python3.6/dist-packages/statsmodels/tools/_testing.py:19: FutureWarning: pandas.util.testing is deprecated. Use the functions in the public API at pandas.testing instead.\n",
            "  import pandas.util.testing as tm\n"
          ],
          "name": "stderr"
        }
      ]
    },
    {
      "cell_type": "code",
      "metadata": {
        "id": "U9HMo56L7Lvw",
        "colab_type": "code",
        "colab": {
          "base_uri": "https://localhost:8080/",
          "height": 34
        },
        "outputId": "4e35c91f-26a2-4fe3-b8cf-96d933f288fd"
      },
      "source": [
        "from google.colab import drive\n",
        "drive.mount('/content/drive')"
      ],
      "execution_count": null,
      "outputs": [
        {
          "output_type": "stream",
          "text": [
            "Drive already mounted at /content/drive; to attempt to forcibly remount, call drive.mount(\"/content/drive\", force_remount=True).\n"
          ],
          "name": "stdout"
        }
      ]
    },
    {
      "cell_type": "code",
      "metadata": {
        "id": "9L3utK9q0Bqg",
        "colab_type": "code",
        "colab": {}
      },
      "source": [
        "# !wget http://nlp.stanford.edu/data/glove.6B.zip\n",
        "# !cp -r --recursive \"/content/glove.6B.zip\"     \"/content/drive/My Drive/DataScienceCompetitions/glove_embeddings\"\n",
        "!cp -r --recursive  \"/content/drive/My Drive/DataScienceCompetitions/glove_embeddings\"   \"/content/glove.6B.zip\""
      ],
      "execution_count": null,
      "outputs": []
    },
    {
      "cell_type": "code",
      "metadata": {
        "id": "911DXbeW0FQC",
        "colab_type": "code",
        "colab": {}
      },
      "source": [
        "# !unzip /content/glove.6B.zip"
      ],
      "execution_count": null,
      "outputs": []
    },
    {
      "cell_type": "code",
      "metadata": {
        "id": "FTkjSFFsNVa2",
        "colab_type": "code",
        "colab": {}
      },
      "source": [
        "!cp -r --recursive \"/content/drive/My Drive/DataScienceCompetitions/AV_Independence_day/train.csv\"  '/content/train.csv'\n",
        "!cp -r --recursive \"/content/drive/My Drive/DataScienceCompetitions/AV_Independence_day/test.csv\"  '/content/test.csv'\n",
        "train = pd.read_csv('/content/train.csv')\n",
        "test  = pd.read_csv(\"/content/test.csv\")"
      ],
      "execution_count": null,
      "outputs": []
    },
    {
      "cell_type": "code",
      "metadata": {
        "id": "G8H5lACJtpV7",
        "colab_type": "code",
        "colab": {
          "base_uri": "https://localhost:8080/",
          "height": 202
        },
        "outputId": "09c10bf4-6da9-4e5c-f2d7-95010f6c6f2a"
      },
      "source": [
        "train.head()"
      ],
      "execution_count": null,
      "outputs": [
        {
          "output_type": "execute_result",
          "data": {
            "text/html": [
              "<div>\n",
              "<style scoped>\n",
              "    .dataframe tbody tr th:only-of-type {\n",
              "        vertical-align: middle;\n",
              "    }\n",
              "\n",
              "    .dataframe tbody tr th {\n",
              "        vertical-align: top;\n",
              "    }\n",
              "\n",
              "    .dataframe thead th {\n",
              "        text-align: right;\n",
              "    }\n",
              "</style>\n",
              "<table border=\"1\" class=\"dataframe\">\n",
              "  <thead>\n",
              "    <tr style=\"text-align: right;\">\n",
              "      <th></th>\n",
              "      <th>ID</th>\n",
              "      <th>TITLE</th>\n",
              "      <th>ABSTRACT</th>\n",
              "      <th>Computer Science</th>\n",
              "      <th>Physics</th>\n",
              "      <th>Mathematics</th>\n",
              "      <th>Statistics</th>\n",
              "      <th>Quantitative Biology</th>\n",
              "      <th>Quantitative Finance</th>\n",
              "    </tr>\n",
              "  </thead>\n",
              "  <tbody>\n",
              "    <tr>\n",
              "      <th>0</th>\n",
              "      <td>1</td>\n",
              "      <td>Reconstructing Subject-Specific Effect Maps</td>\n",
              "      <td>Predictive models allow subject-specific inf...</td>\n",
              "      <td>1</td>\n",
              "      <td>0</td>\n",
              "      <td>0</td>\n",
              "      <td>0</td>\n",
              "      <td>0</td>\n",
              "      <td>0</td>\n",
              "    </tr>\n",
              "    <tr>\n",
              "      <th>1</th>\n",
              "      <td>2</td>\n",
              "      <td>Rotation Invariance Neural Network</td>\n",
              "      <td>Rotation invariance and translation invarian...</td>\n",
              "      <td>1</td>\n",
              "      <td>0</td>\n",
              "      <td>0</td>\n",
              "      <td>0</td>\n",
              "      <td>0</td>\n",
              "      <td>0</td>\n",
              "    </tr>\n",
              "    <tr>\n",
              "      <th>2</th>\n",
              "      <td>3</td>\n",
              "      <td>Spherical polyharmonics and Poisson kernels fo...</td>\n",
              "      <td>We introduce and develop the notion of spher...</td>\n",
              "      <td>0</td>\n",
              "      <td>0</td>\n",
              "      <td>1</td>\n",
              "      <td>0</td>\n",
              "      <td>0</td>\n",
              "      <td>0</td>\n",
              "    </tr>\n",
              "    <tr>\n",
              "      <th>3</th>\n",
              "      <td>4</td>\n",
              "      <td>A finite element approximation for the stochas...</td>\n",
              "      <td>The stochastic Landau--Lifshitz--Gilbert (LL...</td>\n",
              "      <td>0</td>\n",
              "      <td>0</td>\n",
              "      <td>1</td>\n",
              "      <td>0</td>\n",
              "      <td>0</td>\n",
              "      <td>0</td>\n",
              "    </tr>\n",
              "    <tr>\n",
              "      <th>4</th>\n",
              "      <td>5</td>\n",
              "      <td>Comparative study of Discrete Wavelet Transfor...</td>\n",
              "      <td>Fourier-transform infra-red (FTIR) spectra o...</td>\n",
              "      <td>1</td>\n",
              "      <td>0</td>\n",
              "      <td>0</td>\n",
              "      <td>1</td>\n",
              "      <td>0</td>\n",
              "      <td>0</td>\n",
              "    </tr>\n",
              "  </tbody>\n",
              "</table>\n",
              "</div>"
            ],
            "text/plain": [
              "   ID  ... Quantitative Finance\n",
              "0   1  ...                    0\n",
              "1   2  ...                    0\n",
              "2   3  ...                    0\n",
              "3   4  ...                    0\n",
              "4   5  ...                    0\n",
              "\n",
              "[5 rows x 9 columns]"
            ]
          },
          "metadata": {
            "tags": []
          },
          "execution_count": 4
        }
      ]
    },
    {
      "cell_type": "code",
      "metadata": {
        "id": "-1zG4iZ61hM5",
        "colab_type": "code",
        "colab": {
          "base_uri": "https://localhost:8080/",
          "height": 121
        },
        "outputId": "7f6a0ff8-070e-4045-99ab-5d05713daa7a"
      },
      "source": [
        "print(train[\"Computer Science\"].nunique())\n",
        "print(train.Physics.nunique())\n",
        "print(train.Mathematics.nunique())\n",
        "print(train.Statistics.nunique())\n",
        "print(train[\"Quantitative Biology\"].nunique())\n",
        "print(train[\"Quantitative Finance\"].nunique())"
      ],
      "execution_count": null,
      "outputs": [
        {
          "output_type": "stream",
          "text": [
            "2\n",
            "2\n",
            "2\n",
            "2\n",
            "2\n",
            "2\n"
          ],
          "name": "stdout"
        }
      ]
    },
    {
      "cell_type": "code",
      "metadata": {
        "id": "uJILIjUxMzB9",
        "colab_type": "code",
        "colab": {
          "base_uri": "https://localhost:8080/",
          "height": 329
        },
        "outputId": "a7afbdc5-2aeb-4a28-e55d-d9ca0cc51f98"
      },
      "source": [
        "print(train[\"Computer Science\"].value_counts())\n",
        "print(train[\"Physics\"].value_counts())\n",
        "print(train[\"Mathematics\"].value_counts())\n",
        "print(train[\"Statistics\"].value_counts())\n",
        "print(train[\"Quantitative Biology\"].value_counts())\n",
        "print(train[\"Quantitative Finance\"].value_counts())"
      ],
      "execution_count": null,
      "outputs": [
        {
          "output_type": "stream",
          "text": [
            "0    12378\n",
            "1     8594\n",
            "Name: Computer Science, dtype: int64\n",
            "0    14959\n",
            "1     6013\n",
            "Name: Physics, dtype: int64\n",
            "0    15354\n",
            "1     5618\n",
            "Name: Mathematics, dtype: int64\n",
            "0    15766\n",
            "1     5206\n",
            "Name: Statistics, dtype: int64\n",
            "0    20385\n",
            "1      587\n",
            "Name: Quantitative Biology, dtype: int64\n",
            "0    20723\n",
            "1      249\n",
            "Name: Quantitative Finance, dtype: int64\n"
          ],
          "name": "stdout"
        }
      ]
    },
    {
      "cell_type": "code",
      "metadata": {
        "id": "gaqELnONrg-N",
        "colab_type": "code",
        "colab": {
          "base_uri": "https://localhost:8080/",
          "height": 306
        },
        "outputId": "e9ac0fb0-14a9-4ad1-da46-e78aee5851e3"
      },
      "source": [
        "df_train = pd.read_csv('/content/train.csv')\n",
        "df_train['train_flag'] = 1\n",
        "print(df_train.shape)\n",
        "\n",
        "\n",
        "df_test = pd.read_csv('/content/test.csv')\n",
        "df_test['train_flag'] = 0\n",
        "df_test['Computer Science'] =    -1\n",
        "df_test['Physics'] =             -1\n",
        "df_test['Mathematics'] =         -1\n",
        "df_test['Statistics'] =          -1\n",
        "df_test['Quantitative Biology'] =-1\n",
        "df_test['Quantitative Finance'] =-1\n",
        "\n",
        "print(df_test.shape)\n",
        "\n",
        "df_data = pd.concat([df_train,df_test])\n",
        "print(df_data.shape)\n",
        "df_data = df_data.reset_index(drop=True)\n",
        "df_data.head()"
      ],
      "execution_count": 207,
      "outputs": [
        {
          "output_type": "stream",
          "text": [
            "(20972, 10)\n",
            "(8989, 10)\n",
            "(29961, 10)\n"
          ],
          "name": "stdout"
        },
        {
          "output_type": "execute_result",
          "data": {
            "text/html": [
              "<div>\n",
              "<style scoped>\n",
              "    .dataframe tbody tr th:only-of-type {\n",
              "        vertical-align: middle;\n",
              "    }\n",
              "\n",
              "    .dataframe tbody tr th {\n",
              "        vertical-align: top;\n",
              "    }\n",
              "\n",
              "    .dataframe thead th {\n",
              "        text-align: right;\n",
              "    }\n",
              "</style>\n",
              "<table border=\"1\" class=\"dataframe\">\n",
              "  <thead>\n",
              "    <tr style=\"text-align: right;\">\n",
              "      <th></th>\n",
              "      <th>ID</th>\n",
              "      <th>TITLE</th>\n",
              "      <th>ABSTRACT</th>\n",
              "      <th>Computer Science</th>\n",
              "      <th>Physics</th>\n",
              "      <th>Mathematics</th>\n",
              "      <th>Statistics</th>\n",
              "      <th>Quantitative Biology</th>\n",
              "      <th>Quantitative Finance</th>\n",
              "      <th>train_flag</th>\n",
              "    </tr>\n",
              "  </thead>\n",
              "  <tbody>\n",
              "    <tr>\n",
              "      <th>0</th>\n",
              "      <td>1</td>\n",
              "      <td>Reconstructing Subject-Specific Effect Maps</td>\n",
              "      <td>Predictive models allow subject-specific inf...</td>\n",
              "      <td>1</td>\n",
              "      <td>0</td>\n",
              "      <td>0</td>\n",
              "      <td>0</td>\n",
              "      <td>0</td>\n",
              "      <td>0</td>\n",
              "      <td>1</td>\n",
              "    </tr>\n",
              "    <tr>\n",
              "      <th>1</th>\n",
              "      <td>2</td>\n",
              "      <td>Rotation Invariance Neural Network</td>\n",
              "      <td>Rotation invariance and translation invarian...</td>\n",
              "      <td>1</td>\n",
              "      <td>0</td>\n",
              "      <td>0</td>\n",
              "      <td>0</td>\n",
              "      <td>0</td>\n",
              "      <td>0</td>\n",
              "      <td>1</td>\n",
              "    </tr>\n",
              "    <tr>\n",
              "      <th>2</th>\n",
              "      <td>3</td>\n",
              "      <td>Spherical polyharmonics and Poisson kernels fo...</td>\n",
              "      <td>We introduce and develop the notion of spher...</td>\n",
              "      <td>0</td>\n",
              "      <td>0</td>\n",
              "      <td>1</td>\n",
              "      <td>0</td>\n",
              "      <td>0</td>\n",
              "      <td>0</td>\n",
              "      <td>1</td>\n",
              "    </tr>\n",
              "    <tr>\n",
              "      <th>3</th>\n",
              "      <td>4</td>\n",
              "      <td>A finite element approximation for the stochas...</td>\n",
              "      <td>The stochastic Landau--Lifshitz--Gilbert (LL...</td>\n",
              "      <td>0</td>\n",
              "      <td>0</td>\n",
              "      <td>1</td>\n",
              "      <td>0</td>\n",
              "      <td>0</td>\n",
              "      <td>0</td>\n",
              "      <td>1</td>\n",
              "    </tr>\n",
              "    <tr>\n",
              "      <th>4</th>\n",
              "      <td>5</td>\n",
              "      <td>Comparative study of Discrete Wavelet Transfor...</td>\n",
              "      <td>Fourier-transform infra-red (FTIR) spectra o...</td>\n",
              "      <td>1</td>\n",
              "      <td>0</td>\n",
              "      <td>0</td>\n",
              "      <td>1</td>\n",
              "      <td>0</td>\n",
              "      <td>0</td>\n",
              "      <td>1</td>\n",
              "    </tr>\n",
              "  </tbody>\n",
              "</table>\n",
              "</div>"
            ],
            "text/plain": [
              "   ID  ... train_flag\n",
              "0   1  ...          1\n",
              "1   2  ...          1\n",
              "2   3  ...          1\n",
              "3   4  ...          1\n",
              "4   5  ...          1\n",
              "\n",
              "[5 rows x 10 columns]"
            ]
          },
          "metadata": {
            "tags": []
          },
          "execution_count": 207
        }
      ]
    },
    {
      "cell_type": "code",
      "metadata": {
        "id": "pvcaP0APmdaw",
        "colab_type": "code",
        "colab": {}
      },
      "source": [
        "from nltk.tokenize import RegexpTokenizer\n",
        "from keras.preprocessing.text import Tokenizer\n",
        "from keras.preprocessing.sequence import pad_sequences"
      ],
      "execution_count": 208,
      "outputs": []
    },
    {
      "cell_type": "code",
      "metadata": {
        "id": "UuXs2vK_2SWQ",
        "colab_type": "code",
        "colab": {
          "base_uri": "https://localhost:8080/",
          "height": 210
        },
        "outputId": "8163d298-5283-45a7-ccde-23030d502c45"
      },
      "source": [
        "# here u will get an array with various strings seperated by space\n",
        "tkr = RegexpTokenizer('[a-zA-Z]+')\n",
        "train_title = []\n",
        "train_abs = []\n",
        "computer = []\n",
        "physics = []\n",
        "maths = []\n",
        "stats = []\n",
        "bio = []\n",
        "finance = []\n",
        "\n",
        "test_title = []\n",
        "test_abs = []\n",
        "colID = []\n",
        "\n",
        "def getTitle(title):\n",
        "    title = str(title).lower()\n",
        "    title = tkr.tokenize(title)\n",
        "    title = \" \".join(title)\n",
        "    return title\n",
        "\n",
        "def getAbstract(abstract):\n",
        "    abstract = str(abstract).lower()\n",
        "    abstract = tkr.tokenize(abstract)\n",
        "    abstract = \" \".join(abstract)\n",
        "    return abstract\n",
        "\n",
        "for i in range(len(df_data)):\n",
        "    abstract = df_data[\"ABSTRACT\"][i]\n",
        "    abstract = getAbstract(abstract)\n",
        "\n",
        "    title = df_data[\"TITLE\"][i]\n",
        "    title = getTitle(title)\n",
        "\n",
        "\n",
        "\n",
        "    if df_data[\"train_flag\"][i] == 1:\n",
        "        train_title.append(title)\n",
        "        train_abs.append(abstract)\n",
        "\n",
        "        computer.append(df_data[\"Computer Science\"][i])\n",
        "        physics.append(df_data[\"Physics\"][i])\n",
        "        maths.append(df_data[\"Mathematics\"][i])\n",
        "        stats.append(df_data[\"Statistics\"][i])\n",
        "        bio.append(df_data[\"Quantitative Biology\"][i])\n",
        "        finance.append(df_data[\"Quantitative Finance\"][i])\n",
        "    else:\n",
        "        test_title.append(title)\n",
        "        test_abs.append(abstract)\n",
        "        colID.append(df_data[\"ID\"][i])\n",
        "        \n",
        "\n",
        "print(df_train.loc[[3]][\"TITLE\"].values)\n",
        "print(df_train.loc[[3]][\"ABSTRACT\"].values)\n",
        "\n",
        "print(train_title[3])\n",
        "print(train_abs[3])\n",
        "print(len(train_abs))\n",
        "\n",
        "\n",
        "print(df_test.loc[[3]][\"TITLE\"].values)\n",
        "print(df_test.loc[[3]][\"ABSTRACT\"].values)\n",
        "\n",
        "print(test_title[3])\n",
        "print(test_abs[3])\n",
        "print(len(test_abs))\n",
        "\n",
        "# print(computer[:10])\n",
        "# print(physics[:10])\n",
        "# print(maths[:10])\n",
        "# print(stats[:10])\n",
        "# print(bio[:10])\n",
        "# print(finance[:10])"
      ],
      "execution_count": 228,
      "outputs": [
        {
          "output_type": "stream",
          "text": [
            "['A finite element approximation for the stochastic Maxwell--Landau--Lifshitz--Gilbert system']\n",
            "['  The stochastic Landau--Lifshitz--Gilbert (LLG) equation coupled with the\\nMaxwell equations (the so called stochastic MLLG system) describes the creation\\nof domain walls and vortices (fundamental objects for the novel nanostructured\\nmagnetic memories). We first reformulate the stochastic LLG equation into an\\nequation with time-differentiable solutions. We then propose a convergent\\n$\\\\theta$-linear scheme to approximate the solutions of the reformulated system.\\nAs a consequence, we prove convergence of the approximate solutions, with no or\\nminor conditions on time and space steps (depending on the value of $\\\\theta$).\\nHence, we prove the existence of weak martingale solutions of the stochastic\\nMLLG system. Numerical results are presented to show applicability of the\\nmethod.\\n']\n",
            "a finite element approximation for the stochastic maxwell landau lifshitz gilbert system\n",
            "the stochastic landau lifshitz gilbert llg equation coupled with the maxwell equations the so called stochastic mllg system describes the creation of domain walls and vortices fundamental objects for the novel nanostructured magnetic memories we first reformulate the stochastic llg equation into an equation with time differentiable solutions we then propose a convergent theta linear scheme to approximate the solutions of the reformulated system as a consequence we prove convergence of the approximate solutions with no or minor conditions on time and space steps depending on the value of theta hence we prove the existence of weak martingale solutions of the stochastic mllg system numerical results are presented to show applicability of the method\n",
            "20972\n",
            "['The $Gaia$-ESO Survey: the inner disk intermediate-age open cluster NGC 6802']\n",
            "['  Milky Way open clusters are very diverse in terms of age, chemical\\ncomposition, and kinematic properties. Intermediate-age and old open clusters\\nare less common, and it is even harder to find them inside the solar\\nGalactocentric radius, due to the high mortality rate and strong extinction\\ninside this region. NGC 6802 is one of the inner disk open clusters (IOCs)\\nobserved by the $Gaia$-ESO survey (GES). This cluster is an important target\\nfor calibrating the abundances derived in the survey due to the kinematic and\\nchemical homogeneity of the members in open clusters. Using the measurements\\nfrom $Gaia$-ESO internal data release 4 (iDR4), we identify 95 main-sequence\\ndwarfs as cluster members from the GIRAFFE target list, and eight giants as\\ncluster members from the UVES target list. The dwarf cluster members have a\\nmedian radial velocity of $13.6\\\\pm1.9$ km s$^{-1}$, while the giant cluster\\nmembers have a median radial velocity of $12.0\\\\pm0.9$ km s$^{-1}$ and a median\\n[Fe/H] of $0.10\\\\pm0.02$ dex. The color-magnitude diagram of these cluster\\nmembers suggests an age of $0.9\\\\pm0.1$ Gyr, with $(m-M)_0=11.4$ and\\n$E(B-V)=0.86$. We perform the first detailed chemical abundance analysis of NGC\\n6802, including 27 elemental species. To gain a more general picture about\\nIOCs, the measurements of NGC 6802 are compared with those of other IOCs\\npreviously studied by GES, that is, NGC 4815, Trumpler 20, NGC 6705, and\\nBerkeley 81. NGC 6802 shows similar C, N, Na, and Al abundances as other IOCs.\\nThese elements are compared with nucleosynthetic models as a function of\\ncluster turn-off mass. The $\\\\alpha$, iron-peak, and neutron-capture elements\\nare also explored in a self-consistent way.\\n']\n",
            "the gaia eso survey the inner disk intermediate age open cluster ngc\n",
            "milky way open clusters are very diverse in terms of age chemical composition and kinematic properties intermediate age and old open clusters are less common and it is even harder to find them inside the solar galactocentric radius due to the high mortality rate and strong extinction inside this region ngc is one of the inner disk open clusters iocs observed by the gaia eso survey ges this cluster is an important target for calibrating the abundances derived in the survey due to the kinematic and chemical homogeneity of the members in open clusters using the measurements from gaia eso internal data release idr we identify main sequence dwarfs as cluster members from the giraffe target list and eight giants as cluster members from the uves target list the dwarf cluster members have a median radial velocity of pm km s while the giant cluster members have a median radial velocity of pm km s and a median fe h of pm dex the color magnitude diagram of these cluster members suggests an age of pm gyr with m m and e b v we perform the first detailed chemical abundance analysis of ngc including elemental species to gain a more general picture about iocs the measurements of ngc are compared with those of other iocs previously studied by ges that is ngc trumpler ngc and berkeley ngc shows similar c n na and al abundances as other iocs these elements are compared with nucleosynthetic models as a function of cluster turn off mass the alpha iron peak and neutron capture elements are also explored in a self consistent way\n",
            "8989\n"
          ],
          "name": "stdout"
        }
      ]
    },
    {
      "cell_type": "code",
      "metadata": {
        "id": "DzEM6nqtVmN8",
        "colab_type": "code",
        "colab": {}
      },
      "source": [
        "computer = np.array(computer)\n",
        "maths = np.array(maths)\n",
        "physics = np.array(physics)\n",
        "stats = np.array(stats)\n",
        "bio = np.array(bio)\n",
        "finance = np.array(finance)\n",
        "\n"
      ],
      "execution_count": null,
      "outputs": []
    },
    {
      "cell_type": "code",
      "metadata": {
        "id": "8JlwMFbJkD11",
        "colab_type": "code",
        "colab": {
          "base_uri": "https://localhost:8080/",
          "height": 124
        },
        "outputId": "c7388a89-5169-4556-a4ff-9b527f7e509b"
      },
      "source": [
        "import nltk\n",
        "nltk.download('stopwords')\n",
        "from nltk.corpus import stopwords\n",
        "stop_words = stopwords.words('english')\n",
        "print(len(stop_words) , stop_words)\n",
        "\n",
        "for i in range(97,97+26):\n",
        "    stop_words.append(chr(i))\n",
        "print(len(stop_words) , stop_words)\n",
        "\n",
        "stop_words = list(set(stop_words))\n",
        "print(len(stop_words) , stop_words)\n",
        "\n",
        "\n",
        "# stop_words = []\n",
        "# print(len(stop_words) , stop_words)\n"
      ],
      "execution_count": 240,
      "outputs": [
        {
          "output_type": "stream",
          "text": [
            "[nltk_data] Downloading package stopwords to /root/nltk_data...\n",
            "[nltk_data]   Package stopwords is already up-to-date!\n",
            "179 ['i', 'me', 'my', 'myself', 'we', 'our', 'ours', 'ourselves', 'you', \"you're\", \"you've\", \"you'll\", \"you'd\", 'your', 'yours', 'yourself', 'yourselves', 'he', 'him', 'his', 'himself', 'she', \"she's\", 'her', 'hers', 'herself', 'it', \"it's\", 'its', 'itself', 'they', 'them', 'their', 'theirs', 'themselves', 'what', 'which', 'who', 'whom', 'this', 'that', \"that'll\", 'these', 'those', 'am', 'is', 'are', 'was', 'were', 'be', 'been', 'being', 'have', 'has', 'had', 'having', 'do', 'does', 'did', 'doing', 'a', 'an', 'the', 'and', 'but', 'if', 'or', 'because', 'as', 'until', 'while', 'of', 'at', 'by', 'for', 'with', 'about', 'against', 'between', 'into', 'through', 'during', 'before', 'after', 'above', 'below', 'to', 'from', 'up', 'down', 'in', 'out', 'on', 'off', 'over', 'under', 'again', 'further', 'then', 'once', 'here', 'there', 'when', 'where', 'why', 'how', 'all', 'any', 'both', 'each', 'few', 'more', 'most', 'other', 'some', 'such', 'no', 'nor', 'not', 'only', 'own', 'same', 'so', 'than', 'too', 'very', 's', 't', 'can', 'will', 'just', 'don', \"don't\", 'should', \"should've\", 'now', 'd', 'll', 'm', 'o', 're', 've', 'y', 'ain', 'aren', \"aren't\", 'couldn', \"couldn't\", 'didn', \"didn't\", 'doesn', \"doesn't\", 'hadn', \"hadn't\", 'hasn', \"hasn't\", 'haven', \"haven't\", 'isn', \"isn't\", 'ma', 'mightn', \"mightn't\", 'mustn', \"mustn't\", 'needn', \"needn't\", 'shan', \"shan't\", 'shouldn', \"shouldn't\", 'wasn', \"wasn't\", 'weren', \"weren't\", 'won', \"won't\", 'wouldn', \"wouldn't\"]\n",
            "205 ['i', 'me', 'my', 'myself', 'we', 'our', 'ours', 'ourselves', 'you', \"you're\", \"you've\", \"you'll\", \"you'd\", 'your', 'yours', 'yourself', 'yourselves', 'he', 'him', 'his', 'himself', 'she', \"she's\", 'her', 'hers', 'herself', 'it', \"it's\", 'its', 'itself', 'they', 'them', 'their', 'theirs', 'themselves', 'what', 'which', 'who', 'whom', 'this', 'that', \"that'll\", 'these', 'those', 'am', 'is', 'are', 'was', 'were', 'be', 'been', 'being', 'have', 'has', 'had', 'having', 'do', 'does', 'did', 'doing', 'a', 'an', 'the', 'and', 'but', 'if', 'or', 'because', 'as', 'until', 'while', 'of', 'at', 'by', 'for', 'with', 'about', 'against', 'between', 'into', 'through', 'during', 'before', 'after', 'above', 'below', 'to', 'from', 'up', 'down', 'in', 'out', 'on', 'off', 'over', 'under', 'again', 'further', 'then', 'once', 'here', 'there', 'when', 'where', 'why', 'how', 'all', 'any', 'both', 'each', 'few', 'more', 'most', 'other', 'some', 'such', 'no', 'nor', 'not', 'only', 'own', 'same', 'so', 'than', 'too', 'very', 's', 't', 'can', 'will', 'just', 'don', \"don't\", 'should', \"should've\", 'now', 'd', 'll', 'm', 'o', 're', 've', 'y', 'ain', 'aren', \"aren't\", 'couldn', \"couldn't\", 'didn', \"didn't\", 'doesn', \"doesn't\", 'hadn', \"hadn't\", 'hasn', \"hasn't\", 'haven', \"haven't\", 'isn', \"isn't\", 'ma', 'mightn', \"mightn't\", 'mustn', \"mustn't\", 'needn', \"needn't\", 'shan', \"shan't\", 'shouldn', \"shouldn't\", 'wasn', \"wasn't\", 'weren', \"weren't\", 'won', \"won't\", 'wouldn', \"wouldn't\", 'a', 'b', 'c', 'd', 'e', 'f', 'g', 'h', 'i', 'j', 'k', 'l', 'm', 'n', 'o', 'p', 'q', 'r', 's', 't', 'u', 'v', 'w', 'x', 'y', 'z']\n",
            "197 ['have', 'just', \"wouldn't\", 'r', \"hasn't\", 'w', 'e', 'that', 'i', 'is', \"don't\", 'very', 'again', 'your', \"isn't\", 'from', \"couldn't\", 'them', 'or', 'am', 'did', 'mightn', 'so', 'an', 'g', \"aren't\", 'those', 'if', 'theirs', 'had', 'each', 'y', 'hadn', 'no', 'being', \"hadn't\", 'further', 'own', 'on', 'how', 'themselves', 'their', 'of', 'as', 'having', 's', 'few', 'doesn', 'all', 'm', \"it's\", 'him', 'nor', 'we', 'haven', 't', \"you'd\", 'was', 'yourself', 'k', 'will', 'and', 'any', \"haven't\", 'after', 'with', 'z', 'through', 'c', 'u', \"wasn't\", 'herself', \"won't\", 'l', 'into', 'aren', 'won', 'such', 'wasn', 'b', 'do', 'p', 'j', 'doing', \"mightn't\", 'were', \"weren't\", \"doesn't\", 'where', 've', 'they', 'by', 'than', 'mustn', 'now', \"she's\", 'same', 'needn', \"shan't\", 'in', 'ma', 'to', 'too', 'this', 'f', 'been', 'about', \"needn't\", 'be', 'above', 'out', 'has', \"you've\", 'h', \"that'll\", 'once', 'not', 'more', 'she', 'our', 'whom', 'hers', 'd', 'which', 'up', 'q', 'what', 'ourselves', \"shouldn't\", 'myself', 'does', 'down', 'v', 'it', 'couldn', 'shan', 'you', 'are', 'ours', 'at', 'when', 'hasn', 'll', 'here', 'didn', 'shouldn', 'yourselves', 'off', 'o', 'other', 'most', \"didn't\", 'n', 'against', 'weren', 'can', 'yours', 'a', 'should', 'because', \"mustn't\", \"should've\", 'her', 'wouldn', \"you'll\", 'his', 'he', 'don', 'during', 'the', 'there', 'over', 'himself', 'between', 'both', 'only', 'isn', 'under', 'but', 'before', 'until', 'my', 'for', 'ain', 'these', \"you're\", 'its', 'itself', 'below', 'why', 'x', 'who', 're', 'while', 'me', 'then', 'some']\n"
          ],
          "name": "stdout"
        }
      ]
    },
    {
      "cell_type": "code",
      "metadata": {
        "id": "fhQTC3HBjSQL",
        "colab_type": "code",
        "colab": {
          "base_uri": "https://localhost:8080/",
          "height": 210
        },
        "outputId": "8a15ee9a-7cf5-434c-d6b8-17dfb1ce1034"
      },
      "source": [
        "arr1 = []\n",
        "for ind in train_abs:\n",
        "    ind = ind.split()\n",
        "    arr = []\n",
        "    for word in ind:\n",
        "        if word not in stop_words: \n",
        "            arr.append(word)\n",
        "    sent1 = \" \".join(arr)\n",
        "    arr1.append(sent1)\n",
        "\n",
        "\n",
        "arr2 = []\n",
        "for ind in test_abs:\n",
        "    ind = ind.split()\n",
        "    arr = []\n",
        "    for word in ind:\n",
        "        if word not in stop_words: \n",
        "            arr.append(word)\n",
        "    sent2 = \" \".join(arr)\n",
        "    arr2.append(sent2)\n",
        "\n",
        "\n",
        "print(df_train.loc[[3]][\"TITLE\"].values)\n",
        "print(df_train.loc[[3]][\"ABSTRACT\"].values)\n",
        "\n",
        "print(train_title[3])\n",
        "print(arr1[3])\n",
        "print(len(train_title))\n",
        "\n",
        "\n",
        "print(df_test.loc[[3]][\"TITLE\"].values)\n",
        "print(df_test.loc[[3]][\"ABSTRACT\"].values)\n",
        "\n",
        "print(test_title[3])\n",
        "print(arr2[3])\n",
        "print(len(test_title))"
      ],
      "execution_count": 241,
      "outputs": [
        {
          "output_type": "stream",
          "text": [
            "['A finite element approximation for the stochastic Maxwell--Landau--Lifshitz--Gilbert system']\n",
            "['  The stochastic Landau--Lifshitz--Gilbert (LLG) equation coupled with the\\nMaxwell equations (the so called stochastic MLLG system) describes the creation\\nof domain walls and vortices (fundamental objects for the novel nanostructured\\nmagnetic memories). We first reformulate the stochastic LLG equation into an\\nequation with time-differentiable solutions. We then propose a convergent\\n$\\\\theta$-linear scheme to approximate the solutions of the reformulated system.\\nAs a consequence, we prove convergence of the approximate solutions, with no or\\nminor conditions on time and space steps (depending on the value of $\\\\theta$).\\nHence, we prove the existence of weak martingale solutions of the stochastic\\nMLLG system. Numerical results are presented to show applicability of the\\nmethod.\\n']\n",
            "a finite element approximation for the stochastic maxwell landau lifshitz gilbert system\n",
            "stochastic landau lifshitz gilbert llg equation coupled maxwell equations called stochastic mllg system describes creation domain walls vortices fundamental objects novel nanostructured magnetic memories first reformulate stochastic llg equation equation time differentiable solutions propose convergent theta linear scheme approximate solutions reformulated system consequence prove convergence approximate solutions minor conditions time space steps depending value theta hence prove existence weak martingale solutions stochastic mllg system numerical results presented show applicability method\n",
            "20972\n",
            "['The $Gaia$-ESO Survey: the inner disk intermediate-age open cluster NGC 6802']\n",
            "['  Milky Way open clusters are very diverse in terms of age, chemical\\ncomposition, and kinematic properties. Intermediate-age and old open clusters\\nare less common, and it is even harder to find them inside the solar\\nGalactocentric radius, due to the high mortality rate and strong extinction\\ninside this region. NGC 6802 is one of the inner disk open clusters (IOCs)\\nobserved by the $Gaia$-ESO survey (GES). This cluster is an important target\\nfor calibrating the abundances derived in the survey due to the kinematic and\\nchemical homogeneity of the members in open clusters. Using the measurements\\nfrom $Gaia$-ESO internal data release 4 (iDR4), we identify 95 main-sequence\\ndwarfs as cluster members from the GIRAFFE target list, and eight giants as\\ncluster members from the UVES target list. The dwarf cluster members have a\\nmedian radial velocity of $13.6\\\\pm1.9$ km s$^{-1}$, while the giant cluster\\nmembers have a median radial velocity of $12.0\\\\pm0.9$ km s$^{-1}$ and a median\\n[Fe/H] of $0.10\\\\pm0.02$ dex. The color-magnitude diagram of these cluster\\nmembers suggests an age of $0.9\\\\pm0.1$ Gyr, with $(m-M)_0=11.4$ and\\n$E(B-V)=0.86$. We perform the first detailed chemical abundance analysis of NGC\\n6802, including 27 elemental species. To gain a more general picture about\\nIOCs, the measurements of NGC 6802 are compared with those of other IOCs\\npreviously studied by GES, that is, NGC 4815, Trumpler 20, NGC 6705, and\\nBerkeley 81. NGC 6802 shows similar C, N, Na, and Al abundances as other IOCs.\\nThese elements are compared with nucleosynthetic models as a function of\\ncluster turn-off mass. The $\\\\alpha$, iron-peak, and neutron-capture elements\\nare also explored in a self-consistent way.\\n']\n",
            "the gaia eso survey the inner disk intermediate age open cluster ngc\n",
            "milky way open clusters diverse terms age chemical composition kinematic properties intermediate age old open clusters less common even harder find inside solar galactocentric radius due high mortality rate strong extinction inside region ngc one inner disk open clusters iocs observed gaia eso survey ges cluster important target calibrating abundances derived survey due kinematic chemical homogeneity members open clusters using measurements gaia eso internal data release idr identify main sequence dwarfs cluster members giraffe target list eight giants cluster members uves target list dwarf cluster members median radial velocity pm km giant cluster members median radial velocity pm km median fe pm dex color magnitude diagram cluster members suggests age pm gyr perform first detailed chemical abundance analysis ngc including elemental species gain general picture iocs measurements ngc compared iocs previously studied ges ngc trumpler ngc berkeley ngc shows similar na al abundances iocs elements compared nucleosynthetic models function cluster turn mass alpha iron peak neutron capture elements also explored self consistent way\n",
            "8989\n"
          ],
          "name": "stdout"
        }
      ]
    },
    {
      "cell_type": "code",
      "metadata": {
        "id": "-zwkBSCXCJfk",
        "colab_type": "code",
        "colab": {
          "base_uri": "https://localhost:8080/",
          "height": 141
        },
        "outputId": "452eac60-aa5a-48e8-ed50-c56720d7c346"
      },
      "source": [
        "train_pr = []\n",
        "for ind in range(len(train_title)):\n",
        "    st = train_title[ind] + \" \" + arr1[ind]\n",
        "    train_pr.append(st)\n",
        "\n",
        "test_pr = []\n",
        "for ind in range(len(test_title)):\n",
        "    st = test_title[ind] + \" \" + arr2[ind]\n",
        "    test_pr.append(st)\n",
        "\n",
        "\n",
        "\n",
        "print(df_train.loc[[3]][\"TITLE\"].values)\n",
        "print(df_train.loc[[3]][\"ABSTRACT\"].values)\n",
        "print(train_pr[3])\n",
        "\n",
        "print(df_test.loc[[3]][\"TITLE\"].values)\n",
        "print(df_test.loc[[3]][\"ABSTRACT\"].values)\n",
        "print(test_pr[3])\n"
      ],
      "execution_count": 242,
      "outputs": [
        {
          "output_type": "stream",
          "text": [
            "['A finite element approximation for the stochastic Maxwell--Landau--Lifshitz--Gilbert system']\n",
            "['  The stochastic Landau--Lifshitz--Gilbert (LLG) equation coupled with the\\nMaxwell equations (the so called stochastic MLLG system) describes the creation\\nof domain walls and vortices (fundamental objects for the novel nanostructured\\nmagnetic memories). We first reformulate the stochastic LLG equation into an\\nequation with time-differentiable solutions. We then propose a convergent\\n$\\\\theta$-linear scheme to approximate the solutions of the reformulated system.\\nAs a consequence, we prove convergence of the approximate solutions, with no or\\nminor conditions on time and space steps (depending on the value of $\\\\theta$).\\nHence, we prove the existence of weak martingale solutions of the stochastic\\nMLLG system. Numerical results are presented to show applicability of the\\nmethod.\\n']\n",
            "a finite element approximation for the stochastic maxwell landau lifshitz gilbert system stochastic landau lifshitz gilbert llg equation coupled maxwell equations called stochastic mllg system describes creation domain walls vortices fundamental objects novel nanostructured magnetic memories first reformulate stochastic llg equation equation time differentiable solutions propose convergent theta linear scheme approximate solutions reformulated system consequence prove convergence approximate solutions minor conditions time space steps depending value theta hence prove existence weak martingale solutions stochastic mllg system numerical results presented show applicability method\n",
            "['The $Gaia$-ESO Survey: the inner disk intermediate-age open cluster NGC 6802']\n",
            "['  Milky Way open clusters are very diverse in terms of age, chemical\\ncomposition, and kinematic properties. Intermediate-age and old open clusters\\nare less common, and it is even harder to find them inside the solar\\nGalactocentric radius, due to the high mortality rate and strong extinction\\ninside this region. NGC 6802 is one of the inner disk open clusters (IOCs)\\nobserved by the $Gaia$-ESO survey (GES). This cluster is an important target\\nfor calibrating the abundances derived in the survey due to the kinematic and\\nchemical homogeneity of the members in open clusters. Using the measurements\\nfrom $Gaia$-ESO internal data release 4 (iDR4), we identify 95 main-sequence\\ndwarfs as cluster members from the GIRAFFE target list, and eight giants as\\ncluster members from the UVES target list. The dwarf cluster members have a\\nmedian radial velocity of $13.6\\\\pm1.9$ km s$^{-1}$, while the giant cluster\\nmembers have a median radial velocity of $12.0\\\\pm0.9$ km s$^{-1}$ and a median\\n[Fe/H] of $0.10\\\\pm0.02$ dex. The color-magnitude diagram of these cluster\\nmembers suggests an age of $0.9\\\\pm0.1$ Gyr, with $(m-M)_0=11.4$ and\\n$E(B-V)=0.86$. We perform the first detailed chemical abundance analysis of NGC\\n6802, including 27 elemental species. To gain a more general picture about\\nIOCs, the measurements of NGC 6802 are compared with those of other IOCs\\npreviously studied by GES, that is, NGC 4815, Trumpler 20, NGC 6705, and\\nBerkeley 81. NGC 6802 shows similar C, N, Na, and Al abundances as other IOCs.\\nThese elements are compared with nucleosynthetic models as a function of\\ncluster turn-off mass. The $\\\\alpha$, iron-peak, and neutron-capture elements\\nare also explored in a self-consistent way.\\n']\n",
            "the gaia eso survey the inner disk intermediate age open cluster ngc milky way open clusters diverse terms age chemical composition kinematic properties intermediate age old open clusters less common even harder find inside solar galactocentric radius due high mortality rate strong extinction inside region ngc one inner disk open clusters iocs observed gaia eso survey ges cluster important target calibrating abundances derived survey due kinematic chemical homogeneity members open clusters using measurements gaia eso internal data release idr identify main sequence dwarfs cluster members giraffe target list eight giants cluster members uves target list dwarf cluster members median radial velocity pm km giant cluster members median radial velocity pm km median fe pm dex color magnitude diagram cluster members suggests age pm gyr perform first detailed chemical abundance analysis ngc including elemental species gain general picture iocs measurements ngc compared iocs previously studied ges ngc trumpler ngc berkeley ngc shows similar na al abundances iocs elements compared nucleosynthetic models function cluster turn mass alpha iron peak neutron capture elements also explored self consistent way\n"
          ],
          "name": "stdout"
        }
      ]
    },
    {
      "cell_type": "code",
      "metadata": {
        "id": "KPtZixx8nVoA",
        "colab_type": "code",
        "colab": {
          "base_uri": "https://localhost:8080/",
          "height": 106
        },
        "outputId": "f72185a2-7cbf-4479-ba1c-3acc1266cb9d"
      },
      "source": [
        "# ngram_range of (1, 1) means only unigrams, (1, 2) means unigrams and bigrams, and (2, 2) means only bigrams\n",
        "# max_features len of vocabulary\n",
        "# fit_transform will be used with sentences used to generate vocab and returns train_array\n",
        "# transform is used to get test_array using the vocab generated above\n",
        "\n",
        "from sklearn.feature_extraction.text import CountVectorizer\n",
        "\n",
        "countvector = CountVectorizer(ngram_range=(1,1), max_features=11000 )\n",
        "trainX = countvector.fit_transform(train_pr)\n",
        "testX = countvector.transform(test_pr)\n",
        "\n",
        "print(len(countvector.get_feature_names()) )\n",
        "print(countvector.get_feature_names())\n",
        "print(trainX.shape , testX.shape)\n",
        "print()\n",
        "\n",
        "# print(trainX.toarray())\n",
        "# print(testX.toarray())"
      ],
      "execution_count": 276,
      "outputs": [
        {
          "output_type": "stream",
          "text": [
            "11000\n",
            "['aa', 'ab', 'abc', 'abelian', 'abell', 'aberrations', 'abilities', 'ability', 'ablation', 'able', 'abnormal', 'about', 'abridged', 'abrupt', 'absence', 'absent', 'absolute', 'absolutely', 'absorb', 'absorbed', 'absorber', 'absorbing', 'absorption', 'abstract', 'abstraction', 'abstractions', 'abstracts', 'abundance', 'abundances', 'abundant', 'ac', 'academia', 'academic', 'accelerate', 'accelerated', 'accelerates', 'accelerating', 'acceleration', 'accelerations', 'accelerator', 'accelerators', 'accelerometer', 'accept', 'acceptable', 'acceptance', 'accepted', 'accepting', 'acceptor', 'accepts', 'access', 'accessed', 'accesses', 'accessibility', 'accessible', 'accessing', 'accident', 'accidental', 'accidents', 'accommodate', 'accompanied', 'accompanying', 'accomplish', 'accomplished', 'accordance', 'according', 'accordingly', 'account', 'accounted', 'accounting', 'accounts', 'accreted', 'accreting', 'accretion', 'accumulate', 'accumulated', 'accumulation', 'accuracies', 'accuracy', 'accurate', 'accurately', 'achievable', 'achieve', 'achieved', 'achievement', 'achievements', 'achieves', 'achieving', 'acid', 'acids', 'acoustic', 'acoustics', 'acquire', 'acquired', 'acquiring', 'acquisition', 'across', 'act', 'acting', 'action', 'actionable', 'actions', 'activate', 'activated', 'activation', 'activations', 'active', 'actively', 'activities', 'activity', 'actor', 'actors', 'acts', 'actual', 'actually', 'actuated', 'actuation', 'actuator', 'actuators', 'acute', 'acyclic', 'ad', 'adaboost', 'adagrad', 'adam', 'adapt', 'adaptability', 'adaptable', 'adaptation', 'adaptations', 'adapted', 'adapting', 'adaption', 'adaptive', 'adaptively', 'adaptivity', 'adapts', 'adas', 'adatom', 'adatoms', 'adc', 'add', 'added', 'adding', 'addition', 'additional', 'additionally', 'additive', 'additivity', 'address', 'addressed', 'addresses', 'addressing', 'adds', 'adequacy', 'adequate', 'adequately', 'adhesion', 'adiabatic', 'adiabatically', 'adic', 'adjacency', 'adjacent', 'adjoint', 'adjunction', 'adjust', 'adjustable', 'adjusted', 'adjusting', 'adjustment', 'adjustments', 'adjusts', 'administrators', 'admissible', 'admit', 'admits', 'admitted', 'admitting', 'admm', 'adopt', 'adopted', 'adopting', 'adoption', 'adopts', 'ads', 'adsorbed', 'adsorption', 'advance', 'advanced', 'advancement', 'advancements', 'advances', 'advancing', 'advantage', 'advantageous', 'advantages', 'advection', 'advent', 'adversarial', 'adversarially', 'adversaries', 'adversary', 'adverse', 'advertisements', 'advertisers', 'advertising', 'advice', 'advocate', 'ae', 'aerial', 'aerodynamic', 'aerosol', 'aerosols', 'aes', 'aesthetic', 'af', 'affect', 'affected', 'affecting', 'affective', 'affects', 'affine', 'affinity', 'affirmative', 'afford', 'affordable', 'affordance', 'affordances', 'afm', 'aforementioned', 'after', 'afterwards', 'ag', 'against', 'agb', 'age', 'agencies', 'agency', 'agent', 'agents', 'ages', 'aggregate', 'aggregated', 'aggregates', 'aggregating', 'aggregation', 'aggregator', 'aggregators', 'aggressive', 'agile', 'aging', 'agn', 'agnostic', 'agns', 'ago', 'agree', 'agreed', 'agreement', 'agrees', 'agricultural', 'ahead', 'ai', 'aic', 'aid', 'aided', 'aids', 'aim', 'aimed', 'aiming', 'aims', 'air', 'airbnb', 'airborne', 'aircraft', 'airy', 'aka', 'akaike', 'akari', 'akin', 'al', 'alarm', 'alarms', 'albedo', 'albeit', 'albert', 'aleph', 'alexander', 'alexandrov', 'alexnet', 'alfv', 'algebra', 'algebraic', 'algebraically', 'algebras', 'algebroid', 'algebroids', 'algorithm', 'algorithmic', 'algorithms', 'aliasing', 'alice', 'align', 'aligned', 'aligning', 'alignment', 'alignments', 'alkali', 'all', 'allen', 'alleviate', 'alleviated', 'alleviates', 'alleviating', 'allocate', 'allocated', 'allocating', 'allocation', 'allocations', 'allow', 'allowed', 'allowing', 'allows', 'alloy', 'alloys', 'alma', 'almost', 'alone', 'along', 'alongside', 'alpha', 'alphabet', 'alphabets', 'alps', 'already', 'als', 'also', 'alter', 'alterations', 'altered', 'altering', 'alternate', 'alternating', 'alternative', 'alternatively', 'alternatives', 'alters', 'although', 'altitude', 'altmetrics', 'altogether', 'aluminum', 'always', 'alzheimer', 'amazon', 'ambient', 'ambiguities', 'ambiguity', 'ambiguous', 'amenability', 'amenable', 'america', 'american', 'amino', 'amoeba', 'among', 'amongst', 'amorphous', 'amortized', 'amount', 'amounts', 'amp', 'ampere', 'ample', 'amplification', 'amplified', 'amplifier', 'amplify', 'amplitude', 'amplitudes', 'amr', 'ams', 'amyloid', 'an', 'analog', 'analogies', 'analogous', 'analogs', 'analogue', 'analogues', 'analogy', 'analyse', 'analysed', 'analyses', 'analysing', 'analysis', 'analyst', 'analysts', 'analytic', 'analytical', 'analytically', 'analyticity', 'analytics', 'analyze', 'analyzed', 'analyzer', 'analyzes', 'analyzing', 'anarchy', 'anatomical', 'anatomy', 'ancestral', 'anchor', 'ancient', 'and', 'anderson', 'andreev', 'android', 'angiography', 'angle', 'angled', 'angles', 'angular', 'anharmonic', 'animal', 'animals', 'animation', 'anion', 'anisotropic', 'anisotropies', 'anisotropy', 'ann', 'annealed', 'annealing', 'annihilation', 'annotate', 'annotated', 'annotation', 'annotations', 'annotator', 'annotators', 'anns', 'annual', 'anomalies', 'anomalous', 'anomalously', 'anomaly', 'anonymity', 'anonymous', 'anosov', 'another', 'anova', 'ansatz', 'answer', 'answered', 'answering', 'answers', 'ant', 'antenna', 'antennas', 'anthropogenic', 'anti', 'anticipate', 'anticipated', 'anticipation', 'antiferromagnet', 'antiferromagnetic', 'antiferromagnets', 'antisymmetric', 'anyons', 'anytime', 'anywhere', 'aortic', 'ap', 'apache', 'apart', 'aperture', 'apex', 'api', 'apis', 'app', 'apparatus', 'apparent', 'apparently', 'appeal', 'appealing', 'appear', 'appearance', 'appeared', 'appearing', 'appears', 'appendix', 'appl', 'applicability', 'applicable', 'application', 'applications', 'applied', 'applies', 'apply', 'applying', 'approach', 'approached', 'approaches', 'approaching', 'appropriate', 'appropriately', 'approval', 'approx', 'approximants', 'approximate', 'approximated', 'approximately', 'approximates', 'approximating', 'approximation', 'approximations', 'apps', 'april', 'aps', 'apt', 'aqueous', 'ar', 'arabic', 'arbitrage', 'arbitrarily', 'arbitrary', 'arc', 'arch', 'archaeological', 'archetypes', 'archimedean', 'architectural', 'architecture', 'architectures', 'archival', 'archive', 'archived', 'archives', 'arcmin', 'arcs', 'arcsec', 'arctic', 'are', 'area', 'areal', 'areas', 'argon', 'arguably', 'argue', 'argued', 'argues', 'argument', 'argumentation', 'arguments', 'arise', 'arises', 'arising', 'arithmetic', 'arithmetical', 'arm', 'armchair', 'armed', 'arms', 'arnold', 'arose', 'around', 'arousal', 'arp', 'arpes', 'arranged', 'arrangement', 'arrangements', 'array', 'arrays', 'arrival', 'arrivals', 'arrive', 'arriving', 'arrow', 'art', 'arterial', 'artery', 'article', 'articles', 'articulated', 'artifact', 'artifacts', 'artificial', 'artificially', 'artin', 'arts', 'arxiv', 'ary', 'as', 'ascending', 'ascent', 'ascribed', 'asd', 'asic', 'aside', 'ask', 'asked', 'asking', 'asks', 'asp', 'aspect', 'aspects', 'asr', 'assay', 'assemble', 'assembled', 'assembly', 'assertions', 'asserts', 'assess', 'assessed', 'assessing', 'assessment', 'assessments', 'asset', 'assets', 'assign', 'assigned', 'assigning', 'assignment', 'assignments', 'assigns', 'assimilation', 'assist', 'assistance', 'assistant', 'assisted', 'assistive', 'assists', 'associate', 'associated', 'associating', 'association', 'associations', 'associative', 'assortative', 'assortativity', 'assume', 'assumed', 'assumes', 'assuming', 'assumption', 'assumptions', 'assurance', 'ast', 'asteroid', 'asteroids', 'astrometric', 'astrometry', 'astronomers', 'astronomical', 'astronomy', 'astrophysical', 'astrophysics', 'asymmetric', 'asymmetries', 'asymmetry', 'asymptotic', 'asymptotically', 'asymptotics', 'asynchronous', 'asynchronously', 'at', 'atacama', 'atari', 'atiyah', 'atlas', 'atmosphere', 'atmospheres', 'atmospheric', 'atom', 'atomic', 'atomically', 'atomistic', 'atoms', 'attached', 'attachment', 'attack', 'attacked', 'attacker', 'attackers', 'attacking', 'attacks', 'attain', 'attainable', 'attained', 'attaining', 'attains', 'attempt', 'attempted', 'attempting', 'attempts', 'attend', 'attention', 'attentional', 'attentive', 'attenuation', 'attitude', 'attosecond', 'attract', 'attracted', 'attracting', 'attraction', 'attractive', 'attractiveness', 'attractor', 'attractors', 'attribute', 'attributed', 'attributes', 'attribution', 'au', 'auc', 'auction', 'auctions', 'audience', 'audio', 'audit', 'auger', 'augment', 'augmentation', 'augmented', 'augmenting', 'augments', 'august', 'aus', 'auslander', 'australia', 'australian', 'aut', 'authentication', 'author', 'authority', 'authors', 'authorship', 'auto', 'autocorrelation', 'autoencoder', 'autoencoders', 'automata', 'automate', 'automated', 'automatic', 'automatically', 'automating', 'automation', 'automaton', 'automorphic', 'automorphism', 'automorphisms', 'automotive', 'autonomous', 'autonomously', 'autonomy', 'autoregressive', 'auxetic', 'auxiliary', 'av', 'availability', 'available', 'avalanche', 'avalanches', 'avenue', 'avenues', 'average', 'averaged', 'averages', 'averaging', 'averse', 'avoid', 'avoidance', 'avoided', 'avoiding', 'avoids', 'aware', 'awareness', 'away', 'ax', 'axes', 'axial', 'axiom', 'axiomatic', 'axiomatization', 'axioms', 'axion', 'axis', 'axisymmetric', 'azimuthal', 'ba', 'back', 'backbone', 'backend', 'background', 'backgrounds', 'backhaul', 'backpropagation', 'backslash', 'backtracking', 'backward', 'backwards', 'bacteria', 'bacterial', 'bad', 'bafe', 'bag', 'baire', 'balance', 'balanced', 'balances', 'balancing', 'ball', 'ballistic', 'ballot', 'balls', 'banach', 'band', 'banded', 'bandgap', 'bandit', 'bandits', 'bands', 'bandwidth', 'bang', 'bangla', 'bank', 'banks', 'bao', 'bar', 'bardeen', 'bare', 'barely', 'barrier', 'barriers', 'bars', 'baryon', 'baryonic', 'baryons', 'basal', 'base', 'based', 'baseline', 'baselines', 'bases', 'basic', 'basically', 'basics', 'basin', 'basins', 'basis', 'bass', 'batch', 'batches', 'bath', 'batteries', 'battery', 'baxter', 'bay', 'bayes', 'bayesian', 'bbb', 'bc', 'bcc', 'bci', 'bcs', 'bd', 'be', 'beads', 'beam', 'beamformer', 'beamforming', 'beams', 'bear', 'bearing', 'beat', 'bec', 'became', 'become', 'becomes', 'becoming', 'bed', 'bedt', 'began', 'begin', 'beginning', 'begins', 'behave', 'behaved', 'behaves', 'behavior', 'behavioral', 'behaviors', 'behaviour', 'behavioural', 'behaviours', 'behind', 'belief', 'beliefs', 'believe', 'believed', 'bell', 'bellman', 'belong', 'belonging', 'belongs', 'belt', 'beltrami', 'ben', 'benchmark', 'benchmarked', 'benchmarking', 'benchmarks', 'bending', 'bends', 'beneficial', 'benefit', 'benefits', 'benign', 'ber', 'bergman', 'bernoulli', 'bernstein', 'berry', 'besides', 'besov', 'bessel', 'best', 'bet', 'beta', 'bethe', 'better', 'betti', 'betting', 'between', 'betweenness', 'beyond', 'bf', 'bh', 'bi', 'bianchi', 'bias', 'biased', 'biases', 'biasing', 'bibliographic', 'bibliometric', 'bic', 'biclustering', 'bid', 'bidders', 'bidding', 'bidirectional', 'bids', 'bifacial', 'bifurcation', 'bifurcations', 'big', 'bigger', 'biggest', 'bijection', 'bijective', 'bike', 'bilateral', 'bilayer', 'bilayers', 'bilevel', 'bilinear', 'billion', 'billions', 'bimodal', 'bimodule', 'bin', 'binaries', 'binary', 'bind', 'binding', 'binom', 'binomial', 'bins', 'bio', 'biochemical', 'biodiversity', 'biofilm', 'biofilms', 'bioinformatics', 'biological', 'biologically', 'biology', 'biomarker', 'biomarkers', 'biomedical', 'biometric', 'biomolecules', 'biophysical', 'bipartite', 'bipedal', 'bipolar', 'birational', 'bird', 'birds', 'birefringence', 'birkhoff', 'birth', 'bis', 'bisection', 'bismuth', 'bistability', 'bistable', 'bit', 'bitcoin', 'bits', 'bius', 'bivariate', 'bl', 'black', 'blackbody', 'blade', 'blending', 'bleu', 'blind', 'bloch', 'block', 'blockchain', 'blocking', 'blocks', 'blog', 'blood', 'blow', 'blowup', 'blue', 'blur', 'blurring', 'bm', 'bmi', 'bmo', 'bn', 'bnns', 'bo', 'board', 'bob', 'bodies', 'body', 'bogoliubov', 'bohm', 'bohr', 'boldsymbol', 'bolometric', 'boltzmann', 'bond', 'bonded', 'bonding', 'bonds', 'bone', 'bonnet', 'book', 'books', 'boolean', 'boost', 'boosted', 'booster', 'boosting', 'bootstrap', 'bootstrapping', 'border', 'borel', 'born', 'boron', 'bose', 'boson', 'bosonic', 'bosons', 'boss', 'bot', 'bots', 'bott', 'bottleneck', 'bottlenecks', 'bottom', 'bounce', 'bouncing', 'bound', 'boundaries', 'boundary', 'bounded', 'boundedness', 'bounding', 'bounds', 'boussinesq', 'bow', 'box', 'boxes', 'bp', 'br', 'bracket', 'brackets', 'bragg', 'braid', 'braided', 'braiding', 'brain', 'brains', 'braking', 'branch', 'branched', 'branches', 'branching', 'brand', 'brane', 'branes', 'brauer', 'brazil', 'brazilian', 'breadth', 'break', 'breakdown', 'breaking', 'breaks', 'breakthrough', 'breakthroughs', 'breakup', 'breast', 'breathers', 'breathing', 'bregman', 'bridge', 'bridges', 'bridging', 'brief', 'briefly', 'bright', 'brighter', 'brightest', 'brightness', 'brillouin', 'bring', 'bringing', 'brings', 'brittle', 'broad', 'broadband', 'broadcast', 'broadcasting', 'broadening', 'broader', 'broadly', 'broken', 'brought', 'brown', 'brownian', 'browser', 'bs', 'bss', 'bt', 'bubble', 'bubbles', 'buckled', 'budget', 'budgets', 'buffer', 'bug', 'bugs', 'build', 'building', 'buildings', 'builds', 'built', 'bulge', 'bulges', 'bulk', 'bullet', 'bump', 'bunch', 'bundle', 'bundles', 'buoyancy', 'burden', 'burgers', 'burst', 'bursting', 'bursts', 'bus', 'buses', 'business', 'but', 'butanol', 'butterfly', 'buy', 'buyer', 'buyers', 'by', 'bypass', 'byproduct', 'byte', 'byzantine', 'ca', 'cable', 'cache', 'caching', 'cad', 'cadence', 'cage', 'cahn', 'cake', 'cal', 'calabi', 'calcium', 'calculate', 'calculated', 'calculates', 'calculating', 'calculation', 'calculations', 'calculi', 'calculus', 'calder', 'calibrate', 'calibrated', 'calibrating', 'calibration', 'california', 'call', 'called', 'calling', 'calls', 'calorimeter', 'cam', 'camassa', 'camera', 'cameras', 'campaign', 'campaigns', 'can', 'canada', 'cancellation', 'cancer', 'cancers', 'candidate', 'candidates', 'cannot', 'canonical', 'cantor', 'cap', 'capabilities', 'capability', 'capable', 'capacitance', 'capacitated', 'capacities', 'capacitive', 'capacity', 'capillary', 'capital', 'capsule', 'caption', 'captioning', 'captions', 'capture', 'captured', 'captures', 'capturing', 'car', 'carbide', 'carbon', 'card', 'cardiac', 'cardinal', 'cardinality', 'cards', 'care', 'careful', 'carefully', 'cargo', 'carleman', 'carlo', 'carnot', 'carried', 'carrier', 'carriers', 'carries', 'carry', 'carrying', 'cars', 'cart', 'cartan', 'cartesian', 'cas', 'cascade', 'cascaded', 'cascades', 'cascading', 'case', 'cases', 'cash', 'casimir', 'casper', 'cast', 'cat', 'catalog', 'catalogs', 'catalogue', 'catalogues', 'catalyst', 'catalytic', 'catastrophic', 'categorical', 'categories', 'categorization', 'categorize', 'categorized', 'category', 'cathode', 'cation', 'cauchy', 'causal', 'causality', 'causally', 'causation', 'cause', 'caused', 'causes', 'causing', 'caustic', 'caution', 'caveats', 'cavitation', 'cavities', 'cavity', 'cayley', 'cc', 'cca', 'ccd', 'cd', 'cdm', 'cdot', 'cdots', 'cdw', 'ce', 'cef', 'celeba', 'celebrated', 'celestial', 'cell', 'cells', 'cellular', 'censored', 'censoring', 'census', 'cent', 'centauri', 'center', 'centered', 'centers', 'central', 'centralities', 'centrality', 'centralized', 'centre', 'centred', 'centres', 'centric', 'centroid', 'centrosymmetric', 'centuries', 'century', 'cep', 'cepheid', 'cepheids', 'cepstral', 'ceres', 'cern', 'certain', 'certainly', 'certificate', 'certificates', 'certified', 'certifying', 'cf', 'cfd', 'cfo', 'cft', 'cg', 'ch', 'chain', 'chaining', 'chains', 'challenge', 'challenged', 'challenges', 'challenging', 'chamber', 'chambers', 'chance', 'chandra', 'chang', 'change', 'changed', 'changes', 'changing', 'channel', 'channels', 'chaos', 'chaotic', 'chapter', 'character', 'characterisation', 'characterise', 'characterised', 'characteristic', 'characteristics', 'characterization', 'characterizations', 'characterize', 'characterized', 'characterizes', 'characterizing', 'characters', 'charge', 'charged', 'charges', 'charging', 'chart', 'charts', 'cheap', 'cheaper', 'chebyshev', 'check', 'checked', 'checker', 'checkerboard', 'checking', 'checks', 'cheeger', 'chemical', 'chemically', 'chemistry', 'chemotactic', 'chemotaxis', 'chen', 'cherenkov', 'chern', 'chess', 'chest', 'chet', 'chi', 'children', 'chime', 'chimera', 'china', 'chinese', 'chip', 'chiral', 'chirality', 'choice', 'choices', 'cholesky', 'choose', 'chooses', 'choosing', 'chord', 'chordal', 'chords', 'chosen', 'chow', 'chr', 'christoffel', 'chromatic', 'chromatin', 'chromium', 'chromosome', 'chromospheric', 'chronic', 'chronological', 'churn', 'ci', 'cifar', 'cii', 'cim', 'cipher', 'cir', 'circ', 'circle', 'circles', 'circuit', 'circuits', 'circulant', 'circular', 'circularly', 'circulation', 'circumbinary', 'circumstances', 'circumstellar', 'circumvent', 'cis', 'citation', 'citations', 'cite', 'cited', 'citep', 'cities', 'citizen', 'citizens', 'city', 'civil', 'ck', 'cl', 'claim', 'claimed', 'claims', 'clamped', 'clarify', 'class', 'classes', 'classic', 'classical', 'classically', 'classification', 'classifications', 'classified', 'classifier', 'classifiers', 'classifies', 'classify', 'classifying', 'clause', 'clauses', 'clean', 'cleaning', 'clear', 'clearly', 'click', 'clicks', 'client', 'clients', 'clifford', 'climate', 'clinical', 'clinically', 'clips', 'clique', 'cliques', 'cloaking', 'clock', 'clocks', 'close', 'closed', 'closely', 'closeness', 'closer', 'closest', 'closing', 'closure', 'closures', 'cloud', 'clouds', 'clt', 'club', 'clump', 'clumps', 'clumpy', 'cluster', 'clustered', 'clustering', 'clusterings', 'clusters', 'clutter', 'cluttered', 'cm', 'cmb', 'cme', 'cmos', 'cms', 'cn', 'cnf', 'cnn', 'cnns', 'co', 'coalescence', 'coalescent', 'coalition', 'coarse', 'coarsening', 'coastal', 'coated', 'coating', 'coatings', 'cobalt', 'cobordism', 'cobordisms', 'coco', 'cocycle', 'cocycles', 'code', 'coded', 'codes', 'codimension', 'coding', 'coefficient', 'coefficients', 'coercive', 'coexist', 'coexistence', 'coexisting', 'cognition', 'cognitive', 'cohen', 'coherence', 'coherent', 'coherently', 'cohesion', 'cohesive', 'cohomological', 'cohomology', 'cohort', 'cohorts', 'coil', 'coils', 'coin', 'coincide', 'coincidence', 'coincident', 'coincides', 'coined', 'coisotropic', 'cold', 'coli', 'collaboration', 'collaborations', 'collaborative', 'collapse', 'collapsed', 'collapses', 'collapsing', 'collect', 'collected', 'collecting', 'collection', 'collections', 'collective', 'collectively', 'collects', 'college', 'collider', 'colliding', 'collinear', 'collision', 'collisional', 'collisionless', 'collisions', 'collocation', 'colloidal', 'colocalization', 'colon', 'color', 'colorable', 'colored', 'coloring', 'colorings', 'colors', 'colour', 'colouring', 'colours', 'column', 'columns', 'com', 'coma', 'comb', 'combat', 'combination', 'combinations', 'combinatorial', 'combinatorics', 'combine', 'combined', 'combines', 'combining', 'combustion', 'come', 'comes', 'comet', 'cometary', 'comets', 'comfort', 'coming', 'command', 'commands', 'commensurate', 'comment', 'comments', 'commerce', 'commercial', 'commercially', 'commissioning', 'commitment', 'committee', 'commodity', 'common', 'commonly', 'communicate', 'communicating', 'communication', 'communications', 'communities', 'community', 'commutative', 'commutativity', 'commutator', 'commutators', 'commute', 'commutes', 'commuting', 'compact', 'compactification', 'compactifications', 'compactly', 'compactness', 'companies', 'companion', 'companions', 'company', 'comparable', 'comparably', 'comparative', 'comparatively', 'compare', 'compared', 'compares', 'comparing', 'comparison', 'comparisons', 'compartmental', 'compass', 'compatibility', 'compatible', 'compelling', 'compensate', 'compensating', 'compensation', 'compete', 'competence', 'competing', 'competition', 'competitions', 'competitive', 'competitively', 'competitors', 'compilation', 'compile', 'compiled', 'compiler', 'complement', 'complementarity', 'complementary', 'complemented', 'complementing', 'complements', 'complete', 'completed', 'completely', 'completeness', 'completes', 'completing', 'completion', 'complex', 'complexes', 'complexities', 'complexity', 'compliance', 'compliant', 'complicated', 'complications', 'component', 'components', 'compose', 'composed', 'composing', 'composite', 'composites', 'composition', 'compositional', 'compositions', 'compound', 'compounds', 'comprehension', 'comprehensive', 'comprehensively', 'compress', 'compressed', 'compressibility', 'compressible', 'compressing', 'compression', 'compressive', 'compressors', 'comprise', 'comprised', 'comprises', 'comprising', 'compromise', 'compromised', 'compromising', 'compton', 'comput', 'computability', 'computable', 'computation', 'computational', 'computationally', 'computations', 'compute', 'computed', 'computer', 'computers', 'computes', 'computing', 'con', 'concatenated', 'concatenation', 'concave', 'concavity', 'conceived', 'concentrate', 'concentrated', 'concentrates', 'concentrating', 'concentration', 'concentrations', 'concentric', 'concept', 'concepts', 'conceptual', 'conceptually', 'concern', 'concerned', 'concerning', 'concerns', 'concise', 'conclude', 'concluded', 'concludes', 'conclusion', 'conclusions', 'concordance', 'concordant', 'concrete', 'concretely', 'concurrence', 'concurrency', 'concurrent', 'concurrently', 'condensate', 'condensates', 'condensation', 'condensed', 'condition', 'conditional', 'conditionally', 'conditioned', 'conditioning', 'conditions', 'conduct', 'conductance', 'conducted', 'conducting', 'conduction', 'conductive', 'conductivity', 'conductor', 'cone', 'cones', 'conference', 'confidence', 'confident', 'configurable', 'configuration', 'configurational', 'configurations', 'confined', 'confinement', 'confining', 'confirm', 'confirmation', 'confirmed', 'confirming', 'confirms', 'conflict', 'conflicting', 'conflicts', 'confluence', 'confluent', 'conform', 'conformal', 'conformally', 'conformation', 'conformations', 'conforming', 'conformity', 'confounders', 'confounding', 'confronted', 'confusion', 'cong', 'congestion', 'congruence', 'congruences', 'congruent', 'conic', 'conical', 'conjectural', 'conjecture', 'conjectured', 'conjectures', 'conjugacy', 'conjugate', 'conjugation', 'conjunction', 'conjunctive', 'connect', 'connected', 'connectedness', 'connecting', 'connection', 'connectionist', 'connections', 'connectives', 'connectivity', 'connectome', 'connectomes', 'connects', 'connes', 'conquer', 'cons', 'conscious', 'consciousness', 'consecutive', 'consensus', 'consequence', 'consequences', 'consequent', 'consequently', 'conservation', 'conservative', 'conserved', 'conserving', 'consider', 'considerable', 'considerably', 'consideration', 'considerations', 'considered', 'considering', 'considers', 'consist', 'consisted', 'consistency', 'consistent', 'consistently', 'consisting', 'consists', 'consolidation', 'constant', 'constantly', 'constants', 'constituent', 'constituents', 'constitute', 'constitutes', 'constitutive', 'constrain', 'constrained', 'constraining', 'constrains', 'constraint', 'constraints', 'construct', 'constructed', 'constructing', 'construction', 'constructions', 'constructive', 'constructs', 'consume', 'consumed', 'consumer', 'consumers', 'consumes', 'consuming', 'consumption', 'contact', 'contacts', 'contagion', 'contagions', 'contain', 'contained', 'container', 'containers', 'containing', 'containment', 'contains', 'contaminated', 'contamination', 'contemporary', 'content', 'contention', 'contents', 'contest', 'context', 'contexts', 'contextual', 'contiguous', 'contingency', 'continual', 'continuation', 'continue', 'continued', 'continues', 'continuing', 'continuity', 'continuous', 'continuously', 'continuum', 'contour', 'contours', 'contract', 'contractible', 'contracting', 'contraction', 'contractions', 'contractive', 'contracts', 'contradiction', 'contrary', 'contrast', 'contrasted', 'contrasting', 'contrastive', 'contrasts', 'contribute', 'contributed', 'contributes', 'contributing', 'contribution', 'contributions', 'contributors', 'control', 'controllability', 'controllable', 'controlled', 'controller', 'controllers', 'controlling', 'controls', 'controversial', 'controversy', 'convection', 'convective', 'convenience', 'convenient', 'conveniently', 'convention', 'conventional', 'conventionally', 'conventions', 'converge', 'converged', 'convergence', 'convergent', 'converges', 'converging', 'conversation', 'conversational', 'conversations', 'converse', 'conversely', 'conversion', 'convert', 'converted', 'converter', 'converters', 'converting', 'converts', 'convex', 'convexity', 'convey', 'convincing', 'convnet', 'convnets', 'convolution', 'convolutional', 'convolutions', 'cool', 'cooled', 'cooler', 'cooling', 'cooper', 'cooperate', 'cooperation', 'cooperative', 'cooperatively', 'coordinate', 'coordinated', 'coordinates', 'coordination', 'cop', 'cope', 'copies', 'coplanar', 'copper', 'coprime', 'cops', 'copula', 'copulas', 'copy', 'coq', 'cord', 'core', 'cores', 'coreset', 'coresets', 'corner', 'corners', 'cornerstone', 'corollaries', 'corollary', 'corona', 'coronal', 'corot', 'corpora', 'corporate', 'corpus', 'correct', 'corrected', 'correcting', 'correction', 'corrections', 'correctly', 'correctness', 'correlate', 'correlated', 'correlates', 'correlating', 'correlation', 'correlations', 'correlator', 'correlators', 'correspond', 'correspondence', 'correspondences', 'corresponding', 'correspondingly', 'corresponds', 'corroborate', 'corroborated', 'corrosion', 'corrupt', 'corrupted', 'corruption', 'corruptions', 'cortex', 'cortical', 'cos', 'coset', 'cosine', 'cosmic', 'cosmological', 'cosmologies', 'cosmology', 'cosmos', 'cost', 'costly', 'costs', 'couette', 'could', 'coulomb', 'coulombic', 'count', 'countable', 'counter', 'counterexample', 'counterexamples', 'counterfactual', 'countermeasures', 'counterpart', 'counterparts', 'counters', 'counting', 'countries', 'country', 'counts', 'county', 'couple', 'coupled', 'couples', 'coupling', 'couplings', 'courant', 'course', 'courses', 'covalent', 'covariance', 'covariances', 'covariant', 'covariate', 'covariates', 'cover', 'coverage', 'covered', 'covering', 'coverings', 'covers', 'cox', 'coxeter', 'cp', 'cps', 'cpu', 'cpus', 'cr', 'crack', 'cracks', 'crafted', 'crafting', 'cram', 'crank', 'crash', 'create', 'created', 'creates', 'creating', 'creation', 'creative', 'creativity', 'credibility', 'credible', 'credit', 'creep', 'crf', 'crime', 'criminal', 'crises', 'crisis', 'criteria', 'criterion', 'critic', 'critical', 'criticality', 'critically', 'crop', 'cropping', 'cross', 'crossed', 'crosses', 'crossing', 'crossings', 'crossover', 'crowd', 'crowded', 'crowdsourced', 'crowdsourcing', 'crucial', 'crucially', 'crust', 'cryo', 'cryogenic', 'cryptocurrencies', 'cryptocurrency', 'cryptographic', 'cryptography', 'crystal', 'crystalline', 'crystallization', 'crystallographic', 'crystals', 'cs', 'csc', 'csi', 'csm', 'csp', 'css', 'ct', 'cta', 'ctc', 'ctl', 'cu', 'cube', 'cubes', 'cubic', 'cubical', 'cuda', 'cue', 'cues', 'cultural', 'culture', 'cumbersome', 'cumulant', 'cumulants', 'cumulative', 'cuntz', 'cuo', 'cup', 'cuprate', 'cuprates', 'curated', 'cure', 'curie', 'curiosity', 'curious', 'current', 'currently', 'currents', 'curriculum', 'curse', 'curvature', 'curvatures', 'curve', 'curved', 'curves', 'cusp', 'cusps', 'custom', 'customer', 'customers', 'customization', 'customized', 'cusum', 'cut', 'cutoff', 'cuts', 'cutting', 'cv', 'cvs', 'cw', 'cyber', 'cybersecurity', 'cycle', 'cycles', 'cyclic', 'cycling', 'cyclotomic', 'cyclotron', 'cylinder', 'cylinders', 'cylindrical', 'cytoskeleton', 'da', 'dae', 'dag', 'dags', 'daily', 'dam', 'dama', 'damage', 'damaged', 'damped', 'damping', 'dangerous', 'darboux', 'dark', 'data', 'database', 'databases', 'datacenter', 'datalog', 'dataset', 'datasets', 'date', 'dates', 'david', 'day', 'days', 'db', 'dbms', 'dbn', 'dbscan', 'dc', 'dcnn', 'dct', 'ddi', 'de', 'dead', 'deadline', 'deal', 'dealing', 'deals', 'dealt', 'death', 'debate', 'debated', 'debates', 'debris', 'debt', 'debugging', 'debye', 'dec', 'decade', 'decades', 'decay', 'decaying', 'decays', 'december', 'decent', 'decentralized', 'deception', 'decidability', 'decidable', 'decide', 'decided', 'decides', 'deciding', 'decision', 'decisions', 'declarative', 'decline', 'declining', 'decode', 'decoded', 'decoder', 'decoders', 'decoding', 'decoherence', 'decomposable', 'decompose', 'decomposed', 'decomposes', 'decomposing', 'decomposition', 'decompositions', 'deconvolution', 'decorated', 'decouple', 'decoupled', 'decouples', 'decoupling', 'decrease', 'decreased', 'decreases', 'decreasing', 'dedekind', 'dedicated', 'deduce', 'deduced', 'deductive', 'deduplication', 'deemed', 'deep', 'deeper', 'deeply', 'deepwalk', 'default', 'defect', 'defective', 'defects', 'defend', 'defender', 'defense', 'defenses', 'deficiencies', 'deficiency', 'deficient', 'deficit', 'definable', 'define', 'defined', 'defines', 'defining', 'definite', 'definition', 'definitions', 'deflection', 'defocusing', 'deformable', 'deformation', 'deformations', 'deformed', 'deg', 'degeneracies', 'degeneracy', 'degenerate', 'degeneration', 'degradation', 'degrade', 'degraded', 'degrades', 'degree', 'degrees', 'dehn', 'del', 'delaunay', 'delay', 'delayed', 'delays', 'deleting', 'deletion', 'deletions', 'deliberately', 'delicate', 'deligne', 'deliver', 'delivered', 'delivering', 'delivers', 'delivery', 'delocalized', 'delta', 'demand', 'demanded', 'demanding', 'demands', 'dementia', 'demo', 'democratic', 'demodulation', 'demographic', 'demographics', 'demonstrate', 'demonstrated', 'demonstrates', 'demonstrating', 'demonstration', 'demonstrations', 'denial', 'denoisers', 'denoising', 'denominator', 'denote', 'denoted', 'denotes', 'dense', 'densely', 'densenet', 'denser', 'densities', 'density', 'departments', 'departure', 'depend', 'dependence', 'dependences', 'dependencies', 'dependency', 'dependent', 'depending', 'depends', 'dephasing', 'depleted', 'depletion', 'deploy', 'deployed', 'deploying', 'deployment', 'deployments', 'deposited', 'deposition', 'depression', 'depth', 'depths', 'der', 'derivation', 'derivations', 'derivative', 'derivatives', 'derive', 'derived', 'derives', 'deriving', 'des', 'descent', 'describe', 'described', 'describes', 'describing', 'description', 'descriptions', 'descriptive', 'descriptor', 'descriptors', 'design', 'designated', 'designed', 'designer', 'designers', 'designing', 'designs', 'desirable', 'desire', 'desired', 'desktop', 'despite', 'destination', 'destroyed', 'destruction', 'destructive', 'det', 'detail', 'detailed', 'details', 'detect', 'detectability', 'detectable', 'detected', 'detecting', 'detection', 'detections', 'detector', 'detectors', 'detects', 'determinant', 'determinantal', 'determinants', 'determination', 'determinations', 'determine', 'determined', 'determines', 'determining', 'determinism', 'deterministic', 'deterministically', 'detrimental', 'deuterium', 'develop', 'developed', 'developer', 'developers', 'developing', 'development', 'developmental', 'developments', 'develops', 'deviate', 'deviates', 'deviation', 'deviations', 'device', 'devices', 'devise', 'devised', 'devoted', 'dex', 'df', 'dfa', 'dfrac', 'dfs', 'dft', 'dg', 'di', 'diabetes', 'diabetic', 'diagnose', 'diagnoses', 'diagnosis', 'diagnostic', 'diagnostics', 'diagonal', 'diagonalization', 'diagram', 'diagrammatic', 'diagrams', 'dialect', 'dialects', 'dialog', 'dialogue', 'diameter', 'diameters', 'diamond', 'diarization', 'dice', 'dichalcogenide', 'dichalcogenides', 'dichotomy', 'dichroism', 'dictated', 'dictionaries', 'dictionary', 'die', 'dielectric', 'diffeomorphic', 'diffeomorphism', 'diffeomorphisms', 'differ', 'difference', 'differences', 'different', 'differentiability', 'differentiable', 'differential', 'differentially', 'differentials', 'differentiate', 'differentiated', 'differentiation', 'differently', 'differing', 'differs', 'difficult', 'difficulties', 'difficulty', 'diffraction', 'diffuse', 'diffusing', 'diffusion', 'diffusions', 'diffusive', 'diffusivity', 'digit', 'digital', 'digits', 'digraph', 'digraphs', 'dihedral', 'dilation', 'dilemma', 'dilute', 'diluted', 'dilution', 'dim', 'dimension', 'dimensional', 'dimensionality', 'dimensionless', 'dimensions', 'dimer', 'dimerized', 'dimers', 'diminishing', 'dinger', 'diode', 'diodes', 'diophantine', 'dioxide', 'dip', 'dipolar', 'dipole', 'dipoles', 'dirac', 'direct', 'directed', 'direction', 'directional', 'directions', 'directly', 'dirichlet', 'dirty', 'disadvantage', 'disadvantages', 'disagree', 'disagreement', 'disambiguation', 'disappears', 'disaster', 'disasters', 'disc', 'discarded', 'discharge', 'disciplinary', 'discipline', 'disciplines', 'disclination', 'disconnected', 'discontinuities', 'discontinuity', 'discontinuous', 'discounted', 'discounting', 'discourse', 'discover', 'discovered', 'discoveries', 'discovering', 'discovers', 'discovery', 'discrepancies', 'discrepancy', 'discrete', 'discretisation', 'discretization', 'discretizations', 'discretize', 'discretized', 'discretizing', 'discriminant', 'discriminate', 'discriminating', 'discrimination', 'discriminative', 'discriminator', 'discriminators', 'discriminatory', 'discs', 'discuss', 'discussed', 'discusses', 'discussing', 'discussion', 'discussions', 'disease', 'diseases', 'disentangle', 'disentangled', 'disentanglement', 'disentangling', 'disjoint', 'disk', 'disks', 'dislocation', 'dislocations', 'disorder', 'disordered', 'disorders', 'disparate', 'disparity', 'dispatch', 'dispersal', 'dispersed', 'dispersion', 'dispersionless', 'dispersions', 'dispersive', 'displacement', 'displacements', 'display', 'displayed', 'displaying', 'displays', 'disrupted', 'disruption', 'disruptions', 'dissemination', 'dissimilarity', 'dissipated', 'dissipation', 'dissipative', 'dissociation', 'dissolution', 'distance', 'distances', 'distant', 'distillation', 'distinct', 'distinction', 'distinctive', 'distinguish', 'distinguishable', 'distinguished', 'distinguishes', 'distinguishing', 'distorted', 'distortion', 'distortions', 'distribute', 'distributed', 'distributing', 'distribution', 'distributional', 'distributionally', 'distributions', 'distributive', 'district', 'disturbance', 'disturbances', 'div', 'diverge', 'divergence', 'divergences', 'divergent', 'diverges', 'diverse', 'diversification', 'diversified', 'diversity', 'divide', 'divided', 'divides', 'dividing', 'divisible', 'division', 'divisor', 'divisors', 'dl', 'dla', 'dm', 'dmd', 'dmft', 'dmi', 'dmrg', 'dms', 'dna', 'dnn', 'dnns', 'dns', 'do', 'doa', 'document', 'documentation', 'documented', 'documents', 'does', 'dof', 'domain', 'domains', 'dome', 'domestic', 'dominance', 'dominant', 'dominate', 'dominated', 'dominates', 'dominating', 'domination', 'donaldson', 'done', 'donor', 'donors', 'door', 'doped', 'doping', 'doppler', 'dos', 'dose', 'dot', 'dots', 'double', 'doubled', 'doubling', 'doubly', 'dovich', 'downarrow', 'downlink', 'download', 'downloaded', 'downstream', 'downward', 'dp', 'dpps', 'dqn', 'dr', 'draft', 'drag', 'dramatic', 'dramatically', 'drastic', 'drastically', 'draw', 'drawback', 'drawbacks', 'drawing', 'drawings', 'drawn', 'draws', 'dressed', 'drift', 'drifts', 'drinfeld', 'drive', 'driven', 'driver', 'drivers', 'drives', 'driving', 'drl', 'drone', 'drones', 'drop', 'droplet', 'droplets', 'dropout', 'dropping', 'drops', 'drude', 'drug', 'drugs', 'dry', 'ds', 'dsl', 'dsp', 'dt', 'dti', 'du', 'dual', 'dualities', 'duality', 'duals', 'dubbed', 'due', 'duo', 'duplex', 'duplicates', 'duplication', 'duration', 'durations', 'during', 'dust', 'dusty', 'duty', 'dv', 'dw', 'dwarf', 'dwarfs', 'dwell', 'dx', 'dy', 'dyadic', 'dye', 'dyes', 'dynamic', 'dynamical', 'dynamically', 'dynamics', 'dynamo', 'dynkin', 'dysfunction', 'dz', 'dzyaloshinskii', 'earlier', 'earliest', 'early', 'earth', 'earthquake', 'earthquakes', 'earths', 'ease', 'easier', 'easily', 'east', 'eastern', 'easy', 'eavesdropper', 'eb', 'ec', 'eccentric', 'eccentricities', 'eccentricity', 'ecg', 'echo', 'eckart', 'eclipse', 'eclipsing', 'ecm', 'eco', 'ecological', 'ecology', 'economic', 'economical', 'economically', 'economics', 'economy', 'ecosystem', 'ecosystems', 'ed', 'eddy', 'edge', 'edges', 'edit', 'editing', 'editor', 'editorial', 'editors', 'edits', 'education', 'educational', 'ee', 'eeg', 'eff', 'effect', 'effective', 'effectively', 'effectiveness', 'effector', 'effects', 'efficacy', 'efficiencies', 'efficiency', 'efficient', 'efficiently', 'effort', 'efforts', 'efimov', 'eg', 'ego', 'eh', 'ehr', 'eigen', 'eigenfunction', 'eigenfunctions', 'eigenstates', 'eigenvalue', 'eigenvalues', 'eigenvector', 'eigenvectors', 'eight', 'eilenberg', 'einstein', 'eit', 'either', 'ejecta', 'ejected', 'ejection', 'ekf', 'el', 'elaborate', 'elaborated', 'elastic', 'elasticity', 'elderly', 'election', 'elections', 'electoral', 'electric', 'electrical', 'electrically', 'electricity', 'electro', 'electrochemical', 'electrode', 'electrodes', 'electrodynamics', 'electroencephalography', 'electrolyte', 'electromagnetic', 'electromagnetically', 'electromagnetism', 'electron', 'electronic', 'electronics', 'electrons', 'electrostatic', 'electroweak', 'elegant', 'element', 'elemental', 'elementary', 'elements', 'elevated', 'elevation', 'eleven', 'elicit', 'elicitation', 'eliminate', 'eliminated', 'eliminates', 'eliminating', 'elimination', 'ell', 'ellipse', 'ellipsoid', 'ellipsoidal', 'ellipsoids', 'elliptic', 'elliptical', 'ellipticity', 'elongated', 'elsewhere', 'elucidate', 'elucidated', 'elucidates', 'elusive', 'em', 'email', 'embed', 'embeddable', 'embedded', 'embedding', 'embeddings', 'embeds', 'embodied', 'emerge', 'emerged', 'emergence', 'emergency', 'emergent', 'emerges', 'emerging', 'emergy', 'emg', 'emission', 'emissions', 'emissivity', 'emit', 'emittance', 'emitted', 'emitter', 'emitters', 'emitting', 'emoji', 'emotion', 'emotional', 'emotions', 'emph', 'emphasis', 'emphasize', 'emphasizes', 'emphasizing', 'empirical', 'empirically', 'employ', 'employed', 'employing', 'employment', 'employs', 'empty', 'emptyset', 'emr', 'emulating', 'emulation', 'en', 'enable', 'enabled', 'enables', 'enabling', 'encapsulated', 'enclosed', 'encode', 'encoded', 'encoder', 'encoders', 'encodes', 'encoding', 'encodings', 'encompass', 'encompasses', 'encompassing', 'encounter', 'encountered', 'encounters', 'encourage', 'encourages', 'encouraging', 'encrypted', 'encryption', 'end', 'endeavor', 'ended', 'endemic', 'ending', 'endmembers', 'endogenous', 'endomorphism', 'endoscopic', 'endow', 'endowed', 'endpoint', 'endpoints', 'ends', 'energetic', 'energetically', 'energetics', 'energies', 'energy', 'enforce', 'enforced', 'enforcement', 'enforces', 'enforcing', 'engage', 'engaged', 'engagement', 'engine', 'engineer', 'engineered', 'engineering', 'engineers', 'engines', 'english', 'enhance', 'enhanced', 'enhancement', 'enhancements', 'enhances', 'enhancing', 'enjoy', 'enjoys', 'enkf', 'enormous', 'enough', 'enrich', 'enriched', 'enrichment', 'ensemble', 'ensembles', 'ensembling', 'ensure', 'ensured', 'ensures', 'ensuring', 'entailment', 'entails', 'entangled', 'entanglement', 'enter', 'entering', 'enterprise', 'entertainment', 'enthalpy', 'entire', 'entirely', 'entities', 'entity', 'entries', 'entropic', 'entropies', 'entropy', 'entry', 'enumerate', 'enumeration', 'envelope', 'envelopes', 'environment', 'environmental', 'environments', 'envisioned', 'envy', 'enzyme', 'eo', 'eor', 'eos', 'ep', 'epg', 'epi', 'epic', 'epidemic', 'epidemics', 'epidemiological', 'epidemiology', 'epileptic', 'episode', 'episodes', 'episodic', 'epistemic', 'epitaxial', 'epitaxy', 'epithelial', 'epoch', 'epochs', 'epsilon', 'equal', 'equality', 'equally', 'equals', 'equation', 'equations', 'equatorial', 'equidistribution', 'equilateral', 'equilibration', 'equilibria', 'equilibrium', 'equipment', 'equipped', 'equity', 'equiv', 'equivalence', 'equivalences', 'equivalent', 'equivalently', 'equivariant', 'er', 'era', 'erasure', 'erd', 'erdos', 'erg', 'ergodic', 'ergodicity', 'erm', 'erosion', 'erp', 'erroneous', 'error', 'errors', 'es', 'esa', 'esc', 'escape', 'escapes', 'escaping', 'eso', 'especially', 'esr', 'ess', 'essence', 'essential', 'essentially', 'establish', 'established', 'establishes', 'establishing', 'establishment', 'estate', 'estimands', 'estimate', 'estimated', 'estimates', 'estimating', 'estimation', 'estimations', 'estimator', 'estimators', 'et', 'eta', 'etc', 'etching', 'eth', 'ethanol', 'ethereum', 'ethical', 'ethnic', 'eu', 'euclid', 'euclidean', 'euler', 'eulerian', 'europe', 'european', 'ev', 'evacuation', 'evaluate', 'evaluated', 'evaluates', 'evaluating', 'evaluation', 'evaluations', 'evaporation', 'evasion', 'eve', 'even', 'evenly', 'event', 'events', 'eventual', 'eventually', 'ever', 'every', 'everyday', 'everyone', 'everything', 'everywhere', 'evidence', 'evidenced', 'evidences', 'evident', 'evolution', 'evolutionary', 'evolve', 'evolved', 'evolves', 'evolving', 'evs', 'ew', 'ex', 'exact', 'exactly', 'exactness', 'examination', 'examine', 'examined', 'examines', 'examining', 'example', 'examples', 'exceed', 'exceeding', 'exceeds', 'excellent', 'except', 'exception', 'exceptional', 'exceptions', 'excess', 'excessive', 'exchange', 'exchangeable', 'exchanged', 'exchanges', 'exchanging', 'excitability', 'excitable', 'excitation', 'excitations', 'excitatory', 'excite', 'excited', 'exciting', 'exciton', 'excitonic', 'excitons', 'exclude', 'excluded', 'excluding', 'exclusion', 'exclusive', 'exclusively', 'executable', 'execute', 'executed', 'executes', 'executing', 'execution', 'executions', 'exemplar', 'exemplary', 'exemplified', 'exercise', 'exercises', 'exerted', 'exhaustive', 'exhaustively', 'exhibit', 'exhibited', 'exhibiting', 'exhibits', 'exist', 'existed', 'existence', 'existing', 'exists', 'exit', 'exogenous', 'exoplanet', 'exoplanetary', 'exoplanets', 'exotic', 'exp', 'expand', 'expanded', 'expanding', 'expands', 'expansion', 'expansions', 'expect', 'expectation', 'expectations', 'expected', 'expense', 'expensive', 'experience', 'experienced', 'experiences', 'experiment', 'experimental', 'experimentally', 'experimentation', 'experiments', 'expert', 'expertise', 'experts', 'explain', 'explainable', 'explained', 'explaining', 'explains', 'explanation', 'explanations', 'explanatory', 'explicit', 'explicitly', 'exploding', 'exploit', 'exploitation', 'exploited', 'exploiting', 'exploits', 'exploration', 'exploratory', 'explore', 'explored', 'explorer', 'explores', 'exploring', 'explosion', 'explosions', 'explosive', 'exponent', 'exponential', 'exponentially', 'exponentiated', 'exponents', 'expose', 'exposed', 'exposes', 'exposing', 'expository', 'exposure', 'exposures', 'express', 'expressed', 'expressing', 'expression', 'expressions', 'expressive', 'expressiveness', 'extend', 'extended', 'extending', 'extends', 'extensible', 'extension', 'extensions', 'extensive', 'extensively', 'extent', 'exterior', 'external', 'externalities', 'externally', 'extinction', 'extra', 'extracellular', 'extract', 'extracted', 'extracting', 'extraction', 'extractor', 'extractors', 'extracts', 'extragalactic', 'extraordinary', 'extrapolated', 'extrapolating', 'extrapolation', 'extrasolar', 'extrema', 'extremal', 'extreme', 'extremely', 'extremes', 'extremist', 'extrinsic', 'eye', 'eyes', 'fabricate', 'fabricated', 'fabrication', 'fabry', 'face', 'facebook', 'faced', 'faces', 'facet', 'facets', 'facial', 'facilitate', 'facilitated', 'facilitates', 'facilitating', 'facilities', 'facility', 'facing', 'fact', 'facto', 'factor', 'factored', 'factorial', 'factorisation', 'factorizable', 'factorization', 'factorizations', 'factorized', 'factors', 'facts', 'faculty', 'fading', 'fail', 'failed', 'failing', 'fails', 'failure', 'failures', 'faint', 'fair', 'fairly', 'fairness', 'faithful', 'faithfully', 'faithfulness', 'fake', 'fall', 'falling', 'falls', 'false', 'familiar', 'families', 'family', 'famous', 'fan', 'fano', 'far', 'faraday', 'farm', 'farms', 'fascinating', 'fashion', 'fast', 'faster', 'fastest', 'fat', 'fate', 'fatigue', 'fault', 'faults', 'faulty', 'favor', 'favorable', 'favorably', 'favored', 'favoring', 'favors', 'favour', 'favourable', 'fb', 'fc', 'fcc', 'fcn', 'fd', 'fdr', 'fe', 'fear', 'feasibility', 'feasible', 'feast', 'feature', 'featured', 'features', 'featuring', 'fed', 'federated', 'feed', 'feedback', 'feedbacks', 'feeder', 'feedforward', 'feeding', 'fel', 'fell', 'fem', 'female', 'females', 'femtosecond', 'fenchel', 'fermi', 'fermilab', 'fermion', 'fermionic', 'fermions', 'ferrimagnetic', 'ferroelectric', 'ferromagnet', 'ferromagnetic', 'ferromagnetism', 'ferromagnets', 'fese', 'feshbach', 'fetch', 'few', 'fewer', 'feynman', 'ff', 'fflo', 'fft', 'fg', 'fi', 'fiber', 'fibers', 'fibonacci', 'fibration', 'fibrations', 'fibre', 'fibres', 'fictitious', 'fidelity', 'fiducial', 'field', 'fields', 'fifth', 'figure', 'figures', 'filament', 'filamentary', 'filaments', 'file', 'files', 'fill', 'filled', 'filling', 'film', 'films', 'filter', 'filtered', 'filtering', 'filters', 'filtration', 'final', 'finally', 'finance', 'financial', 'find', 'finding', 'findings', 'finds', 'fine', 'finer', 'finger', 'fingerprint', 'fingerprinting', 'fingerprints', 'fingers', 'finite', 'finitely', 'finiteness', 'finsler', 'fire', 'firing', 'firm', 'firms', 'first', 'firstly', 'fish', 'fisher', 'fission', 'fit', 'fitness', 'fits', 'fitted', 'fitting', 'five', 'fix', 'fixation', 'fixed', 'fixes', 'fixing', 'fl', 'flag', 'flame', 'flare', 'flares', 'flaring', 'flash', 'flat', 'flatness', 'flavor', 'flaws', 'fleet', 'flexibility', 'flexible', 'flexibly', 'flexural', 'flight', 'flights', 'flip', 'flipping', 'floating', 'floer', 'flood', 'flooding', 'floor', 'flop', 'flops', 'floquet', 'flow', 'flowing', 'flows', 'fluctuating', 'fluctuation', 'fluctuations', 'fluence', 'fluid', 'fluids', 'fluorescence', 'fluorescent', 'flux', 'fluxes', 'fly', 'flying', 'fm', 'fmri', 'fo', 'foam', 'focal', 'fock', 'focus', 'focused', 'focuses', 'focusing', 'fog', 'foil', 'fokker', 'fold', 'folding', 'folds', 'foliation', 'foliations', 'follow', 'followed', 'follower', 'followers', 'following', 'follows', 'food', 'fool', 'fooling', 'foot', 'football', 'footprint', 'for', 'forbidden', 'force', 'forced', 'forces', 'forcing', 'forecast', 'forecasting', 'forecasts', 'foreground', 'foreign', 'forensic', 'forest', 'forests', 'forget', 'forgetting', 'fork', 'form', 'formal', 'formalism', 'formalisms', 'formalization', 'formalize', 'formalized', 'formally', 'format', 'formation', 'formations', 'formats', 'formed', 'former', 'forming', 'forms', 'formula', 'formulae', 'formulas', 'formulate', 'formulated', 'formulating', 'formulation', 'formulations', 'fornax', 'forth', 'forthcoming', 'fortran', 'fortunately', 'forum', 'forums', 'forward', 'forwarding', 'foster', 'found', 'foundation', 'foundational', 'foundations', 'founded', 'four', 'fourier', 'fourth', 'fov', 'fp', 'fpga', 'fpgas', 'fpt', 'fptas', 'fr', 'frac', 'fractal', 'fractals', 'fraction', 'fractional', 'fractions', 'fracton', 'fracture', 'fractured', 'fractures', 'fragile', 'fragility', 'fragment', 'fragmentation', 'fragments', 'frak', 'frame', 'framed', 'frames', 'framework', 'frameworks', 'framing', 'france', 'frank', 'fraud', 'fraudsters', 'frb', 'fredholm', 'free', 'freedom', 'freely', 'freeness', 'freeze', 'freezing', 'french', 'frequencies', 'frequency', 'frequent', 'frequentist', 'frequently', 'fresh', 'fret', 'friction', 'friend', 'friendly', 'friends', 'friendship', 'fringes', 'frobenius', 'frog', 'from', 'front', 'frontal', 'frontier', 'fronts', 'frozen', 'fruitful', 'frustrated', 'frustration', 'fs', 'fuel', 'fulfill', 'fulfilled', 'full', 'fully', 'function', 'functional', 'functionalities', 'functionality', 'functionalized', 'functionally', 'functionals', 'functioning', 'functions', 'functor', 'functorial', 'functors', 'fund', 'fundamental', 'fundamentally', 'funding', 'furthermore', 'fuse', 'fused', 'fuses', 'fusing', 'fusion', 'future', 'futures', 'fuv', 'fuzzy', 'fw', 'fwhm', 'ga', 'gaas', 'gaia', 'gain', 'gained', 'gaining', 'gains', 'gait', 'gaits', 'galactic', 'galaxies', 'galaxy', 'galerkin', 'galilean', 'galileo', 'gallium', 'galois', 'game', 'games', 'gaming', 'gamma', 'gan', 'gans', 'gap', 'gapless', 'gapped', 'gaps', 'garch', 'gard', 'garnet', 'gas', 'gaseous', 'gases', 'gate', 'gated', 'gates', 'gather', 'gathered', 'gathering', 'gating', 'gauge', 'gauged', 'gauss', 'gaussian', 'gaussianity', 'gaussians', 'gave', 'gaze', 'gb', 'gc', 'gcd', 'gcn', 'gcs', 'gd', 'ge', 'geant', 'gel', 'gelfand', 'gem', 'gender', 'gene', 'general', 'generalisation', 'generalise', 'generalised', 'generalises', 'generality', 'generalizability', 'generalizable', 'generalization', 'generalizations', 'generalize', 'generalized', 'generalizes', 'generalizing', 'generally', 'generate', 'generated', 'generates', 'generating', 'generation', 'generations', 'generative', 'generator', 'generators', 'generic', 'generically', 'genes', 'genetic', 'genetics', 'genome', 'genomes', 'genomic', 'genomics', 'genotype', 'genre', 'genres', 'genuine', 'genus', 'geo', 'geodesic', 'geodesics', 'geodetic', 'geographic', 'geographical', 'geographically', 'geological', 'geometric', 'geometrical', 'geometrically', 'geometries', 'geometry', 'geophysical', 'geospatial', 'geq', 'geqslant', 'german', 'germanium', 'germany', 'gesture', 'gestures', 'get', 'gets', 'getting', 'gev', 'gf', 'gg', 'gga', 'ghost', 'ghz', 'gi', 'giant', 'giants', 'gibbs', 'gilbert', 'gini', 'ginzburg', 'github', 'give', 'given', 'gives', 'giving', 'gj', 'gl', 'glass', 'glasses', 'glassy', 'glm', 'global', 'globally', 'globular', 'gluing', 'gm', 'gmm', 'gnss', 'go', 'goal', 'goals', 'goes', 'going', 'gold', 'golden', 'goldstone', 'good', 'goodness', 'goods', 'google', 'gordon', 'gorenstein', 'gossip', 'got', 'govern', 'governance', 'governed', 'governing', 'government', 'governments', 'governs', 'gp', 'gpa', 'gpc', 'gpr', 'gps', 'gpu', 'gpus', 'gr', 'grad', 'grade', 'graded', 'gradient', 'gradients', 'grading', 'gradual', 'gradually', 'graduate', 'grain', 'grained', 'graining', 'grains', 'gram', 'grammar', 'grammars', 'grammatical', 'grand', 'granger', 'granular', 'granularity', 'graph', 'graphene', 'graphic', 'graphical', 'graphics', 'graphitic', 'graphlet', 'graphlets', 'graphon', 'graphons', 'graphql', 'graphs', 'grasp', 'grasping', 'grasps', 'grassmann', 'grassmannian', 'grassmannians', 'grating', 'gravitating', 'gravitational', 'gravitationally', 'gravitons', 'gravity', 'gray', 'great', 'greater', 'greatest', 'greatly', 'greedy', 'green', 'greenhouse', 'grid', 'grids', 'griffiths', 'grn', 'gromov', 'gross', 'grothendieck', 'ground', 'grounded', 'grounding', 'grounds', 'group', 'grouped', 'grouping', 'groupoid', 'groupoids', 'groups', 'grow', 'growing', 'grown', 'grows', 'growth', 'gru', 'gs', 'gtrsim', 'guarantee', 'guaranteed', 'guaranteeing', 'guarantees', 'guard', 'guess', 'guessing', 'gui', 'guidance', 'guide', 'guided', 'guideline', 'guidelines', 'guides', 'guiding', 'gumbel', 'gw', 'gws', 'gyr', 'gyrokinetic', 'ha', 'haar', 'haas', 'habitability', 'habitable', 'hadamard', 'hadoop', 'hadron', 'hadronic', 'hair', 'haldane', 'half', 'halide', 'hall', 'hallmark', 'halo', 'haloes', 'halos', 'hamilton', 'hamiltonian', 'hamiltonians', 'hamming', 'hampered', 'hand', 'handcrafted', 'handed', 'handful', 'handle', 'handled', 'handles', 'handling', 'handover', 'hands', 'handwritten', 'hankel', 'happen', 'happens', 'haptic', 'hard', 'hardening', 'harder', 'hardly', 'hardness', 'hardware', 'hardy', 'harish', 'harm', 'harmful', 'harmonic', 'harmonics', 'harness', 'harnessing', 'harps', 'hartree', 'harvest', 'harvested', 'harvesting', 'hash', 'hashing', 'hashtags', 'hasse', 'hastings', 'hat', 'hateful', 'hats', 'hausdorff', 'have', 'hawkes', 'hawking', 'hazard', 'hazards', 'hb', 'hbar', 'hc', 'hd', 'he', 'head', 'headlines', 'heads', 'healing', 'health', 'healthcare', 'healthy', 'heap', 'heart', 'heat', 'heated', 'heating', 'heavily', 'heavy', 'hecke', 'hedging', 'height', 'heights', 'heisenberg', 'held', 'helical', 'helicity', 'heliospheric', 'helium', 'helix', 'helmholtz', 'help', 'helped', 'helpful', 'helping', 'helps', 'hemisphere', 'hence', 'hep', 'hereafter', 'hereby', 'hereditary', 'herein', 'hermite', 'hermitian', 'herschel', 'hessian', 'heston', 'heterogeneity', 'heterogeneous', 'heteroscedastic', 'heterostructure', 'heterostructures', 'heuristic', 'heuristics', 'heusler', 'hexagonal', 'hf', 'hhg', 'hi', 'hidden', 'hiding', 'hierarchical', 'hierarchically', 'hierarchies', 'hierarchy', 'higgs', 'high', 'higher', 'highest', 'highlight', 'highlighted', 'highlighting', 'highlights', 'highly', 'highway', 'hii', 'hilbert', 'hill', 'hilliard', 'hinder', 'hindered', 'hinders', 'hindsight', 'hinge', 'hint', 'hints', 'hip', 'hires', 'histogram', 'histograms', 'historic', 'historical', 'historically', 'histories', 'history', 'hit', 'hitchin', 'hitherto', 'hits', 'hitting', 'hiv', 'hl', 'hler', 'hm', 'hmc', 'hmi', 'hmm', 'hmms', 'ho', 'hoc', 'hochschild', 'hodge', 'hold', 'holding', 'holds', 'hole', 'holes', 'holistic', 'hollow', 'holm', 'holographic', 'holography', 'holomorphic', 'holonomic', 'hom', 'home', 'homeomorphic', 'homeomorphisms', 'homes', 'homoclinic', 'homogeneity', 'homogeneous', 'homogenization', 'homogenous', 'homological', 'homology', 'homomorphic', 'homomorphism', 'homomorphisms', 'homophily', 'homotopic', 'homotopy', 'honest', 'honeycomb', 'hop', 'hope', 'hopf', 'hopping', 'horizon', 'horizons', 'horizontal', 'horn', 'horseshoe', 'hospital', 'hospitals', 'host', 'hosted', 'hosting', 'hosts', 'hot', 'hotspot', 'hotspots', 'hour', 'hourglass', 'hourly', 'hours', 'house', 'household', 'households', 'housing', 'how', 'however', 'hp', 'hpc', 'hr', 'hs', 'hsc', 'hst', 'http', 'https', 'hub', 'hubbard', 'hubble', 'hubs', 'huge', 'hull', 'hulls', 'human', 'humanoid', 'humans', 'hund', 'hundred', 'hundreds', 'hurst', 'hurwitz', 'hybrid', 'hybridization', 'hybridized', 'hydra', 'hydration', 'hydraulic', 'hydrodynamic', 'hydrodynamical', 'hydrodynamics', 'hydrogen', 'hydrophobic', 'hydrostatic', 'hyper', 'hyperbolic', 'hyperbolicity', 'hypercube', 'hyperelliptic', 'hyperfine', 'hypergeometric', 'hypergraph', 'hypergraphs', 'hyperparameter', 'hyperparameters', 'hyperplane', 'hyperplanes', 'hyperspectral', 'hypersurface', 'hypersurfaces', 'hyperuniform', 'hypotheses', 'hypothesis', 'hypothesize', 'hypothesized', 'hypothetical', 'hysteresis', 'hz', 'ia', 'ib', 'ibm', 'ic', 'ica', 'ice', 'icm', 'icp', 'ics', 'icu', 'icy', 'id', 'ide', 'idea', 'ideal', 'idealised', 'idealized', 'ideally', 'ideals', 'ideas', 'idempotent', 'identical', 'identically', 'identifiability', 'identifiable', 'identification', 'identified', 'identifies', 'identify', 'identifying', 'identities', 'identity', 'idf', 'idiosyncratic', 'idle', 'ie', 'ieee', 'iff', 'igm', 'ignition', 'ignore', 'ignored', 'ignores', 'ignoring', 'ii', 'iid', 'iii', 'ij', 'il', 'ill', 'illegal', 'illuminated', 'illumination', 'illusion', 'illustrate', 'illustrated', 'illustrates', 'illustrating', 'illustration', 'illustrations', 'illustrative', 'ilp', 'im', 'image', 'imaged', 'imagenet', 'imager', 'imagery', 'images', 'imaginary', 'imagine', 'imagined', 'imaging', 'imbalance', 'imbalanced', 'imbh', 'imf', 'imitate', 'imitation', 'immediate', 'immediately', 'immense', 'immersed', 'immersion', 'immersions', 'immune', 'immunity', 'impact', 'impacted', 'impacting', 'impactor', 'impacts', 'impairment', 'impairments', 'impedance', 'imperative', 'imperceptible', 'imperfect', 'imperfections', 'implanted', 'implement', 'implementable', 'implementation', 'implementations', 'implemented', 'implementing', 'implements', 'implication', 'implications', 'implicit', 'implicitly', 'implied', 'implies', 'imply', 'implying', 'importance', 'important', 'importantly', 'impose', 'imposed', 'imposes', 'imposing', 'impossibility', 'impossible', 'impractical', 'imprecise', 'impressive', 'improper', 'improve', 'improved', 'improvement', 'improvements', 'improves', 'improving', 'impulse', 'impulsive', 'impurities', 'impurity', 'imputation', 'imu', 'in', 'inability', 'inaccessible', 'inaccuracies', 'inaccurate', 'inactive', 'inadequate', 'inappropriate', 'incentive', 'incentives', 'inception', 'incidence', 'incident', 'incidents', 'inclination', 'inclined', 'include', 'included', 'includes', 'including', 'inclusion', 'inclusions', 'incoherent', 'income', 'incoming', 'incommensurate', 'incompatible', 'incomplete', 'incompleteness', 'incompressible', 'inconsistencies', 'inconsistency', 'inconsistent', 'incorporate', 'incorporated', 'incorporates', 'incorporating', 'incorporation', 'incorrect', 'incorrectly', 'increase', 'increased', 'increases', 'increasing', 'increasingly', 'incremental', 'incrementally', 'increments', 'incur', 'incurred', 'incurring', 'incurs', 'indecomposable', 'indeed', 'indefinite', 'independence', 'independent', 'independently', 'index', 'indexed', 'indexes', 'indexing', 'indian', 'indicate', 'indicated', 'indicates', 'indicating', 'indication', 'indications', 'indicative', 'indicator', 'indicators', 'indices', 'indirect', 'indirectly', 'indispensable', 'indistinguishable', 'indium', 'individual', 'individually', 'individuals', 'indoor', 'induce', 'induced', 'induces', 'inducing', 'inductance', 'induction', 'inductive', 'inductively', 'industrial', 'industries', 'industry', 'ineffective', 'inefficiency', 'inefficient', 'inelastic', 'inequalities', 'inequality', 'inequivalent', 'inertia', 'inertial', 'inevitable', 'inevitably', 'inexact', 'inexpensive', 'inf', 'infants', 'infeasible', 'infected', 'infection', 'infections', 'infectious', 'infer', 'inference', 'inferences', 'inferential', 'inferior', 'inferred', 'inferring', 'infers', 'infinite', 'infinitely', 'infinitesimal', 'infinity', 'inflated', 'inflation', 'inflationary', 'inflaton', 'inflection', 'inflow', 'influence', 'influenced', 'influences', 'influencing', 'influential', 'influenza', 'inform', 'informal', 'informatics', 'information', 'informational', 'informative', 'informed', 'infrared', 'infrastructure', 'infrastructures', 'infty', 'ing', 'ingan', 'ingredient', 'ingredients', 'inherent', 'inherently', 'inherited', 'inherits', 'inhibition', 'inhibitory', 'inhomogeneities', 'inhomogeneity', 'inhomogeneous', 'initial', 'initialization', 'initializations', 'initialized', 'initially', 'initiate', 'initiated', 'initiation', 'initiative', 'initiatives', 'initio', 'injected', 'injection', 'injective', 'injectivity', 'injector', 'injury', 'inla', 'inn', 'inner', 'innermost', 'innovation', 'innovations', 'innovative', 'inorganic', 'inpainting', 'input', 'inputs', 'inquiry', 'ins', 'insensitive', 'insertion', 'insertions', 'inside', 'insider', 'insight', 'insightful', 'insights', 'inspect', 'inspection', 'inspiration', 'inspired', 'instabilities', 'instability', 'installation', 'installed', 'instance', 'instances', 'instant', 'instantaneous', 'instantiate', 'instantiated', 'instantiation', 'instantiations', 'instanton', 'instantons', 'instead', 'institute', 'institution', 'institutional', 'institutions', 'instruction', 'instructions', 'instrument', 'instrumental', 'instrumentation', 'instruments', 'insufficient', 'insulating', 'insulator', 'insulators', 'insurance', 'int', 'intact', 'integer', 'integers', 'integrability', 'integrable', 'integral', 'integrality', 'integrals', 'integrand', 'integrate', 'integrated', 'integrates', 'integrating', 'integration', 'integrator', 'integrators', 'integrity', 'integro', 'intel', 'intellectual', 'intelligence', 'intelligent', 'intelligently', 'intelligibility', 'intended', 'intense', 'intensities', 'intensity', 'intensive', 'intensively', 'intent', 'intention', 'intentions', 'inter', 'interact', 'interacting', 'interaction', 'interactions', 'interactive', 'interactively', 'interacts', 'interatomic', 'interband', 'intercalated', 'intercept', 'interconnected', 'interconnection', 'interconnections', 'interdependence', 'interdependent', 'interdisciplinary', 'interest', 'interested', 'interesting', 'interestingly', 'interests', 'interface', 'interfaces', 'interfacial', 'interference', 'interfering', 'interferometer', 'interferometers', 'interferometric', 'interferometry', 'intergalactic', 'interior', 'interiors', 'interlayer', 'interleaved', 'interleaving', 'intermediary', 'intermediate', 'intermittent', 'internal', 'internally', 'international', 'internet', 'interoperability', 'interpersonal', 'interplay', 'interpolating', 'interpolation', 'interpolations', 'interpret', 'interpretability', 'interpretable', 'interpretation', 'interpretations', 'interpreted', 'interpreter', 'interpreting', 'interprets', 'intersect', 'intersecting', 'intersection', 'intersections', 'interstellar', 'interstitial', 'intertwined', 'intertwining', 'interval', 'intervals', 'intervention', 'interventions', 'interviews', 'intimately', 'into', 'intra', 'intracellular', 'intracluster', 'intractable', 'intraday', 'intricate', 'intriguing', 'intrinsic', 'intrinsically', 'introduce', 'introduced', 'introduces', 'introducing', 'introduction', 'introductory', 'intrusion', 'intuition', 'intuitionistic', 'intuitive', 'intuitively', 'invalid', 'invaluable', 'invariance', 'invariances', 'invariant', 'invariants', 'invasion', 'invasive', 'inventory', 'inverse', 'inversely', 'inverses', 'inversion', 'inverted', 'inverter', 'invertible', 'inverting', 'invest', 'investigate', 'investigated', 'investigates', 'investigating', 'investigation', 'investigations', 'investment', 'investments', 'investor', 'investors', 'inviscid', 'invisible', 'invoked', 'involution', 'involutive', 'involve', 'involved', 'involvement', 'involves', 'involving', 'inward', 'ion', 'ionic', 'ionisation', 'ionization', 'ionized', 'ionizing', 'ionosphere', 'ions', 'iot', 'ip', 'ipm', 'ips', 'ir', 'iras', 'iridate', 'iridates', 'iris', 'irl', 'iro', 'iron', 'irradiance', 'irradiated', 'irradiation', 'irreducible', 'irregular', 'irrelevant', 'irrespective', 'irreversible', 'is', 'isa', 'ising', 'islands', 'ism', 'iso', 'isogeometric', 'isolate', 'isolated', 'isolation', 'isomers', 'isometric', 'isometries', 'isometry', 'isomorphic', 'isomorphism', 'isomorphisms', 'isoparametric', 'isoperimetric', 'isothermal', 'isotonic', 'isotope', 'isotopes', 'isotopic', 'isotropic', 'isotropy', 'iss', 'issue', 'issues', 'it', 'italian', 'item', 'items', 'iterate', 'iterated', 'iterates', 'iteration', 'iterations', 'iterative', 'iteratively', 'itinerant', 'its', 'iv', 'iwasawa', 'jaccard', 'jacobi', 'jacobian', 'jacobians', 'james', 'jamming', 'january', 'janus', 'japan', 'japanese', 'java', 'javascript', 'jensen', 'jet', 'jets', 'jitter', 'job', 'jobs', 'johnson', 'join', 'joining', 'joins', 'joint', 'jointly', 'joints', 'jones', 'jordan', 'josephson', 'joule', 'journal', 'journals', 'jovian', 'jpeg', 'judge', 'judgment', 'judgments', 'julia', 'july', 'jump', 'jumping', 'jumps', 'junction', 'junctions', 'june', 'junk', 'juno', 'jup', 'jupiter', 'jupiters', 'justification', 'justifications', 'justified', 'justifies', 'justify', 'jwst', 'kac', 'kagome', 'kahler', 'kalman', 'kan', 'kantorovich', 'kappa', 'kato', 'kazhdan', 'kd', 'kdv', 'keck', 'keep', 'keeping', 'keeps', 'keller', 'kelvin', 'kendall', 'kepler', 'keplerian', 'kept', 'keras', 'kernel', 'kernels', 'kerr', 'kev', 'key', 'keypoint', 'keypoints', 'keys', 'keyword', 'keywords', 'kg', 'kh', 'khovanov', 'khz', 'kidney', 'kids', 'killing', 'kim', 'kind', 'kinds', 'kinematic', 'kinematics', 'kinetic', 'kinetically', 'kinetics', 'kink', 'kinks', 'kirchhoff', 'kitaev', 'kitti', 'kl', 'klein', 'km', 'kms', 'kn', 'knapsack', 'knee', 'kneser', 'knn', 'knockoff', 'knot', 'knots', 'knotted', 'know', 'knowing', 'knowledge', 'known', 'knows', 'knudsen', 'kohn', 'kolmogorov', 'kondo', 'kontsevich', 'koopman', 'korteweg', 'koszul', 'kp', 'kpc', 'kpz', 'kr', 'kramers', 'kriging', 'kripke', 'kronecker', 'krylov', 'ks', 'kt', 'kuiper', 'kullback', 'kummer', 'kuramoto', 'kurtosis', 'kutta', 'la', 'lab', 'label', 'labeled', 'labeling', 'labelled', 'labelling', 'labels', 'labor', 'laboratories', 'laboratory', 'labs', 'lack', 'lacking', 'lacks', 'lacunary', 'ladder', 'laes', 'lag', 'lagged', 'lagrange', 'lagrangian', 'lagrangians', 'lags', 'laguerre', 'lake', 'lamb', 'lambda', 'laminar', 'lanczos', 'land', 'landau', 'lander', 'landing', 'landmark', 'landmarks', 'landscape', 'landscapes', 'lane', 'lanes', 'langevin', 'langlands', 'langle', 'language', 'languages', 'lao', 'lap', 'laplace', 'laplacian', 'laplacians', 'large', 'largely', 'larger', 'largest', 'las', 'laser', 'lasers', 'lasing', 'lasso', 'last', 'lasting', 'lastly', 'lat', 'late', 'latencies', 'latency', 'latent', 'later', 'lateral', 'latest', 'latin', 'latitude', 'latitudes', 'latter', 'lattice', 'lattices', 'launch', 'launched', 'laurent', 'law', 'laws', 'lax', 'lay', 'layer', 'layered', 'layers', 'layout', 'layouts', 'lazy', 'lb', 'lc', 'lceil', 'lcs', 'ld', 'lda', 'lder', 'ldots', 'ldpc', 'le', 'lead', 'leader', 'leaders', 'leadership', 'leading', 'leads', 'leaf', 'leak', 'leakage', 'leaked', 'leaky', 'leaping', 'learn', 'learnable', 'learned', 'learner', 'learners', 'learning', 'learns', 'learnt', 'least', 'leave', 'leaves', 'leaving', 'leavitt', 'lebesgue', 'lecture', 'lectures', 'led', 'lee', 'lefschetz', 'left', 'leg', 'legacy', 'legal', 'legendre', 'legged', 'legitimate', 'legs', 'leibler', 'leibniz', 'lemma', 'length', 'lengths', 'lens', 'lensed', 'lenses', 'lensing', 'lepton', 'leq', 'leqslant', 'leray', 'les', 'lesion', 'lesions', 'less', 'lesser', 'lessons', 'lesssim', 'let', 'lets', 'lett', 'letter', 'letters', 'letting', 'level', 'levels', 'leverage', 'leveraged', 'leverages', 'leveraging', 'levi', 'levitated', 'levy', 'lewis', 'lexical', 'lexicographic', 'lexicon', 'lfloor', 'lg', 'lhc', 'li', 'liberal', 'libraries', 'library', 'license', 'licensed', 'lid', 'lidar', 'lie', 'lieb', 'lies', 'life', 'lifecycle', 'lifelong', 'lifespan', 'lifetime', 'lifetimes', 'lifshitz', 'lift', 'lifted', 'lifting', 'ligand', 'ligands', 'light', 'lighting', 'lightweight', 'ligo', 'lih', 'like', 'likelihood', 'likelihoods', 'likely', 'likes', 'likewise', 'lim', 'limb', 'limit', 'limitation', 'limitations', 'limited', 'limiting', 'limits', 'lin', 'linac', 'line', 'lineage', 'linear', 'linearities', 'linearity', 'linearization', 'linearized', 'linearly', 'lines', 'linewidth', 'lingual', 'linguistic', 'link', 'linkage', 'linked', 'linkedin', 'linking', 'links', 'linux', 'liouville', 'lipschitz', 'liquid', 'liquidity', 'liquids', 'lisa', 'list', 'listed', 'listening', 'listings', 'lists', 'literature', 'lithium', 'little', 'littlewood', 'liu', 'live', 'lived', 'liver', 'lives', 'living', 'ller', 'lll', 'lm', 'lmc', 'ln', 'lo', 'load', 'loaded', 'loading', 'loads', 'loan', 'local', 'localisation', 'localised', 'locality', 'localization', 'localize', 'localized', 'localizing', 'locally', 'locate', 'located', 'locating', 'location', 'locations', 'loci', 'lock', 'locked', 'locking', 'locomotion', 'locus', 'lofar', 'log', 'logarithm', 'logarithmic', 'logarithmically', 'logic', 'logical', 'logically', 'logics', 'logistic', 'logit', 'lognormal', 'logs', 'long', 'longer', 'longest', 'longitude', 'longitudinal', 'longstanding', 'look', 'lookahead', 'looking', 'looks', 'loop', 'loops', 'loopy', 'loose', 'loosely', 'lorentz', 'lorentzian', 'lorenz', 'los', 'lose', 'loses', 'losing', 'loss', 'losses', 'lossless', 'lossy', 'lost', 'lot', 'lots', 'love', 'low', 'lower', 'lowered', 'lowering', 'lowers', 'lowest', 'lp', 'lps', 'lpt', 'lq', 'lqg', 'lqr', 'lr', 'lrcs', 'ls', 'lsb', 'lse', 'lsh', 'lss', 'lsst', 'lssvm', 'lstm', 'lstms', 'lt', 'lte', 'lti', 'ltl', 'lu', 'luminescence', 'luminosities', 'luminosity', 'luminous', 'lumped', 'lunar', 'lung', 'lusztig', 'luttinger', 'lv', 'ly', 'lya', 'lyapunov', 'lying', 'lyman', 'lyrae', 'mab', 'mac', 'macaulay', 'mach', 'machine', 'machinery', 'machines', 'macro', 'macromolecular', 'macromolecules', 'macroscopic', 'made', 'mae', 'mag', 'magellanic', 'magic', 'magnesium', 'magnet', 'magnetic', 'magnetically', 'magnetism', 'magnetization', 'magnetized', 'magneto', 'magnetoelectric', 'magnetohydrodynamic', 'magnetometer', 'magnetometers', 'magnetometry', 'magnetoresistance', 'magnetosphere', 'magnetron', 'magnets', 'magnification', 'magnitude', 'magnitudes', 'magnon', 'magnons', 'mahler', 'main', 'mainly', 'mainstream', 'maintain', 'maintained', 'maintaining', 'maintains', 'maintenance', 'major', 'majorana', 'majority', 'make', 'maker', 'makers', 'makes', 'making', 'malaria', 'male', 'males', 'malicious', 'malware', 'mammalian', 'mammography', 'man', 'manage', 'manageable', 'managed', 'management', 'manager', 'managers', 'manages', 'managing', 'maneuvers', 'manhattan', 'manifest', 'manifestation', 'manifested', 'manifests', 'manifold', 'manifolds', 'manin', 'manipulate', 'manipulated', 'manipulating', 'manipulation', 'manipulations', 'manipulator', 'manipulators', 'mann', 'manner', 'mansour', 'mantle', 'manual', 'manually', 'manufacturing', 'manuscript', 'many', 'map', 'mapped', 'mapper', 'mapping', 'mappings', 'mapreduce', 'maps', 'mapsto', 'marangoni', 'march', 'margin', 'marginal', 'marginalization', 'marginally', 'marginals', 'margins', 'marine', 'mark', 'marked', 'markedly', 'marker', 'markers', 'market', 'marketing', 'markets', 'markov', 'markovian', 'marks', 'marriage', 'mars', 'martensitic', 'martian', 'martin', 'martingale', 'martingales', 'mas', 'maser', 'mask', 'masked', 'masking', 'masks', 'mass', 'masses', 'massive', 'massively', 'massless', 'master', 'mat', 'match', 'matched', 'matches', 'matching', 'matchings', 'material', 'materials', 'math', 'mathbb', 'mathbf', 'mathcal', 'mathematical', 'mathematically', 'mathematics', 'mathfrak', 'mathrm', 'mathscr', 'mathsf', 'matlab', 'matrices', 'matrix', 'matroid', 'matroids', 'matter', 'matters', 'mature', 'mav', 'max', 'maxima', 'maximal', 'maximally', 'maximization', 'maximize', 'maximized', 'maximizes', 'maximizing', 'maximum', 'maxwell', 'may', 'maze', 'mb', 'mbl', 'mbox', 'mc', 'mci', 'mcmc', 'mcts', 'md', 'mda', 'mdp', 'mdps', 'mds', 'mean', 'meaning', 'meaningful', 'meanings', 'means', 'meant', 'meanwhile', 'measurable', 'measure', 'measured', 'measurement', 'measurements', 'measures', 'measuring', 'mec', 'mechanical', 'mechanically', 'mechanics', 'mechanism', 'mechanisms', 'mechanistic', 'media', 'median', 'mediated', 'mediation', 'mediator', 'medical', 'medication', 'medicine', 'medium', 'meet', 'meeting', 'meets', 'meg', 'mega', 'mel', 'melanoma', 'mellin', 'melt', 'melting', 'member', 'members', 'membership', 'membrane', 'membranes', 'memories', 'memorization', 'memory', 'memoryless', 'memristive', 'memristor', 'memristors', 'men', 'mental', 'mention', 'mentioned', 'mentions', 'mere', 'merely', 'merge', 'merged', 'merger', 'mergers', 'merges', 'merging', 'meridional', 'merit', 'merits', 'meromorphic', 'mes', 'mesh', 'meshes', 'mesoscale', 'mesoscopic', 'message', 'messages', 'met', 'meta', 'metabolic', 'metabolism', 'metadata', 'metal', 'metallic', 'metallicities', 'metallicity', 'metals', 'metamaterial', 'metamaterials', 'metamodel', 'metamodels', 'metastable', 'metasurface', 'metasurfaces', 'meteor', 'meteorological', 'meter', 'meters', 'methane', 'method', 'methodological', 'methodologies', 'methodology', 'methods', 'methylation', 'metric', 'metrics', 'metrology', 'metropolis', 'mev', 'mexico', 'mf', 'mfcc', 'mg', 'mgb', 'mgo', 'mgs', 'mgso', 'mh', 'mhd', 'mhz', 'mi', 'mice', 'micro', 'microbial', 'microbiome', 'microfluidic', 'microgrid', 'microgrids', 'microlensing', 'micromagnetic', 'micron', 'microns', 'microphone', 'microscale', 'microscope', 'microscopes', 'microscopic', 'microscopy', 'microsoft', 'microstructural', 'microstructure', 'microstructures', 'microwave', 'mid', 'middle', 'middleware', 'mie', 'might', 'migrating', 'migration', 'mil', 'mild', 'mildly', 'military', 'milky', 'miller', 'millimeter', 'millimetre', 'million', 'millions', 'millisecond', 'milliseconds', 'mills', 'milne', 'milnor', 'milp', 'mim', 'mimic', 'mimicking', 'mimics', 'mimo', 'min', 'mind', 'mine', 'miner', 'mini', 'minibatch', 'minima', 'minimal', 'minimality', 'minimally', 'minimax', 'minimization', 'minimize', 'minimized', 'minimizer', 'minimizers', 'minimizes', 'minimizing', 'minimum', 'mining', 'minkowski', 'minor', 'minority', 'minus', 'minute', 'minutes', 'mir', 'mirror', 'mirrors', 'mis', 'misaligned', 'misalignment', 'misclassification', 'misconceptions', 'mises', 'misinformation', 'misleading', 'mismatch', 'mismatched', 'mismatches', 'miss', 'missed', 'missing', 'missingness', 'mission', 'missions', 'misspecification', 'misspecified', 'mistakes', 'mit', 'mitigate', 'mitigated', 'mitigating', 'mitigation', 'mix', 'mixed', 'mixing', 'mixture', 'mixtures', 'mk', 'ml', 'mle', 'mlm', 'mlp', 'mls', 'mm', 'mmse', 'mmv', 'mmwave', 'mn', 'mnist', 'mno', 'mo', 'mobile', 'mobilities', 'mobility', 'mock', 'mod', 'modal', 'modalities', 'modality', 'mode', 'model', 'modeled', 'modeling', 'modelled', 'modelling', 'models', 'moderate', 'moderately', 'moderation', 'modern', 'modes', 'modest', 'modification', 'modifications', 'modified', 'modifies', 'modify', 'modifying', 'modular', 'modularity', 'modulate', 'modulated', 'modulation', 'modulations', 'modulator', 'module', 'modules', 'moduli', 'modulo', 'modulus', 'moisture', 'mol', 'molecular', 'molecule', 'molecules', 'moment', 'momenta', 'moments', 'momentum', 'mon', 'monad', 'monadic', 'monads', 'money', 'monge', 'monic', 'monitor', 'monitored', 'monitoring', 'monitors', 'mono', 'monochromatic', 'monocular', 'monodromy', 'monoid', 'monoidal', 'monoids', 'monolayer', 'monolayers', 'monolithic', 'monomer', 'monomial', 'monomials', 'monopole', 'monopoles', 'monotone', 'monotonic', 'monotonically', 'monotonicity', 'monte', 'month', 'monthly', 'months', 'moody', 'moon', 'moons', 'moore', 'moral', 'more', 'moreover', 'morita', 'moriya', 'morphism', 'morphisms', 'morphological', 'morphologies', 'morphology', 'morse', 'mortality', 'mos', 'mose', 'moser', 'most', 'mostly', 'motif', 'motifs', 'motility', 'motion', 'motional', 'motions', 'motivate', 'motivated', 'motivates', 'motivating', 'motivation', 'motivations', 'motives', 'motivic', 'motor', 'motors', 'mott', 'mountain', 'mounted', 'mouse', 'move', 'moved', 'movement', 'movements', 'moves', 'movie', 'movies', 'moving', 'mp', 'mpa', 'mpc', 'mpi', 'mps', 'mr', 'mri', 'ms', 'msa', 'mse', 'msi', 'mso', 'mst', 'msun', 'mt', 'mtl', 'mts', 'mu', 'much', 'muller', 'multi', 'multiagent', 'multiband', 'multicast', 'multichannel', 'multiclass', 'multicomponent', 'multicore', 'multidimensional', 'multiferroic', 'multifractal', 'multigraph', 'multigrid', 'multilayer', 'multilayers', 'multilevel', 'multilinear', 'multilingual', 'multimedia', 'multimodal', 'multimode', 'multinomial', 'multipartite', 'multiparty', 'multipath', 'multiphase', 'multiphoton', 'multiple', 'multiplet', 'multiplex', 'multiplexed', 'multiplexing', 'multiplication', 'multiplications', 'multiplicative', 'multiplicities', 'multiplicity', 'multiplied', 'multiplier', 'multipliers', 'multiply', 'multiplying', 'multipole', 'multipoles', 'multiprocessor', 'multiresolution', 'multiscale', 'multisensory', 'multispecies', 'multispectral', 'multitask', 'multitude', 'multiuser', 'multivariate', 'multiview', 'muon', 'muons', 'muscle', 'muse', 'music', 'musical', 'must', 'mutant', 'mutation', 'mutations', 'mutual', 'mutually', 'mv', 'mvp', 'mw', 'myopic', 'myr', 'myriad', 'na', 'nabla', 'nacl', 'nai', 'naive', 'naively', 'name', 'named', 'namely', 'names', 'nano', 'nanocrystals', 'nanometer', 'nanoparticle', 'nanoparticles', 'nanoribbons', 'nanoscale', 'nanosheets', 'nanostructure', 'nanostructures', 'nanotube', 'nanotubes', 'nanowire', 'nanowires', 'nard', 'narrative', 'narratives', 'narrow', 'narrower', 'nasa', 'nash', 'national', 'nations', 'native', 'natural', 'naturally', 'nature', 'navier', 'navigate', 'navigating', 'navigation', 'nb', 'nc', 'nd', 'ne', 'near', 'nearby', 'nearest', 'nearly', 'nebula', 'nebulae', 'nebular', 'necessarily', 'necessary', 'necessitates', 'necessity', 'neck', 'need', 'needed', 'needing', 'needs', 'negation', 'negative', 'negatively', 'negativity', 'neglected', 'neglecting', 'negligible', 'neighbor', 'neighborhood', 'neighborhoods', 'neighboring', 'neighbors', 'neighbour', 'neighbourhood', 'neighbouring', 'neighbours', 'neither', 'nematic', 'neptune', 'neq', 'nerve', 'nervous', 'nested', 'nesterov', 'nesting', 'net', 'netflix', 'nets', 'network', 'networked', 'networking', 'networks', 'neumann', 'neural', 'neuroimaging', 'neurological', 'neuromorphic', 'neuron', 'neuronal', 'neurons', 'neuroscience', 'neutral', 'neutrality', 'neutrino', 'neutrinoless', 'neutrinos', 'neutron', 'neutrons', 'never', 'nevertheless', 'new', 'newly', 'news', 'newton', 'newtonian', 'next', 'ng', 'ngc', 'nh', 'ni', 'nice', 'night', 'nilpotent', 'nine', 'nio', 'nir', 'nist', 'nitride', 'nitrogen', 'nlos', 'nlp', 'nls', 'nm', 'nmda', 'nmf', 'nmr', 'nmt', 'nn', 'nns', 'no', 'nobel', 'noble', 'nodal', 'node', 'nodes', 'nodule', 'noether', 'noetherian', 'noise', 'noiseless', 'noises', 'noising', 'noisy', 'noma', 'nominal', 'non', 'nonadiabatic', 'nonasymptotic', 'noncommutative', 'noncompact', 'nonconvex', 'none', 'nonempty', 'nonequilibrium', 'nonetheless', 'nonlinear', 'nonlinearities', 'nonlinearity', 'nonlinearly', 'nonlocal', 'nonnegative', 'nonparametric', 'nonrelativistic', 'nonsmooth', 'nonstandard', 'nonstationary', 'nontrivial', 'nonuniform', 'nonvanishing', 'nonzero', 'norm', 'normal', 'normality', 'normalization', 'normalized', 'normalizing', 'normally', 'normals', 'normative', 'normed', 'norms', 'north', 'northern', 'not', 'notable', 'notably', 'notation', 'note', 'noted', 'notes', 'nothing', 'noticeable', 'notifications', 'notion', 'notions', 'notoriously', 'nova', 'novel', 'novelty', 'november', 'novice', 'novo', 'nowadays', 'nozzle', 'np', 'ns', 'nu', 'nuclear', 'nucleation', 'nuclei', 'nucleon', 'nucleosynthesis', 'nucleus', 'nuisance', 'null', 'number', 'numbers', 'numeric', 'numerical', 'numerically', 'numerics', 'numerous', 'nurbs', 'nustar', 'nutrient', 'nvidia', 'nyi', 'nyquist', 'nystr', 'oa', 'oam', 'obey', 'obeying', 'obeys', 'obfuscation', 'object', 'objective', 'objectives', 'objects', 'oblique', 'obliquity', 'oblivious', 'obscured', 'observability', 'observable', 'observables', 'observation', 'observational', 'observationally', 'observations', 'observatories', 'observatory', 'observe', 'observed', 'observer', 'observers', 'observes', 'observing', 'obstacle', 'obstacles', 'obstruction', 'obstructions', 'obtain', 'obtainable', 'obtained', 'obtaining', 'obtains', 'obvious', 'obviously', 'oc', 'occasionally', 'occluded', 'occlusion', 'occlusions', 'occupancy', 'occupation', 'occupied', 'occupies', 'occupy', 'occur', 'occurred', 'occurrence', 'occurrences', 'occurring', 'occurs', 'ocean', 'oceans', 'oct', 'octahedral', 'octave', 'october', 'octree', 'odd', 'odds', 'ode', 'odes', 'odometry', 'odot', 'of', 'ofdm', 'off', 'offer', 'offered', 'offering', 'offers', 'office', 'official', 'offline', 'offloading', 'offs', 'offset', 'offsets', 'offspring', 'often', 'ogle', 'oh', 'ohmic', 'oi', 'oiii', 'oil', 'old', 'older', 'ols', 'omega', 'omics', 'omniscience', 'omp', 'on', 'onboard', 'one', 'ones', 'ongoing', 'online', 'only', 'onset', 'onto', 'ontologies', 'ontology', 'op', 'opacity', 'open', 'opened', 'opening', 'openml', 'openmp', 'opens', 'operads', 'operate', 'operated', 'operates', 'operating', 'operation', 'operational', 'operations', 'operator', 'operatorname', 'operators', 'opf', 'opinion', 'opinions', 'oplus', 'opportunistic', 'opportunities', 'opportunity', 'opposed', 'opposing', 'opposite', 'oppositely', 'opposition', 'opt', 'optic', 'optical', 'optically', 'optics', 'optima', 'optimal', 'optimality', 'optimally', 'optimisation', 'optimised', 'optimistic', 'optimization', 'optimizations', 'optimize', 'optimized', 'optimizer', 'optimizers', 'optimizes', 'optimizing', 'optimum', 'option', 'optional', 'options', 'optoelectronic', 'optomechanical', 'or', 'oracle', 'oracles', 'oral', 'orbifold', 'orbit', 'orbital', 'orbitals', 'orbiting', 'orbits', 'order', 'ordered', 'ordering', 'orderings', 'orders', 'ordinal', 'ordinary', 'org', 'organ', 'organic', 'organisation', 'organism', 'organisms', 'organization', 'organizational', 'organizations', 'organize', 'organized', 'organizing', 'organs', 'ori', 'orientable', 'orientation', 'orientational', 'orientations', 'oriented', 'origin', 'original', 'originally', 'originate', 'originated', 'originates', 'originating', 'origins', 'orion', 'orlicz', 'ornstein', 'orthogonal', 'orthogonality', 'orthogonally', 'orthonormal', 'orthorhombic', 'os', 'oscillating', 'oscillation', 'oscillations', 'oscillator', 'oscillators', 'oscillatory', 'osiris', 'osn', 'osns', 'ot', 'other', 'others', 'otherwise', 'otimes', 'oumuamua', 'out', 'outage', 'outbreak', 'outbreaks', 'outburst', 'outbursts', 'outcome', 'outcomes', 'outdoor', 'outer', 'outflow', 'outflowing', 'outflows', 'outgoing', 'outlets', 'outlier', 'outliers', 'outline', 'outlined', 'outlines', 'outlook', 'outperform', 'outperformed', 'outperforming', 'outperforms', 'output', 'outputs', 'outside', 'outskirts', 'outstanding', 'outward', 'over', 'overall', 'overcome', 'overcomes', 'overcoming', 'overcomplete', 'overdensity', 'overestimate', 'overfitting', 'overflow', 'overhead', 'overheads', 'overlap', 'overlapping', 'overlaps', 'overlay', 'overline', 'overlooked', 'overly', 'overrightarrow', 'oversampling', 'overview', 'overwhelming', 'owing', 'owners', 'ownership', 'oxidation', 'oxide', 'oxides', 'oxygen', 'ozone', 'pa', 'pac', 'paced', 'package', 'packages', 'packed', 'packet', 'packets', 'packing', 'packings', 'pad', 'page', 'pagerank', 'pages', 'paid', 'pain', 'painlev', 'painting', 'pair', 'paired', 'pairing', 'pairs', 'pairwise', 'palomar', 'pan', 'panel', 'panels', 'paper', 'papers', 'par', 'para', 'parabolic', 'paradigm', 'paradigmatic', 'paradigms', 'paradox', 'parafac', 'parallel', 'parallelism', 'parallelizable', 'parallelization', 'parallelize', 'parallelized', 'paramagnetic', 'parameter', 'parameterization', 'parameterizations', 'parameterized', 'parameters', 'parametric', 'parametrically', 'parametrization', 'parametrizations', 'parametrized', 'paramount', 'paraphrase', 'parasitic', 'parent', 'parents', 'pareto', 'paris', 'parity', 'parking', 'parkinson', 'parse', 'parsec', 'parser', 'parsers', 'parseval', 'parsimonious', 'parsing', 'part', 'partial', 'partially', 'participant', 'participants', 'participate', 'participating', 'participation', 'particle', 'particles', 'particular', 'particularly', 'parties', 'partition', 'partitioned', 'partitioning', 'partitions', 'partly', 'partner', 'partners', 'parts', 'party', 'pas', 'pascal', 'pass', 'passage', 'passed', 'passes', 'passing', 'passive', 'passivity', 'password', 'passwords', 'past', 'patch', 'patches', 'path', 'pathogen', 'pathological', 'pathologies', 'pathology', 'paths', 'pathway', 'pathways', 'pathwise', 'patient', 'patients', 'pattern', 'patterned', 'patterning', 'patterns', 'pauli', 'pave', 'paves', 'paving', 'pay', 'paying', 'payload', 'payment', 'payoff', 'payoffs', 'pb', 'pbe', 'pbh', 'pc', 'pca', 'pce', 'pcs', 'pd', 'pde', 'pdes', 'pdf', 'pdfs', 'pdms', 'pe', 'peak', 'peaked', 'peaks', 'pearson', 'pebble', 'pebbles', 'pebp', 'peculiar', 'peculiarities', 'pedagogical', 'pedestrian', 'pedestrians', 'pediatric', 'peer', 'peers', 'peg', 'pegs', 'peierls', 'penalization', 'penalize', 'penalized', 'penalties', 'penalty', 'pencil', 'pendulum', 'penetration', 'penrose', 'people', 'peptide', 'per', 'perceive', 'perceived', 'percent', 'percentage', 'percentile', 'perception', 'perceptions', 'perceptron', 'perceptual', 'percolation', 'perfect', 'perfectly', 'perform', 'performance', 'performances', 'performed', 'performing', 'performs', 'perhaps', 'perimeter', 'period', 'periodic', 'periodically', 'periodicity', 'periods', 'peripheral', 'periphery', 'permanent', 'permeability', 'permit', 'permits', 'permitted', 'permittivity', 'permutation', 'permutations', 'permuted', 'perot', 'perovskite', 'perovskites', 'perp', 'perpendicular', 'perseus', 'persist', 'persistence', 'persistent', 'persists', 'person', 'personal', 'personality', 'personalization', 'personalized', 'persons', 'perspective', 'perspectives', 'pertaining', 'pertinent', 'perturb', 'perturbation', 'perturbations', 'perturbative', 'perturbed', 'perturbing', 'pervasive', 'pet', 'petri', 'pf', 'pg', 'ph', 'phantom', 'phase', 'phased', 'phases', 'phenomena', 'phenomenological', 'phenomenology', 'phenomenon', 'phenotype', 'phenotypes', 'phenotyping', 'phi', 'philosophy', 'phishing', 'phone', 'phoneme', 'phonemes', 'phones', 'phonetic', 'phonon', 'phononic', 'phonons', 'phosphorene', 'phosphorus', 'photo', 'photodetectors', 'photoelectron', 'photoemission', 'photoevaporation', 'photoexcitation', 'photography', 'photoionization', 'photoluminescence', 'photometric', 'photometry', 'photomultiplier', 'photon', 'photonic', 'photonics', 'photons', 'photos', 'photosphere', 'photospheric', 'photovoltaic', 'phrase', 'phrases', 'phylogenetic', 'phylogeny', 'phys', 'physical', 'physically', 'physicians', 'physicists', 'physics', 'physiological', 'physiology', 'pi', 'piano', 'picard', 'pick', 'picked', 'picking', 'picks', 'picosecond', 'picture', 'pictures', 'pid', 'piece', 'pieces', 'piecewise', 'piezoelectric', 'pile', 'pileup', 'pillar', 'pillars', 'pilot', 'pin', 'pinning', 'pioneering', 'pip', 'pipe', 'pipeline', 'pipelined', 'pipelines', 'pipes', 'pitaevskii', 'pitch', 'pitfalls', 'pivot', 'pivotal', 'pixel', 'pixels', 'pl', 'place', 'placed', 'placement', 'places', 'placing', 'plain', 'plan', 'planar', 'plancherel', 'planck', 'plane', 'planes', 'planet', 'planetary', 'planetesimal', 'planetesimals', 'planets', 'planned', 'planner', 'planners', 'planning', 'plans', 'plant', 'planted', 'plants', 'plasma', 'plasmas', 'plasmon', 'plasmonic', 'plasmons', 'plastic', 'plasticity', 'plate', 'plateau', 'plates', 'platform', 'platforms', 'plausibility', 'plausible', 'play', 'playback', 'played', 'player', 'players', 'playing', 'plays', 'plda', 'plethora', 'plot', 'plots', 'pls', 'plug', 'plumes', 'plus', 'pm', 'pma', 'pmb', 'pmod', 'pmt', 'pmts', 'pn', 'po', 'pockets', 'pod', 'poincar', 'poincare', 'point', 'pointed', 'pointing', 'points', 'pointwise', 'pois', 'poisoning', 'poisson', 'polar', 'polarimetric', 'polarimetry', 'polarisation', 'polarised', 'polariton', 'polaritons', 'polarity', 'polarizabilities', 'polarizability', 'polarization', 'polarizations', 'polarized', 'polaron', 'polarons', 'pole', 'poles', 'policies', 'policy', 'polish', 'political', 'politics', 'pollution', 'poly', 'polya', 'polyatomic', 'polygon', 'polygonal', 'polygons', 'polyhedra', 'polyhedral', 'polyhedron', 'polylogarithmic', 'polymer', 'polymers', 'polymorphism', 'polymorphs', 'polynomial', 'polynomially', 'polynomials', 'polyphonic', 'polytope', 'polytopes', 'pomdp', 'pontryagin', 'pool', 'pooled', 'pooling', 'poor', 'poorly', 'pop', 'popular', 'popularity', 'populated', 'population', 'populations', 'pore', 'pores', 'porosity', 'porous', 'port', 'portable', 'portal', 'portfolio', 'portfolios', 'portion', 'portions', 'pos', 'pose', 'posed', 'posedness', 'poses', 'poset', 'posets', 'posing', 'position', 'positional', 'positioning', 'positions', 'positive', 'positively', 'positives', 'positivity', 'positron', 'positrons', 'possess', 'possesses', 'possessing', 'possibilities', 'possibility', 'possible', 'possibly', 'post', 'posted', 'posterior', 'posteriori', 'posteriors', 'posting', 'posts', 'postulate', 'posture', 'potassium', 'potential', 'potentially', 'potentials', 'potts', 'poverty', 'powder', 'power', 'powered', 'powerful', 'powers', 'pp', 'ppm', 'pr', 'practical', 'practically', 'practice', 'practices', 'practitioners', 'pragmatic', 'prandtl', 'pre', 'preceding', 'precession', 'precipitates', 'precipitation', 'precise', 'precisely', 'precision', 'precisions', 'precoder', 'precoding', 'preconditioned', 'preconditioner', 'preconditioning', 'precursor', 'precursors', 'predator', 'predefined', 'predicate', 'predicates', 'predict', 'predictability', 'predictable', 'predicted', 'predicting', 'prediction', 'predictions', 'predictive', 'predictor', 'predictors', 'predicts', 'predominant', 'predominantly', 'prefer', 'preferable', 'preference', 'preferences', 'preferential', 'preferentially', 'preferred', 'prefetching', 'prefix', 'preliminary', 'premise', 'preparation', 'prepare', 'prepared', 'preparing', 'preprocessing', 'prerequisite', 'prescribed', 'prescription', 'prescriptions', 'presence', 'present', 'presentation', 'presentations', 'presented', 'presenting', 'presently', 'presents', 'preservation', 'preserve', 'preserved', 'preserves', 'preserving', 'presidential', 'press', 'pressing', 'pressure', 'pressures', 'presumably', 'pretrained', 'prevailing', 'prevalence', 'prevalent', 'prevent', 'preventing', 'prevention', 'prevents', 'previous', 'previously', 'prey', 'price', 'prices', 'pricing', 'primal', 'primarily', 'primary', 'prime', 'primes', 'primitive', 'primitives', 'primordial', 'principal', 'principle', 'principled', 'principles', 'printed', 'printing', 'prior', 'priori', 'priorities', 'prioritization', 'prioritize', 'prioritized', 'priority', 'priors', 'pristine', 'privacy', 'private', 'privileged', 'prize', 'pro', 'proactive', 'probabilistic', 'probabilistically', 'probabilities', 'probability', 'probable', 'probably', 'probe', 'probed', 'probes', 'probing', 'probit', 'problem', 'problematic', 'problems', 'procedural', 'procedure', 'procedures', 'proceed', 'proceedings', 'proceeds', 'process', 'processed', 'processes', 'processing', 'processor', 'processors', 'prod', 'produce', 'produced', 'producers', 'produces', 'producing', 'product', 'production', 'productive', 'productivity', 'products', 'professional', 'professionals', 'profile', 'profiles', 'profiling', 'profit', 'profound', 'progenitor', 'progenitors', 'program', 'programmable', 'programme', 'programmer', 'programmers', 'programming', 'programs', 'progress', 'progresses', 'progression', 'progressions', 'progressive', 'progressively', 'prohibitive', 'prohibitively', 'proj', 'project', 'projected', 'projecting', 'projection', 'projections', 'projective', 'projector', 'projects', 'proliferation', 'prolog', 'prominent', 'promise', 'promises', 'promising', 'promote', 'promoted', 'promotes', 'promoting', 'prompt', 'prompted', 'prone', 'pronounced', 'pronunciation', 'proof', 'proofs', 'propagate', 'propagated', 'propagates', 'propagating', 'propagation', 'propagator', 'propelled', 'propensity', 'proper', 'properly', 'properties', 'property', 'proportion', 'proportional', 'proportionally', 'proportions', 'proposal', 'proposals', 'propose', 'proposed', 'proposes', 'proposing', 'proposition', 'propositional', 'propositions', 'proprietary', 'propto', 'propulsion', 'prospect', 'prospective', 'prospects', 'prostate', 'protect', 'protected', 'protecting', 'protection', 'protects', 'protein', 'proteins', 'proto', 'protocol', 'protocols', 'proton', 'protons', 'protoplanetary', 'protostars', 'protostellar', 'prototype', 'prototypes', 'prototypical', 'prototyping', 'provable', 'provably', 'prove', 'proved', 'proven', 'provenance', 'prover', 'proves', 'provide', 'provided', 'provider', 'providers', 'provides', 'providing', 'proving', 'proxies', 'proxima', 'proximal', 'proximity', 'proxy', 'prune', 'pruning', 'ps', 'psc', 'psd', 'pseudo', 'pseudoconvex', 'pseudogap', 'pseudosymmetric', 'psf', 'psi', 'psl', 'pso', 'pspace', 'psr', 'psychological', 'psychology', 'pt', 'ptas', 'ptse', 'pu', 'public', 'publication', 'publications', 'publicly', 'published', 'publishers', 'publishing', 'puf', 'pull', 'pullback', 'pulled', 'pulmonary', 'pulsar', 'pulsars', 'pulsating', 'pulsation', 'pulse', 'pulsed', 'pulses', 'pump', 'pumping', 'purchase', 'purchases', 'pure', 'purely', 'purity', 'purpose', 'purposes', 'pursue', 'pursued', 'pursuit', 'push', 'pushed', 'pushes', 'pushing', 'put', 'putative', 'puts', 'putting', 'puzzle', 'puzzles', 'pv', 'pw', 'pyramid', 'pyrochlore', 'python', 'qa', 'qbf', 'qc', 'qcd', 'qcp', 'qe', 'qed', 'qm', 'qoe', 'qos', 'qpos', 'qquad', 'qr', 'quad', 'quadrant', 'quadratic', 'quadratically', 'quadrature', 'quadric', 'quadrotor', 'quadruple', 'quadrupole', 'qualitative', 'qualitatively', 'qualities', 'quality', 'quandle', 'quantification', 'quantified', 'quantifier', 'quantifiers', 'quantifies', 'quantify', 'quantifying', 'quantile', 'quantiles', 'quantitative', 'quantitatively', 'quantities', 'quantity', 'quantization', 'quantized', 'quantizing', 'quantum', 'quark', 'quarks', 'quarter', 'quartic', 'quasar', 'quasars', 'quasi', 'quasiclassical', 'quasilinear', 'quasiparticle', 'quasiparticles', 'quasiperiodic', 'quaternion', 'quaternionic', 'qubit', 'qubits', 'quench', 'quenched', 'quenches', 'quenching', 'queried', 'queries', 'query', 'querying', 'quest', 'question', 'questionnaire', 'questions', 'queue', 'queueing', 'queues', 'quick', 'quickly', 'quiescent', 'quillen', 'quintic', 'quite', 'quiver', 'quivers', 'quotient', 'quotients', 'ra', 'rabi', 'race', 'radar', 'rademacher', 'radial', 'radially', 'radiation', 'radiative', 'radical', 'radically', 'radii', 'radio', 'radioactive', 'radiographs', 'radius', 'radon', 'rain', 'rainbow', 'rainfall', 'raise', 'raised', 'raises', 'raising', 'ram', 'raman', 'ramanujan', 'ramified', 'ramp', 'ramsey', 'ran', 'randers', 'random', 'randomization', 'randomized', 'randomly', 'randomness', 'range', 'ranged', 'ranges', 'ranging', 'rangle', 'rank', 'ranked', 'ranking', 'rankings', 'ranks', 'rao', 'rapid', 'rapidly', 'rare', 'rarely', 'rashba', 'rat', 'rate', 'rates', 'rather', 'rating', 'ratings', 'ratio', 'rational', 'rationale', 'rationality', 'rationally', 'ratios', 'raw', 'ray', 'rayleigh', 'rays', 'rb', 'rbf', 'rbm', 'rbms', 'rc', 'rcnn', 'rd', 're', 'reach', 'reachability', 'reachable', 'reached', 'reaches', 'reaching', 'react', 'reacting', 'reaction', 'reactions', 'reactive', 'reactivity', 'reactor', 'read', 'readable', 'reader', 'readers', 'readily', 'reading', 'readings', 'readout', 'reads', 'ready', 'real', 'realised', 'realism', 'realistic', 'realistically', 'reality', 'realizable', 'realization', 'realizations', 'realize', 'realized', 'realizes', 'realizing', 'really', 'realm', 'reals', 'realtime', 'rearrangement', 'reason', 'reasonable', 'reasonably', 'reasoning', 'reasons', 'recall', 'receive', 'received', 'receiver', 'receivers', 'receives', 'receiving', 'recent', 'recently', 'reception', 'receptive', 'receptor', 'receptors', 'recipe', 'reciprocal', 'reciprocity', 'recognition', 'recognize', 'recognized', 'recognizing', 'recoil', 'recombination', 'recommend', 'recommendation', 'recommendations', 'recommended', 'recommender', 'recommending', 'reconcile', 'reconfigurable', 'reconfiguration', 'reconnection', 'reconstruct', 'reconstructed', 'reconstructing', 'reconstruction', 'reconstructions', 'reconstructs', 'record', 'recorded', 'recording', 'recordings', 'records', 'recover', 'recoverability', 'recoverable', 'recovered', 'recovering', 'recovers', 'recovery', 'recruitment', 'rectangles', 'rectangular', 'rectified', 'rectifier', 'recurrence', 'recurrent', 'recurring', 'recursion', 'recursive', 'recursively', 'recycling', 'red', 'reddening', 'reddit', 'redesign', 'redistribution', 'redmapper', 'redshift', 'redshifts', 'reduce', 'reduced', 'reduces', 'reducibility', 'reducible', 'reducing', 'reduction', 'reductions', 'reductive', 'redundancies', 'redundancy', 'redundant', 'reed', 'reentrant', 'refactoring', 'refer', 'reference', 'references', 'referendum', 'referred', 'referring', 'refers', 'refine', 'refined', 'refinement', 'refinements', 'refines', 'refining', 'refitting', 'reflect', 'reflectance', 'reflected', 'reflecting', 'reflection', 'reflections', 'reflective', 'reflects', 'reflex', 'reflexive', 'reformulate', 'reformulated', 'reformulation', 'refraction', 'refractive', 'refractory', 'regard', 'regarded', 'regarding', 'regardless', 'regards', 'regime', 'regimes', 'region', 'regional', 'regions', 'register', 'registration', 'regolith', 'regression', 'regressions', 'regressors', 'regret', 'regular', 'regularisation', 'regularities', 'regularity', 'regularization', 'regularize', 'regularized', 'regularizer', 'regularizers', 'regularizing', 'regularly', 'regulate', 'regulated', 'regulating', 'regulation', 'regulations', 'regulator', 'regulatory', 'rehabilitation', 'reheating', 'reidemeister', 'reinforce', 'reinforced', 'reinforcement', 'reinsurance', 'reionization', 'reject', 'rejected', 'rejection', 'relate', 'related', 'relatedness', 'relates', 'relating', 'relation', 'relational', 'relations', 'relationship', 'relationships', 'relative', 'relatively', 'relativistic', 'relativity', 'relax', 'relaxation', 'relaxations', 'relaxed', 'relaxes', 'relaxing', 'relay', 'relaying', 'relays', 'release', 'released', 'releases', 'releasing', 'relevance', 'relevant', 'reliability', 'reliable', 'reliably', 'reliance', 'relied', 'relies', 'relu', 'rely', 'relying', 'remain', 'remainder', 'remained', 'remaining', 'remains', 'remark', 'remarkable', 'remarkably', 'remarks', 'remedies', 'remedy', 'remember', 'reminiscent', 'remnant', 'remnants', 'remote', 'remotely', 'removal', 'remove', 'removed', 'removes', 'removing', 'render', 'rendered', 'rendering', 'renders', 'renewable', 'renewal', 'renewed', 'renormalization', 'renormalized', 'renyi', 'reordering', 'repair', 'repairing', 'reparametrization', 'repeat', 'repeated', 'repeatedly', 'repeating', 'repertoire', 'repetition', 'repetitive', 'replace', 'replaced', 'replacement', 'replaces', 'replacing', 'replay', 'replica', 'replicability', 'replicate', 'replicated', 'replicates', 'replicating', 'replication', 'replicator', 'report', 'reported', 'reporting', 'reports', 'repositories', 'repository', 'represent', 'representable', 'representation', 'representational', 'representations', 'representative', 'representatives', 'represented', 'representing', 'represents', 'reproduce', 'reproduced', 'reproduces', 'reproducibility', 'reproducible', 'reproducing', 'reproduction', 'repulsion', 'repulsive', 'reputation', 'request', 'requested', 'requests', 'require', 'required', 'requirement', 'requirements', 'requires', 'requiring', 'res', 'resampling', 'rescaled', 'rescaling', 'rescue', 'research', 'researched', 'researcher', 'researchers', 'researches', 'resemble', 'resembles', 'resembling', 'reserve', 'reservoir', 'reservoirs', 'reset', 'resetting', 'reside', 'residential', 'residents', 'residing', 'residual', 'residuals', 'residue', 'residues', 'resilience', 'resilient', 'resistance', 'resistant', 'resistive', 'resistivity', 'resnet', 'resnets', 'resolution', 'resolutions', 'resolve', 'resolved', 'resolvent', 'resolves', 'resolving', 'resonance', 'resonances', 'resonant', 'resonantly', 'resonator', 'resonators', 'resort', 'resource', 'resources', 'resp', 'respect', 'respecting', 'respective', 'respectively', 'respects', 'respond', 'respondents', 'response', 'responses', 'responsibility', 'responsible', 'responsive', 'rest', 'restart', 'restarting', 'resting', 'restoration', 'restore', 'restored', 'restoring', 'restrict', 'restricted', 'restricting', 'restriction', 'restrictions', 'restrictive', 'restricts', 'result', 'resultant', 'resulted', 'resulting', 'results', 'retail', 'retain', 'retained', 'retaining', 'retains', 'retention', 'retina', 'retinal', 'retraction', 'retraining', 'retrieval', 'retrieve', 'retrieved', 'retrieving', 'retrospective', 'return', 'returned', 'returning', 'returns', 'reuse', 'reused', 'reusing', 'rev', 'reveal', 'revealed', 'revealing', 'reveals', 'revenue', 'reversal', 'reverse', 'reversed', 'reversible', 'reversing', 'review', 'reviewed', 'reviewers', 'reviewing', 'reviews', 'revise', 'revised', 'revision', 'revisit', 'revisited', 'revisiting', 'revolution', 'revolutionized', 'reward', 'rewards', 'reweighted', 'reweighting', 'rewrite', 'rewriting', 'rex', 'reynolds', 'rf', 'rfi', 'rfid', 'rfloor', 'rg', 'rgb', 'rh', 'rham', 'rheological', 'rheology', 'rho', 'rhythm', 'rhythms', 'ri', 'ribbon', 'riccati', 'ricci', 'rich', 'richardson', 'richer', 'richness', 'ride', 'ridge', 'riemann', 'riemannian', 'riesz', 'right', 'rightarrow', 'rigid', 'rigidity', 'rigorous', 'rigorously', 'ring', 'rings', 'rip', 'rise', 'rises', 'rising', 'risk', 'risks', 'risky', 'river', 'rkhs', 'rl', 'rm', 'rms', 'rmse', 'rmsprop', 'rmt', 'rn', 'rna', 'rnn', 'rnns', 'ro', 'road', 'roadmap', 'roads', 'robin', 'robinson', 'robot', 'robotic', 'robotics', 'robots', 'robust', 'robustly', 'robustness', 'roc', 'roche', 'rock', 'rocky', 'rod', 'rods', 'rogue', 'roi', 'rokhlin', 'role', 'roles', 'roll', 'rolling', 'rom', 'room', 'root', 'rooted', 'roots', 'rope', 'ros', 'rosen', 'rosetta', 'ross', 'rota', 'rotated', 'rotating', 'rotation', 'rotational', 'rotationally', 'rotations', 'rotators', 'rotor', 'rough', 'roughly', 'roughness', 'round', 'rounding', 'rounds', 'route', 'routes', 'routine', 'routinely', 'routines', 'routing', 'rover', 'row', 'rows', 'rp', 'rpca', 'rps', 'rr', 'rrt', 'rs', 'rst', 'rt', 'rtimes', 'rts', 'ru', 'rubidium', 'rule', 'ruled', 'rules', 'rumor', 'rumors', 'rumour', 'run', 'runaway', 'runge', 'running', 'runs', 'runtime', 'ruo', 'rural', 'russell', 'russian', 'rust', 'ruv', 'rv', 'rw', 'rydberg', 'sa', 'sacrifice', 'sacrificing', 'saddle', 'saddles', 'safe', 'safely', 'safety', 'sag', 'saga', 'said', 'sake', 'sale', 'sales', 'salesman', 'saliency', 'salient', 'salt', 'sample', 'sampled', 'sampler', 'samplers', 'samples', 'sampling', 'sandwich', 'sar', 'sarcasm', 'sas', 'sat', 'satellite', 'satellites', 'satisfaction', 'satisfactory', 'satisfiability', 'satisfied', 'satisfies', 'satisfy', 'satisfying', 'saturated', 'saturating', 'saturation', 'saturn', 'save', 'saving', 'savings', 'say', 'says', 'sb', 'sbm', 'sc', 'scalability', 'scalable', 'scalar', 'scale', 'scaled', 'scales', 'scaling', 'scalings', 'scan', 'scanned', 'scanner', 'scanners', 'scanning', 'scans', 'scarce', 'scarcity', 'scatter', 'scattered', 'scatterers', 'scattering', 'scatterings', 'scenario', 'scenarios', 'scene', 'scenes', 'schatten', 'schedule', 'scheduled', 'scheduler', 'schedules', 'scheduling', 'schema', 'schemata', 'scheme', 'schemes', 'schmidt', 'scholarly', 'scholars', 'scholes', 'school', 'schools', 'schottky', 'schr', 'schrieffer', 'schrodinger', 'schroedinger', 'schubert', 'schur', 'schwartz', 'schwarz', 'schwarzschild', 'schwinger', 'sci', 'science', 'sciences', 'scientific', 'scientist', 'scientists', 'scintillation', 'scintillator', 'scm', 'scope', 'score', 'scores', 'scoring', 'scratch', 'screen', 'screened', 'screening', 'screw', 'script', 'scripts', 'sct', 'sd', 'sdes', 'sdn', 'sdp', 'sdr', 'sds', 'sdss', 'se', 'sea', 'seamless', 'seamlessly', 'search', 'searched', 'searches', 'searching', 'season', 'seasonal', 'sec', 'second', 'secondary', 'secondly', 'seconds', 'secrecy', 'secret', 'secretary', 'section', 'sectional', 'sections', 'sector', 'sectors', 'secular', 'secure', 'securing', 'security', 'sed', 'sediment', 'seds', 'see', 'seebeck', 'seed', 'seeding', 'seeds', 'seeing', 'seek', 'seeking', 'seeks', 'seem', 'seemingly', 'seems', 'seen', 'segal', 'segel', 'segment', 'segmentation', 'segmentations', 'segmented', 'segmenting', 'segments', 'segregation', 'seiberg', 'seifert', 'seismic', 'seismicity', 'seizure', 'seizures', 'sel', 'selberg', 'seldom', 'select', 'selected', 'selecting', 'selection', 'selections', 'selective', 'selectively', 'selectivity', 'selector', 'selects', 'self', 'selfish', 'seller', 'selmer', 'sem', 'semantic', 'semantically', 'semantics', 'semeval', 'semi', 'semiclassical', 'semiconducting', 'semiconductor', 'semiconductors', 'semidefinite', 'semigroup', 'semigroups', 'semilinear', 'semimetal', 'semimetals', 'seminal', 'semiparametric', 'semiring', 'semisimple', 'semistable', 'send', 'sender', 'sending', 'sense', 'sensed', 'sensible', 'sensing', 'sensitive', 'sensitively', 'sensitivities', 'sensitivity', 'sensor', 'sensorimotor', 'sensors', 'sensory', 'sent', 'sentence', 'sentences', 'sentiment', 'separability', 'separable', 'separate', 'separated', 'separately', 'separates', 'separating', 'separation', 'separations', 'sepsis', 'september', 'seq', 'sequence', 'sequences', 'sequencing', 'sequent', 'sequential', 'sequentially', 'serial', 'series', 'serious', 'seriously', 'serve', 'served', 'server', 'servers', 'serves', 'service', 'services', 'serving', 'session', 'sessions', 'set', 'setminus', 'sets', 'setting', 'settings', 'settle', 'settling', 'setup', 'setups', 'seven', 'several', 'severe', 'severely', 'severity', 'sex', 'sexual', 'seyfert', 'sf', 'sfr', 'sg', 'sgd', 'sgld', 'sgr', 'sgx', 'sh', 'shading', 'shadow', 'shadowing', 'shall', 'shallow', 'shallower', 'sham', 'shannon', 'shape', 'shaped', 'shapes', 'shaping', 'shapiro', 'sharding', 'share', 'shared', 'shares', 'sharing', 'sharp', 'sharper', 'sharply', 'sharpness', 'sheaf', 'shear', 'sheaves', 'shed', 'shedding', 'sheds', 'sheet', 'sheets', 'shelf', 'shell', 'shells', 'shielding', 'shift', 'shifted', 'shifting', 'shifts', 'shimura', 'shock', 'shockley', 'shocks', 'shopping', 'short', 'shortcoming', 'shortcomings', 'shorter', 'shortest', 'shortfall', 'shot', 'show', 'showcase', 'showed', 'shower', 'showers', 'showing', 'shown', 'shows', 'shrink', 'shrinkage', 'shrinking', 'shrinks', 'si', 'siam', 'siamese', 'sic', 'side', 'sided', 'sides', 'siegel', 'sieve', 'sight', 'sigma', 'sigmoid', 'sign', 'signal', 'signaling', 'signals', 'signature', 'signatures', 'signed', 'significance', 'significant', 'significantly', 'signs', 'silica', 'silicate', 'silico', 'silicon', 'silver', 'sim', 'simeq', 'similar', 'similarities', 'similarity', 'similarly', 'simons', 'simple', 'simpler', 'simplest', 'simplex', 'simplices', 'simplicial', 'simplicity', 'simplification', 'simplified', 'simplifies', 'simplify', 'simplifying', 'simplistic', 'simply', 'simpson', 'simulate', 'simulated', 'simulates', 'simulating', 'simulation', 'simulations', 'simulator', 'simulators', 'simultaneous', 'simultaneously', 'sin', 'since', 'sine', 'singer', 'single', 'singlet', 'singular', 'singularities', 'singularity', 'sink', 'sinkhorn', 'sinr', 'sinusoidal', 'sio', 'sir', 'sis', 'site', 'sites', 'sitter', 'situ', 'situation', 'situations', 'six', 'sixteen', 'sizable', 'size', 'sized', 'sizes', 'ska', 'skeletal', 'skeleton', 'sketch', 'sketched', 'sketches', 'sketching', 'skew', 'skewed', 'skewness', 'skill', 'skills', 'skin', 'skip', 'sky', 'skyrmion', 'skyrmions', 'sl', 'slab', 'slack', 'slam', 'slave', 'sleep', 'slice', 'sliced', 'slices', 'slicing', 'slide', 'sliding', 'slight', 'slightly', 'slip', 'slit', 'sloan', 'slope', 'slopes', 'slot', 'slots', 'slow', 'slower', 'slowing', 'slowly', 'slsne', 'sm', 'smale', 'small', 'smaller', 'smallest', 'smart', 'smartphone', 'smartphones', 'smbh', 'smc', 'smgs', 'smiles', 'smith', 'smoke', 'smoking', 'smooth', 'smoothed', 'smoother', 'smoothing', 'smoothly', 'smoothness', 'smt', 'sn', 'snapshot', 'snapshots', 'sne', 'snippets', 'snn', 'snns', 'snow', 'snp', 'snps', 'snr', 'snrs', 'sns', 'soa', 'soap', 'sobol', 'sobolev', 'soc', 'soccer', 'social', 'socially', 'societal', 'societies', 'society', 'socio', 'socle', 'soda', 'sodium', 'soft', 'softening', 'softmax', 'software', 'soi', 'soil', 'sol', 'solar', 'sole', 'solely', 'solid', 'solids', 'solitary', 'soliton', 'solitons', 'solomon', 'solubility', 'solute', 'solution', 'solutions', 'solvability', 'solvable', 'solvation', 'solve', 'solved', 'solvent', 'solver', 'solvers', 'solves', 'solving', 'some', 'something', 'sometimes', 'somewhat', 'sonar', 'song', 'songs', 'soon', 'sophisticated', 'sort', 'sorted', 'sorting', 'sos', 'sot', 'sought', 'sound', 'soundness', 'sounds', 'source', 'sourced', 'sources', 'south', 'southern', 'sp', 'space', 'spacecraft', 'spaced', 'spaces', 'spacetime', 'spacetimes', 'spacing', 'spacings', 'spain', 'spam', 'span', 'spanish', 'spanned', 'spanning', 'spans', 'spark', 'sparse', 'sparsely', 'sparseness', 'sparsification', 'sparsifying', 'sparsity', 'spatial', 'spatially', 'spatio', 'spatiotemporal', 'speak', 'speaker', 'speakers', 'speaking', 'specht', 'special', 'specialization', 'specialize', 'specialized', 'specially', 'species', 'specific', 'specifically', 'specification', 'specifications', 'specificity', 'specified', 'specify', 'specifying', 'spectra', 'spectral', 'spectrally', 'spectrogram', 'spectrograms', 'spectrograph', 'spectrometer', 'spectrometry', 'spectroscopic', 'spectroscopically', 'spectroscopy', 'spectrum', 'speech', 'speeches', 'speed', 'speeding', 'speeds', 'speedup', 'speedups', 'spend', 'spent', 'sph', 'sphere', 'spheres', 'spherical', 'spherically', 'spi', 'spike', 'spiked', 'spikes', 'spiking', 'spin', 'spinal', 'spine', 'spinel', 'spinless', 'spinning', 'spinor', 'spinors', 'spins', 'spintronic', 'spintronics', 'spiral', 'spirals', 'spirit', 'spite', 'spitzer', 'spl', 'spline', 'splines', 'split', 'splits', 'splitting', 'spns', 'spoken', 'spontaneous', 'spontaneously', 'spoofing', 'sports', 'spot', 'spots', 'spotting', 'spr', 'spread', 'spreading', 'spreads', 'spreadsheet', 'spreadsheets', 'spring', 'springer', 'sps', 'spt', 'spurious', 'sputtering', 'sql', 'sqrt', 'square', 'squared', 'squares', 'squeezing', 'squid', 'sr', 'srtio', 'ss', 'ssa', 'ssc', 'sse', 'ssl', 'ssp', 'sst', 'ssvep', 'st', 'stability', 'stabilization', 'stabilize', 'stabilized', 'stabilizer', 'stabilizes', 'stabilizing', 'stable', 'stably', 'stack', 'stacked', 'stacking', 'stacks', 'stage', 'stages', 'staggered', 'staging', 'stakeholders', 'stand', 'standard', 'standardization', 'standardized', 'standards', 'standing', 'stands', 'stanley', 'star', 'starburst', 'stark', 'starless', 'stars', 'starspots', 'start', 'started', 'starting', 'starts', 'stat', 'state', 'stated', 'statement', 'statements', 'states', 'static', 'statically', 'stating', 'station', 'stationarity', 'stationary', 'stations', 'statistic', 'statistical', 'statistically', 'statisticians', 'statistics', 'status', 'stay', 'stays', 'stdp', 'steadily', 'steady', 'stealthy', 'steel', 'steenrod', 'steep', 'steeper', 'steepest', 'steer', 'steering', 'steganography', 'stein', 'steinberg', 'steiner', 'stellar', 'stem', 'stemming', 'stems', 'stencil', 'step', 'stepping', 'steps', 'stepsize', 'stereo', 'sterile', 'stick', 'stiff', 'stiffness', 'still', 'stimulate', 'stimulated', 'stimulation', 'stimuli', 'stimulus', 'stirling', 'stl', 'stm', 'sto', 'stoc', 'stochastic', 'stochastically', 'stochasticity', 'stock', 'stocks', 'stoichiometric', 'stokes', 'stone', 'stop', 'stopping', 'storage', 'store', 'stored', 'stores', 'stories', 'storing', 'storm', 'story', 'straight', 'straightforward', 'straightforwardly', 'strain', 'strained', 'strains', 'strange', 'strata', 'strategic', 'strategically', 'strategies', 'strategy', 'stratification', 'stratified', 'stratum', 'stream', 'streaming', 'streams', 'street', 'strength', 'strengthen', 'strengthened', 'strengthening', 'strengthens', 'strengths', 'stress', 'stresses', 'stretch', 'stretched', 'stretching', 'strichartz', 'strict', 'strictly', 'striking', 'strikingly', 'string', 'stringent', 'strings', 'strip', 'stripe', 'stripes', 'stripping', 'strips', 'stroke', 'strong', 'stronger', 'strongest', 'strongly', 'structural', 'structurally', 'structure', 'structured', 'structures', 'struggle', 'student', 'students', 'studied', 'studies', 'study', 'studying', 'style', 'styles', 'su', 'sub', 'subalgebra', 'subalgebras', 'subaru', 'subcategory', 'subclass', 'subclasses', 'subcritical', 'subdomains', 'subgaussian', 'subgradient', 'subgraph', 'subgraphs', 'subgroup', 'subgroups', 'subject', 'subjected', 'subjective', 'subjects', 'sublattice', 'sublinear', 'submanifold', 'submanifolds', 'submersions', 'submillimeter', 'submillimetre', 'submission', 'submissions', 'submit', 'submitted', 'submodular', 'submodularity', 'subnetwork', 'subnetworks', 'suboptimal', 'subpopulations', 'subproblem', 'subproblems', 'subsample', 'subsampled', 'subsampling', 'subsequence', 'subsequent', 'subsequently', 'subset', 'subseteq', 'subsets', 'subspace', 'subspaces', 'substantial', 'substantially', 'substellar', 'substitute', 'substitution', 'substrate', 'substrates', 'substructure', 'substructures', 'subsumes', 'subsurface', 'subsystem', 'subsystems', 'subtasks', 'subtle', 'subtraction', 'subtree', 'subvarieties', 'subvariety', 'subwavelength', 'succeed', 'succeeds', 'success', 'successes', 'successful', 'successfully', 'successive', 'successively', 'successor', 'succinct', 'sudden', 'suffer', 'suffering', 'suffers', 'suffice', 'suffices', 'sufficient', 'sufficiently', 'suggest', 'suggested', 'suggesting', 'suggestion', 'suggestions', 'suggests', 'suitability', 'suitable', 'suitably', 'suite', 'suited', 'suites', 'sullivan', 'sum', 'summaries', 'summarization', 'summarize', 'summarized', 'summarizes', 'summarizing', 'summary', 'summation', 'summer', 'summing', 'sums', 'sun', 'sunyaev', 'sup', 'super', 'superalgebra', 'supercomputers', 'superconducting', 'superconductivity', 'superconductor', 'superconductors', 'superconformal', 'supercritical', 'supercurrent', 'superfluid', 'superfluidity', 'superfluids', 'supergiant', 'supergravity', 'superior', 'superiority', 'superlattice', 'superlattices', 'superlinear', 'supermassive', 'supernova', 'supernovae', 'superposition', 'supersonic', 'supersymmetric', 'supersymmetry', 'supervised', 'supervision', 'supervisory', 'supplementary', 'supplemented', 'supplied', 'supply', 'supplying', 'support', 'supported', 'supporting', 'supports', 'suppose', 'supposed', 'suppress', 'suppressed', 'suppresses', 'suppressing', 'suppression', 'supremum', 'suprime', 'sure', 'surely', 'surface', 'surfaces', 'surfactant', 'surge', 'surgery', 'surgical', 'surjective', 'surpass', 'surpasses', 'surplus', 'surprising', 'surprisingly', 'surrogate', 'surrogates', 'surrounded', 'surrounding', 'surroundings', 'surveillance', 'survey', 'surveyed', 'surveys', 'survival', 'survive', 'susceptibility', 'susceptible', 'suspended', 'suspension', 'suspensions', 'suspicious', 'sustain', 'sustainability', 'sustainable', 'sustained', 'sv', 'svd', 'svdd', 'svhn', 'svm', 'svms', 'svrg', 'sw', 'swap', 'swapping', 'swarm', 'swi', 'swift', 'swimmer', 'swimmers', 'swimming', 'switch', 'switched', 'switches', 'switching', 'syk', 'sylvester', 'symbol', 'symbolic', 'symbols', 'symmetric', 'symmetrical', 'symmetries', 'symmetrized', 'symmetry', 'symplectic', 'symptoms', 'synapses', 'synaptic', 'synchronization', 'synchronized', 'synchronizing', 'synchronous', 'synchrotron', 'synergies', 'synergy', 'synoptic', 'syntactic', 'syntax', 'synthesis', 'synthesize', 'synthesized', 'synthesizes', 'synthesizing', 'synthetic', 'synthetically', 'system', 'systematic', 'systematically', 'systematics', 'systemic', 'systems', 'sz', 'ta', 'table', 'tables', 'tabular', 'tackle', 'tackled', 'tackles', 'tackling', 'tactile', 'tag', 'tagged', 'tagging', 'tags', 'tail', 'tailed', 'tailored', 'tailoring', 'tails', 'take', 'taken', 'takes', 'taking', 'tale', 'talk', 'tame', 'tan', 'tandem', 'tangent', 'tangential', 'tangles', 'tank', 'tap', 'tape', 'target', 'targeted', 'targeting', 'targets', 'task', 'tasks', 'tate', 'tau', 'tauri', 'tax', 'taxa', 'taxi', 'taxonomic', 'taxonomy', 'taylor', 'tb', 'tc', 'tcp', 'td', 'tdd', 'te', 'teach', 'teacher', 'teachers', 'teaching', 'team', 'teams', 'technical', 'technically', 'technique', 'techniques', 'technological', 'technologies', 'technology', 'tedious', 'teichm', 'telecommunication', 'teleoperation', 'telescope', 'telescopes', 'tell', 'teller', 'temperate', 'temperature', 'temperatures', 'tempered', 'tempering', 'template', 'templates', 'temporal', 'temporally', 'temporarily', 'temporary', 'ten', 'tenant', 'tend', 'tendency', 'tends', 'tens', 'tensegrity', 'tensile', 'tension', 'tensor', 'tensorflow', 'tensorial', 'tensors', 'tentative', 'terahertz', 'term', 'termed', 'terminal', 'terminals', 'terminated', 'termination', 'terminology', 'terms', 'ternary', 'terrain', 'terrestrial', 'tesla', 'tess', 'test', 'testable', 'testbed', 'tested', 'tester', 'testing', 'tests', 'tetragonal', 'tetrahedral', 'tev', 'text', 'textbf', 'textbook', 'textit', 'textrm', 'texts', 'textsc', 'texttt', 'textual', 'texture', 'textured', 'textures', 'tf', 'tfr', 'th', 'than', 'thanks', 'that', 'the', 'their', 'theme', 'themes', 'theorem', 'theorems', 'theoretic', 'theoretical', 'theoretically', 'theories', 'theory', 'therapeutic', 'therapy', 'thereafter', 'thereby', 'therefore', 'therein', 'thereof', 'thermal', 'thermalization', 'thermally', 'thermo', 'thermochemical', 'thermodynamic', 'thermodynamics', 'thermoelectric', 'thermophysical', 'thermopower', 'thermosphere', 'thesis', 'theta', 'thick', 'thickness', 'thicknesses', 'thin', 'things', 'think', 'thinking', 'thinner', 'thinning', 'third', 'thirty', 'thomas', 'thompson', 'thorough', 'thoroughly', 'though', 'thought', 'thouless', 'thousand', 'thousands', 'thread', 'threaded', 'threads', 'threat', 'threats', 'three', 'threefold', 'threefolds', 'threshold', 'thresholding', 'thresholds', 'through', 'throughout', 'throughput', 'thrust', 'thus', 'thz', 'ti', 'tidal', 'tidally', 'tide', 'tides', 'tie', 'tied', 'tier', 'ties', 'tight', 'tighter', 'tightly', 'tightness', 'tikhonov', 'tilde', 'tile', 'tiles', 'tiling', 'tilings', 'tilt', 'tilted', 'tilting', 'time', 'timed', 'timeline', 'timely', 'times', 'timescale', 'timescales', 'timing', 'tin', 'tiny', 'tio', 'tip', 'tips', 'tissue', 'tissues', 'titan', 'titanium', 'title', 'tits', 'tl', 'tls', 'tm', 'tmds', 'tn', 'to', 'toda', 'today', 'toeplitz', 'tof', 'together', 'token', 'tokens', 'tolerance', 'tolerant', 'tolman', 'tomographic', 'tomography', 'tone', 'took', 'tool', 'toolbox', 'toolkit', 'tools', 'top', 'topic', 'topical', 'topics', 'topography', 'topological', 'topologically', 'topologies', 'topology', 'topos', 'tor', 'tori', 'toric', 'toroidal', 'torque', 'torques', 'torsion', 'torus', 'total', 'totally', 'touch', 'touching', 'tough', 'tour', 'tournament', 'toward', 'towards', 'tower', 'toxic', 'toxicity', 'toy', 'tp', 'tpc', 'tr', 'trace', 'traced', 'tracer', 'tracers', 'traces', 'tracing', 'track', 'tracked', 'tracker', 'trackers', 'tracking', 'tracks', 'tract', 'tractability', 'tractable', 'traction', 'tracy', 'trade', 'traded', 'tradeoff', 'tradeoffs', 'trades', 'trading', 'traditional', 'traditionally', 'traffic', 'trailing', 'train', 'trainable', 'trained', 'training', 'trains', 'trait', 'traits', 'trajectories', 'trajectory', 'trans', 'transaction', 'transactional', 'transactions', 'transceiver', 'transcendental', 'transcription', 'transcripts', 'transducer', 'transducers', 'transduction', 'transductive', 'transfer', 'transferability', 'transferable', 'transferred', 'transferring', 'transfers', 'transform', 'transformation', 'transformations', 'transformed', 'transformer', 'transforming', 'transforms', 'transient', 'transients', 'transistor', 'transistors', 'transit', 'transiting', 'transition', 'transitional', 'transitions', 'transitive', 'transitivity', 'transits', 'translate', 'translated', 'translates', 'translating', 'translation', 'translational', 'translations', 'transmission', 'transmissions', 'transmit', 'transmits', 'transmitted', 'transmitter', 'transmitters', 'transmitting', 'transmutation', 'transparency', 'transparent', 'transport', 'transportation', 'transported', 'transversal', 'transverse', 'trap', 'trapped', 'trapping', 'trappist', 'traps', 'travel', 'traveling', 'travelling', 'traverse', 'treat', 'treated', 'treating', 'treatment', 'treatments', 'treats', 'tree', 'treebank', 'trees', 'treewidth', 'tremendous', 'tremendously', 'trend', 'trending', 'trends', 'triads', 'trial', 'trials', 'triangle', 'triangles', 'triangular', 'triangulated', 'triangulation', 'triangulations', 'trick', 'tried', 'tries', 'trigger', 'triggered', 'triggering', 'triggers', 'trigonometric', 'trimmed', 'trimming', 'trip', 'triple', 'triples', 'triplet', 'trivial', 'triviality', 'trivially', 'trojans', 'tropical', 'trough', 'true', 'truly', 'truncated', 'truncation', 'truss', 'trust', 'trusted', 'trustworthiness', 'trustworthy', 'truth', 'truthful', 'try', 'trying', 'ts', 'tsp', 'tt', 'ttf', 'ttvs', 'tube', 'tubes', 'tucker', 'tumor', 'tumors', 'tumour', 'tunability', 'tunable', 'tune', 'tuned', 'tungsten', 'tuning', 'tunka', 'tunnel', 'tunneling', 'tuple', 'tuples', 'turbine', 'turbines', 'turbulence', 'turbulent', 'turing', 'turn', 'turned', 'turning', 'turnover', 'turns', 'tutorial', 'tv', 'tw', 'tweet', 'tweets', 'twelve', 'twenty', 'twice', 'twin', 'twist', 'twisted', 'twisting', 'twistor', 'twists', 'twitter', 'two', 'twofold', 'tx', 'type', 'typed', 'types', 'typical', 'typically', 'typing', 'uav', 'uavs', 'ubiquitous', 'ucb', 'uci', 'udgs', 'udp', 'ue', 'uhlenbeck', 'ui', 'uk', 'ulam', 'ultimate', 'ultimately', 'ultra', 'ultracold', 'ultracool', 'ultrafast', 'ultrahigh', 'ultrashort', 'ultrasound', 'ultrathin', 'ultraviolet', 'um', 'un', 'unable', 'unaffected', 'unambiguous', 'unambiguously', 'unary', 'unavailability', 'unavailable', 'unavoidable', 'unbalanced', 'unbiased', 'unbounded', 'uncertain', 'uncertainties', 'uncertainty', 'unchanged', 'unclear', 'unconditional', 'unconditionally', 'unconstrained', 'uncontrolled', 'unconventional', 'uncorrelated', 'uncover', 'uncovered', 'uncovering', 'undecidable', 'under', 'underestimate', 'underestimated', 'undergo', 'undergoes', 'undergoing', 'undergraduate', 'underground', 'underline', 'underlying', 'underpinning', 'undersampling', 'understand', 'understanding', 'understood', 'undertake', 'undertaken', 'underwater', 'undesirable', 'undesired', 'undetected', 'undirected', 'unemployment', 'unequal', 'unexpected', 'unexpectedly', 'unexplored', 'unfairness', 'unfolding', 'unfortunately', 'uni', 'uniaxial', 'unidirectional', 'unification', 'unified', 'unifies', 'uniform', 'uniformity', 'uniformly', 'unify', 'unifying', 'unimodal', 'unimodular', 'union', 'unions', 'unipotent', 'unique', 'uniquely', 'uniqueness', 'unit', 'unital', 'unitary', 'united', 'units', 'unity', 'univalent', 'univariate', 'universal', 'universality', 'universally', 'universe', 'universities', 'university', 'unknown', 'unlabeled', 'unlabelled', 'unless', 'unlike', 'unlikely', 'unmanned', 'unmeasured', 'unmixing', 'unmodeled', 'unnecessary', 'unobservable', 'unobserved', 'unordered', 'unpaired', 'unperturbed', 'unphysical', 'unprecedented', 'unpredictable', 'unravel', 'unrealistic', 'unrelated', 'unreliable', 'unresolved', 'unrestricted', 'unsafe', 'unseen', 'unsolved', 'unstable', 'unsteady', 'unstructured', 'unsupervised', 'untrusted', 'unusual', 'unusually', 'unveil', 'unveiling', 'unwanted', 'unweighted', 'up', 'uparrow', 'upcoming', 'update', 'updated', 'updates', 'updating', 'upgrade', 'uplift', 'uplink', 'upon', 'upper', 'ups', 'upstream', 'uptake', 'upward', 'uq', 'urban', 'urbanization', 'urgent', 'url', 'urls', 'us', 'usa', 'usability', 'usable', 'usage', 'use', 'used', 'useful', 'usefulness', 'user', 'users', 'uses', 'using', 'usual', 'usually', 'utilise', 'utilising', 'utilities', 'utility', 'utilization', 'utilize', 'utilized', 'utilizes', 'utilizing', 'utterance', 'utterances', 'uv', 'va', 'vacancies', 'vacancy', 'vaccination', 'vaccine', 'vacuum', 'vae', 'vaes', 'vague', 'valence', 'valid', 'validate', 'validated', 'validates', 'validating', 'validation', 'validity', 'valley', 'valuable', 'valuation', 'valuations', 'value', 'valued', 'values', 'valve', 'valves', 'van', 'vanilla', 'vanish', 'vanishes', 'vanishing', 'vapor', 'vapour', 'var', 'varepsilon', 'variability', 'variable', 'variables', 'variance', 'variances', 'variant', 'variants', 'variate', 'variates', 'variation', 'variational', 'variations', 'varied', 'varies', 'varieties', 'variety', 'various', 'varphi', 'varpi', 'vartheta', 'vary', 'varying', 'vascular', 'vast', 'vastly', 'vb', 'vc', 'vdw', 'vec', 'vector', 'vectorial', 'vectors', 'vee', 'vegetation', 'vehicle', 'vehicles', 'vehicular', 'velocities', 'velocity', 'vendors', 'verb', 'verbal', 'verifiable', 'verification', 'verified', 'verifier', 'verifies', 'verify', 'verifying', 'versa', 'versatile', 'versatility', 'version', 'versions', 'versus', 'vert', 'vertex', 'vertical', 'vertically', 'vertices', 'very', 'vessel', 'vgg', 'vi', 'via', 'viability', 'viable', 'vibration', 'vibrational', 'vibrations', 'vibronic', 'vice', 'vicinity', 'video', 'videos', 'view', 'viewed', 'viewing', 'viewpoint', 'viewpoints', 'views', 'violate', 'violated', 'violating', 'violation', 'violations', 'violence', 'violent', 'vip', 'viral', 'virasoro', 'virgo', 'virial', 'virtual', 'virtualization', 'virtually', 'virtue', 'virus', 'vis', 'viscoelastic', 'viscosity', 'viscous', 'visibility', 'visible', 'vision', 'visit', 'visited', 'visits', 'visual', 'visualisation', 'visualization', 'visualizations', 'visualize', 'visualizing', 'visually', 'vital', 'vitamin', 'viterbi', 'vitro', 'vivo', 'vix', 'viz', 'vla', 'vlasov', 'vlbi', 'vlc', 'vlsi', 'vlt', 'vo', 'voc', 'vocabulary', 'vocal', 'voice', 'void', 'voids', 'vol', 'volatile', 'volatilities', 'volatility', 'volcanic', 'voltage', 'voltages', 'volterra', 'volume', 'volumes', 'volumetric', 'volunteers', 'von', 'voronoi', 'vortex', 'vortices', 'vorticity', 'vote', 'voter', 'voters', 'voting', 'voxel', 'voyager', 'vp', 'vqa', 'vr', 'vries', 'vs', 'vulnerabilities', 'vulnerability', 'vulnerable', 'vy', 'waals', 'wait', 'waiting', 'wake', 'wakefield', 'wakes', 'walk', 'walker', 'walking', 'walks', 'wall', 'walls', 'wang', 'want', 'wants', 'warm', 'warming', 'warning', 'warp', 'warped', 'warping', 'wasp', 'wasserstein', 'waste', 'watching', 'water', 'watermark', 'watermarking', 'waters', 'watson', 'wave', 'waveform', 'waveforms', 'wavefront', 'wavefunction', 'wavefunctions', 'waveguide', 'waveguides', 'wavelength', 'wavelengths', 'wavelet', 'wavelets', 'wavenet', 'wavenumber', 'waves', 'way', 'ways', 'wc', 'wd', 'we', 'weak', 'weakened', 'weakening', 'weaker', 'weakly', 'weakness', 'weaknesses', 'wealth', 'wear', 'wearable', 'weather', 'web', 'webb', 'weber', 'webpages', 'website', 'websites', 'wedge', 'wedges', 'week', 'weeks', 'weibull', 'weight', 'weighted', 'weighting', 'weights', 'weil', 'weiss', 'welfare', 'well', 'wells', 'weno', 'wer', 'west', 'western', 'wet', 'wetting', 'weyl', 'wf', 'wfirst', 'what', 'whatever', 'wheel', 'when', 'whenever', 'whereas', 'whereby', 'wherein', 'whether', 'which', 'whilst', 'white', 'whitening', 'whitham', 'whitney', 'whittaker', 'whole', 'whose', 'why', 'wi', 'wide', 'widehat', 'widely', 'wider', 'widespread', 'widetilde', 'widom', 'width', 'widths', 'wiener', 'wifi', 'wigner', 'wikipedia', 'wild', 'wilson', 'wimp', 'win', 'wind', 'winding', 'window', 'windows', 'winds', 'wing', 'winner', 'winning', 'wins', 'winter', 'wire', 'wireless', 'wires', 'wisdom', 'wise', 'wish', 'wishart', 'wishes', 'with', 'within', 'without', 'witness', 'witnessed', 'witt', 'witten', 'wls', 'wn', 'wolfe', 'women', 'word', 'words', 'work', 'worked', 'worker', 'workers', 'workflow', 'workflows', 'working', 'workload', 'workloads', 'works', 'workshop', 'workspace', 'world', 'worlds', 'worldwide', 'worse', 'worst', 'worth', 'would', 'wp', 'wpt', 'wr', 'wrapped', 'wright', 'write', 'writer', 'writing', 'written', 'wrong', 'ws', 'wse', 'wsn', 'wte', 'www', 'xc', 'xenon', 'xeon', 'xgboost', 'xi', 'xilinx', 'xml', 'xmm', 'xor', 'xu', 'xuv', 'xx', 'xxz', 'xy', 'yahoo', 'yamabe', 'yang', 'yau', 'yb', 'year', 'years', 'yeast', 'yes', 'yet', 'yield', 'yielded', 'yielding', 'yields', 'yig', 'york', 'you', 'young', 'your', 'youtube', 'yr', 'ysos', 'yttrium', 'yukawa', 'zeeman', 'zel', 'zener', 'zero', 'zeros', 'zeroth', 'zeta', 'zfc', 'zhang', 'zigzag', 'zika', 'zinc', 'zipf', 'zn', 'zno', 'zonal', 'zone', 'zones', 'zr', 'zsl']\n",
            "(20972, 11000) (8989, 11000)\n",
            "\n"
          ],
          "name": "stdout"
        }
      ]
    },
    {
      "cell_type": "code",
      "metadata": {
        "id": "nfgXxb13nq9z",
        "colab_type": "code",
        "colab": {}
      },
      "source": [
        "from sklearn.feature_extraction.text import TfidfTransformer\n",
        "\n",
        "\n",
        "transformer = TfidfTransformer(smooth_idf=True, sublinear_tf=True, use_idf=True)\n",
        "transformer.fit(trainX)\n",
        "trainX = transformer.transform(trainX)\n",
        "\n",
        "\n",
        "\n",
        "transformer = TfidfTransformer(smooth_idf=True, sublinear_tf=True, use_idf=True)\n",
        "transformer.fit(testX)\n",
        "testX = transformer.transform(testX)\n",
        "\n"
      ],
      "execution_count": 277,
      "outputs": []
    },
    {
      "cell_type": "code",
      "metadata": {
        "id": "_mcdtHDgNxvX",
        "colab_type": "code",
        "colab": {
          "base_uri": "https://localhost:8080/",
          "height": 468
        },
        "outputId": "852f7158-28c1-4c71-b4c8-fcb45156564d"
      },
      "source": [
        "from sklearn.multiclass import OneVsRestClassifier\n",
        "\n",
        "lr = LogisticRegression(class_weight='balanced',C=3.0)\n",
        "clf = OneVsRestClassifier(lr)\n",
        "clf.fit(trainX, np.array([computer,physics,maths,stats,bio,finance]).T)"
      ],
      "execution_count": 278,
      "outputs": [
        {
          "output_type": "stream",
          "text": [
            "/usr/local/lib/python3.6/dist-packages/sklearn/linear_model/_logistic.py:940: ConvergenceWarning: lbfgs failed to converge (status=1):\n",
            "STOP: TOTAL NO. of ITERATIONS REACHED LIMIT.\n",
            "\n",
            "Increase the number of iterations (max_iter) or scale the data as shown in:\n",
            "    https://scikit-learn.org/stable/modules/preprocessing.html\n",
            "Please also refer to the documentation for alternative solver options:\n",
            "    https://scikit-learn.org/stable/modules/linear_model.html#logistic-regression\n",
            "  extra_warning_msg=_LOGISTIC_SOLVER_CONVERGENCE_MSG)\n",
            "/usr/local/lib/python3.6/dist-packages/sklearn/linear_model/_logistic.py:940: ConvergenceWarning: lbfgs failed to converge (status=1):\n",
            "STOP: TOTAL NO. of ITERATIONS REACHED LIMIT.\n",
            "\n",
            "Increase the number of iterations (max_iter) or scale the data as shown in:\n",
            "    https://scikit-learn.org/stable/modules/preprocessing.html\n",
            "Please also refer to the documentation for alternative solver options:\n",
            "    https://scikit-learn.org/stable/modules/linear_model.html#logistic-regression\n",
            "  extra_warning_msg=_LOGISTIC_SOLVER_CONVERGENCE_MSG)\n"
          ],
          "name": "stderr"
        },
        {
          "output_type": "execute_result",
          "data": {
            "text/plain": [
              "OneVsRestClassifier(estimator=LogisticRegression(C=3.0, class_weight='balanced',\n",
              "                                                 dual=False, fit_intercept=True,\n",
              "                                                 intercept_scaling=1,\n",
              "                                                 l1_ratio=None, max_iter=100,\n",
              "                                                 multi_class='auto',\n",
              "                                                 n_jobs=None, penalty='l2',\n",
              "                                                 random_state=None,\n",
              "                                                 solver='lbfgs', tol=0.0001,\n",
              "                                                 verbose=0, warm_start=False),\n",
              "                    n_jobs=None)"
            ]
          },
          "metadata": {
            "tags": []
          },
          "execution_count": 278
        }
      ]
    },
    {
      "cell_type": "code",
      "metadata": {
        "id": "HNRnFNqtN55V",
        "colab_type": "code",
        "colab": {
          "base_uri": "https://localhost:8080/",
          "height": 17
        },
        "outputId": "d968c98f-a4d9-43b9-caf2-408127c89054"
      },
      "source": [
        "preds = clf.predict(testX)\n",
        "\n",
        "dic = {'ID': colID, 'Computer Science': preds.T[0] , 'Physics':preds.T[1], 'Mathematics':preds.T[2], 'Statistics':preds.T[3], 'Quantitative Biology':preds.T[4], 'Quantitative Finance':preds.T[5]} \n",
        "df_fin = pd.DataFrame(dic) \n",
        "filename = \"sub.csv\"\n",
        "df_fin.to_csv(filename , index=False)\n",
        "from google.colab import files\n",
        "files.download(filename)"
      ],
      "execution_count": 279,
      "outputs": [
        {
          "output_type": "display_data",
          "data": {
            "application/javascript": [
              "\n",
              "    async function download(id, filename, size) {\n",
              "      if (!google.colab.kernel.accessAllowed) {\n",
              "        return;\n",
              "      }\n",
              "      const div = document.createElement('div');\n",
              "      const label = document.createElement('label');\n",
              "      label.textContent = `Downloading \"${filename}\": `;\n",
              "      div.appendChild(label);\n",
              "      const progress = document.createElement('progress');\n",
              "      progress.max = size;\n",
              "      div.appendChild(progress);\n",
              "      document.body.appendChild(div);\n",
              "\n",
              "      const buffers = [];\n",
              "      let downloaded = 0;\n",
              "\n",
              "      const channel = await google.colab.kernel.comms.open(id);\n",
              "      // Send a message to notify the kernel that we're ready.\n",
              "      channel.send({})\n",
              "\n",
              "      for await (const message of channel.messages) {\n",
              "        // Send a message to notify the kernel that we're ready.\n",
              "        channel.send({})\n",
              "        if (message.buffers) {\n",
              "          for (const buffer of message.buffers) {\n",
              "            buffers.push(buffer);\n",
              "            downloaded += buffer.byteLength;\n",
              "            progress.value = downloaded;\n",
              "          }\n",
              "        }\n",
              "      }\n",
              "      const blob = new Blob(buffers, {type: 'application/binary'});\n",
              "      const a = document.createElement('a');\n",
              "      a.href = window.URL.createObjectURL(blob);\n",
              "      a.download = filename;\n",
              "      div.appendChild(a);\n",
              "      a.click();\n",
              "      div.remove();\n",
              "    }\n",
              "  "
            ],
            "text/plain": [
              "<IPython.core.display.Javascript object>"
            ]
          },
          "metadata": {
            "tags": []
          }
        },
        {
          "output_type": "display_data",
          "data": {
            "application/javascript": [
              "download(\"download_29ffdb21-e114-46ea-8745-a3bb4ee79807\", \"sub.csv\", 161895)"
            ],
            "text/plain": [
              "<IPython.core.display.Javascript object>"
            ]
          },
          "metadata": {
            "tags": []
          }
        }
      ]
    },
    {
      "cell_type": "code",
      "metadata": {
        "id": "aDlCXJqZQd5-",
        "colab_type": "code",
        "colab": {}
      },
      "source": [
        ".8207   5000\n",
        ".8265   10000\n",
        ".8272   11000\n",
        ".8273   12000\n",
        ".8266   13000\n",
        ".8261   15000\n"
      ],
      "execution_count": null,
      "outputs": []
    },
    {
      "cell_type": "code",
      "metadata": {
        "id": "vpR7h7VXQd8q",
        "colab_type": "code",
        "colab": {}
      },
      "source": [
        ""
      ],
      "execution_count": null,
      "outputs": []
    },
    {
      "cell_type": "code",
      "metadata": {
        "id": "rd63z9wDQd_t",
        "colab_type": "code",
        "colab": {}
      },
      "source": [
        ""
      ],
      "execution_count": null,
      "outputs": []
    },
    {
      "cell_type": "code",
      "metadata": {
        "id": "GDi6O7Y9QeC1",
        "colab_type": "code",
        "colab": {}
      },
      "source": [
        ""
      ],
      "execution_count": null,
      "outputs": []
    },
    {
      "cell_type": "code",
      "metadata": {
        "id": "9FjWsUJCQeHe",
        "colab_type": "code",
        "colab": {}
      },
      "source": [
        ""
      ],
      "execution_count": null,
      "outputs": []
    },
    {
      "cell_type": "code",
      "metadata": {
        "id": "1p2Hrt6rQeLf",
        "colab_type": "code",
        "colab": {}
      },
      "source": [
        ""
      ],
      "execution_count": null,
      "outputs": []
    },
    {
      "cell_type": "code",
      "metadata": {
        "id": "JBU2_HwBQeOY",
        "colab_type": "code",
        "colab": {}
      },
      "source": [
        ""
      ],
      "execution_count": null,
      "outputs": []
    },
    {
      "cell_type": "code",
      "metadata": {
        "id": "y5vD__WIQeGE",
        "colab_type": "code",
        "colab": {}
      },
      "source": [
        ""
      ],
      "execution_count": null,
      "outputs": []
    },
    {
      "cell_type": "code",
      "metadata": {
        "id": "q03iMERluYW7",
        "colab_type": "code",
        "colab": {
          "base_uri": "https://localhost:8080/",
          "height": 156
        },
        "outputId": "8cfe16a8-4ac8-406b-c5e5-8d1e4a4038bf"
      },
      "source": [
        "# modelC = MultinomialNB()\n",
        "# modelC.partial_fit(trainX, computer, classes=[0, 1])\n",
        "\n",
        "# modelC = LogisticRegression(class_weight='balanced',C=3.0).fit(trainX, computer)\n",
        "\n",
        "# modelC = LinearSVC(class_weight='balanced').fit(trainX,computer)\n",
        "\n",
        "# modelC = KNeighborsClassifier(n_neighbors=3).fit(trainX, computer)\n",
        "\n",
        "# modelC = SVC(gamma='auto').fit(trainX, computer)"
      ],
      "execution_count": 264,
      "outputs": [
        {
          "output_type": "stream",
          "text": [
            "/usr/local/lib/python3.6/dist-packages/sklearn/linear_model/_logistic.py:940: ConvergenceWarning: lbfgs failed to converge (status=1):\n",
            "STOP: TOTAL NO. of ITERATIONS REACHED LIMIT.\n",
            "\n",
            "Increase the number of iterations (max_iter) or scale the data as shown in:\n",
            "    https://scikit-learn.org/stable/modules/preprocessing.html\n",
            "Please also refer to the documentation for alternative solver options:\n",
            "    https://scikit-learn.org/stable/modules/linear_model.html#logistic-regression\n",
            "  extra_warning_msg=_LOGISTIC_SOLVER_CONVERGENCE_MSG)\n"
          ],
          "name": "stderr"
        }
      ]
    },
    {
      "cell_type": "code",
      "metadata": {
        "id": "Nk67MQGf6hZY",
        "colab_type": "code",
        "colab": {}
      },
      "source": [
        ".78 multinavebayes    word_vector / count_vector\n",
        ".8039 multinavebayes    tfidf\n",
        "\n",
        ".8157 logistic regre    tfidf\n",
        "\n",
        ".7935 KNN tfidf\n",
        "\n",
        "worst svm"
      ],
      "execution_count": null,
      "outputs": []
    },
    {
      "cell_type": "code",
      "metadata": {
        "id": "YwWlYkP46hS9",
        "colab_type": "code",
        "colab": {}
      },
      "source": [
        ""
      ],
      "execution_count": null,
      "outputs": []
    },
    {
      "cell_type": "code",
      "metadata": {
        "id": "OP902llvrVvn",
        "colab_type": "code",
        "colab": {}
      },
      "source": [
        ""
      ],
      "execution_count": null,
      "outputs": []
    },
    {
      "cell_type": "code",
      "metadata": {
        "id": "XLgrR29ErL3Z",
        "colab_type": "code",
        "colab": {}
      },
      "source": [
        ""
      ],
      "execution_count": null,
      "outputs": []
    },
    {
      "cell_type": "code",
      "metadata": {
        "id": "Nel0po4CrLyA",
        "colab_type": "code",
        "colab": {}
      },
      "source": [
        ""
      ],
      "execution_count": null,
      "outputs": []
    },
    {
      "cell_type": "code",
      "metadata": {
        "id": "CcqJGYF-WHZW",
        "colab_type": "code",
        "colab": {}
      },
      "source": [
        ""
      ],
      "execution_count": null,
      "outputs": []
    },
    {
      "cell_type": "code",
      "metadata": {
        "id": "nkMTUGveWHSo",
        "colab_type": "code",
        "colab": {}
      },
      "source": [
        ""
      ],
      "execution_count": null,
      "outputs": []
    },
    {
      "cell_type": "code",
      "metadata": {
        "id": "Q2MP8w_HGDpm",
        "colab_type": "code",
        "colab": {}
      },
      "source": [
        ""
      ],
      "execution_count": null,
      "outputs": []
    },
    {
      "cell_type": "code",
      "metadata": {
        "id": "4CjqjyGGFcHP",
        "colab_type": "code",
        "colab": {}
      },
      "source": [
        ""
      ],
      "execution_count": null,
      "outputs": []
    },
    {
      "cell_type": "markdown",
      "metadata": {
        "id": "9CKVw6SwTY_Q",
        "colab_type": "text"
      },
      "source": [
        ""
      ]
    }
  ]
}