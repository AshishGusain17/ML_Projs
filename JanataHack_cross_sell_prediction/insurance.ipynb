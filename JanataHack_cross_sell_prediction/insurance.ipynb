{
  "nbformat": 4,
  "nbformat_minor": 0,
  "metadata": {
    "kernelspec": {
      "name": "python3",
      "display_name": "Python 3"
    },
    "language_info": {
      "codemirror_mode": {
        "name": "ipython",
        "version": 3
      },
      "file_extension": ".py",
      "mimetype": "text/x-python",
      "name": "python",
      "nbconvert_exporter": "python",
      "pygments_lexer": "ipython3",
      "version": "3.7.3"
    },
    "colab": {
      "name": "insurance.ipynb",
      "provenance": [],
      "collapsed_sections": [],
      "machine_shape": "hm"
    }
  },
  "cells": [
    {
      "cell_type": "code",
      "metadata": {
        "id": "T_zx4hOGaqBE",
        "colab_type": "code",
        "colab": {
          "base_uri": "https://localhost:8080/",
          "height": 260
        },
        "outputId": "53cb6f7a-565b-4fa8-f2e2-15e2ca88876d"
      },
      "source": [
        "import pandas as pd\n",
        "import numpy as np\n",
        "from sklearn import ensemble\n",
        "from sklearn import metrics\n",
        "from sklearn.model_selection import KFold\n",
        "from sklearn.model_selection import GridSearchCV,RandomizedSearchCV\n",
        "from xgboost import XGBClassifier\n",
        "!pip install catboost\n",
        "from catboost import CatBoostClassifier\n",
        "from sklearn.ensemble import RandomForestClassifier\n",
        "from scipy.sparse import lil_matrix\n",
        "from sklearn.feature_extraction.text import TfidfTransformer\n",
        "from sklearn.preprocessing import MinMaxScaler, StandardScaler\n",
        "import copy\n",
        "from sklearn.naive_bayes import MultinomialNB\n",
        "from sklearn import svm\n",
        "import matplotlib.pyplot as plt\n",
        "from lightgbm import LGBMClassifier\n",
        "from imblearn.over_sampling import SMOTE \n",
        "from sklearn.preprocessing import LabelEncoder\n",
        "from sklearn.preprocessing import LabelBinarizer\n",
        "from sklearn.neighbors import KNeighborsClassifier\n",
        "import seaborn as sns\n",
        "from sklearn.model_selection import StratifiedKFold\n",
        "from sklearn.metrics import mean_squared_error, mean_squared_log_error, roc_auc_score, recall_score\n",
        "\n"
      ],
      "execution_count": null,
      "outputs": [
        {
          "output_type": "stream",
          "text": [
            "Requirement already satisfied: catboost in /usr/local/lib/python3.6/dist-packages (0.24.1)\n",
            "Requirement already satisfied: plotly in /usr/local/lib/python3.6/dist-packages (from catboost) (4.4.1)\n",
            "Requirement already satisfied: graphviz in /usr/local/lib/python3.6/dist-packages (from catboost) (0.10.1)\n",
            "Requirement already satisfied: matplotlib in /usr/local/lib/python3.6/dist-packages (from catboost) (3.2.2)\n",
            "Requirement already satisfied: six in /usr/local/lib/python3.6/dist-packages (from catboost) (1.15.0)\n",
            "Requirement already satisfied: pandas>=0.24.0 in /usr/local/lib/python3.6/dist-packages (from catboost) (1.0.5)\n",
            "Requirement already satisfied: numpy>=1.16.0 in /usr/local/lib/python3.6/dist-packages (from catboost) (1.18.5)\n",
            "Requirement already satisfied: scipy in /usr/local/lib/python3.6/dist-packages (from catboost) (1.4.1)\n",
            "Requirement already satisfied: retrying>=1.3.3 in /usr/local/lib/python3.6/dist-packages (from plotly->catboost) (1.3.3)\n",
            "Requirement already satisfied: python-dateutil>=2.1 in /usr/local/lib/python3.6/dist-packages (from matplotlib->catboost) (2.8.1)\n",
            "Requirement already satisfied: cycler>=0.10 in /usr/local/lib/python3.6/dist-packages (from matplotlib->catboost) (0.10.0)\n",
            "Requirement already satisfied: kiwisolver>=1.0.1 in /usr/local/lib/python3.6/dist-packages (from matplotlib->catboost) (1.2.0)\n",
            "Requirement already satisfied: pyparsing!=2.0.4,!=2.1.2,!=2.1.6,>=2.0.1 in /usr/local/lib/python3.6/dist-packages (from matplotlib->catboost) (2.4.7)\n",
            "Requirement already satisfied: pytz>=2017.2 in /usr/local/lib/python3.6/dist-packages (from pandas>=0.24.0->catboost) (2018.9)\n"
          ],
          "name": "stdout"
        }
      ]
    },
    {
      "cell_type": "code",
      "metadata": {
        "id": "xux1_aqmYMWi",
        "colab_type": "code",
        "colab": {
          "base_uri": "https://localhost:8080/",
          "height": 52
        },
        "outputId": "518aa1db-5406-4697-f293-a06d3cd3b639"
      },
      "source": [
        "from google.colab import drive\n",
        "drive.mount('/content/drive')"
      ],
      "execution_count": null,
      "outputs": [
        {
          "output_type": "stream",
          "text": [
            "Mounted at /content/drive\n",
            "Drive already mounted at /content/drive; to attempt to forcibly remount, call drive.mount(\"/content/drive\", force_remount=True).\n"
          ],
          "name": "stdout"
        }
      ]
    },
    {
      "cell_type": "code",
      "metadata": {
        "id": "t5AIKoP-YZ62",
        "colab_type": "code",
        "colab": {}
      },
      "source": [
        "!cp -r --recursive \"/content/drive/My Drive/DataScienceCompetitions/cross-sell-prediction/test.csv\" \"/content/\"\n",
        "!cp -r --recursive \"/content/drive/My Drive/DataScienceCompetitions/cross-sell-prediction/train.csv\" \"/content/\"\n",
        "!cp -r --recursive \"/content/drive/My Drive/DataScienceCompetitions/cross-sell-prediction/sample_submission_iA3afxn.csv\" \"/content/\""
      ],
      "execution_count": null,
      "outputs": []
    },
    {
      "cell_type": "code",
      "metadata": {
        "id": "wC9dYWaCYuGD",
        "colab_type": "code",
        "colab": {
          "base_uri": "https://localhost:8080/",
          "height": 202
        },
        "outputId": "e29b82c6-a25b-4eff-9a20-7dc25f7fe7c9"
      },
      "source": [
        "train = pd.read_csv(\"train.csv\")\n",
        "train.head()"
      ],
      "execution_count": null,
      "outputs": [
        {
          "output_type": "execute_result",
          "data": {
            "text/html": [
              "<div>\n",
              "<style scoped>\n",
              "    .dataframe tbody tr th:only-of-type {\n",
              "        vertical-align: middle;\n",
              "    }\n",
              "\n",
              "    .dataframe tbody tr th {\n",
              "        vertical-align: top;\n",
              "    }\n",
              "\n",
              "    .dataframe thead th {\n",
              "        text-align: right;\n",
              "    }\n",
              "</style>\n",
              "<table border=\"1\" class=\"dataframe\">\n",
              "  <thead>\n",
              "    <tr style=\"text-align: right;\">\n",
              "      <th></th>\n",
              "      <th>id</th>\n",
              "      <th>Gender</th>\n",
              "      <th>Age</th>\n",
              "      <th>Driving_License</th>\n",
              "      <th>Region_Code</th>\n",
              "      <th>Previously_Insured</th>\n",
              "      <th>Vehicle_Age</th>\n",
              "      <th>Vehicle_Damage</th>\n",
              "      <th>Annual_Premium</th>\n",
              "      <th>Policy_Sales_Channel</th>\n",
              "      <th>Vintage</th>\n",
              "      <th>Response</th>\n",
              "    </tr>\n",
              "  </thead>\n",
              "  <tbody>\n",
              "    <tr>\n",
              "      <th>0</th>\n",
              "      <td>1</td>\n",
              "      <td>Male</td>\n",
              "      <td>44</td>\n",
              "      <td>1</td>\n",
              "      <td>28.0</td>\n",
              "      <td>0</td>\n",
              "      <td>&gt; 2 Years</td>\n",
              "      <td>Yes</td>\n",
              "      <td>40454.0</td>\n",
              "      <td>26.0</td>\n",
              "      <td>217</td>\n",
              "      <td>1</td>\n",
              "    </tr>\n",
              "    <tr>\n",
              "      <th>1</th>\n",
              "      <td>2</td>\n",
              "      <td>Male</td>\n",
              "      <td>76</td>\n",
              "      <td>1</td>\n",
              "      <td>3.0</td>\n",
              "      <td>0</td>\n",
              "      <td>1-2 Year</td>\n",
              "      <td>No</td>\n",
              "      <td>33536.0</td>\n",
              "      <td>26.0</td>\n",
              "      <td>183</td>\n",
              "      <td>0</td>\n",
              "    </tr>\n",
              "    <tr>\n",
              "      <th>2</th>\n",
              "      <td>3</td>\n",
              "      <td>Male</td>\n",
              "      <td>47</td>\n",
              "      <td>1</td>\n",
              "      <td>28.0</td>\n",
              "      <td>0</td>\n",
              "      <td>&gt; 2 Years</td>\n",
              "      <td>Yes</td>\n",
              "      <td>38294.0</td>\n",
              "      <td>26.0</td>\n",
              "      <td>27</td>\n",
              "      <td>1</td>\n",
              "    </tr>\n",
              "    <tr>\n",
              "      <th>3</th>\n",
              "      <td>4</td>\n",
              "      <td>Male</td>\n",
              "      <td>21</td>\n",
              "      <td>1</td>\n",
              "      <td>11.0</td>\n",
              "      <td>1</td>\n",
              "      <td>&lt; 1 Year</td>\n",
              "      <td>No</td>\n",
              "      <td>28619.0</td>\n",
              "      <td>152.0</td>\n",
              "      <td>203</td>\n",
              "      <td>0</td>\n",
              "    </tr>\n",
              "    <tr>\n",
              "      <th>4</th>\n",
              "      <td>5</td>\n",
              "      <td>Female</td>\n",
              "      <td>29</td>\n",
              "      <td>1</td>\n",
              "      <td>41.0</td>\n",
              "      <td>1</td>\n",
              "      <td>&lt; 1 Year</td>\n",
              "      <td>No</td>\n",
              "      <td>27496.0</td>\n",
              "      <td>152.0</td>\n",
              "      <td>39</td>\n",
              "      <td>0</td>\n",
              "    </tr>\n",
              "  </tbody>\n",
              "</table>\n",
              "</div>"
            ],
            "text/plain": [
              "   id  Gender  Age  ...  Policy_Sales_Channel  Vintage  Response\n",
              "0   1    Male   44  ...                  26.0      217         1\n",
              "1   2    Male   76  ...                  26.0      183         0\n",
              "2   3    Male   47  ...                  26.0       27         1\n",
              "3   4    Male   21  ...                 152.0      203         0\n",
              "4   5  Female   29  ...                 152.0       39         0\n",
              "\n",
              "[5 rows x 12 columns]"
            ]
          },
          "metadata": {
            "tags": []
          },
          "execution_count": 182
        }
      ]
    },
    {
      "cell_type": "code",
      "metadata": {
        "id": "GLjFhfPLYuES",
        "colab_type": "code",
        "colab": {
          "base_uri": "https://localhost:8080/",
          "height": 242
        },
        "outputId": "eb076e96-a6c0-4526-9805-611e06f18fcd"
      },
      "source": [
        "train.nunique()"
      ],
      "execution_count": null,
      "outputs": [
        {
          "output_type": "execute_result",
          "data": {
            "text/plain": [
              "id                      381109\n",
              "Gender                       2\n",
              "Age                         66\n",
              "Driving_License              2\n",
              "Region_Code                 53\n",
              "Previously_Insured           2\n",
              "Vehicle_Age                  3\n",
              "Vehicle_Damage               2\n",
              "Annual_Premium           48838\n",
              "Policy_Sales_Channel       155\n",
              "Vintage                    290\n",
              "Response                     2\n",
              "dtype: int64"
            ]
          },
          "metadata": {
            "tags": []
          },
          "execution_count": 119
        }
      ]
    },
    {
      "cell_type": "code",
      "metadata": {
        "id": "XFOPEgb1OaWr",
        "colab_type": "code",
        "colab": {
          "base_uri": "https://localhost:8080/",
          "height": 313
        },
        "outputId": "645a3b46-29e0-41e7-cedd-cceeb6f59443"
      },
      "source": [
        "sns.distplot(train['Annual_Premium'])\n",
        "train['Annual_Premium'].plot\n",
        "plt.title(\"Annual_Premium\")"
      ],
      "execution_count": null,
      "outputs": [
        {
          "output_type": "execute_result",
          "data": {
            "text/plain": [
              "Text(0.5, 1.0, 'Annual_Premium')"
            ]
          },
          "metadata": {
            "tags": []
          },
          "execution_count": 120
        },
        {
          "output_type": "display_data",
          "data": {
            "image/png": "[encoded data removed]",
            "text/plain": [
              "<Figure size 432x288 with 1 Axes>"
            ]
          },
          "metadata": {
            "tags": [],
            "needs_background": "light"
          }
        }
      ]
    },
    {
      "cell_type": "code",
      "metadata": {
        "id": "Bnml94CzPEIK",
        "colab_type": "code",
        "colab": {
          "base_uri": "https://localhost:8080/",
          "height": 313
        },
        "outputId": "b2ef5def-e17a-4732-c4ea-a0c42bee5a57"
      },
      "source": [
        "sns.distplot(train['Policy_Sales_Channel'])\n",
        "train['Policy_Sales_Channel'].plot\n",
        "plt.title(\"Policy_Sales_Channel\")"
      ],
      "execution_count": null,
      "outputs": [
        {
          "output_type": "execute_result",
          "data": {
            "text/plain": [
              "Text(0.5, 1.0, 'Policy_Sales_Channel')"
            ]
          },
          "metadata": {
            "tags": []
          },
          "execution_count": 26
        },
        {
          "output_type": "display_data",
          "data": {
            "image/png": "[encoded data removed]",
            "text/plain": [
              "<Figure size 432x288 with 1 Axes>"
            ]
          },
          "metadata": {
            "tags": [],
            "needs_background": "light"
          }
        }
      ]
    },
    {
      "cell_type": "code",
      "metadata": {
        "id": "F_UFql5IvvB9",
        "colab_type": "code",
        "colab": {
          "base_uri": "https://localhost:8080/",
          "height": 312
        },
        "outputId": "7db0dbd1-518b-4ce3-e2d8-b843be09706c"
      },
      "source": [
        "sns.distplot(train['Vintage'])\n",
        "train['Vintage'].plot\n",
        "plt.title(\"Vintage\")"
      ],
      "execution_count": null,
      "outputs": [
        {
          "output_type": "execute_result",
          "data": {
            "text/plain": [
              "Text(0.5, 1.0, 'Vintage')"
            ]
          },
          "metadata": {
            "tags": []
          },
          "execution_count": 25
        },
        {
          "output_type": "display_data",
          "data": {
            "image/png": "[encoded data removed]",
            "text/plain": [
              "<Figure size 432x288 with 1 Axes>"
            ]
          },
          "metadata": {
            "tags": [],
            "needs_background": "light"
          }
        }
      ]
    },
    {
      "cell_type": "code",
      "metadata": {
        "id": "_zsoIRacvXFK",
        "colab_type": "code",
        "colab": {
          "base_uri": "https://localhost:8080/",
          "height": 313
        },
        "outputId": "2b333e6a-8460-4406-af0c-a216865ed354"
      },
      "source": [
        "sns.distplot(train['Region_Code'])\n",
        "train['Region_Code'].plot\n",
        "plt.title(\"Region_Code\")"
      ],
      "execution_count": null,
      "outputs": [
        {
          "output_type": "execute_result",
          "data": {
            "text/plain": [
              "Text(0.5, 1.0, 'Region_Code')"
            ]
          },
          "metadata": {
            "tags": []
          },
          "execution_count": 23
        },
        {
          "output_type": "display_data",
          "data": {
            "image/png": "[encoded data removed]",
            "text/plain": [
              "<Figure size 432x288 with 1 Axes>"
            ]
          },
          "metadata": {
            "tags": [],
            "needs_background": "light"
          }
        }
      ]
    },
    {
      "cell_type": "code",
      "metadata": {
        "id": "kOri7t8ZImiH",
        "colab_type": "code",
        "colab": {
          "base_uri": "https://localhost:8080/",
          "height": 666
        },
        "outputId": "92325692-1eb4-496d-f301-2a854b83d164"
      },
      "source": [
        "train[\"Gender\"].value_counts().plot.bar()\n",
        "plt.title(\"Gender\")\n",
        "\n",
        "\n",
        "DL = pd.crosstab(train['Gender'], train['Response'])\n",
        "DL.plot(kind=\"bar\", figsize=(5, 5))\n",
        "plt.title(\"Gender and Response crosstab\")\n",
        "plt.show()\n"
      ],
      "execution_count": null,
      "outputs": [
        {
          "output_type": "display_data",
          "data": {
            "image/png": "[encoded data removed]",
            "text/plain": [
              "<Figure size 432x288 with 1 Axes>"
            ]
          },
          "metadata": {
            "tags": [],
            "needs_background": "light"
          }
        },
        {
          "output_type": "display_data",
          "data": {
            "image/png": "[encoded data removed]",
            "text/plain": [
              "<Figure size 360x360 with 1 Axes>"
            ]
          },
          "metadata": {
            "tags": [],
            "needs_background": "light"
          }
        }
      ]
    },
    {
      "cell_type": "code",
      "metadata": {
        "id": "Vr4VgGA4I3sc",
        "colab_type": "code",
        "colab": {
          "base_uri": "https://localhost:8080/",
          "height": 660
        },
        "outputId": "3cd41e9c-8d6f-4b63-90db-0c7a0dcf8429"
      },
      "source": [
        "train[\"Driving_License\"].value_counts().plot.bar()\n",
        "print(train[\"Driving_License\"].value_counts())\n",
        "plt.title(\"Driving_License\")\n",
        "\n",
        "DL = pd.crosstab(train['Driving_License'], train['Response'])\n",
        "DL.plot(kind=\"bar\", figsize=(5, 5))\n",
        "plt.title(\"Driving_License and Response crosstab\")\n",
        "plt.show()"
      ],
      "execution_count": null,
      "outputs": [
        {
          "output_type": "stream",
          "text": [
            "1    380297\n",
            "0       812\n",
            "Name: Driving_License, dtype: int64\n"
          ],
          "name": "stdout"
        },
        {
          "output_type": "display_data",
          "data": {
            "image/png": "[encoded data removed]",
            "text/plain": [
              "<Figure size 432x288 with 1 Axes>"
            ]
          },
          "metadata": {
            "tags": [],
            "needs_background": "light"
          }
        },
        {
          "output_type": "display_data",
          "data": {
            "image/png": "[encoded data removed]",
            "text/plain": [
              "<Figure size 360x360 with 1 Axes>"
            ]
          },
          "metadata": {
            "tags": [],
            "needs_background": "light"
          }
        }
      ]
    },
    {
      "cell_type": "code",
      "metadata": {
        "id": "V4rea2ujIJhf",
        "colab_type": "code",
        "colab": {
          "base_uri": "https://localhost:8080/",
          "height": 608
        },
        "outputId": "2477d7e4-d691-46fe-9661-2a96200e0174"
      },
      "source": [
        "train[\"Previously_Insured\"].value_counts().plot.bar()\n",
        "plt.title(\"Previously_Insured\")\n",
        "\n",
        "\n",
        "DL = pd.crosstab(train['Previously_Insured'], train['Response'])\n",
        "DL.plot(kind=\"bar\", figsize=(5, 5))\n",
        "plt.title(\"Previously_Insured and Response crosstab\")\n",
        "plt.show()"
      ],
      "execution_count": null,
      "outputs": [
        {
          "output_type": "display_data",
          "data": {
            "image/png": "[encoded data removed]",
            "text/plain": [
              "<Figure size 432x288 with 1 Axes>"
            ]
          },
          "metadata": {
            "tags": [],
            "needs_background": "light"
          }
        },
        {
          "output_type": "display_data",
          "data": {
            "image/png": "[encoded data removed]",
            "text/plain": [
              "<Figure size 360x360 with 1 Axes>"
            ]
          },
          "metadata": {
            "tags": [],
            "needs_background": "light"
          }
        }
      ]
    },
    {
      "cell_type": "code",
      "metadata": {
        "id": "EhzeU5MHL80W",
        "colab_type": "code",
        "colab": {
          "base_uri": "https://localhost:8080/",
          "height": 689
        },
        "outputId": "e9a13ccc-5bb1-4351-b2de-03abb54cc0f0"
      },
      "source": [
        "train[\"Vehicle_Age\"].value_counts().plot.bar()\n",
        "plt.title(\"Vehicle_Age\")\n",
        "\n",
        "\n",
        "DL = pd.crosstab(train['Vehicle_Age'], train['Response'])\n",
        "DL.plot(kind=\"bar\", figsize=(5, 5))\n",
        "plt.title(\"Vehicle_Age and Response crosstab\")\n",
        "plt.show()"
      ],
      "execution_count": null,
      "outputs": [
        {
          "output_type": "display_data",
          "data": {
            "image/png": "[encoded data removed]",
            "text/plain": [
              "<Figure size 432x288 with 1 Axes>"
            ]
          },
          "metadata": {
            "tags": [],
            "needs_background": "light"
          }
        },
        {
          "output_type": "display_data",
          "data": {
            "image/png": "[encoded data removed]",
            "text/plain": [
              "<Figure size 360x360 with 1 Axes>"
            ]
          },
          "metadata": {
            "tags": [],
            "needs_background": "light"
          }
        }
      ]
    },
    {
      "cell_type": "code",
      "metadata": {
        "id": "vDlA0PKCvoDk",
        "colab_type": "code",
        "colab": {
          "base_uri": "https://localhost:8080/",
          "height": 626
        },
        "outputId": "399d4b3d-0490-4ebf-ed3f-aee3ff963b82"
      },
      "source": [
        "train[\"Vehicle_Damage\"].value_counts().plot.bar()\n",
        "plt.title(\"Vehicle_Damage\")\n",
        "\n",
        "\n",
        "DL = pd.crosstab(train['Vehicle_Damage'], train['Response'])\n",
        "DL.plot(kind=\"bar\", figsize=(5, 5))\n",
        "plt.title(\"Vehicle_Damage and Response crosstab\")\n",
        "plt.show()"
      ],
      "execution_count": null,
      "outputs": [
        {
          "output_type": "display_data",
          "data": {
            "image/png": "[encoded data removed]",
            "text/plain": [
              "<Figure size 432x288 with 1 Axes>"
            ]
          },
          "metadata": {
            "tags": [],
            "needs_background": "light"
          }
        },
        {
          "output_type": "display_data",
          "data": {
            "image/png": "[encoded data removed]",
            "text/plain": [
              "<Figure size 360x360 with 1 Axes>"
            ]
          },
          "metadata": {
            "tags": [],
            "needs_background": "light"
          }
        }
      ]
    },
    {
      "cell_type": "code",
      "metadata": {
        "id": "7VzWCZ-HMXiA",
        "colab_type": "code",
        "colab": {
          "base_uri": "https://localhost:8080/",
          "height": 936
        },
        "outputId": "a0b17687-354f-4f51-d79a-5eea129ea989"
      },
      "source": [
        "train[\"Age\"].value_counts().plot.bar(figsize=(25,5))\n",
        "plt.title(\"Age\")\n",
        "\n",
        "\n",
        "DL = pd.crosstab(train['Age'], train['Response'])\n",
        "DL.plot(kind=\"bar\", figsize=(30, 10))\n",
        "plt.title(\"Age and Response crosstab\")\n",
        "plt.show()"
      ],
      "execution_count": null,
      "outputs": [
        {
          "output_type": "display_data",
          "data": {
            "image/png": "[encoded data removed]",
            "text/plain": [
              "<Figure size 1800x360 with 1 Axes>"
            ]
          },
          "metadata": {
            "tags": [],
            "needs_background": "light"
          }
        },
        {
          "output_type": "display_data",
          "data": {
            "image/png": "[encoded data removed]",
            "text/plain": [
              "<Figure size 2160x720 with 1 Axes>"
            ]
          },
          "metadata": {
            "tags": [],
            "needs_background": "light"
          }
        }
      ]
    },
    {
      "cell_type": "code",
      "metadata": {
        "id": "HVnDQIqAFWR6",
        "colab_type": "code",
        "colab": {}
      },
      "source": [
        ""
      ],
      "execution_count": null,
      "outputs": []
    },
    {
      "cell_type": "code",
      "metadata": {
        "id": "Q1GYaorqFWXw",
        "colab_type": "code",
        "colab": {}
      },
      "source": [
        ""
      ],
      "execution_count": null,
      "outputs": []
    },
    {
      "cell_type": "code",
      "metadata": {
        "id": "MVvxuZq9FWVg",
        "colab_type": "code",
        "colab": {}
      },
      "source": [
        ""
      ],
      "execution_count": null,
      "outputs": []
    },
    {
      "cell_type": "code",
      "metadata": {
        "id": "yeIfdXAPFWQT",
        "colab_type": "code",
        "colab": {}
      },
      "source": [
        ""
      ],
      "execution_count": null,
      "outputs": []
    },
    {
      "cell_type": "code",
      "metadata": {
        "id": "m6wvBkO4FWKu",
        "colab_type": "code",
        "colab": {}
      },
      "source": [
        ""
      ],
      "execution_count": null,
      "outputs": []
    },
    {
      "cell_type": "code",
      "metadata": {
        "id": "IXNGyvZ1FWIP",
        "colab_type": "code",
        "colab": {}
      },
      "source": [
        "arr = ['Gender', 'Age', 'Driving_License', 'Region_Code', 'Previously_Insured', 'Vehicle_Age', \n",
        "          'Vehicle_Damage', 'Annual_Premium', 'Policy_Sales_Channel', 'Vintage', 'Response']\n",
        "for i in  arr:\n",
        "    for j in arr:\n",
        "        if i!=j:\n",
        "            df_group = train.groupby([i,j],as_index=False)\n",
        "            print(len(df_group))\n",
        "            print(df_group.size())\n",
        "            print(\"********************************************\")\n",
        "            print(\"********************************************\")\n",
        "            print(\"********************************************\")"
      ],
      "execution_count": null,
      "outputs": []
    },
    {
      "cell_type": "code",
      "metadata": {
        "id": "v7zmFqyYWVty",
        "colab_type": "code",
        "colab": {
          "base_uri": "https://localhost:8080/",
          "height": 901
        },
        "outputId": "0f04b2c6-c11d-471c-c321-cd3aed219500"
      },
      "source": [
        "from collections import defaultdict,Counter\n",
        "aa = defaultdict(int)\n",
        "for i in train[\"Annual_Premium\"]:\n",
        "    aa[i] = aa[i]+1\n",
        "aa = Counter(aa)\n",
        "print(aa[40454])\n",
        "aa.most_common(50)"
      ],
      "execution_count": null,
      "outputs": [
        {
          "output_type": "stream",
          "text": [
            "11\n"
          ],
          "name": "stdout"
        },
        {
          "output_type": "execute_result",
          "data": {
            "text/plain": [
              "[(2630, 64877),\n",
              " (69856, 140),\n",
              " (39008, 41),\n",
              " (38287, 38),\n",
              " (45179, 38),\n",
              " (43707, 36),\n",
              " (30117, 36),\n",
              " (36086, 35),\n",
              " (35074, 35),\n",
              " (33877, 34),\n",
              " (38452, 34),\n",
              " (49324, 33),\n",
              " (29333, 33),\n",
              " (31470, 32),\n",
              " (42118, 32),\n",
              " (34966, 32),\n",
              " (30105, 32),\n",
              " (70720, 32),\n",
              " (34339, 31),\n",
              " (37871, 31),\n",
              " (32112, 31),\n",
              " (35149, 31),\n",
              " (29675, 30),\n",
              " (29820, 30),\n",
              " (29882, 30),\n",
              " (28905, 30),\n",
              " (30123, 30),\n",
              " (33436, 30),\n",
              " (33002, 29),\n",
              " (32100, 29),\n",
              " (30747, 29),\n",
              " (30964, 29),\n",
              " (31036, 29),\n",
              " (42063, 29),\n",
              " (29639, 29),\n",
              " (29057, 29),\n",
              " (30449, 28),\n",
              " (32876, 28),\n",
              " (51281, 28),\n",
              " (34946, 28),\n",
              " (72544, 28),\n",
              " (33171, 28),\n",
              " (32598, 28),\n",
              " (38911, 28),\n",
              " (30441, 28),\n",
              " (32908, 28),\n",
              " (39443, 28),\n",
              " (27930, 28),\n",
              " (37142, 28),\n",
              " (35382, 28)]"
            ]
          },
          "metadata": {
            "tags": []
          },
          "execution_count": 103
        }
      ]
    },
    {
      "cell_type": "code",
      "metadata": {
        "id": "edJuuCFz9Lpz",
        "colab_type": "code",
        "colab": {}
      },
      "source": [
        "# get complete heatmap of all corelation coefficients\n",
        "import seaborn as sns\n",
        "df = train.drop([\"id\",\"train_flag\"] , axis=1)\n",
        "print(df.shape)\n",
        "corr = df.corr()\n",
        "fig, ax = plt.subplots(figsize=(13,13))\n",
        "ax = sns.heatmap(\n",
        "    corr, \n",
        "    vmin=-1, vmax=1, center=0,\n",
        "    cmap=sns.diverging_palette(20, 220, n=200),\n",
        "    square=True\n",
        ")"
      ],
      "execution_count": null,
      "outputs": []
    },
    {
      "cell_type": "code",
      "metadata": {
        "id": "jTT9u4LGbt23",
        "colab_type": "code",
        "colab": {
          "base_uri": "https://localhost:8080/",
          "height": 274
        },
        "outputId": "3947f6aa-ddf2-4697-ee18-787d4b5769e1"
      },
      "source": [
        "df_train = pd.read_csv('/content/train.csv')\n",
        "\n",
        "df_train['train_flag'] = 1\n",
        "print(df_train.shape)\n",
        "\n",
        "df_test = pd.read_csv('/content/test.csv')\n",
        "df_test['train_flag'] = 0\n",
        "df_test['Response'] = -1\n",
        "print(df_test.shape)\n",
        "\n",
        "df_data = pd.concat([df_train,df_test])\n",
        "df_data = df_data.reset_index(drop=True)\n",
        "df_data['Annual_Premium'] = np.log(df_data['Annual_Premium'])\n",
        "print(df_data.shape)\n",
        "\n",
        "df_data['Vintage'] = df_data['Vintage']/365\n",
        "\n",
        "\n",
        "df_data[\"Region_Code\"] = df_data[\"Region_Code\"].astype(\"int\") \n",
        "df_data[\"Annual_Premium\"] = df_data[\"Annual_Premium\"].astype(\"int\") \n",
        "df_data[\"Policy_Sales_Channel\"] = df_data[\"Policy_Sales_Channel\"].astype(\"int\")\n",
        "\n",
        "\n",
        "\n",
        "df_data['Gender'] = df_data['Gender'].replace({'Male':1,'Female':0})\n",
        "df_data['Vehicle_Damage'] = df_data['Vehicle_Damage'].replace({'Yes':1,'No':0})\n",
        "df_data['Vehicle_Age']=df_data['Vehicle_Age'].replace({'< 1 Year':0,'1-2 Year':1,'> 2 Years':2})\n",
        "\n",
        "\n",
        "\n",
        "# le = LabelEncoder()\n",
        "# df_data[\"Gender\"] = le.fit_transform(df_data[\"Gender\"])\n",
        "\n",
        "# le = LabelEncoder()\n",
        "# df_data[\"Vehicle_Age\"] = le.fit_transform(df_data[\"Vehicle_Age\"])\n",
        "# mapping_dict = dict(zip(le.transform(le.classes_) , le.classes_))\n",
        "\n",
        "# le = LabelEncoder()\n",
        "# df_data[\"Vehicle_Damage\"] = le.fit_transform(df_data[\"Vehicle_Damage\"])\n",
        "\n",
        "\n",
        "\n",
        "# def agefunc(x):\n",
        "#     if x <= 27 or x >= 75:\n",
        "#         return 0\n",
        "#     elif x <= 32 or x >= 49:\n",
        "#         return 1\n",
        "#     else:\n",
        "#         return 2\n",
        "# df_data[\"Age_label\"] = df_data[\"Age\"].apply(agefunc) \n",
        "\n",
        "df_data[\"DL_PI\"]    = df_data.groupby([\"Driving_License\", \"Previously_Insured\"]).ngroup().astype('int')\n",
        "df_data[\"DL_VD\"]    = df_data.groupby([\"Driving_License\", \"Vehicle_Damage\"]).ngroup().astype('int')\n",
        "df_data[\"DL_G\"]     = df_data.groupby([\"Driving_License\", \"Gender\"]).ngroup().astype('int')\n",
        "df_data[\"DL_VA\"]    = df_data.groupby([\"Driving_License\", \"Vehicle_Age\"]).ngroup().astype('int')\n",
        "\n",
        "# df_data[\"zz\"]    = df_data.groupby([\"Vehicle_Age\", \"Vehicle_Damage\"]).ngroup().astype('int')\n",
        "\n",
        "\n",
        "# df_data[\"AP_count\"]    = df_data.groupby([\"Annual_Premium\"])[\"id\"].transform('count')\n",
        "\n",
        "df_data[\"region_per_premium\"] = df_data.groupby([\"Region_Code\"])[\"Annual_Premium\"].transform('mean')\n",
        "df_data[\"region_sum_premium\"] = df_data.groupby([\"Region_Code\"])[\"Annual_Premium\"].transform('sum')\n",
        "df_data[\"region_unique_premium\"] = df_data.groupby([\"Region_Code\"])[\"Annual_Premium\"].transform('nunique')\n",
        "\n",
        "# df_data[\"vehicle_age_per_premium\"] = df_data.groupby([\"Vehicle_Age\"])[\"Annual_Premium\"].transform('mean')\n",
        "# df_data[\"previously_insured_per_premium\"] = df_data.groupby([\"Previously_Insured\"])[\"Annual_Premium\"].transform('mean')\n",
        "# df_data[\"age_per_premium\"] = df_data.groupby([\"Age\"])[\"Annual_Premium\"].transform('mean')\n",
        "# df_data[\"gender_per_premium\"] = df_data.groupby([\"Gender\"])[\"Annual_Premium\"].transform('mean')\n",
        "# df_data[\"vintage_per_premium\"] = df_data.groupby([\"Vintage\"])[\"Annual_Premium\"].transform('mean')\n",
        "# df_data[\"Policy_Sales_Channel_per_premium\"] = df_data.groupby([\"Policy_Sales_Channel\"])[\"Annual_Premium\"].transform('mean')\n",
        "\n",
        "\n",
        "df_data.head()                                            "
      ],
      "execution_count": null,
      "outputs": [
        {
          "output_type": "stream",
          "text": [
            "(381109, 13)\n",
            "(127037, 13)\n",
            "(508146, 13)\n"
          ],
          "name": "stdout"
        },
        {
          "output_type": "execute_result",
          "data": {
            "text/html": [
              "<div>\n",
              "<style scoped>\n",
              "    .dataframe tbody tr th:only-of-type {\n",
              "        vertical-align: middle;\n",
              "    }\n",
              "\n",
              "    .dataframe tbody tr th {\n",
              "        vertical-align: top;\n",
              "    }\n",
              "\n",
              "    .dataframe thead th {\n",
              "        text-align: right;\n",
              "    }\n",
              "</style>\n",
              "<table border=\"1\" class=\"dataframe\">\n",
              "  <thead>\n",
              "    <tr style=\"text-align: right;\">\n",
              "      <th></th>\n",
              "      <th>id</th>\n",
              "      <th>Gender</th>\n",
              "      <th>Age</th>\n",
              "      <th>Driving_License</th>\n",
              "      <th>Region_Code</th>\n",
              "      <th>Previously_Insured</th>\n",
              "      <th>Vehicle_Age</th>\n",
              "      <th>Vehicle_Damage</th>\n",
              "      <th>Annual_Premium</th>\n",
              "      <th>Policy_Sales_Channel</th>\n",
              "      <th>Vintage</th>\n",
              "      <th>Response</th>\n",
              "      <th>train_flag</th>\n",
              "      <th>DL_PI</th>\n",
              "      <th>DL_VD</th>\n",
              "      <th>DL_G</th>\n",
              "      <th>DL_VA</th>\n",
              "      <th>region_per_premium</th>\n",
              "      <th>region_sum_premium</th>\n",
              "      <th>region_unique_premium</th>\n",
              "    </tr>\n",
              "  </thead>\n",
              "  <tbody>\n",
              "    <tr>\n",
              "      <th>0</th>\n",
              "      <td>1</td>\n",
              "      <td>1</td>\n",
              "      <td>44</td>\n",
              "      <td>1</td>\n",
              "      <td>28</td>\n",
              "      <td>0</td>\n",
              "      <td>2</td>\n",
              "      <td>1</td>\n",
              "      <td>10</td>\n",
              "      <td>26</td>\n",
              "      <td>0.594521</td>\n",
              "      <td>1</td>\n",
              "      <td>1</td>\n",
              "      <td>2</td>\n",
              "      <td>3</td>\n",
              "      <td>3</td>\n",
              "      <td>5</td>\n",
              "      <td>9.794078</td>\n",
              "      <td>1390142</td>\n",
              "      <td>6</td>\n",
              "    </tr>\n",
              "    <tr>\n",
              "      <th>1</th>\n",
              "      <td>2</td>\n",
              "      <td>1</td>\n",
              "      <td>76</td>\n",
              "      <td>1</td>\n",
              "      <td>3</td>\n",
              "      <td>0</td>\n",
              "      <td>1</td>\n",
              "      <td>0</td>\n",
              "      <td>10</td>\n",
              "      <td>26</td>\n",
              "      <td>0.501370</td>\n",
              "      <td>0</td>\n",
              "      <td>1</td>\n",
              "      <td>2</td>\n",
              "      <td>2</td>\n",
              "      <td>3</td>\n",
              "      <td>4</td>\n",
              "      <td>9.262693</td>\n",
              "      <td>114385</td>\n",
              "      <td>5</td>\n",
              "    </tr>\n",
              "    <tr>\n",
              "      <th>2</th>\n",
              "      <td>3</td>\n",
              "      <td>1</td>\n",
              "      <td>47</td>\n",
              "      <td>1</td>\n",
              "      <td>28</td>\n",
              "      <td>0</td>\n",
              "      <td>2</td>\n",
              "      <td>1</td>\n",
              "      <td>10</td>\n",
              "      <td>26</td>\n",
              "      <td>0.073973</td>\n",
              "      <td>1</td>\n",
              "      <td>1</td>\n",
              "      <td>2</td>\n",
              "      <td>3</td>\n",
              "      <td>3</td>\n",
              "      <td>5</td>\n",
              "      <td>9.794078</td>\n",
              "      <td>1390142</td>\n",
              "      <td>6</td>\n",
              "    </tr>\n",
              "    <tr>\n",
              "      <th>3</th>\n",
              "      <td>4</td>\n",
              "      <td>1</td>\n",
              "      <td>21</td>\n",
              "      <td>1</td>\n",
              "      <td>11</td>\n",
              "      <td>1</td>\n",
              "      <td>0</td>\n",
              "      <td>0</td>\n",
              "      <td>10</td>\n",
              "      <td>152</td>\n",
              "      <td>0.556164</td>\n",
              "      <td>0</td>\n",
              "      <td>1</td>\n",
              "      <td>3</td>\n",
              "      <td>2</td>\n",
              "      <td>3</td>\n",
              "      <td>3</td>\n",
              "      <td>9.477774</td>\n",
              "      <td>116842</td>\n",
              "      <td>5</td>\n",
              "    </tr>\n",
              "    <tr>\n",
              "      <th>4</th>\n",
              "      <td>5</td>\n",
              "      <td>0</td>\n",
              "      <td>29</td>\n",
              "      <td>1</td>\n",
              "      <td>41</td>\n",
              "      <td>1</td>\n",
              "      <td>0</td>\n",
              "      <td>0</td>\n",
              "      <td>10</td>\n",
              "      <td>152</td>\n",
              "      <td>0.106849</td>\n",
              "      <td>0</td>\n",
              "      <td>1</td>\n",
              "      <td>3</td>\n",
              "      <td>2</td>\n",
              "      <td>2</td>\n",
              "      <td>3</td>\n",
              "      <td>9.611680</td>\n",
              "      <td>234525</td>\n",
              "      <td>5</td>\n",
              "    </tr>\n",
              "  </tbody>\n",
              "</table>\n",
              "</div>"
            ],
            "text/plain": [
              "   id  Gender  ...  region_sum_premium  region_unique_premium\n",
              "0   1       1  ...             1390142                      6\n",
              "1   2       1  ...              114385                      5\n",
              "2   3       1  ...             1390142                      6\n",
              "3   4       1  ...              116842                      5\n",
              "4   5       0  ...              234525                      5\n",
              "\n",
              "[5 rows x 20 columns]"
            ]
          },
          "metadata": {
            "tags": []
          },
          "execution_count": 231
        }
      ]
    },
    {
      "cell_type": "code",
      "metadata": {
        "id": "iDaAj7l22YCJ",
        "colab_type": "code",
        "colab": {
          "base_uri": "https://localhost:8080/",
          "height": 453
        },
        "outputId": "d8f76a6c-d62f-48cd-e1cb-f580f4e0643c"
      },
      "source": [
        "df_data = df_data.sample(frac=1)\n",
        "train = df_data[df_data[\"train_flag\"] == 1]\n",
        "test  = df_data[df_data[\"train_flag\"] == 0]\n",
        "train = train.reset_index(drop=True)\n",
        "test = test.reset_index(drop=True)\n",
        "print(train.shape , test.shape)\n",
        "train"
      ],
      "execution_count": null,
      "outputs": [
        {
          "output_type": "stream",
          "text": [
            "(381109, 20) (127037, 20)\n"
          ],
          "name": "stdout"
        },
        {
          "output_type": "execute_result",
          "data": {
            "text/html": [
              "<div>\n",
              "<style scoped>\n",
              "    .dataframe tbody tr th:only-of-type {\n",
              "        vertical-align: middle;\n",
              "    }\n",
              "\n",
              "    .dataframe tbody tr th {\n",
              "        vertical-align: top;\n",
              "    }\n",
              "\n",
              "    .dataframe thead th {\n",
              "        text-align: right;\n",
              "    }\n",
              "</style>\n",
              "<table border=\"1\" class=\"dataframe\">\n",
              "  <thead>\n",
              "    <tr style=\"text-align: right;\">\n",
              "      <th></th>\n",
              "      <th>id</th>\n",
              "      <th>Gender</th>\n",
              "      <th>Age</th>\n",
              "      <th>Driving_License</th>\n",
              "      <th>Region_Code</th>\n",
              "      <th>Previously_Insured</th>\n",
              "      <th>Vehicle_Age</th>\n",
              "      <th>Vehicle_Damage</th>\n",
              "      <th>Annual_Premium</th>\n",
              "      <th>Policy_Sales_Channel</th>\n",
              "      <th>Vintage</th>\n",
              "      <th>Response</th>\n",
              "      <th>train_flag</th>\n",
              "      <th>DL_PI</th>\n",
              "      <th>DL_VD</th>\n",
              "      <th>DL_G</th>\n",
              "      <th>DL_VA</th>\n",
              "      <th>region_per_premium</th>\n",
              "      <th>region_sum_premium</th>\n",
              "      <th>region_unique_premium</th>\n",
              "    </tr>\n",
              "  </thead>\n",
              "  <tbody>\n",
              "    <tr>\n",
              "      <th>0</th>\n",
              "      <td>239063</td>\n",
              "      <td>0</td>\n",
              "      <td>40</td>\n",
              "      <td>1</td>\n",
              "      <td>23</td>\n",
              "      <td>0</td>\n",
              "      <td>1</td>\n",
              "      <td>1</td>\n",
              "      <td>7</td>\n",
              "      <td>163</td>\n",
              "      <td>0.038356</td>\n",
              "      <td>0</td>\n",
              "      <td>1</td>\n",
              "      <td>2</td>\n",
              "      <td>3</td>\n",
              "      <td>2</td>\n",
              "      <td>4</td>\n",
              "      <td>9.224961</td>\n",
              "      <td>23948</td>\n",
              "      <td>4</td>\n",
              "    </tr>\n",
              "    <tr>\n",
              "      <th>1</th>\n",
              "      <td>210510</td>\n",
              "      <td>1</td>\n",
              "      <td>54</td>\n",
              "      <td>1</td>\n",
              "      <td>33</td>\n",
              "      <td>0</td>\n",
              "      <td>1</td>\n",
              "      <td>1</td>\n",
              "      <td>7</td>\n",
              "      <td>26</td>\n",
              "      <td>0.279452</td>\n",
              "      <td>1</td>\n",
              "      <td>1</td>\n",
              "      <td>2</td>\n",
              "      <td>3</td>\n",
              "      <td>3</td>\n",
              "      <td>4</td>\n",
              "      <td>9.449209</td>\n",
              "      <td>97393</td>\n",
              "      <td>4</td>\n",
              "    </tr>\n",
              "    <tr>\n",
              "      <th>2</th>\n",
              "      <td>240042</td>\n",
              "      <td>1</td>\n",
              "      <td>27</td>\n",
              "      <td>1</td>\n",
              "      <td>4</td>\n",
              "      <td>1</td>\n",
              "      <td>0</td>\n",
              "      <td>0</td>\n",
              "      <td>7</td>\n",
              "      <td>152</td>\n",
              "      <td>0.630137</td>\n",
              "      <td>0</td>\n",
              "      <td>1</td>\n",
              "      <td>3</td>\n",
              "      <td>2</td>\n",
              "      <td>3</td>\n",
              "      <td>3</td>\n",
              "      <td>9.186213</td>\n",
              "      <td>21854</td>\n",
              "      <td>4</td>\n",
              "    </tr>\n",
              "    <tr>\n",
              "      <th>3</th>\n",
              "      <td>189588</td>\n",
              "      <td>1</td>\n",
              "      <td>20</td>\n",
              "      <td>1</td>\n",
              "      <td>32</td>\n",
              "      <td>0</td>\n",
              "      <td>0</td>\n",
              "      <td>0</td>\n",
              "      <td>7</td>\n",
              "      <td>160</td>\n",
              "      <td>0.698630</td>\n",
              "      <td>0</td>\n",
              "      <td>1</td>\n",
              "      <td>2</td>\n",
              "      <td>2</td>\n",
              "      <td>3</td>\n",
              "      <td>3</td>\n",
              "      <td>9.231776</td>\n",
              "      <td>34573</td>\n",
              "      <td>4</td>\n",
              "    </tr>\n",
              "    <tr>\n",
              "      <th>4</th>\n",
              "      <td>53135</td>\n",
              "      <td>0</td>\n",
              "      <td>77</td>\n",
              "      <td>1</td>\n",
              "      <td>28</td>\n",
              "      <td>0</td>\n",
              "      <td>1</td>\n",
              "      <td>1</td>\n",
              "      <td>10</td>\n",
              "      <td>122</td>\n",
              "      <td>0.032877</td>\n",
              "      <td>0</td>\n",
              "      <td>1</td>\n",
              "      <td>2</td>\n",
              "      <td>3</td>\n",
              "      <td>2</td>\n",
              "      <td>4</td>\n",
              "      <td>9.794078</td>\n",
              "      <td>1390142</td>\n",
              "      <td>6</td>\n",
              "    </tr>\n",
              "    <tr>\n",
              "      <th>...</th>\n",
              "      <td>...</td>\n",
              "      <td>...</td>\n",
              "      <td>...</td>\n",
              "      <td>...</td>\n",
              "      <td>...</td>\n",
              "      <td>...</td>\n",
              "      <td>...</td>\n",
              "      <td>...</td>\n",
              "      <td>...</td>\n",
              "      <td>...</td>\n",
              "      <td>...</td>\n",
              "      <td>...</td>\n",
              "      <td>...</td>\n",
              "      <td>...</td>\n",
              "      <td>...</td>\n",
              "      <td>...</td>\n",
              "      <td>...</td>\n",
              "      <td>...</td>\n",
              "      <td>...</td>\n",
              "      <td>...</td>\n",
              "    </tr>\n",
              "    <tr>\n",
              "      <th>381104</th>\n",
              "      <td>58641</td>\n",
              "      <td>0</td>\n",
              "      <td>30</td>\n",
              "      <td>1</td>\n",
              "      <td>33</td>\n",
              "      <td>0</td>\n",
              "      <td>1</td>\n",
              "      <td>1</td>\n",
              "      <td>10</td>\n",
              "      <td>156</td>\n",
              "      <td>0.216438</td>\n",
              "      <td>0</td>\n",
              "      <td>1</td>\n",
              "      <td>2</td>\n",
              "      <td>3</td>\n",
              "      <td>2</td>\n",
              "      <td>4</td>\n",
              "      <td>9.449209</td>\n",
              "      <td>97393</td>\n",
              "      <td>4</td>\n",
              "    </tr>\n",
              "    <tr>\n",
              "      <th>381105</th>\n",
              "      <td>64077</td>\n",
              "      <td>1</td>\n",
              "      <td>24</td>\n",
              "      <td>1</td>\n",
              "      <td>6</td>\n",
              "      <td>1</td>\n",
              "      <td>0</td>\n",
              "      <td>0</td>\n",
              "      <td>10</td>\n",
              "      <td>152</td>\n",
              "      <td>0.098630</td>\n",
              "      <td>0</td>\n",
              "      <td>1</td>\n",
              "      <td>3</td>\n",
              "      <td>2</td>\n",
              "      <td>3</td>\n",
              "      <td>3</td>\n",
              "      <td>9.478386</td>\n",
              "      <td>79154</td>\n",
              "      <td>4</td>\n",
              "    </tr>\n",
              "    <tr>\n",
              "      <th>381106</th>\n",
              "      <td>69930</td>\n",
              "      <td>1</td>\n",
              "      <td>25</td>\n",
              "      <td>1</td>\n",
              "      <td>28</td>\n",
              "      <td>1</td>\n",
              "      <td>0</td>\n",
              "      <td>0</td>\n",
              "      <td>10</td>\n",
              "      <td>152</td>\n",
              "      <td>0.041096</td>\n",
              "      <td>0</td>\n",
              "      <td>1</td>\n",
              "      <td>3</td>\n",
              "      <td>2</td>\n",
              "      <td>3</td>\n",
              "      <td>3</td>\n",
              "      <td>9.794078</td>\n",
              "      <td>1390142</td>\n",
              "      <td>6</td>\n",
              "    </tr>\n",
              "    <tr>\n",
              "      <th>381107</th>\n",
              "      <td>56667</td>\n",
              "      <td>1</td>\n",
              "      <td>40</td>\n",
              "      <td>1</td>\n",
              "      <td>41</td>\n",
              "      <td>0</td>\n",
              "      <td>1</td>\n",
              "      <td>1</td>\n",
              "      <td>10</td>\n",
              "      <td>156</td>\n",
              "      <td>0.756164</td>\n",
              "      <td>1</td>\n",
              "      <td>1</td>\n",
              "      <td>2</td>\n",
              "      <td>3</td>\n",
              "      <td>3</td>\n",
              "      <td>4</td>\n",
              "      <td>9.611680</td>\n",
              "      <td>234525</td>\n",
              "      <td>5</td>\n",
              "    </tr>\n",
              "    <tr>\n",
              "      <th>381108</th>\n",
              "      <td>62435</td>\n",
              "      <td>1</td>\n",
              "      <td>43</td>\n",
              "      <td>1</td>\n",
              "      <td>28</td>\n",
              "      <td>0</td>\n",
              "      <td>1</td>\n",
              "      <td>1</td>\n",
              "      <td>10</td>\n",
              "      <td>124</td>\n",
              "      <td>0.052055</td>\n",
              "      <td>0</td>\n",
              "      <td>1</td>\n",
              "      <td>2</td>\n",
              "      <td>3</td>\n",
              "      <td>3</td>\n",
              "      <td>4</td>\n",
              "      <td>9.794078</td>\n",
              "      <td>1390142</td>\n",
              "      <td>6</td>\n",
              "    </tr>\n",
              "  </tbody>\n",
              "</table>\n",
              "<p>381109 rows × 20 columns</p>\n",
              "</div>"
            ],
            "text/plain": [
              "            id  Gender  ...  region_sum_premium  region_unique_premium\n",
              "0       239063       0  ...               23948                      4\n",
              "1       210510       1  ...               97393                      4\n",
              "2       240042       1  ...               21854                      4\n",
              "3       189588       1  ...               34573                      4\n",
              "4        53135       0  ...             1390142                      6\n",
              "...        ...     ...  ...                 ...                    ...\n",
              "381104   58641       0  ...               97393                      4\n",
              "381105   64077       1  ...               79154                      4\n",
              "381106   69930       1  ...             1390142                      6\n",
              "381107   56667       1  ...              234525                      5\n",
              "381108   62435       1  ...             1390142                      6\n",
              "\n",
              "[381109 rows x 20 columns]"
            ]
          },
          "metadata": {
            "tags": []
          },
          "execution_count": 232
        }
      ]
    },
    {
      "cell_type": "code",
      "metadata": {
        "id": "8bvVVlBhpTz4",
        "colab_type": "code",
        "colab": {}
      },
      "source": [
        "def train_model(X , Y):\n",
        "    # model = CatBoostClassifier( n_estimators=800, depth=4, verbose=0)\n",
        "    # model = RandomForestClassifier()\n",
        "    # model = XGBClassifier(n_estimators=800 , max_depth=4, verbose=0)\n",
        "    # model = XGBClassifier(verbose=0)\n",
        "    model = LGBMClassifier(max_depth=9 , n_estimators=120 , num_leaves=50, metric='auc')\n",
        "    model.fit(X,Y)\n",
        "\n",
        "    # skf = StratifiedKFold(n_splits=10)\n",
        "    # print(skf)\n",
        "    # for train_index, test_index in skf.split(X, Y):\n",
        "    #     X_train, X_test = X.iloc[train_index], X.iloc[test_index]\n",
        "    #     y_train, y_test = Y.iloc[train_index], Y.iloc[test_index]\n",
        "    #     model.fit(X_train,y_train)\n",
        "    #     print(roc_auc_score(y_test,  model.predict_proba(X_test)[:,1]))\n",
        "\n",
        "\n",
        "    print(X.columns)\n",
        "    return model\n",
        "\n",
        "\n",
        "\n",
        "\n",
        "\n",
        "\n",
        "\n",
        "def prediction(model):\n",
        "    X = test[array1]\n",
        "    print(X.shape)\n",
        "    print(X.columns)\n",
        "\n",
        "\n",
        "    col1 = test[\"id\"].values\n",
        "    col2 = model.predict_proba(X)\n",
        "    return col1,col2\n",
        "\n",
        "\n"
      ],
      "execution_count": null,
      "outputs": []
    },
    {
      "cell_type": "code",
      "metadata": {
        "id": "Jt20CqjocYKQ",
        "colab_type": "code",
        "colab": {
          "base_uri": "https://localhost:8080/",
          "height": 156
        },
        "outputId": "1ee8ecf2-1942-48a6-8853-652b4fb02e3c"
      },
      "source": [
        "array1 = ['id', 'Gender', 'Age', 'Driving_License', 'Region_Code', 'Previously_Insured', 'Vehicle_Age', \n",
        "          'Vehicle_Damage', 'Annual_Premium', 'Policy_Sales_Channel', 'Vintage', 'Response', 'train_flag']\n",
        "print(len(array1))\n",
        "\n",
        "col_to_drop = [\"id\", \"train_flag\", \"Response\", \"Vintage\", \"Driving_License\"]\n",
        "for i in col_to_drop:\n",
        "    array1.remove(i)\n",
        "print(len(array1))\n",
        "\n",
        "col_to_add = [\"DL_PI\", \"region_per_premium\", \"region_sum_premium\"]\n",
        "array1.extend(col_to_add)\n",
        "print(len(array1))\n",
        "\n",
        "\n",
        "\n",
        "\n",
        "\n",
        "X = train[array1]\n",
        "Y = train[\"Response\"]\n",
        "print(X.shape, Y.shape)\n",
        "m = train_model(X , Y)"
      ],
      "execution_count": null,
      "outputs": [
        {
          "output_type": "stream",
          "text": [
            "13\n",
            "8\n",
            "11\n",
            "(381109, 11) (381109,)\n",
            "Index(['Gender', 'Age', 'Region_Code', 'Previously_Insured', 'Vehicle_Age',\n",
            "       'Vehicle_Damage', 'Annual_Premium', 'Policy_Sales_Channel', 'DL_PI',\n",
            "       'region_per_premium', 'region_sum_premium'],\n",
            "      dtype='object')\n"
          ],
          "name": "stdout"
        }
      ]
    },
    {
      "cell_type": "code",
      "metadata": {
        "id": "4aHQiNk0phRQ",
        "colab_type": "code",
        "colab": {
          "base_uri": "https://localhost:8080/",
          "height": 138
        },
        "outputId": "42abf6d7-16f4-494d-b619-2107550fe081"
      },
      "source": [
        "print(roc_auc_score( Y,  m.predict_proba(X)[:,1]))\n",
        "col1,col2 =  prediction(m)\n",
        "print(col1.shape , col2.shape)\n",
        "\n",
        "\n",
        "\n",
        "# col3 = []\n",
        "# if col2.shape == (len(df_test),1):\n",
        "#     for i in range(len(df_test)):\n",
        "#         col3.append(col2[i][0])\n",
        "#     col2 = copy.deepcopy(col3)\n",
        "# print(np.array(col2).shape)"
      ],
      "execution_count": null,
      "outputs": [
        {
          "output_type": "stream",
          "text": [
            "0.8561411439304842\n",
            "(127037, 11)\n",
            "Index(['Gender', 'Age', 'Region_Code', 'Previously_Insured', 'Vehicle_Age',\n",
            "       'Vehicle_Damage', 'Annual_Premium', 'Policy_Sales_Channel', 'DL_PI',\n",
            "       'region_per_premium', 'region_sum_premium'],\n",
            "      dtype='object')\n",
            "(127037,) (127037, 2)\n"
          ],
          "name": "stdout"
        }
      ]
    },
    {
      "cell_type": "code",
      "metadata": {
        "id": "LpF-9qyRdegA",
        "colab_type": "code",
        "colab": {
          "base_uri": "https://localhost:8080/",
          "height": 17
        },
        "outputId": "c17f7482-2419-4978-c081-a269e709e82f"
      },
      "source": [
        "c1 , c2 = [] , []\n",
        "# c2 = map(lambda x: mapping_dict[x], col2)\n",
        "\n",
        "diction = {'id': col1, 'Response': col2[:,1] } \n",
        "df_fin = pd.DataFrame(diction) \n",
        "\n",
        "filename = \"ansq.csv\"\n",
        "\n",
        "df_fin.to_csv(filename , index=False)\n",
        "from google.colab import files\n",
        "files.download(filename)"
      ],
      "execution_count": null,
      "outputs": [
        {
          "output_type": "display_data",
          "data": {
            "application/javascript": [
              "\n",
              "    async function download(id, filename, size) {\n",
              "      if (!google.colab.kernel.accessAllowed) {\n",
              "        return;\n",
              "      }\n",
              "      const div = document.createElement('div');\n",
              "      const label = document.createElement('label');\n",
              "      label.textContent = `Downloading \"${filename}\": `;\n",
              "      div.appendChild(label);\n",
              "      const progress = document.createElement('progress');\n",
              "      progress.max = size;\n",
              "      div.appendChild(progress);\n",
              "      document.body.appendChild(div);\n",
              "\n",
              "      const buffers = [];\n",
              "      let downloaded = 0;\n",
              "\n",
              "      const channel = await google.colab.kernel.comms.open(id);\n",
              "      // Send a message to notify the kernel that we're ready.\n",
              "      channel.send({})\n",
              "\n",
              "      for await (const message of channel.messages) {\n",
              "        // Send a message to notify the kernel that we're ready.\n",
              "        channel.send({})\n",
              "        if (message.buffers) {\n",
              "          for (const buffer of message.buffers) {\n",
              "            buffers.push(buffer);\n",
              "            downloaded += buffer.byteLength;\n",
              "            progress.value = downloaded;\n",
              "          }\n",
              "        }\n",
              "      }\n",
              "      const blob = new Blob(buffers, {type: 'application/binary'});\n",
              "      const a = document.createElement('a');\n",
              "      a.href = window.URL.createObjectURL(blob);\n",
              "      a.download = filename;\n",
              "      div.appendChild(a);\n",
              "      a.click();\n",
              "      div.remove();\n",
              "    }\n",
              "  "
            ],
            "text/plain": [
              "<IPython.core.display.Javascript object>"
            ]
          },
          "metadata": {
            "tags": []
          }
        },
        {
          "output_type": "display_data",
          "data": {
            "application/javascript": [
              "download(\"download_0f442431-5f28-47e1-a439-32518cb009f1\", \"ansq.csv\", 2408174)"
            ],
            "text/plain": [
              "<IPython.core.display.Javascript object>"
            ]
          },
          "metadata": {
            "tags": []
          }
        }
      ]
    }
  ]
}